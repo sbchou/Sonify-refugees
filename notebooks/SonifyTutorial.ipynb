{
 "cells": [
  {
   "cell_type": "markdown",
   "metadata": {},
   "source": [
    "## Sonification using the miditime library from Reveal\n",
    "* Tutorial from: https://github.com/cirlabs/miditime\n",
    "* Install miditime: pip3 install miditime \n",
    "* (*remember to use pip3 not pip, if you use python3*)\n"
   ]
  },
  {
   "cell_type": "code",
   "execution_count": 10,
   "metadata": {
    "collapsed": true
   },
   "outputs": [],
   "source": [
    "# LIBS\n",
    "from miditime.miditime import MIDITime\n",
    "import datetime"
   ]
  },
  {
   "cell_type": "markdown",
   "metadata": {},
   "source": [
    "Instantiate the class with a tempo (120bpm is the default), an output file destination, the number of seconds you want to represent a year in the final song (default is 5 sec/year), the base octave (C5 is middle C, so the default is 5, and how many octaves you want your output to range over (default is 1)."
   ]
  },
  {
   "cell_type": "code",
   "execution_count": 9,
   "metadata": {},
   "outputs": [],
   "source": [
    "mymidi = MIDITime(120, 'myfile.mid', 5, 5, 1) "
   ]
  },
  {
   "cell_type": "markdown",
   "metadata": {},
   "source": [
    "Bring in some data (this is some earthquakes). I'm assuming your data is already in date order, from oldest to newest.\n"
   ]
  },
  {
   "cell_type": "code",
   "execution_count": 11,
   "metadata": {},
   "outputs": [
    {
     "ename": "SyntaxError",
     "evalue": "invalid syntax (<ipython-input-11-62bea08042bd>, line 4)",
     "output_type": "error",
     "traceback": [
      "\u001b[0;36m  File \u001b[0;32m\"<ipython-input-11-62bea08042bd>\"\u001b[0;36m, line \u001b[0;32m4\u001b[0m\n\u001b[0;31m    {'event_date': <datetime object>, 'magnitude': 3.2},\u001b[0m\n\u001b[0m                   ^\u001b[0m\n\u001b[0;31mSyntaxError\u001b[0m\u001b[0;31m:\u001b[0m invalid syntax\n"
     ]
    }
   ],
   "source": [
    "# MADE UP DATA\n",
    "my_data = [\n",
    "    {'event_date': datetime.datetetime(2,2,2017), 'magnitude': 3.4},\n",
    "    {'event_date': datetime.datetetime(2,2,2017), 'magnitude': 3.2},\n",
    "    {'event_date': datetime.datetetime(2,2,2017), 'magnitude': 3.6},\n",
    "    {'event_date': datetime.datetetime(2,2,2017), 'magnitude': 3.0},\n",
    "    {'event_date': datetime.datetetime(2,2,2017), 'magnitude': 5.6},\n",
    "    {'event_date': datetime.datetetime(2,2,2017), 'magnitude': 4.0}\n",
    "]"
   ]
  },
  {
   "cell_type": "code",
   "execution_count": null,
   "metadata": {
    "collapsed": true
   },
   "outputs": [],
   "source": []
  }
 ],
 "metadata": {
  "kernelspec": {
   "display_name": "Python 3",
   "language": "python",
   "name": "python3"
  },
  "language_info": {
   "codemirror_mode": {
    "name": "ipython",
    "version": 3
   },
   "file_extension": ".py",
   "mimetype": "text/x-python",
   "name": "python",
   "nbconvert_exporter": "python",
   "pygments_lexer": "ipython3",
   "version": "3.6.1"
  }
 },
 "nbformat": 4,
 "nbformat_minor": 2
}
