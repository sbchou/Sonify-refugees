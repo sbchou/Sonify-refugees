{
 "cells": [
  {
   "cell_type": "markdown",
   "metadata": {},
   "source": [
    "## Attempt to sonify flow of syrian refugees\n",
    "* Data from UN : http://popstats.unhcr.org/en/asylum_seekers_monthly\n",
    "\n"
   ]
  },
  {
   "cell_type": "code",
   "execution_count": 9,
   "metadata": {
    "collapsed": true
   },
   "outputs": [],
   "source": [
    "# My usual setup\n",
    "%matplotlib inline\n",
    "import matplotlib.pyplot as plt\n",
    "import pandas \n",
    "from datetime import datetime\n",
    "import seaborn as sns\n",
    "import glob\n",
    "from os.path import basename\n",
    "sns.set_context('poster') "
   ]
  },
  {
   "cell_type": "code",
   "execution_count": 10,
   "metadata": {
    "collapsed": true
   },
   "outputs": [],
   "source": [
    "# miditime libs\n",
    "from miditime.miditime import MIDITime "
   ]
  },
  {
   "cell_type": "markdown",
   "metadata": {},
   "source": [
    "## Preprocess data \n",
    "* group by month and year (multiple entries per country of origin and even several for each then)\n",
    "* convert data type\n",
    "* MAKE SURE SORTED"
   ]
  },
  {
   "cell_type": "code",
   "execution_count": 11,
   "metadata": {
    "collapsed": true
   },
   "outputs": [],
   "source": [
    "df = pandas.read_csv('../data/SYRIA-unhcr_popstats_export_asylum_seekers_monthly_2010-2017-06.csv', skiprows=2)"
   ]
  },
  {
   "cell_type": "code",
   "execution_count": 12,
   "metadata": {},
   "outputs": [
    {
     "data": {
      "text/html": [
       "<div>\n",
       "<style>\n",
       "    .dataframe thead tr:only-child th {\n",
       "        text-align: right;\n",
       "    }\n",
       "\n",
       "    .dataframe thead th {\n",
       "        text-align: left;\n",
       "    }\n",
       "\n",
       "    .dataframe tbody tr th {\n",
       "        vertical-align: top;\n",
       "    }\n",
       "</style>\n",
       "<table border=\"1\" class=\"dataframe\">\n",
       "  <thead>\n",
       "    <tr style=\"text-align: right;\">\n",
       "      <th></th>\n",
       "      <th>Country / territory of asylum/residence</th>\n",
       "      <th>Origin</th>\n",
       "      <th>Year</th>\n",
       "      <th>Month</th>\n",
       "      <th>Value</th>\n",
       "    </tr>\n",
       "  </thead>\n",
       "  <tbody>\n",
       "    <tr>\n",
       "      <th>0</th>\n",
       "      <td>Hungary</td>\n",
       "      <td>Syrian Arab Rep.</td>\n",
       "      <td>2010</td>\n",
       "      <td>January</td>\n",
       "      <td>2</td>\n",
       "    </tr>\n",
       "    <tr>\n",
       "      <th>1</th>\n",
       "      <td>Hungary</td>\n",
       "      <td>Syrian Arab Rep.</td>\n",
       "      <td>2010</td>\n",
       "      <td>February</td>\n",
       "      <td>3</td>\n",
       "    </tr>\n",
       "    <tr>\n",
       "      <th>2</th>\n",
       "      <td>Hungary</td>\n",
       "      <td>Syrian Arab Rep.</td>\n",
       "      <td>2010</td>\n",
       "      <td>March</td>\n",
       "      <td>1</td>\n",
       "    </tr>\n",
       "    <tr>\n",
       "      <th>3</th>\n",
       "      <td>Hungary</td>\n",
       "      <td>Syrian Arab Rep.</td>\n",
       "      <td>2010</td>\n",
       "      <td>April</td>\n",
       "      <td>3</td>\n",
       "    </tr>\n",
       "    <tr>\n",
       "      <th>4</th>\n",
       "      <td>Hungary</td>\n",
       "      <td>Syrian Arab Rep.</td>\n",
       "      <td>2010</td>\n",
       "      <td>June</td>\n",
       "      <td>2</td>\n",
       "    </tr>\n",
       "  </tbody>\n",
       "</table>\n",
       "</div>"
      ],
      "text/plain": [
       "  Country / territory of asylum/residence            Origin  Year     Month  \\\n",
       "0                                 Hungary  Syrian Arab Rep.  2010   January   \n",
       "1                                 Hungary  Syrian Arab Rep.  2010  February   \n",
       "2                                 Hungary  Syrian Arab Rep.  2010     March   \n",
       "3                                 Hungary  Syrian Arab Rep.  2010     April   \n",
       "4                                 Hungary  Syrian Arab Rep.  2010      June   \n",
       "\n",
       "  Value  \n",
       "0     2  \n",
       "1     3  \n",
       "2     1  \n",
       "3     3  \n",
       "4     2  "
      ]
     },
     "execution_count": 12,
     "metadata": {},
     "output_type": "execute_result"
    }
   ],
   "source": [
    "df.head()"
   ]
  },
  {
   "cell_type": "code",
   "execution_count": 13,
   "metadata": {
    "collapsed": true,
    "scrolled": true
   },
   "outputs": [],
   "source": [
    "#convert to numeric\n",
    "df['value_numeric'] = pandas.to_numeric(df.Value, errors=\"coerce\")"
   ]
  },
  {
   "cell_type": "code",
   "execution_count": 14,
   "metadata": {
    "collapsed": true
   },
   "outputs": [],
   "source": [
    "# not sure why i have to apply first to convert to string, but here we are.\n",
    "df['datetime'] = pandas.to_datetime(df.apply(lambda x: str(x['Year']) + x['Month'], axis=1), format=\"%Y%B\")"
   ]
  },
  {
   "cell_type": "code",
   "execution_count": 15,
   "metadata": {
    "collapsed": true
   },
   "outputs": [],
   "source": [
    "monthly_totals = df.groupby('datetime').value_numeric.sum()"
   ]
  },
  {
   "cell_type": "code",
   "execution_count": 16,
   "metadata": {
    "scrolled": true
   },
   "outputs": [
    {
     "data": {
      "text/plain": [
       "datetime\n",
       "2010-01-01    499.0\n",
       "2010-02-01    635.0\n",
       "2010-03-01    519.0\n",
       "2010-04-01    433.0\n",
       "2010-05-01    472.0\n",
       "Name: value_numeric, dtype: float64"
      ]
     },
     "execution_count": 16,
     "metadata": {},
     "output_type": "execute_result"
    }
   ],
   "source": [
    "monthly_totals.head()"
   ]
  },
  {
   "cell_type": "code",
   "execution_count": 17,
   "metadata": {},
   "outputs": [
    {
     "data": {
      "text/plain": [
       "91"
      ]
     },
     "execution_count": 17,
     "metadata": {},
     "output_type": "execute_result"
    }
   ],
   "source": [
    "len(monthly_totals.index)"
   ]
  },
  {
   "cell_type": "code",
   "execution_count": 18,
   "metadata": {
    "collapsed": true
   },
   "outputs": [],
   "source": [
    "MIN = monthly_totals.min()\n",
    "MAX = monthly_totals.max()"
   ]
  },
  {
   "cell_type": "code",
   "execution_count": 19,
   "metadata": {},
   "outputs": [
    {
     "name": "stdout",
     "output_type": "stream",
     "text": [
      "433.0\n",
      "102089.0\n"
     ]
    }
   ],
   "source": [
    "print(MIN)\n",
    "print(MAX)"
   ]
  },
  {
   "cell_type": "code",
   "execution_count": null,
   "metadata": {
    "collapsed": true
   },
   "outputs": [],
   "source": [
    "monthly_totals = monthly_totals.sort_index()"
   ]
  },
  {
   "cell_type": "markdown",
   "metadata": {
    "collapsed": true
   },
   "source": [
    "### Chart data"
   ]
  },
  {
   "cell_type": "code",
   "execution_count": null,
   "metadata": {},
   "outputs": [],
   "source": [
    "monthly_totals.plot()\n",
    "plt.title(\"Total refugees from Syria, all origins\")"
   ]
  },
  {
   "cell_type": "markdown",
   "metadata": {},
   "source": [
    "## Start MIDI code"
   ]
  },
  {
   "cell_type": "markdown",
   "metadata": {},
   "source": [
    "Instantiate the class with a tempo (120bpm is the default), an output file destination, the number of seconds you want to represent a year in the final song (default is 5 sec/year), the base octave (C5 is middle C, so the default is 5, and how many octaves you want your output to range over (default is 1)."
   ]
  },
  {
   "cell_type": "code",
   "execution_count": 21,
   "metadata": {
    "collapsed": true
   },
   "outputs": [],
   "source": [
    "# HACK COZ I COULDNT FIGURE OUT HOW TO CONVERT SERIES TO DICT with PROPER FORMAT\n",
    "syria_data = [{'datetime':x, 'magnitude': y} for x, y in zip(monthly_totals.index, monthly_totals.values)]\n"
   ]
  },
  {
   "cell_type": "markdown",
   "metadata": {},
   "source": [
    "Convert your date/time data into an integer, like days since the epoch (Jan. 1, 1970). You can use the days_since_epoch() helper method, or not:"
   ]
  },
  {
   "cell_type": "code",
   "execution_count": 22,
   "metadata": {
    "collapsed": true
   },
   "outputs": [],
   "source": [
    "syria_data_epoched = [{'days_since_epoch': mymidi.days_since_epoch(d['datetime']), 'magnitude': d['magnitude']} for d in syria_data] "
   ]
  },
  {
   "cell_type": "markdown",
   "metadata": {},
   "source": [
    "Convert your integer date/time to something reasonable for a song. For example, at 120 beats per minute, you'll need to scale the data down a lot to avoid a very long song if your data spans years. This uses the seconds_per_year attribute you set at the top, so if your date is converted to something other than days you may need to do your own conversion. But if your dataset spans years and your dates are in days (with fractions is fine), use the beat() helper method."
   ]
  },
  {
   "cell_type": "code",
   "execution_count": 23,
   "metadata": {
    "collapsed": true
   },
   "outputs": [],
   "source": [
    "syria_data_timed = [{'beat': mymidi.beat(d['days_since_epoch']), 'magnitude': d['magnitude']} for d in syria_data_epoched]"
   ]
  },
  {
   "cell_type": "code",
   "execution_count": 24,
   "metadata": {},
   "outputs": [
    {
     "data": {
      "text/plain": [
       "[{'datetime': Timestamp('2010-01-01 00:00:00'), 'magnitude': 499.0},\n",
       " {'datetime': Timestamp('2010-02-01 00:00:00'), 'magnitude': 635.0},\n",
       " {'datetime': Timestamp('2010-03-01 00:00:00'), 'magnitude': 519.0},\n",
       " {'datetime': Timestamp('2010-04-01 00:00:00'), 'magnitude': 433.0},\n",
       " {'datetime': Timestamp('2010-05-01 00:00:00'), 'magnitude': 472.0},\n",
       " {'datetime': Timestamp('2010-06-01 00:00:00'), 'magnitude': 455.0},\n",
       " {'datetime': Timestamp('2010-07-01 00:00:00'), 'magnitude': 459.0},\n",
       " {'datetime': Timestamp('2010-08-01 00:00:00'), 'magnitude': 604.0},\n",
       " {'datetime': Timestamp('2010-09-01 00:00:00'), 'magnitude': 602.0},\n",
       " {'datetime': Timestamp('2010-10-01 00:00:00'), 'magnitude': 634.0},\n",
       " {'datetime': Timestamp('2010-11-01 00:00:00'), 'magnitude': 557.0},\n",
       " {'datetime': Timestamp('2010-12-01 00:00:00'), 'magnitude': 604.0},\n",
       " {'datetime': Timestamp('2011-01-01 00:00:00'), 'magnitude': 645.0},\n",
       " {'datetime': Timestamp('2011-02-01 00:00:00'), 'magnitude': 596.0},\n",
       " {'datetime': Timestamp('2011-03-01 00:00:00'), 'magnitude': 692.0},\n",
       " {'datetime': Timestamp('2011-04-01 00:00:00'), 'magnitude': 638.0},\n",
       " {'datetime': Timestamp('2011-05-01 00:00:00'), 'magnitude': 752.0},\n",
       " {'datetime': Timestamp('2011-06-01 00:00:00'), 'magnitude': 885.0},\n",
       " {'datetime': Timestamp('2011-07-01 00:00:00'), 'magnitude': 1170.0},\n",
       " {'datetime': Timestamp('2011-08-01 00:00:00'), 'magnitude': 1565.0},\n",
       " {'datetime': Timestamp('2011-09-01 00:00:00'), 'magnitude': 1404.0},\n",
       " {'datetime': Timestamp('2011-10-01 00:00:00'), 'magnitude': 1371.0},\n",
       " {'datetime': Timestamp('2011-11-01 00:00:00'), 'magnitude': 1343.0},\n",
       " {'datetime': Timestamp('2011-12-01 00:00:00'), 'magnitude': 1172.0},\n",
       " {'datetime': Timestamp('2012-01-01 00:00:00'), 'magnitude': 1491.0},\n",
       " {'datetime': Timestamp('2012-02-01 00:00:00'), 'magnitude': 1355.0},\n",
       " {'datetime': Timestamp('2012-03-01 00:00:00'), 'magnitude': 1302.0},\n",
       " {'datetime': Timestamp('2012-04-01 00:00:00'), 'magnitude': 1396.0},\n",
       " {'datetime': Timestamp('2012-05-01 00:00:00'), 'magnitude': 1782.0},\n",
       " {'datetime': Timestamp('2012-06-01 00:00:00'), 'magnitude': 2140.0},\n",
       " {'datetime': Timestamp('2012-07-01 00:00:00'), 'magnitude': 3072.0},\n",
       " {'datetime': Timestamp('2012-08-01 00:00:00'), 'magnitude': 4488.0},\n",
       " {'datetime': Timestamp('2012-09-01 00:00:00'), 'magnitude': 5056.0},\n",
       " {'datetime': Timestamp('2012-10-01 00:00:00'), 'magnitude': 5635.0},\n",
       " {'datetime': Timestamp('2012-11-01 00:00:00'), 'magnitude': 5538.0},\n",
       " {'datetime': Timestamp('2012-12-01 00:00:00'), 'magnitude': 4675.0},\n",
       " {'datetime': Timestamp('2013-01-01 00:00:00'), 'magnitude': 5480.0},\n",
       " {'datetime': Timestamp('2013-02-01 00:00:00'), 'magnitude': 4248.0},\n",
       " {'datetime': Timestamp('2013-03-01 00:00:00'), 'magnitude': 4710.0},\n",
       " {'datetime': Timestamp('2013-04-01 00:00:00'), 'magnitude': 4742.0},\n",
       " {'datetime': Timestamp('2013-05-01 00:00:00'), 'magnitude': 4755.0},\n",
       " {'datetime': Timestamp('2013-06-01 00:00:00'), 'magnitude': 5022.0},\n",
       " {'datetime': Timestamp('2013-07-01 00:00:00'), 'magnitude': 6226.0},\n",
       " {'datetime': Timestamp('2013-08-01 00:00:00'), 'magnitude': 6895.0},\n",
       " {'datetime': Timestamp('2013-09-01 00:00:00'), 'magnitude': 11182.0},\n",
       " {'datetime': Timestamp('2013-10-01 00:00:00'), 'magnitude': 12307.0},\n",
       " {'datetime': Timestamp('2013-11-01 00:00:00'), 'magnitude': 11323.0},\n",
       " {'datetime': Timestamp('2013-12-01 00:00:00'), 'magnitude': 10009.0},\n",
       " {'datetime': Timestamp('2014-01-01 00:00:00'), 'magnitude': 11353.0},\n",
       " {'datetime': Timestamp('2014-02-01 00:00:00'), 'magnitude': 10573.0},\n",
       " {'datetime': Timestamp('2014-03-01 00:00:00'), 'magnitude': 11207.0},\n",
       " {'datetime': Timestamp('2014-04-01 00:00:00'), 'magnitude': 11469.0},\n",
       " {'datetime': Timestamp('2014-05-01 00:00:00'), 'magnitude': 13187.0},\n",
       " {'datetime': Timestamp('2014-06-01 00:00:00'), 'magnitude': 16380.0},\n",
       " {'datetime': Timestamp('2014-07-01 00:00:00'), 'magnitude': 21067.0},\n",
       " {'datetime': Timestamp('2014-08-01 00:00:00'), 'magnitude': 22332.0},\n",
       " {'datetime': Timestamp('2014-09-01 00:00:00'), 'magnitude': 29282.0},\n",
       " {'datetime': Timestamp('2014-10-01 00:00:00'), 'magnitude': 29596.0},\n",
       " {'datetime': Timestamp('2014-11-01 00:00:00'), 'magnitude': 26458.0},\n",
       " {'datetime': Timestamp('2014-12-01 00:00:00'), 'magnitude': 24192.0},\n",
       " {'datetime': Timestamp('2015-01-01 00:00:00'), 'magnitude': 16319.0},\n",
       " {'datetime': Timestamp('2015-02-01 00:00:00'), 'magnitude': 12247.0},\n",
       " {'datetime': Timestamp('2015-03-01 00:00:00'), 'magnitude': 14915.0},\n",
       " {'datetime': Timestamp('2015-04-01 00:00:00'), 'magnitude': 17008.0},\n",
       " {'datetime': Timestamp('2015-05-01 00:00:00'), 'magnitude': 19205.0},\n",
       " {'datetime': Timestamp('2015-06-01 00:00:00'), 'magnitude': 30963.0},\n",
       " {'datetime': Timestamp('2015-07-01 00:00:00'), 'magnitude': 50377.0},\n",
       " {'datetime': Timestamp('2015-08-01 00:00:00'), 'magnitude': 82941.0},\n",
       " {'datetime': Timestamp('2015-09-01 00:00:00'), 'magnitude': 102089.0},\n",
       " {'datetime': Timestamp('2015-10-01 00:00:00'), 'magnitude': 86565.0},\n",
       " {'datetime': Timestamp('2015-11-01 00:00:00'), 'magnitude': 72319.0},\n",
       " {'datetime': Timestamp('2015-12-01 00:00:00'), 'magnitude': 41794.0},\n",
       " {'datetime': Timestamp('2016-01-01 00:00:00'), 'magnitude': 39576.0},\n",
       " {'datetime': Timestamp('2016-02-01 00:00:00'), 'magnitude': 43609.0},\n",
       " {'datetime': Timestamp('2016-03-01 00:00:00'), 'magnitude': 38346.0},\n",
       " {'datetime': Timestamp('2016-04-01 00:00:00'), 'magnitude': 39492.0},\n",
       " {'datetime': Timestamp('2016-05-01 00:00:00'), 'magnitude': 35784.0},\n",
       " {'datetime': Timestamp('2016-06-01 00:00:00'), 'magnitude': 32968.0},\n",
       " {'datetime': Timestamp('2016-07-01 00:00:00'), 'magnitude': 29105.0},\n",
       " {'datetime': Timestamp('2016-08-01 00:00:00'), 'magnitude': 32698.0},\n",
       " {'datetime': Timestamp('2016-09-01 00:00:00'), 'magnitude': 28910.0},\n",
       " {'datetime': Timestamp('2016-10-01 00:00:00'), 'magnitude': 12413.0},\n",
       " {'datetime': Timestamp('2016-11-01 00:00:00'), 'magnitude': 9700.0},\n",
       " {'datetime': Timestamp('2016-12-01 00:00:00'), 'magnitude': 8414.0},\n",
       " {'datetime': Timestamp('2017-01-01 00:00:00'), 'magnitude': 7054.0},\n",
       " {'datetime': Timestamp('2017-02-01 00:00:00'), 'magnitude': 7382.0},\n",
       " {'datetime': Timestamp('2017-03-01 00:00:00'), 'magnitude': 9411.0},\n",
       " {'datetime': Timestamp('2017-04-01 00:00:00'), 'magnitude': 7148.0},\n",
       " {'datetime': Timestamp('2017-05-01 00:00:00'), 'magnitude': 8203.0},\n",
       " {'datetime': Timestamp('2017-06-01 00:00:00'), 'magnitude': 7420.0},\n",
       " {'datetime': Timestamp('2017-07-01 00:00:00'), 'magnitude': 6115.0}]"
      ]
     },
     "execution_count": 24,
     "metadata": {},
     "output_type": "execute_result"
    }
   ],
   "source": [
    "syria_data"
   ]
  },
  {
   "cell_type": "code",
   "execution_count": 25,
   "metadata": {
    "collapsed": true
   },
   "outputs": [],
   "source": [
    "start_time = syria_data_timed[0]['beat']"
   ]
  },
  {
   "cell_type": "markdown",
   "metadata": {},
   "source": [
    "Set up some functions to scale your other variable (magnitude in our case) to match your desired mode/key and octave range. There are helper methods to assist this scaling, very similar to a charting library like D3. You can choose a linear or logarithmic scale."
   ]
  },
  {
   "cell_type": "markdown",
   "metadata": {},
   "source": [
    "## Notes on transforms\n",
    "Velocity is volume, basically. \n",
    "Add two new transforms: mag_to_beat and mag_to_pitch"
   ]
  },
  {
   "cell_type": "code",
   "execution_count": 31,
   "metadata": {
    "collapsed": true
   },
   "outputs": [],
   "source": [
    "def mag_to_pitch_tuned(magnitude):\n",
    "    # Where does this data point sit in the domain of your data? (I.E. the min magnitude is 3, the max in 5.6). In this case the optional 'True' means the scale is reversed, so the highest value will return the lowest percentage.\n",
    "    #scale_pct = mymidi.linear_scale_pct(MIN, MAX, magnitude)\n",
    "\n",
    "    # Another option: Linear scale, reverse order\n",
    "    scale_pct = mymidi.linear_scale_pct(MIN, MAX, magnitude, True)\n",
    "\n",
    "    # Another option: Logarithmic scale, reverse order\n",
    "    #scale_pct = mymidi.log_scale_pct(MIN, MAX, magnitude, True)\n",
    "\n",
    "    # Pick a range of notes. This allows you to play in a key.\n",
    "    c_major = ['C', 'D', 'E', 'F', 'G', 'A', 'B']\n",
    "\n",
    "    #Find the note that matches your data point\n",
    "    note = mymidi.scale_to_note(scale_pct, c_major)\n",
    "\n",
    "    #Translate that note to a MIDI pitch\n",
    "    midi_pitch = mymidi.note_to_midi_pitch(note)\n",
    "\n",
    "    return midi_pitch"
   ]
  },
  {
   "cell_type": "code",
   "execution_count": null,
   "metadata": {},
   "outputs": [],
   "source": [
    "#TRANFORM MAGNITUDE TO BEAT, NOT PITCH\n",
    "def mag_to_beat(magnitude):\n",
    "    # Where does this data point sit in the domain of your data? (I.E. the min magnitude is 3, the max in 5.6). In this case the optional 'True' means the scale is reversed, so the highest value will return the lowest percentage.\n",
    "    #scale_pct = mymidi.linear_scale_pct(MIN, MAX, magnitude)\n",
    "\n",
    "    # Another option: Linear scale, reverse order\n",
    "    scale_pct = mymidi.linear_scale_pct(MIN, MAX, magnitude, True)\n",
    "\n",
    "    # Another option: Logarithmic scale, reverse order\n",
    "    #scale_pct = mymidi.log_scale_pct(MIN, MAX, magnitude, True)\n",
    "\n",
    "    # Pick a range of notes. This allows you to play in a key.\n",
    "    c_major = ['C', 'D', 'E', 'F', 'G', 'A', 'B']\n",
    "\n",
    "    #Find the note that matches your data point\n",
    "    note = mymidi.scale_to_note(scale_pct, c_major)\n",
    "\n",
    "    #Translate that note to a MIDI pitch\n",
    "    midi_pitch = mymidi.note_to_midi_pitch(note)\n",
    "\n",
    "    return midi_pitch"
   ]
  },
  {
   "cell_type": "code",
   "execution_count": null,
   "metadata": {},
   "outputs": [],
   "source": [
    " "
   ]
  },
  {
   "cell_type": "code",
   "execution_count": 77,
   "metadata": {},
   "outputs": [],
   "source": [
    "# try transform to velocity\n",
    "\n",
    "note_list = [] \n",
    "\n",
    "for d in syria_data_timed:\n",
    "\n",
    "    note_list.append([\n",
    "        d['beat'] - start_time,\n",
    "        mag_to_pitch_tuned(d['magnitude']),\n",
    "        100, #int(mymidi.linear_scale_pct(10, 200, d['magnitude'])),  # velocity from 0 to 255\n",
    "        1  # duration, in beats\n",
    "    ]) "
   ]
  },
  {
   "cell_type": "markdown",
   "metadata": {},
   "source": [
    "[BEAT, PITCH, VELOCITY (VOLUME), DURATION_OF_NOTE]"
   ]
  },
  {
   "cell_type": "code",
   "execution_count": 78,
   "metadata": {},
   "outputs": [
    {
     "data": {
      "text/plain": [
       "[[0.0, 71, 100, 1],\n",
       " [0.8500000000000227, 71, 100, 1],\n",
       " [1.6200000000000045, 71, 100, 1],\n",
       " [2.4599999999999795, 71, 100, 1],\n",
       " [3.2900000000000205, 71, 100, 1],\n",
       " [4.1299999999999955, 71, 100, 1],\n",
       " [4.9599999999999795, 71, 100, 1],\n",
       " [5.800000000000011, 71, 100, 1],\n",
       " [6.649999999999977, 71, 100, 1],\n",
       " [7.470000000000027, 71, 100, 1],\n",
       " [8.319999999999993, 71, 100, 1],\n",
       " [9.139999999999986, 71, 100, 1],\n",
       " [9.990000000000009, 71, 100, 1],\n",
       " [10.839999999999975, 71, 100, 1],\n",
       " [11.610000000000014, 71, 100, 1],\n",
       " [12.45999999999998, 71, 100, 1],\n",
       " [13.279999999999973, 71, 100, 1],\n",
       " [14.129999999999995, 71, 100, 1],\n",
       " [14.949999999999989, 71, 100, 1],\n",
       " [15.800000000000011, 71, 100, 1],\n",
       " [16.649999999999977, 71, 100, 1],\n",
       " [17.470000000000027, 71, 100, 1],\n",
       " [18.319999999999993, 71, 100, 1],\n",
       " [19.139999999999986, 71, 100, 1],\n",
       " [19.99000000000001, 71, 100, 1],\n",
       " [20.839999999999975, 71, 100, 1],\n",
       " [21.629999999999995, 71, 100, 1],\n",
       " [22.480000000000018, 71, 100, 1],\n",
       " [23.30000000000001, 71, 100, 1],\n",
       " [24.149999999999977, 71, 100, 1],\n",
       " [24.970000000000027, 71, 100, 1],\n",
       " [25.819999999999993, 71, 100, 1],\n",
       " [26.670000000000016, 71, 100, 1],\n",
       " [27.49000000000001, 71, 100, 1],\n",
       " [28.339999999999975, 71, 100, 1],\n",
       " [29.160000000000025, 71, 100, 1],\n",
       " [30.00999999999999, 71, 100, 1],\n",
       " [30.860000000000014, 71, 100, 1],\n",
       " [31.620000000000005, 71, 100, 1],\n",
       " [32.47000000000003, 71, 100, 1],\n",
       " [33.29000000000002, 71, 100, 1],\n",
       " [34.139999999999986, 71, 100, 1],\n",
       " [34.95999999999998, 71, 100, 1],\n",
       " [35.81, 71, 100, 1],\n",
       " [36.660000000000025, 71, 100, 1],\n",
       " [37.48000000000002, 71, 100, 1],\n",
       " [38.329999999999984, 71, 100, 1],\n",
       " [39.14999999999998, 71, 100, 1],\n",
       " [40.0, 71, 100, 1],\n",
       " [40.85000000000002, 71, 100, 1],\n",
       " [41.620000000000005, 71, 100, 1],\n",
       " [42.45999999999998, 71, 100, 1],\n",
       " [43.29000000000002, 71, 100, 1],\n",
       " [44.129999999999995, 69, 100, 1],\n",
       " [44.95999999999998, 69, 100, 1],\n",
       " [45.80000000000001, 69, 100, 1],\n",
       " [46.64999999999998, 69, 100, 1],\n",
       " [47.47000000000003, 67, 100, 1],\n",
       " [48.31999999999999, 69, 100, 1],\n",
       " [49.139999999999986, 69, 100, 1],\n",
       " [49.99000000000001, 69, 100, 1],\n",
       " [50.839999999999975, 71, 100, 1],\n",
       " [51.610000000000014, 71, 100, 1],\n",
       " [52.45999999999998, 69, 100, 1],\n",
       " [53.27999999999997, 69, 100, 1],\n",
       " [54.129999999999995, 67, 100, 1],\n",
       " [54.94999999999999, 65, 100, 1],\n",
       " [55.80000000000001, 62, 100, 1],\n",
       " [56.64999999999998, 60, 100, 1],\n",
       " [57.47000000000003, 62, 100, 1],\n",
       " [58.31999999999999, 64, 100, 1],\n",
       " [59.139999999999986, 67, 100, 1],\n",
       " [59.99000000000001, 67, 100, 1],\n",
       " [60.839999999999975, 67, 100, 1],\n",
       " [61.629999999999995, 67, 100, 1],\n",
       " [62.48000000000002, 67, 100, 1],\n",
       " [63.30000000000001, 67, 100, 1],\n",
       " [64.14999999999998, 67, 100, 1],\n",
       " [64.97000000000003, 69, 100, 1],\n",
       " [65.82, 67, 100, 1],\n",
       " [66.67000000000002, 69, 100, 1],\n",
       " [67.49000000000001, 71, 100, 1],\n",
       " [68.33999999999997, 71, 100, 1],\n",
       " [69.16000000000003, 71, 100, 1],\n",
       " [70.00999999999999, 71, 100, 1],\n",
       " [70.86000000000001, 71, 100, 1],\n",
       " [71.62, 71, 100, 1],\n",
       " [72.47000000000003, 71, 100, 1],\n",
       " [73.29000000000002, 71, 100, 1],\n",
       " [74.13999999999999, 71, 100, 1],\n",
       " [74.95999999999998, 71, 100, 1]]"
      ]
     },
     "execution_count": 78,
     "metadata": {},
     "output_type": "execute_result"
    }
   ],
   "source": [
    "note_list"
   ]
  },
  {
   "cell_type": "markdown",
   "metadata": {},
   "source": [
    "## Make MIDI file"
   ]
  },
  {
   "cell_type": "code",
   "execution_count": 79,
   "metadata": {},
   "outputs": [
    {
     "name": "stdout",
     "output_type": "stream",
     "text": [
      "71 0.0 1 100\n",
      "71 0.8500000000000227 1 100\n",
      "71 1.6200000000000045 1 100\n",
      "71 2.4599999999999795 1 100\n",
      "71 3.2900000000000205 1 100\n",
      "71 4.1299999999999955 1 100\n",
      "71 4.9599999999999795 1 100\n",
      "71 5.800000000000011 1 100\n",
      "71 6.649999999999977 1 100\n",
      "71 7.470000000000027 1 100\n",
      "71 8.319999999999993 1 100\n",
      "71 9.139999999999986 1 100\n",
      "71 9.990000000000009 1 100\n",
      "71 10.839999999999975 1 100\n",
      "71 11.610000000000014 1 100\n",
      "71 12.45999999999998 1 100\n",
      "71 13.279999999999973 1 100\n",
      "71 14.129999999999995 1 100\n",
      "71 14.949999999999989 1 100\n",
      "71 15.800000000000011 1 100\n",
      "71 16.649999999999977 1 100\n",
      "71 17.470000000000027 1 100\n",
      "71 18.319999999999993 1 100\n",
      "71 19.139999999999986 1 100\n",
      "71 19.99000000000001 1 100\n",
      "71 20.839999999999975 1 100\n",
      "71 21.629999999999995 1 100\n",
      "71 22.480000000000018 1 100\n",
      "71 23.30000000000001 1 100\n",
      "71 24.149999999999977 1 100\n",
      "71 24.970000000000027 1 100\n",
      "71 25.819999999999993 1 100\n",
      "71 26.670000000000016 1 100\n",
      "71 27.49000000000001 1 100\n",
      "71 28.339999999999975 1 100\n",
      "71 29.160000000000025 1 100\n",
      "71 30.00999999999999 1 100\n",
      "71 30.860000000000014 1 100\n",
      "71 31.620000000000005 1 100\n",
      "71 32.47000000000003 1 100\n",
      "71 33.29000000000002 1 100\n",
      "71 34.139999999999986 1 100\n",
      "71 34.95999999999998 1 100\n",
      "71 35.81 1 100\n",
      "71 36.660000000000025 1 100\n",
      "71 37.48000000000002 1 100\n",
      "71 38.329999999999984 1 100\n",
      "71 39.14999999999998 1 100\n",
      "71 40.0 1 100\n",
      "71 40.85000000000002 1 100\n",
      "71 41.620000000000005 1 100\n",
      "71 42.45999999999998 1 100\n",
      "71 43.29000000000002 1 100\n",
      "69 44.129999999999995 1 100\n",
      "69 44.95999999999998 1 100\n",
      "69 45.80000000000001 1 100\n",
      "69 46.64999999999998 1 100\n",
      "67 47.47000000000003 1 100\n",
      "69 48.31999999999999 1 100\n",
      "69 49.139999999999986 1 100\n",
      "69 49.99000000000001 1 100\n",
      "71 50.839999999999975 1 100\n",
      "71 51.610000000000014 1 100\n",
      "69 52.45999999999998 1 100\n",
      "69 53.27999999999997 1 100\n",
      "67 54.129999999999995 1 100\n",
      "65 54.94999999999999 1 100\n",
      "62 55.80000000000001 1 100\n",
      "60 56.64999999999998 1 100\n",
      "62 57.47000000000003 1 100\n",
      "64 58.31999999999999 1 100\n",
      "67 59.139999999999986 1 100\n",
      "67 59.99000000000001 1 100\n",
      "67 60.839999999999975 1 100\n",
      "67 61.629999999999995 1 100\n",
      "67 62.48000000000002 1 100\n",
      "67 63.30000000000001 1 100\n",
      "67 64.14999999999998 1 100\n",
      "69 64.97000000000003 1 100\n",
      "67 65.82 1 100\n",
      "69 66.67000000000002 1 100\n",
      "71 67.49000000000001 1 100\n",
      "71 68.33999999999997 1 100\n",
      "71 69.16000000000003 1 100\n",
      "71 70.00999999999999 1 100\n",
      "71 70.86000000000001 1 100\n",
      "71 71.62 1 100\n",
      "71 72.47000000000003 1 100\n",
      "71 73.29000000000002 1 100\n",
      "71 74.13999999999999 1 100\n",
      "71 74.95999999999998 1 100\n"
     ]
    }
   ],
   "source": [
    "mymidi = MIDITime(120, '../audio/syria-2010-2017-FREQ.mid', 5, 5, 1) \n",
    "# Add a track with those notes\n",
    "mymidi.add_track(note_list)\n",
    "\n",
    "# Output the .mid file\n",
    "mymidi.save_midi()"
   ]
  },
  {
   "cell_type": "code",
   "execution_count": null,
   "metadata": {
    "collapsed": true
   },
   "outputs": [],
   "source": []
  },
  {
   "cell_type": "code",
   "execution_count": null,
   "metadata": {
    "collapsed": true
   },
   "outputs": [],
   "source": []
  }
 ],
 "metadata": {
  "kernelspec": {
   "display_name": "Python 3",
   "language": "python",
   "name": "python3"
  },
  "language_info": {
   "codemirror_mode": {
    "name": "ipython",
    "version": 3
   },
   "file_extension": ".py",
   "mimetype": "text/x-python",
   "name": "python",
   "nbconvert_exporter": "python",
   "pygments_lexer": "ipython3",
   "version": "3.6.1"
  }
 },
 "nbformat": 4,
 "nbformat_minor": 2
}
