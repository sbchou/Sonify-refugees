{
 "cells": [
  {
   "cell_type": "markdown",
   "metadata": {},
   "source": [
    "## Sonification using the miditime library from Reveal\n",
    "* Tutorial from: https://github.com/cirlabs/miditime\n",
    "* Install miditime: pip3 install miditime \n",
    "* (*remember to use pip3 not pip, if you use python3*)\n"
   ]
  },
  {
   "cell_type": "code",
   "execution_count": 10,
   "metadata": {
    "collapsed": true
   },
   "outputs": [],
   "source": [
    "# LIBS\n",
    "from miditime.miditime import MIDITime\n",
    "import datetime"
   ]
  },
  {
   "cell_type": "markdown",
   "metadata": {},
   "source": [
    "Instantiate the class with a tempo (120bpm is the default), an output file destination, the number of seconds you want to represent a year in the final song (default is 5 sec/year), the base octave (C5 is middle C, so the default is 5, and how many octaves you want your output to range over (default is 1)."
   ]
  },
  {
   "cell_type": "code",
   "execution_count": 9,
   "metadata": {
    "collapsed": true
   },
   "outputs": [],
   "source": [
    "mymidi = MIDITime(120, 'myfile.mid', 5, 5, 1) "
   ]
  },
  {
   "cell_type": "markdown",
   "metadata": {},
   "source": [
    "Bring in some data (this is some earthquakes). I'm assuming your data is already in date order, from oldest to newest.\n"
   ]
  },
  {
   "cell_type": "code",
   "execution_count": 17,
   "metadata": {
    "collapsed": true
   },
   "outputs": [],
   "source": [
    "# MADE UP DATA\n",
    "my_data = [\n",
    "    {'event_date': datetime.datetime(2017,2,2), 'magnitude': 3.4},\n",
    "    {'event_date': datetime.datetime(2017,3,1), 'magnitude': 3.2},\n",
    "    {'event_date': datetime.datetime(2017,3,30), 'magnitude': 3.6},\n",
    "    {'event_date': datetime.datetime(2017,4,25), 'magnitude': 3.0},\n",
    "    {'event_date': datetime.datetime(2017,4,30), 'magnitude': 5.6},\n",
    "    {'event_date': datetime.datetime(2017,5,1), 'magnitude': 4.0}\n",
    "]"
   ]
  },
  {
   "cell_type": "markdown",
   "metadata": {},
   "source": [
    "Convert your date/time data into an integer, like days since the epoch (Jan. 1, 1970). You can use the days_since_epoch() helper method, or not:"
   ]
  },
  {
   "cell_type": "code",
   "execution_count": 18,
   "metadata": {
    "collapsed": true
   },
   "outputs": [],
   "source": [
    "my_data_epoched = [{'days_since_epoch': mymidi.days_since_epoch(d['event_date']), 'magnitude': d['magnitude']} for d in my_data] "
   ]
  },
  {
   "cell_type": "markdown",
   "metadata": {},
   "source": [
    "Convert your integer date/time to something reasonable for a song. For example, at 120 beats per minute, you'll need to scale the data down a lot to avoid a very long song if your data spans years. This uses the seconds_per_year attribute you set at the top, so if your date is converted to something other than days you may need to do your own conversion. But if your dataset spans years and your dates are in days (with fractions is fine), use the beat() helper method."
   ]
  },
  {
   "cell_type": "code",
   "execution_count": 19,
   "metadata": {
    "collapsed": true
   },
   "outputs": [],
   "source": [
    "my_data_timed = [{'beat': mymidi.beat(d['days_since_epoch']), 'magnitude': d['magnitude']} for d in my_data_epoched]"
   ]
  },
  {
   "cell_type": "code",
   "execution_count": 20,
   "metadata": {
    "collapsed": true
   },
   "outputs": [],
   "source": [
    "start_time = my_data_timed[0]['beat']"
   ]
  },
  {
   "cell_type": "markdown",
   "metadata": {},
   "source": [
    "Set up some functions to scale your other variable (magnitude in our case) to match your desired mode/key and octave range. There are helper methods to assist this scaling, very similar to a charting library like D3. You can choose a linear or logarithmic scale."
   ]
  },
  {
   "cell_type": "code",
   "execution_count": 21,
   "metadata": {
    "collapsed": true
   },
   "outputs": [],
   "source": [
    "def mag_to_pitch_tuned(magnitude):\n",
    "    # Where does this data point sit in the domain of your data? (I.E. the min magnitude is 3, the max in 5.6). In this case the optional 'True' means the scale is reversed, so the highest value will return the lowest percentage.\n",
    "    scale_pct = mymidi.linear_scale_pct(3, 5.7, magnitude)\n",
    "\n",
    "    # Another option: Linear scale, reverse order\n",
    "    # scale_pct = mymidi.linear_scale_pct(3, 5.7, magnitude, True)\n",
    "\n",
    "    # Another option: Logarithmic scale, reverse order\n",
    "    # scale_pct = mymidi.log_scale_pct(3, 5.7, magnitude, True)\n",
    "\n",
    "    # Pick a range of notes. This allows you to play in a key.\n",
    "    c_major = ['C', 'D', 'E', 'F', 'G', 'A', 'B']\n",
    "\n",
    "    #Find the note that matches your data point\n",
    "    note = mymidi.scale_to_note(scale_pct, c_major)\n",
    "\n",
    "    #Translate that note to a MIDI pitch\n",
    "    midi_pitch = mymidi.note_to_midi_pitch(note)\n",
    "\n",
    "    return midi_pitch"
   ]
  },
  {
   "cell_type": "code",
   "execution_count": 22,
   "metadata": {
    "collapsed": true
   },
   "outputs": [],
   "source": [
    "note_list = []\n",
    "\n",
    "for d in my_data_timed:\n",
    "    note_list.append([\n",
    "        d['beat'] - start_time,\n",
    "        mag_to_pitch_tuned(d['magnitude']),\n",
    "        100,  # velocity\n",
    "        1  # duration, in beats\n",
    "    ])"
   ]
  },
  {
   "cell_type": "code",
   "execution_count": 23,
   "metadata": {},
   "outputs": [
    {
     "name": "stdout",
     "output_type": "stream",
     "text": [
      "62 0.0 1 100\n",
      "60 0.7400000000000091 1 100\n",
      "62 1.5400000000000205 1 100\n",
      "60 2.25 1 100\n",
      "71 2.3799999999999955 1 100\n",
      "64 2.410000000000025 1 100\n"
     ]
    }
   ],
   "source": [
    "# Add a track with those notes\n",
    "mymidi.add_track(note_list)\n",
    "\n",
    "# Output the .mid file\n",
    "mymidi.save_midi()"
   ]
  }
 ],
 "metadata": {
  "kernelspec": {
   "display_name": "Python 3",
   "language": "python",
   "name": "python3"
  },
  "language_info": {
   "codemirror_mode": {
    "name": "ipython",
    "version": 3
   },
   "file_extension": ".py",
   "mimetype": "text/x-python",
   "name": "python",
   "nbconvert_exporter": "python",
   "pygments_lexer": "ipython3",
   "version": "3.6.1"
  }
 },
 "nbformat": 4,
 "nbformat_minor": 2
}
