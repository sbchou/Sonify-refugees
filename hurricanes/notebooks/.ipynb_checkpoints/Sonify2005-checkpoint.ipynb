{
 "cells": [
  {
   "cell_type": "code",
   "execution_count": 1,
   "metadata": {
    "collapsed": true
   },
   "outputs": [],
   "source": [
    "# My usual setup\n",
    "%matplotlib inline\n",
    "import matplotlib.pyplot as plt\n",
    "import pandas \n",
    "from datetime import datetime\n",
    "import seaborn as sns\n",
    "import glob\n",
    "from os.path import basename\n",
    "sns.set_context('poster') \n",
    "import numpy as np\n",
    "import csv"
   ]
  },
  {
   "cell_type": "markdown",
   "metadata": {},
   "source": [
    "# Sonify 2005 hurricane season\n",
    "\n",
    "- Original tutorial https://github.com/cirlabs/miditime\n",
    "- I handle most manipulations in dataframe for ease of IO"
   ]
  },
  {
   "cell_type": "markdown",
   "metadata": {},
   "source": [
    "## First, format hurricane files"
   ]
  },
  {
   "cell_type": "markdown",
   "metadata": {},
   "source": [
    "NOAA format has the hurricane name in a single row, chunking rows of information about the hurricane.\n",
    "We flatten it into a single CSV."
   ]
  },
  {
   "cell_type": "code",
   "execution_count": 2,
   "metadata": {},
   "outputs": [],
   "source": [
    "with open('../data/2005-hurricanes-combined') as in_file:\n",
    "    with open('../data/2005-hurricanes-formatted.csv', 'w') as out_file:\n",
    "        writer = csv.writer(out_file)\n",
    "        writer.writerow([\"storm_name\", \"date\", \"hour\",\"mph\"])\n",
    "        \n",
    "        for l in in_file:\n",
    "            row = l.split(\",\")\n",
    "            \n",
    "            if len(row) == 4 :\n",
    "                stormid, stormname, stormnum, blank = row\n",
    "                #print(stormname)\n",
    "            \n",
    "            else:\n",
    "                date, hour, mph = row[0], row[1], row[6]\n",
    "                writer.writerow([stormname, date, hour, mph])\n",
    "                 "
   ]
  },
  {
   "cell_type": "markdown",
   "metadata": {
    "collapsed": true
   },
   "source": [
    "Now we get the max mph for each hurricane in 2005. "
   ]
  },
  {
   "cell_type": "code",
   "execution_count": 3,
   "metadata": {
    "collapsed": true
   },
   "outputs": [],
   "source": [
    "df = pandas.read_csv('../data/2005-hurricanes-formatted.csv')"
   ]
  },
  {
   "cell_type": "code",
   "execution_count": 4,
   "metadata": {
    "scrolled": true
   },
   "outputs": [
    {
     "data": {
      "text/plain": [
       "storm_name      ADRIAN\n",
       "date          20050519\n",
       "hour              1700\n",
       "mph                 70\n",
       "Name: 915, dtype: object"
      ]
     },
     "execution_count": 4,
     "metadata": {},
     "output_type": "execute_result"
    }
   ],
   "source": [
    "df.iloc[915]"
   ]
  },
  {
   "cell_type": "code",
   "execution_count": 5,
   "metadata": {},
   "outputs": [
    {
     "data": {
      "text/plain": [
       "True"
      ]
     },
     "execution_count": 5,
     "metadata": {},
     "output_type": "execute_result"
    }
   ],
   "source": [
    "# Take note of this 🐼 witchcraft!!!\n",
    "max_mph = df.iloc[df.groupby('storm_name').mph.idxmax()]\n",
    "len(max_mph) == len(set(df.storm_name)) # test to make sure you got the correct max"
   ]
  },
  {
   "cell_type": "markdown",
   "metadata": {},
   "source": [
    "Format date"
   ]
  },
  {
   "cell_type": "code",
   "execution_count": 6,
   "metadata": {},
   "outputs": [
    {
     "name": "stderr",
     "output_type": "stream",
     "text": [
      "/usr/local/lib/python3.6/site-packages/ipykernel_launcher.py:2: SettingWithCopyWarning: \n",
      "A value is trying to be set on a copy of a slice from a DataFrame.\n",
      "Try using .loc[row_indexer,col_indexer] = value instead\n",
      "\n",
      "See the caveats in the documentation: http://pandas.pydata.org/pandas-docs/stable/indexing.html#indexing-view-versus-copy\n",
      "  \n"
     ]
    }
   ],
   "source": [
    "# fill zeroes\n",
    "max_mph['timestr'] = max_mph.hour.apply(lambda x: str(x).zfill(4))"
   ]
  },
  {
   "cell_type": "code",
   "execution_count": 7,
   "metadata": {},
   "outputs": [
    {
     "name": "stderr",
     "output_type": "stream",
     "text": [
      "/usr/local/lib/python3.6/site-packages/ipykernel_launcher.py:1: SettingWithCopyWarning: \n",
      "A value is trying to be set on a copy of a slice from a DataFrame.\n",
      "Try using .loc[row_indexer,col_indexer] = value instead\n",
      "\n",
      "See the caveats in the documentation: http://pandas.pydata.org/pandas-docs/stable/indexing.html#indexing-view-versus-copy\n",
      "  \"\"\"Entry point for launching an IPython kernel.\n"
     ]
    }
   ],
   "source": [
    "max_mph['datetime'] = pandas.to_datetime(max_mph.apply(lambda x: str(x['date']) + x['timestr'], axis=1), format=\"%Y%m%d%H%M\")"
   ]
  },
  {
   "cell_type": "code",
   "execution_count": 8,
   "metadata": {},
   "outputs": [
    {
     "data": {
      "text/html": [
       "<div>\n",
       "<style>\n",
       "    .dataframe thead tr:only-child th {\n",
       "        text-align: right;\n",
       "    }\n",
       "\n",
       "    .dataframe thead th {\n",
       "        text-align: left;\n",
       "    }\n",
       "\n",
       "    .dataframe tbody tr th {\n",
       "        vertical-align: top;\n",
       "    }\n",
       "</style>\n",
       "<table border=\"1\" class=\"dataframe\">\n",
       "  <thead>\n",
       "    <tr style=\"text-align: right;\">\n",
       "      <th></th>\n",
       "      <th>storm_name</th>\n",
       "      <th>date</th>\n",
       "      <th>hour</th>\n",
       "      <th>mph</th>\n",
       "      <th>timestr</th>\n",
       "      <th>datetime</th>\n",
       "    </tr>\n",
       "  </thead>\n",
       "  <tbody>\n",
       "    <tr>\n",
       "      <th>915</th>\n",
       "      <td>ADRIAN</td>\n",
       "      <td>20050519</td>\n",
       "      <td>1700</td>\n",
       "      <td>70</td>\n",
       "      <td>1700</td>\n",
       "      <td>2005-05-19 17:00:00</td>\n",
       "    </tr>\n",
       "    <tr>\n",
       "      <th>754</th>\n",
       "      <td>ALPHA</td>\n",
       "      <td>20051023</td>\n",
       "      <td>0</td>\n",
       "      <td>45</td>\n",
       "      <td>0000</td>\n",
       "      <td>2005-10-23 00:00:00</td>\n",
       "    </tr>\n",
       "    <tr>\n",
       "      <th>10</th>\n",
       "      <td>ARLENE</td>\n",
       "      <td>20050611</td>\n",
       "      <td>0</td>\n",
       "      <td>60</td>\n",
       "      <td>0000</td>\n",
       "      <td>2005-06-11 00:00:00</td>\n",
       "    </tr>\n",
       "    <tr>\n",
       "      <th>928</th>\n",
       "      <td>BEATRIZ</td>\n",
       "      <td>20050623</td>\n",
       "      <td>0</td>\n",
       "      <td>45</td>\n",
       "      <td>0000</td>\n",
       "      <td>2005-06-23 00:00:00</td>\n",
       "    </tr>\n",
       "    <tr>\n",
       "      <th>777</th>\n",
       "      <td>BETA</td>\n",
       "      <td>20051030</td>\n",
       "      <td>600</td>\n",
       "      <td>100</td>\n",
       "      <td>0600</td>\n",
       "      <td>2005-10-30 06:00:00</td>\n",
       "    </tr>\n",
       "  </tbody>\n",
       "</table>\n",
       "</div>"
      ],
      "text/plain": [
       "    storm_name      date  hour  mph timestr            datetime\n",
       "915     ADRIAN  20050519  1700   70    1700 2005-05-19 17:00:00\n",
       "754      ALPHA  20051023     0   45    0000 2005-10-23 00:00:00\n",
       "10      ARLENE  20050611     0   60    0000 2005-06-11 00:00:00\n",
       "928    BEATRIZ  20050623     0   45    0000 2005-06-23 00:00:00\n",
       "777       BETA  20051030   600  100    0600 2005-10-30 06:00:00"
      ]
     },
     "execution_count": 8,
     "metadata": {},
     "output_type": "execute_result"
    }
   ],
   "source": [
    "max_mph.head()"
   ]
  },
  {
   "cell_type": "code",
   "execution_count": 9,
   "metadata": {},
   "outputs": [
    {
     "name": "stdout",
     "output_type": "stream",
     "text": [
      "2005-12-31 06:00:00\n",
      "2005-05-19 17:00:00\n"
     ]
    }
   ],
   "source": [
    "print(max_mph.datetime.max())\n",
    "print(max_mph.datetime.min())"
   ]
  },
  {
   "cell_type": "code",
   "execution_count": 10,
   "metadata": {},
   "outputs": [],
   "source": [
    "max_mph = max_mph.sort_values('datetime')"
   ]
  },
  {
   "cell_type": "code",
   "execution_count": 11,
   "metadata": {},
   "outputs": [],
   "source": [
    "max_mph.to_csv('../data/2005-hurricanes-maxspeed.csv')"
   ]
  },
  {
   "cell_type": "markdown",
   "metadata": {},
   "source": [
    "## Chart data "
   ]
  },
  {
   "cell_type": "code",
   "execution_count": 12,
   "metadata": {
    "scrolled": true
   },
   "outputs": [
    {
     "data": {
      "text/plain": [
       "<matplotlib.text.Text at 0x10a853cc0>"
      ]
     },
     "execution_count": 12,
     "metadata": {},
     "output_type": "execute_result"
    },
    {
     "data": {
      "image/png": "[encoded data removed]",
      "text/plain": [
       "<matplotlib.figure.Figure at 0x1051177f0>"
      ]
     },
     "metadata": {},
     "output_type": "display_data"
    }
   ],
   "source": [
    "max_mph[['datetime','mph']].plot(kind='bar')\n",
    "plt.title('2005 Hurricane season')"
   ]
  },
  {
   "cell_type": "code",
   "execution_count": 13,
   "metadata": {},
   "outputs": [
    {
     "data": {
      "text/plain": [
       "48"
      ]
     },
     "execution_count": 13,
     "metadata": {},
     "output_type": "execute_result"
    }
   ],
   "source": [
    "len(max_mph)"
   ]
  },
  {
   "cell_type": "code",
   "execution_count": 14,
   "metadata": {},
   "outputs": [
    {
     "data": {
      "text/html": [
       "<div>\n",
       "<style>\n",
       "    .dataframe thead tr:only-child th {\n",
       "        text-align: right;\n",
       "    }\n",
       "\n",
       "    .dataframe thead th {\n",
       "        text-align: left;\n",
       "    }\n",
       "\n",
       "    .dataframe tbody tr th {\n",
       "        vertical-align: top;\n",
       "    }\n",
       "</style>\n",
       "<table border=\"1\" class=\"dataframe\">\n",
       "  <thead>\n",
       "    <tr style=\"text-align: right;\">\n",
       "      <th></th>\n",
       "      <th>datetime</th>\n",
       "      <th>mph</th>\n",
       "    </tr>\n",
       "  </thead>\n",
       "  <tbody>\n",
       "    <tr>\n",
       "      <th>915</th>\n",
       "      <td>2005-05-19 17:00:00</td>\n",
       "      <td>70</td>\n",
       "    </tr>\n",
       "    <tr>\n",
       "      <th>10</th>\n",
       "      <td>2005-06-11 00:00:00</td>\n",
       "      <td>60</td>\n",
       "    </tr>\n",
       "    <tr>\n",
       "      <th>928</th>\n",
       "      <td>2005-06-23 00:00:00</td>\n",
       "      <td>45</td>\n",
       "    </tr>\n",
       "    <tr>\n",
       "      <th>947</th>\n",
       "      <td>2005-06-27 12:00:00</td>\n",
       "      <td>45</td>\n",
       "    </tr>\n",
       "    <tr>\n",
       "      <th>27</th>\n",
       "      <td>2005-06-28 22:35:00</td>\n",
       "      <td>35</td>\n",
       "    </tr>\n",
       "    <tr>\n",
       "      <th>974</th>\n",
       "      <td>2005-07-04 12:00:00</td>\n",
       "      <td>40</td>\n",
       "    </tr>\n",
       "    <tr>\n",
       "      <th>43</th>\n",
       "      <td>2005-07-06 00:00:00</td>\n",
       "      <td>65</td>\n",
       "    </tr>\n",
       "    <tr>\n",
       "      <th>84</th>\n",
       "      <td>2005-07-08 12:00:00</td>\n",
       "      <td>130</td>\n",
       "    </tr>\n",
       "    <tr>\n",
       "      <th>151</th>\n",
       "      <td>2005-07-17 00:00:00</td>\n",
       "      <td>140</td>\n",
       "    </tr>\n",
       "    <tr>\n",
       "      <th>990</th>\n",
       "      <td>2005-07-19 18:00:00</td>\n",
       "      <td>60</td>\n",
       "    </tr>\n",
       "    <tr>\n",
       "      <th>178</th>\n",
       "      <td>2005-07-23 12:00:00</td>\n",
       "      <td>60</td>\n",
       "    </tr>\n",
       "    <tr>\n",
       "      <th>214</th>\n",
       "      <td>2005-07-25 00:00:00</td>\n",
       "      <td>40</td>\n",
       "    </tr>\n",
       "    <tr>\n",
       "      <th>1003</th>\n",
       "      <td>2005-08-03 18:00:00</td>\n",
       "      <td>25</td>\n",
       "    </tr>\n",
       "    <tr>\n",
       "      <th>226</th>\n",
       "      <td>2005-08-04 18:00:00</td>\n",
       "      <td>55</td>\n",
       "    </tr>\n",
       "    <tr>\n",
       "      <th>1045</th>\n",
       "      <td>2005-08-12 00:00:00</td>\n",
       "      <td>45</td>\n",
       "    </tr>\n",
       "    <tr>\n",
       "      <th>1020</th>\n",
       "      <td>2005-08-12 06:00:00</td>\n",
       "      <td>75</td>\n",
       "    </tr>\n",
       "    <tr>\n",
       "      <th>321</th>\n",
       "      <td>2005-08-13 18:00:00</td>\n",
       "      <td>30</td>\n",
       "    </tr>\n",
       "    <tr>\n",
       "      <th>312</th>\n",
       "      <td>2005-08-16 18:00:00</td>\n",
       "      <td>90</td>\n",
       "    </tr>\n",
       "    <tr>\n",
       "      <th>1070</th>\n",
       "      <td>2005-08-22 00:00:00</td>\n",
       "      <td>90</td>\n",
       "    </tr>\n",
       "    <tr>\n",
       "      <th>344</th>\n",
       "      <td>2005-08-23 03:30:00</td>\n",
       "      <td>50</td>\n",
       "    </tr>\n",
       "    <tr>\n",
       "      <th>1099</th>\n",
       "      <td>2005-08-26 12:00:00</td>\n",
       "      <td>45</td>\n",
       "    </tr>\n",
       "    <tr>\n",
       "      <th>368</th>\n",
       "      <td>2005-08-28 18:00:00</td>\n",
       "      <td>150</td>\n",
       "    </tr>\n",
       "    <tr>\n",
       "      <th>393</th>\n",
       "      <td>2005-08-31 12:00:00</td>\n",
       "      <td>35</td>\n",
       "    </tr>\n",
       "    <tr>\n",
       "      <th>425</th>\n",
       "      <td>2005-09-06 00:00:00</td>\n",
       "      <td>100</td>\n",
       "    </tr>\n",
       "    <tr>\n",
       "      <th>471</th>\n",
       "      <td>2005-09-09 00:00:00</td>\n",
       "      <td>80</td>\n",
       "    </tr>\n",
       "    <tr>\n",
       "      <th>508</th>\n",
       "      <td>2005-09-11 06:00:00</td>\n",
       "      <td>75</td>\n",
       "    </tr>\n",
       "    <tr>\n",
       "      <th>1248</th>\n",
       "      <td>2005-09-17 18:00:00</td>\n",
       "      <td>35</td>\n",
       "    </tr>\n",
       "    <tr>\n",
       "      <th>1197</th>\n",
       "      <td>2005-09-18 12:00:00</td>\n",
       "      <td>115</td>\n",
       "    </tr>\n",
       "    <tr>\n",
       "      <th>566</th>\n",
       "      <td>2005-09-20 00:00:00</td>\n",
       "      <td>70</td>\n",
       "    </tr>\n",
       "    <tr>\n",
       "      <th>1161</th>\n",
       "      <td>2005-09-20 00:00:00</td>\n",
       "      <td>110</td>\n",
       "    </tr>\n",
       "    <tr>\n",
       "      <th>1266</th>\n",
       "      <td>2005-09-20 12:00:00</td>\n",
       "      <td>70</td>\n",
       "    </tr>\n",
       "    <tr>\n",
       "      <th>601</th>\n",
       "      <td>2005-09-22 03:00:00</td>\n",
       "      <td>155</td>\n",
       "    </tr>\n",
       "    <tr>\n",
       "      <th>1282</th>\n",
       "      <td>2005-09-24 18:00:00</td>\n",
       "      <td>50</td>\n",
       "    </tr>\n",
       "    <tr>\n",
       "      <th>621</th>\n",
       "      <td>2005-09-30 18:00:00</td>\n",
       "      <td>30</td>\n",
       "    </tr>\n",
       "    <tr>\n",
       "      <th>1321</th>\n",
       "      <td>2005-10-01 06:00:00</td>\n",
       "      <td>90</td>\n",
       "    </tr>\n",
       "    <tr>\n",
       "      <th>642</th>\n",
       "      <td>2005-10-04 12:00:00</td>\n",
       "      <td>70</td>\n",
       "    </tr>\n",
       "    <tr>\n",
       "      <th>649</th>\n",
       "      <td>2005-10-04 18:00:00</td>\n",
       "      <td>45</td>\n",
       "    </tr>\n",
       "    <tr>\n",
       "      <th>655</th>\n",
       "      <td>2005-10-05 18:00:00</td>\n",
       "      <td>45</td>\n",
       "    </tr>\n",
       "    <tr>\n",
       "      <th>695</th>\n",
       "      <td>2005-10-09 18:00:00</td>\n",
       "      <td>65</td>\n",
       "    </tr>\n",
       "    <tr>\n",
       "      <th>680</th>\n",
       "      <td>2005-10-12 18:00:00</td>\n",
       "      <td>40</td>\n",
       "    </tr>\n",
       "    <tr>\n",
       "      <th>1339</th>\n",
       "      <td>2005-10-15 00:00:00</td>\n",
       "      <td>30</td>\n",
       "    </tr>\n",
       "    <tr>\n",
       "      <th>719</th>\n",
       "      <td>2005-10-19 12:00:00</td>\n",
       "      <td>160</td>\n",
       "    </tr>\n",
       "    <tr>\n",
       "      <th>754</th>\n",
       "      <td>2005-10-23 00:00:00</td>\n",
       "      <td>45</td>\n",
       "    </tr>\n",
       "    <tr>\n",
       "      <th>777</th>\n",
       "      <td>2005-10-30 06:00:00</td>\n",
       "      <td>100</td>\n",
       "    </tr>\n",
       "    <tr>\n",
       "      <th>803</th>\n",
       "      <td>2005-11-19 12:00:00</td>\n",
       "      <td>45</td>\n",
       "    </tr>\n",
       "    <tr>\n",
       "      <th>834</th>\n",
       "      <td>2005-11-24 12:00:00</td>\n",
       "      <td>60</td>\n",
       "    </tr>\n",
       "    <tr>\n",
       "      <th>880</th>\n",
       "      <td>2005-12-05 06:00:00</td>\n",
       "      <td>75</td>\n",
       "    </tr>\n",
       "    <tr>\n",
       "      <th>904</th>\n",
       "      <td>2005-12-31 06:00:00</td>\n",
       "      <td>50</td>\n",
       "    </tr>\n",
       "  </tbody>\n",
       "</table>\n",
       "</div>"
      ],
      "text/plain": [
       "                datetime  mph\n",
       "915  2005-05-19 17:00:00   70\n",
       "10   2005-06-11 00:00:00   60\n",
       "928  2005-06-23 00:00:00   45\n",
       "947  2005-06-27 12:00:00   45\n",
       "27   2005-06-28 22:35:00   35\n",
       "974  2005-07-04 12:00:00   40\n",
       "43   2005-07-06 00:00:00   65\n",
       "84   2005-07-08 12:00:00  130\n",
       "151  2005-07-17 00:00:00  140\n",
       "990  2005-07-19 18:00:00   60\n",
       "178  2005-07-23 12:00:00   60\n",
       "214  2005-07-25 00:00:00   40\n",
       "1003 2005-08-03 18:00:00   25\n",
       "226  2005-08-04 18:00:00   55\n",
       "1045 2005-08-12 00:00:00   45\n",
       "1020 2005-08-12 06:00:00   75\n",
       "321  2005-08-13 18:00:00   30\n",
       "312  2005-08-16 18:00:00   90\n",
       "1070 2005-08-22 00:00:00   90\n",
       "344  2005-08-23 03:30:00   50\n",
       "1099 2005-08-26 12:00:00   45\n",
       "368  2005-08-28 18:00:00  150\n",
       "393  2005-08-31 12:00:00   35\n",
       "425  2005-09-06 00:00:00  100\n",
       "471  2005-09-09 00:00:00   80\n",
       "508  2005-09-11 06:00:00   75\n",
       "1248 2005-09-17 18:00:00   35\n",
       "1197 2005-09-18 12:00:00  115\n",
       "566  2005-09-20 00:00:00   70\n",
       "1161 2005-09-20 00:00:00  110\n",
       "1266 2005-09-20 12:00:00   70\n",
       "601  2005-09-22 03:00:00  155\n",
       "1282 2005-09-24 18:00:00   50\n",
       "621  2005-09-30 18:00:00   30\n",
       "1321 2005-10-01 06:00:00   90\n",
       "642  2005-10-04 12:00:00   70\n",
       "649  2005-10-04 18:00:00   45\n",
       "655  2005-10-05 18:00:00   45\n",
       "695  2005-10-09 18:00:00   65\n",
       "680  2005-10-12 18:00:00   40\n",
       "1339 2005-10-15 00:00:00   30\n",
       "719  2005-10-19 12:00:00  160\n",
       "754  2005-10-23 00:00:00   45\n",
       "777  2005-10-30 06:00:00  100\n",
       "803  2005-11-19 12:00:00   45\n",
       "834  2005-11-24 12:00:00   60\n",
       "880  2005-12-05 06:00:00   75\n",
       "904  2005-12-31 06:00:00   50"
      ]
     },
     "execution_count": 14,
     "metadata": {},
     "output_type": "execute_result"
    }
   ],
   "source": [
    "max_mph[['datetime','mph']].head(48)"
   ]
  },
  {
   "cell_type": "code",
   "execution_count": 15,
   "metadata": {
    "collapsed": true
   },
   "outputs": [],
   "source": [
    "df = max_mph"
   ]
  },
  {
   "cell_type": "markdown",
   "metadata": {},
   "source": [
    "## MIDITime initialization"
   ]
  },
  {
   "cell_type": "markdown",
   "metadata": {},
   "source": [
    "Instantiate the class with a tempo (120bpm is the default), an output file destination, the number of seconds you want to represent a year in the final song (default is 5 sec/year), the base octave (C5 is middle C, so the default is 5, and how many octaves you want your output to range over (default is 1)."
   ]
  },
  {
   "cell_type": "code",
   "execution_count": 16,
   "metadata": {
    "collapsed": true
   },
   "outputs": [],
   "source": [
    "from miditime.miditime import MIDITime\n",
    "BPM = 120\n",
    "FILENAME = '../audio/2005-season-sonify.mid'\n",
    "SEC_PER_YEAR = 25\n",
    "BASE_OCTAVE = 5\n",
    "OCTAVES = 1\n",
    "\n",
    "mymidi = MIDITime(BPM,FILENAME, SEC_PER_YEAR, BASE_OCTAVE, OCTAVES)"
   ]
  },
  {
   "cell_type": "markdown",
   "metadata": {},
   "source": [
    "Convert your date/time data into an integer, like days since the epoch (Jan. 1, 1970). You can use the days_since_epoch() helper method, or not:"
   ]
  },
  {
   "cell_type": "code",
   "execution_count": 17,
   "metadata": {},
   "outputs": [],
   "source": [
    "df['epoched'] = df.datetime.apply(lambda x: mymidi.days_since_epoch(x))"
   ]
  },
  {
   "cell_type": "markdown",
   "metadata": {},
   "source": [
    "## We can't use beat helper, our data spans only 8 days\n",
    "\n",
    "Convert your integer date/time to something reasonable for a song. For example, at 120 beats per minute, you'll need to scale the data down a lot to avoid a very long song if your data spans years. This uses the seconds_per_year attribute you set at the top, so if your date is converted to something other than days you may need to do your own conversion. But if your dataset spans years and your dates are in days (with fractions is fine), use the beat() helper method."
   ]
  },
  {
   "cell_type": "code",
   "execution_count": 18,
   "metadata": {},
   "outputs": [],
   "source": [
    "df['beat'] = df['epoched'].apply(lambda x: mymidi.beat(x))"
   ]
  },
  {
   "cell_type": "code",
   "execution_count": 19,
   "metadata": {},
   "outputs": [
    {
     "name": "stdout",
     "output_type": "stream",
     "text": [
      "1769.02\n"
     ]
    }
   ],
   "source": [
    "START_TIME = df.beat.min() # beat doesn't start at 0 since we scaled our epoch seconds, so we just start at the first one.\n",
    "print(START_TIME)"
   ]
  },
  {
   "cell_type": "code",
   "execution_count": 20,
   "metadata": {},
   "outputs": [
    {
     "data": {
      "text/html": [
       "<div>\n",
       "<style>\n",
       "    .dataframe thead tr:only-child th {\n",
       "        text-align: right;\n",
       "    }\n",
       "\n",
       "    .dataframe thead th {\n",
       "        text-align: left;\n",
       "    }\n",
       "\n",
       "    .dataframe tbody tr th {\n",
       "        vertical-align: top;\n",
       "    }\n",
       "</style>\n",
       "<table border=\"1\" class=\"dataframe\">\n",
       "  <thead>\n",
       "    <tr style=\"text-align: right;\">\n",
       "      <th></th>\n",
       "      <th>storm_name</th>\n",
       "      <th>date</th>\n",
       "      <th>hour</th>\n",
       "      <th>mph</th>\n",
       "      <th>timestr</th>\n",
       "      <th>datetime</th>\n",
       "      <th>epoched</th>\n",
       "      <th>beat</th>\n",
       "    </tr>\n",
       "  </thead>\n",
       "  <tbody>\n",
       "    <tr>\n",
       "      <th>915</th>\n",
       "      <td>ADRIAN</td>\n",
       "      <td>20050519</td>\n",
       "      <td>1700</td>\n",
       "      <td>70</td>\n",
       "      <td>1700</td>\n",
       "      <td>2005-05-19 17:00:00</td>\n",
       "      <td>12922.708333</td>\n",
       "      <td>1769.02</td>\n",
       "    </tr>\n",
       "    <tr>\n",
       "      <th>10</th>\n",
       "      <td>ARLENE</td>\n",
       "      <td>20050611</td>\n",
       "      <td>0</td>\n",
       "      <td>60</td>\n",
       "      <td>0000</td>\n",
       "      <td>2005-06-11 00:00:00</td>\n",
       "      <td>12945.000000</td>\n",
       "      <td>1772.07</td>\n",
       "    </tr>\n",
       "    <tr>\n",
       "      <th>928</th>\n",
       "      <td>BEATRIZ</td>\n",
       "      <td>20050623</td>\n",
       "      <td>0</td>\n",
       "      <td>45</td>\n",
       "      <td>0000</td>\n",
       "      <td>2005-06-23 00:00:00</td>\n",
       "      <td>12957.000000</td>\n",
       "      <td>1773.72</td>\n",
       "    </tr>\n",
       "    <tr>\n",
       "      <th>947</th>\n",
       "      <td>CALVIN</td>\n",
       "      <td>20050627</td>\n",
       "      <td>1200</td>\n",
       "      <td>45</td>\n",
       "      <td>1200</td>\n",
       "      <td>2005-06-27 12:00:00</td>\n",
       "      <td>12961.500000</td>\n",
       "      <td>1774.33</td>\n",
       "    </tr>\n",
       "    <tr>\n",
       "      <th>27</th>\n",
       "      <td>BRET</td>\n",
       "      <td>20050628</td>\n",
       "      <td>2235</td>\n",
       "      <td>35</td>\n",
       "      <td>2235</td>\n",
       "      <td>2005-06-28 22:35:00</td>\n",
       "      <td>12962.940972</td>\n",
       "      <td>1774.53</td>\n",
       "    </tr>\n",
       "    <tr>\n",
       "      <th>974</th>\n",
       "      <td>DORA</td>\n",
       "      <td>20050704</td>\n",
       "      <td>1200</td>\n",
       "      <td>40</td>\n",
       "      <td>1200</td>\n",
       "      <td>2005-07-04 12:00:00</td>\n",
       "      <td>12968.500000</td>\n",
       "      <td>1775.29</td>\n",
       "    </tr>\n",
       "    <tr>\n",
       "      <th>43</th>\n",
       "      <td>CINDY</td>\n",
       "      <td>20050706</td>\n",
       "      <td>0</td>\n",
       "      <td>65</td>\n",
       "      <td>0000</td>\n",
       "      <td>2005-07-06 00:00:00</td>\n",
       "      <td>12970.000000</td>\n",
       "      <td>1775.50</td>\n",
       "    </tr>\n",
       "    <tr>\n",
       "      <th>84</th>\n",
       "      <td>DENNIS</td>\n",
       "      <td>20050708</td>\n",
       "      <td>1200</td>\n",
       "      <td>130</td>\n",
       "      <td>1200</td>\n",
       "      <td>2005-07-08 12:00:00</td>\n",
       "      <td>12972.500000</td>\n",
       "      <td>1775.84</td>\n",
       "    </tr>\n",
       "    <tr>\n",
       "      <th>151</th>\n",
       "      <td>EMILY</td>\n",
       "      <td>20050717</td>\n",
       "      <td>0</td>\n",
       "      <td>140</td>\n",
       "      <td>0000</td>\n",
       "      <td>2005-07-17 00:00:00</td>\n",
       "      <td>12981.000000</td>\n",
       "      <td>1777.00</td>\n",
       "    </tr>\n",
       "    <tr>\n",
       "      <th>990</th>\n",
       "      <td>EUGENE</td>\n",
       "      <td>20050719</td>\n",
       "      <td>1800</td>\n",
       "      <td>60</td>\n",
       "      <td>1800</td>\n",
       "      <td>2005-07-19 18:00:00</td>\n",
       "      <td>12983.750000</td>\n",
       "      <td>1777.38</td>\n",
       "    </tr>\n",
       "    <tr>\n",
       "      <th>178</th>\n",
       "      <td>FRANKLIN</td>\n",
       "      <td>20050723</td>\n",
       "      <td>1200</td>\n",
       "      <td>60</td>\n",
       "      <td>1200</td>\n",
       "      <td>2005-07-23 12:00:00</td>\n",
       "      <td>12987.500000</td>\n",
       "      <td>1777.89</td>\n",
       "    </tr>\n",
       "    <tr>\n",
       "      <th>214</th>\n",
       "      <td>GERT</td>\n",
       "      <td>20050725</td>\n",
       "      <td>0</td>\n",
       "      <td>40</td>\n",
       "      <td>0000</td>\n",
       "      <td>2005-07-25 00:00:00</td>\n",
       "      <td>12989.000000</td>\n",
       "      <td>1778.10</td>\n",
       "    </tr>\n",
       "    <tr>\n",
       "      <th>1003</th>\n",
       "      <td>ONE</td>\n",
       "      <td>20050803</td>\n",
       "      <td>1800</td>\n",
       "      <td>25</td>\n",
       "      <td>1800</td>\n",
       "      <td>2005-08-03 18:00:00</td>\n",
       "      <td>12998.750000</td>\n",
       "      <td>1779.43</td>\n",
       "    </tr>\n",
       "    <tr>\n",
       "      <th>226</th>\n",
       "      <td>HARVEY</td>\n",
       "      <td>20050804</td>\n",
       "      <td>1800</td>\n",
       "      <td>55</td>\n",
       "      <td>1800</td>\n",
       "      <td>2005-08-04 18:00:00</td>\n",
       "      <td>12999.750000</td>\n",
       "      <td>1779.57</td>\n",
       "    </tr>\n",
       "    <tr>\n",
       "      <th>1045</th>\n",
       "      <td>GREG</td>\n",
       "      <td>20050812</td>\n",
       "      <td>0</td>\n",
       "      <td>45</td>\n",
       "      <td>0000</td>\n",
       "      <td>2005-08-12 00:00:00</td>\n",
       "      <td>13007.000000</td>\n",
       "      <td>1780.56</td>\n",
       "    </tr>\n",
       "    <tr>\n",
       "      <th>1020</th>\n",
       "      <td>FERNANDA</td>\n",
       "      <td>20050812</td>\n",
       "      <td>600</td>\n",
       "      <td>75</td>\n",
       "      <td>0600</td>\n",
       "      <td>2005-08-12 06:00:00</td>\n",
       "      <td>13007.250000</td>\n",
       "      <td>1780.60</td>\n",
       "    </tr>\n",
       "    <tr>\n",
       "      <th>321</th>\n",
       "      <td>TEN</td>\n",
       "      <td>20050813</td>\n",
       "      <td>1800</td>\n",
       "      <td>30</td>\n",
       "      <td>1800</td>\n",
       "      <td>2005-08-13 18:00:00</td>\n",
       "      <td>13008.750000</td>\n",
       "      <td>1780.80</td>\n",
       "    </tr>\n",
       "    <tr>\n",
       "      <th>312</th>\n",
       "      <td>IRENE</td>\n",
       "      <td>20050816</td>\n",
       "      <td>1800</td>\n",
       "      <td>90</td>\n",
       "      <td>1800</td>\n",
       "      <td>2005-08-16 18:00:00</td>\n",
       "      <td>13011.750000</td>\n",
       "      <td>1781.21</td>\n",
       "    </tr>\n",
       "    <tr>\n",
       "      <th>1070</th>\n",
       "      <td>HILARY</td>\n",
       "      <td>20050822</td>\n",
       "      <td>0</td>\n",
       "      <td>90</td>\n",
       "      <td>0000</td>\n",
       "      <td>2005-08-22 00:00:00</td>\n",
       "      <td>13017.000000</td>\n",
       "      <td>1781.93</td>\n",
       "    </tr>\n",
       "    <tr>\n",
       "      <th>344</th>\n",
       "      <td>JOSE</td>\n",
       "      <td>20050823</td>\n",
       "      <td>330</td>\n",
       "      <td>50</td>\n",
       "      <td>0330</td>\n",
       "      <td>2005-08-23 03:30:00</td>\n",
       "      <td>13018.145833</td>\n",
       "      <td>1782.09</td>\n",
       "    </tr>\n",
       "    <tr>\n",
       "      <th>1099</th>\n",
       "      <td>IRWIN</td>\n",
       "      <td>20050826</td>\n",
       "      <td>1200</td>\n",
       "      <td>45</td>\n",
       "      <td>1200</td>\n",
       "      <td>2005-08-26 12:00:00</td>\n",
       "      <td>13021.500000</td>\n",
       "      <td>1782.55</td>\n",
       "    </tr>\n",
       "    <tr>\n",
       "      <th>368</th>\n",
       "      <td>KATRINA</td>\n",
       "      <td>20050828</td>\n",
       "      <td>1800</td>\n",
       "      <td>150</td>\n",
       "      <td>1800</td>\n",
       "      <td>2005-08-28 18:00:00</td>\n",
       "      <td>13023.750000</td>\n",
       "      <td>1782.85</td>\n",
       "    </tr>\n",
       "    <tr>\n",
       "      <th>393</th>\n",
       "      <td>LEE</td>\n",
       "      <td>20050831</td>\n",
       "      <td>1200</td>\n",
       "      <td>35</td>\n",
       "      <td>1200</td>\n",
       "      <td>2005-08-31 12:00:00</td>\n",
       "      <td>13026.500000</td>\n",
       "      <td>1783.23</td>\n",
       "    </tr>\n",
       "    <tr>\n",
       "      <th>425</th>\n",
       "      <td>MARIA</td>\n",
       "      <td>20050906</td>\n",
       "      <td>0</td>\n",
       "      <td>100</td>\n",
       "      <td>0000</td>\n",
       "      <td>2005-09-06 00:00:00</td>\n",
       "      <td>13032.000000</td>\n",
       "      <td>1783.98</td>\n",
       "    </tr>\n",
       "    <tr>\n",
       "      <th>471</th>\n",
       "      <td>NATE</td>\n",
       "      <td>20050909</td>\n",
       "      <td>0</td>\n",
       "      <td>80</td>\n",
       "      <td>0000</td>\n",
       "      <td>2005-09-09 00:00:00</td>\n",
       "      <td>13035.000000</td>\n",
       "      <td>1784.39</td>\n",
       "    </tr>\n",
       "    <tr>\n",
       "      <th>508</th>\n",
       "      <td>OPHELIA</td>\n",
       "      <td>20050911</td>\n",
       "      <td>600</td>\n",
       "      <td>75</td>\n",
       "      <td>0600</td>\n",
       "      <td>2005-09-11 06:00:00</td>\n",
       "      <td>13037.250000</td>\n",
       "      <td>1784.70</td>\n",
       "    </tr>\n",
       "    <tr>\n",
       "      <th>1248</th>\n",
       "      <td>LIDIA</td>\n",
       "      <td>20050917</td>\n",
       "      <td>1800</td>\n",
       "      <td>35</td>\n",
       "      <td>1800</td>\n",
       "      <td>2005-09-17 18:00:00</td>\n",
       "      <td>13043.750000</td>\n",
       "      <td>1785.59</td>\n",
       "    </tr>\n",
       "    <tr>\n",
       "      <th>1197</th>\n",
       "      <td>KENNETH</td>\n",
       "      <td>20050918</td>\n",
       "      <td>1200</td>\n",
       "      <td>115</td>\n",
       "      <td>1200</td>\n",
       "      <td>2005-09-18 12:00:00</td>\n",
       "      <td>13044.500000</td>\n",
       "      <td>1785.69</td>\n",
       "    </tr>\n",
       "    <tr>\n",
       "      <th>566</th>\n",
       "      <td>PHILIPPE</td>\n",
       "      <td>20050920</td>\n",
       "      <td>0</td>\n",
       "      <td>70</td>\n",
       "      <td>0000</td>\n",
       "      <td>2005-09-20 00:00:00</td>\n",
       "      <td>13046.000000</td>\n",
       "      <td>1785.90</td>\n",
       "    </tr>\n",
       "    <tr>\n",
       "      <th>1161</th>\n",
       "      <td>JOVA</td>\n",
       "      <td>20050920</td>\n",
       "      <td>0</td>\n",
       "      <td>110</td>\n",
       "      <td>0000</td>\n",
       "      <td>2005-09-20 00:00:00</td>\n",
       "      <td>13046.000000</td>\n",
       "      <td>1785.90</td>\n",
       "    </tr>\n",
       "    <tr>\n",
       "      <th>1266</th>\n",
       "      <td>MAX</td>\n",
       "      <td>20050920</td>\n",
       "      <td>1200</td>\n",
       "      <td>70</td>\n",
       "      <td>1200</td>\n",
       "      <td>2005-09-20 12:00:00</td>\n",
       "      <td>13046.500000</td>\n",
       "      <td>1785.97</td>\n",
       "    </tr>\n",
       "    <tr>\n",
       "      <th>601</th>\n",
       "      <td>RITA</td>\n",
       "      <td>20050922</td>\n",
       "      <td>300</td>\n",
       "      <td>155</td>\n",
       "      <td>0300</td>\n",
       "      <td>2005-09-22 03:00:00</td>\n",
       "      <td>13048.125000</td>\n",
       "      <td>1786.19</td>\n",
       "    </tr>\n",
       "    <tr>\n",
       "      <th>1282</th>\n",
       "      <td>NORMA</td>\n",
       "      <td>20050924</td>\n",
       "      <td>1800</td>\n",
       "      <td>50</td>\n",
       "      <td>1800</td>\n",
       "      <td>2005-09-24 18:00:00</td>\n",
       "      <td>13050.750000</td>\n",
       "      <td>1786.55</td>\n",
       "    </tr>\n",
       "    <tr>\n",
       "      <th>621</th>\n",
       "      <td>NINETEEN</td>\n",
       "      <td>20050930</td>\n",
       "      <td>1800</td>\n",
       "      <td>30</td>\n",
       "      <td>1800</td>\n",
       "      <td>2005-09-30 18:00:00</td>\n",
       "      <td>13056.750000</td>\n",
       "      <td>1787.37</td>\n",
       "    </tr>\n",
       "  </tbody>\n",
       "</table>\n",
       "</div>"
      ],
      "text/plain": [
       "     storm_name      date  hour  mph timestr            datetime  \\\n",
       "915      ADRIAN  20050519  1700   70    1700 2005-05-19 17:00:00   \n",
       "10       ARLENE  20050611     0   60    0000 2005-06-11 00:00:00   \n",
       "928     BEATRIZ  20050623     0   45    0000 2005-06-23 00:00:00   \n",
       "947      CALVIN  20050627  1200   45    1200 2005-06-27 12:00:00   \n",
       "27         BRET  20050628  2235   35    2235 2005-06-28 22:35:00   \n",
       "974        DORA  20050704  1200   40    1200 2005-07-04 12:00:00   \n",
       "43        CINDY  20050706     0   65    0000 2005-07-06 00:00:00   \n",
       "84       DENNIS  20050708  1200  130    1200 2005-07-08 12:00:00   \n",
       "151       EMILY  20050717     0  140    0000 2005-07-17 00:00:00   \n",
       "990      EUGENE  20050719  1800   60    1800 2005-07-19 18:00:00   \n",
       "178    FRANKLIN  20050723  1200   60    1200 2005-07-23 12:00:00   \n",
       "214        GERT  20050725     0   40    0000 2005-07-25 00:00:00   \n",
       "1003        ONE  20050803  1800   25    1800 2005-08-03 18:00:00   \n",
       "226      HARVEY  20050804  1800   55    1800 2005-08-04 18:00:00   \n",
       "1045       GREG  20050812     0   45    0000 2005-08-12 00:00:00   \n",
       "1020   FERNANDA  20050812   600   75    0600 2005-08-12 06:00:00   \n",
       "321         TEN  20050813  1800   30    1800 2005-08-13 18:00:00   \n",
       "312       IRENE  20050816  1800   90    1800 2005-08-16 18:00:00   \n",
       "1070     HILARY  20050822     0   90    0000 2005-08-22 00:00:00   \n",
       "344        JOSE  20050823   330   50    0330 2005-08-23 03:30:00   \n",
       "1099      IRWIN  20050826  1200   45    1200 2005-08-26 12:00:00   \n",
       "368     KATRINA  20050828  1800  150    1800 2005-08-28 18:00:00   \n",
       "393         LEE  20050831  1200   35    1200 2005-08-31 12:00:00   \n",
       "425       MARIA  20050906     0  100    0000 2005-09-06 00:00:00   \n",
       "471        NATE  20050909     0   80    0000 2005-09-09 00:00:00   \n",
       "508     OPHELIA  20050911   600   75    0600 2005-09-11 06:00:00   \n",
       "1248      LIDIA  20050917  1800   35    1800 2005-09-17 18:00:00   \n",
       "1197    KENNETH  20050918  1200  115    1200 2005-09-18 12:00:00   \n",
       "566    PHILIPPE  20050920     0   70    0000 2005-09-20 00:00:00   \n",
       "1161       JOVA  20050920     0  110    0000 2005-09-20 00:00:00   \n",
       "1266        MAX  20050920  1200   70    1200 2005-09-20 12:00:00   \n",
       "601        RITA  20050922   300  155    0300 2005-09-22 03:00:00   \n",
       "1282      NORMA  20050924  1800   50    1800 2005-09-24 18:00:00   \n",
       "621    NINETEEN  20050930  1800   30    1800 2005-09-30 18:00:00   \n",
       "\n",
       "           epoched     beat  \n",
       "915   12922.708333  1769.02  \n",
       "10    12945.000000  1772.07  \n",
       "928   12957.000000  1773.72  \n",
       "947   12961.500000  1774.33  \n",
       "27    12962.940972  1774.53  \n",
       "974   12968.500000  1775.29  \n",
       "43    12970.000000  1775.50  \n",
       "84    12972.500000  1775.84  \n",
       "151   12981.000000  1777.00  \n",
       "990   12983.750000  1777.38  \n",
       "178   12987.500000  1777.89  \n",
       "214   12989.000000  1778.10  \n",
       "1003  12998.750000  1779.43  \n",
       "226   12999.750000  1779.57  \n",
       "1045  13007.000000  1780.56  \n",
       "1020  13007.250000  1780.60  \n",
       "321   13008.750000  1780.80  \n",
       "312   13011.750000  1781.21  \n",
       "1070  13017.000000  1781.93  \n",
       "344   13018.145833  1782.09  \n",
       "1099  13021.500000  1782.55  \n",
       "368   13023.750000  1782.85  \n",
       "393   13026.500000  1783.23  \n",
       "425   13032.000000  1783.98  \n",
       "471   13035.000000  1784.39  \n",
       "508   13037.250000  1784.70  \n",
       "1248  13043.750000  1785.59  \n",
       "1197  13044.500000  1785.69  \n",
       "566   13046.000000  1785.90  \n",
       "1161  13046.000000  1785.90  \n",
       "1266  13046.500000  1785.97  \n",
       "601   13048.125000  1786.19  \n",
       "1282  13050.750000  1786.55  \n",
       "621   13056.750000  1787.37  "
      ]
     },
     "execution_count": 20,
     "metadata": {},
     "output_type": "execute_result"
    }
   ],
   "source": [
    "df.head(34)"
   ]
  },
  {
   "cell_type": "code",
   "execution_count": 21,
   "metadata": {},
   "outputs": [
    {
     "name": "stdout",
     "output_type": "stream",
     "text": [
      "25 160\n"
     ]
    }
   ],
   "source": [
    "MAX = df.mph.max()\n",
    "MIN = df.mph.min()\n",
    "print(MIN,MAX)"
   ]
  },
  {
   "cell_type": "markdown",
   "metadata": {},
   "source": [
    "## Create scale from mph "
   ]
  },
  {
   "cell_type": "markdown",
   "metadata": {},
   "source": [
    "Use linear scale."
   ]
  },
  {
   "cell_type": "code",
   "execution_count": 22,
   "metadata": {
    "collapsed": true
   },
   "outputs": [],
   "source": [
    "def mag_to_pitch_tuned(mph):\n",
    "    # Where does this data point sit in the domain of your data? (I.E. the min mph is 3, the max in 5.6). In this case the optional 'True' means the scale is reversed, so the highest value will return the lowest percentage.\n",
    "    #scale_pct = mymidi.linear_scale_pct(MIN, MAX, mph)\n",
    "\n",
    "    # Another option: Linear scale, reverse order\n",
    "    scale_pct = mymidi.linear_scale_pct(MIN, MAX, mph, True)\n",
    "\n",
    "    # Another option: Logarithmic scale, reverse order\n",
    "    #scale_pct = mymidi.log_scale_pct(MIN, MAX, mph, True)\n",
    "\n",
    "    # Pick a range of notes. This allows you to play in a key.\n",
    "    c_major = ['C', 'D', 'E', 'F', 'G', 'A', 'B']\n",
    "\n",
    "    #Find the note that matches your data point\n",
    "    note = mymidi.scale_to_note(scale_pct, c_major)\n",
    "\n",
    "    #Translate that note to a MIDI pitch\n",
    "    midi_pitch = mymidi.note_to_midi_pitch(note)\n",
    "\n",
    "    return midi_pitch\n"
   ]
  },
  {
   "cell_type": "code",
   "execution_count": 23,
   "metadata": {
    "collapsed": true
   },
   "outputs": [],
   "source": [
    "df['pitch'] = df.mph.apply(lambda x: mag_to_pitch_tuned(x))"
   ]
  },
  {
   "cell_type": "markdown",
   "metadata": {},
   "source": [
    " ### Let's also make larger mph louder."
   ]
  },
  {
   "cell_type": "code",
   "execution_count": 24,
   "metadata": {
    "collapsed": true
   },
   "outputs": [],
   "source": [
    "MIN_V = 25\n",
    "MAX_V = 150\n",
    "df['velocity'] = df.mph.apply(lambda x: int(np.interp(x, [MIN,MAX], [25, 150])))"
   ]
  },
  {
   "cell_type": "code",
   "execution_count": 25,
   "metadata": {},
   "outputs": [
    {
     "data": {
      "text/plain": [
       "915      66\n",
       "10       57\n",
       "928      43\n",
       "947      43\n",
       "27       34\n",
       "974      38\n",
       "43       62\n",
       "84      122\n",
       "151     131\n",
       "990      57\n",
       "178      57\n",
       "214      38\n",
       "1003     25\n",
       "226      52\n",
       "1045     43\n",
       "1020     71\n",
       "321      29\n",
       "312      85\n",
       "1070     85\n",
       "344      48\n",
       "1099     43\n",
       "368     140\n",
       "393      34\n",
       "425      94\n",
       "471      75\n",
       "508      71\n",
       "1248     34\n",
       "1197    108\n",
       "566      66\n",
       "1161    103\n",
       "1266     66\n",
       "601     145\n",
       "1282     48\n",
       "621      29\n",
       "1321     85\n",
       "642      66\n",
       "649      43\n",
       "655      43\n",
       "695      62\n",
       "680      38\n",
       "1339     29\n",
       "719     150\n",
       "754      43\n",
       "777      94\n",
       "803      43\n",
       "834      57\n",
       "880      71\n",
       "904      48\n",
       "Name: velocity, dtype: int64"
      ]
     },
     "execution_count": 25,
     "metadata": {},
     "output_type": "execute_result"
    }
   ],
   "source": [
    "df.velocity\n"
   ]
  },
  {
   "cell_type": "markdown",
   "metadata": {},
   "source": [
    "## Build note list\n",
    "- I know you're not supposed to iterate through a dataframe — but it's pretty small and manegable.\n",
    "- [BEAT, PITCH, VELOCITY (VOLUME), DURATION_OF_NOTE]"
   ]
  },
  {
   "cell_type": "code",
   "execution_count": 26,
   "metadata": {
    "collapsed": true
   },
   "outputs": [],
   "source": [
    "scaled_data = df.to_dict('records')"
   ]
  },
  {
   "cell_type": "code",
   "execution_count": 27,
   "metadata": {
    "collapsed": true
   },
   "outputs": [],
   "source": [
    "note_list = []  \n",
    "#V = 100 # constant for now\n",
    "D = 1 # duration constant for now\n",
    "\n",
    "for d in scaled_data:\n",
    "    beat = d['beat'] - START_TIME\n",
    "    pitch = 71 #d['pitch']\n",
    "    velocity = d['velocity']\n",
    "    duration = D\n",
    "    note_list.append([beat, pitch, velocity, duration])\n"
   ]
  },
  {
   "cell_type": "code",
   "execution_count": 28,
   "metadata": {},
   "outputs": [
    {
     "data": {
      "text/plain": [
       "[[0.0, 67, 66, 1],\n",
       " [3.0499999999999545, 69, 57, 1],\n",
       " [4.7000000000000455, 69, 43, 1],\n",
       " [5.3099999999999454, 69, 43, 1],\n",
       " [5.5099999999999909, 71, 34, 1],\n",
       " [6.2699999999999818, 71, 38, 1],\n",
       " [6.4800000000000182, 67, 62, 1],\n",
       " [6.8199999999999363, 62, 122, 1],\n",
       " [7.9800000000000182, 62, 131, 1],\n",
       " [8.3600000000001273, 69, 57, 1],\n",
       " [8.8700000000001182, 69, 57, 1],\n",
       " [9.0799999999999272, 71, 38, 1],\n",
       " [10.410000000000082, 71, 25, 1],\n",
       " [10.549999999999955, 69, 52, 1],\n",
       " [11.539999999999964, 69, 43, 1],\n",
       " [11.579999999999927, 67, 71, 1],\n",
       " [11.779999999999973, 71, 29, 1],\n",
       " [12.190000000000055, 65, 85, 1],\n",
       " [12.910000000000082, 65, 85, 1],\n",
       " [13.069999999999936, 69, 48, 1],\n",
       " [13.529999999999973, 69, 43, 1],\n",
       " [13.829999999999927, 60, 140, 1],\n",
       " [14.210000000000036, 71, 34, 1],\n",
       " [14.960000000000036, 65, 94, 1],\n",
       " [15.370000000000118, 67, 75, 1],\n",
       " [15.680000000000064, 67, 71, 1],\n",
       " [16.569999999999936, 71, 34, 1],\n",
       " [16.670000000000073, 64, 108, 1],\n",
       " [16.880000000000109, 67, 66, 1],\n",
       " [16.880000000000109, 64, 103, 1],\n",
       " [16.950000000000045, 67, 66, 1],\n",
       " [17.170000000000073, 60, 145, 1],\n",
       " [17.529999999999973, 69, 48, 1],\n",
       " [18.349999999999909, 71, 29, 1],\n",
       " [18.420000000000073, 65, 85, 1],\n",
       " [18.870000000000118, 67, 66, 1],\n",
       " [18.900000000000091, 69, 43, 1],\n",
       " [19.039999999999964, 69, 43, 1],\n",
       " [19.579999999999927, 67, 62, 1],\n",
       " [19.990000000000009, 71, 38, 1],\n",
       " [20.299999999999955, 71, 29, 1],\n",
       " [20.920000000000073, 60, 150, 1],\n",
       " [21.400000000000091, 69, 43, 1],\n",
       " [22.3900000000001, 65, 94, 1],\n",
       " [25.160000000000082, 69, 43, 1],\n",
       " [25.849999999999909, 69, 57, 1],\n",
       " [27.319999999999936, 67, 71, 1],\n",
       " [30.880000000000109, 69, 48, 1]]"
      ]
     },
     "execution_count": 28,
     "metadata": {},
     "output_type": "execute_result"
    }
   ],
   "source": [
    "note_list"
   ]
  },
  {
   "cell_type": "markdown",
   "metadata": {},
   "source": [
    "## Make MIDI file"
   ]
  },
  {
   "cell_type": "code",
   "execution_count": 29,
   "metadata": {},
   "outputs": [
    {
     "name": "stdout",
     "output_type": "stream",
     "text": [
      "67 0.0 1 66\n",
      "69 3.05 1 57\n",
      "69 4.7 1 43\n",
      "69 5.31 1 43\n",
      "71 5.51 1 34\n",
      "71 6.27 1 38\n",
      "67 6.48 1 62\n",
      "62 6.82 1 122\n",
      "62 7.98 1 131\n",
      "69 8.36 1 57\n",
      "69 8.87 1 57\n",
      "71 9.08 1 38\n",
      "71 10.41 1 25\n",
      "69 10.55 1 52\n",
      "69 11.54 1 43\n",
      "67 11.58 1 71\n",
      "71 11.78 1 29\n",
      "65 12.19 1 85\n",
      "65 12.91 1 85\n",
      "69 13.07 1 48\n",
      "69 13.53 1 43\n",
      "60 13.83 1 140\n",
      "71 14.21 1 34\n",
      "65 14.96 1 94\n",
      "67 15.37 1 75\n",
      "67 15.68 1 71\n",
      "71 16.57 1 34\n",
      "64 16.67 1 108\n",
      "67 16.88 1 66\n",
      "64 16.88 1 103\n",
      "67 16.95 1 66\n",
      "60 17.17 1 145\n",
      "69 17.53 1 48\n",
      "71 18.35 1 29\n",
      "65 18.42 1 85\n",
      "67 18.87 1 66\n",
      "69 18.9 1 43\n",
      "69 19.04 1 43\n",
      "67 19.58 1 62\n",
      "71 19.99 1 38\n",
      "71 20.3 1 29\n",
      "60 20.92 1 150\n",
      "69 21.4 1 43\n",
      "65 22.39 1 94\n",
      "69 25.16 1 43\n",
      "69 25.85 1 57\n",
      "67 27.32 1 71\n",
      "69 30.88 1 48\n"
     ]
    }
   ],
   "source": [
    "# Add a track with those notes\n",
    "mymidi.add_track(note_list)\n",
    "\n",
    "# Output the .mid file\n",
    "mymidi.save_midi()"
   ]
  },
  {
   "cell_type": "code",
   "execution_count": null,
   "metadata": {
    "collapsed": true
   },
   "outputs": [],
   "source": []
  },
  {
   "cell_type": "code",
   "execution_count": null,
   "metadata": {
    "collapsed": true
   },
   "outputs": [],
   "source": []
  },
  {
   "cell_type": "code",
   "execution_count": null,
   "metadata": {
    "collapsed": true
   },
   "outputs": [],
   "source": []
  }
 ],
 "metadata": {
  "kernelspec": {
   "display_name": "Python 3",
   "language": "python",
   "name": "python3"
  },
  "language_info": {
   "codemirror_mode": {
    "name": "ipython",
    "version": 3
   },
   "file_extension": ".py",
   "mimetype": "text/x-python",
   "name": "python",
   "nbconvert_exporter": "python",
   "pygments_lexer": "ipython3",
   "version": "3.6.1"
  }
 },
 "nbformat": 4,
 "nbformat_minor": 2
}
