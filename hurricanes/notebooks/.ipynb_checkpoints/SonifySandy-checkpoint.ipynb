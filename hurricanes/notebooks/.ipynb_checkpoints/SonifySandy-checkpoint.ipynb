{
 "cells": [
  {
   "cell_type": "code",
   "execution_count": 2,
   "metadata": {
    "collapsed": true
   },
   "outputs": [],
   "source": [
    "# My usual setup\n",
    "%matplotlib inline\n",
    "import matplotlib.pyplot as plt\n",
    "import pandas \n",
    "from datetime import datetime\n",
    "import seaborn as sns\n",
    "import glob\n",
    "from os.path import basename\n",
    "sns.set_context('poster') \n",
    "import numpy as np"
   ]
  },
  {
   "cell_type": "markdown",
   "metadata": {},
   "source": [
    "# Sonify Hurricane Sandy mph over time ** Important to use same scale is Katrina for comparison.\n",
    "- Original tutorial https://github.com/cirlabs/miditime\n",
    "- I handle most manipulations in dataframe for ease of IO"
   ]
  },
  {
   "cell_type": "markdown",
   "metadata": {},
   "source": [
    "## First, format hurricane files"
   ]
  },
  {
   "cell_type": "code",
   "execution_count": 3,
   "metadata": {},
   "outputs": [],
   "source": [
    "df = pandas.read_csv('../data/SANDY-2012.csv', skiprows=1,usecols=[0,1,6], names=['date','time','mph'])"
   ]
  },
  {
   "cell_type": "code",
   "execution_count": 7,
   "metadata": {},
   "outputs": [
    {
     "data": {
      "text/html": [
       "<div>\n",
       "<style>\n",
       "    .dataframe thead tr:only-child th {\n",
       "        text-align: right;\n",
       "    }\n",
       "\n",
       "    .dataframe thead th {\n",
       "        text-align: left;\n",
       "    }\n",
       "\n",
       "    .dataframe tbody tr th {\n",
       "        vertical-align: top;\n",
       "    }\n",
       "</style>\n",
       "<table border=\"1\" class=\"dataframe\">\n",
       "  <thead>\n",
       "    <tr style=\"text-align: right;\">\n",
       "      <th></th>\n",
       "      <th>date</th>\n",
       "      <th>time</th>\n",
       "      <th>mph</th>\n",
       "    </tr>\n",
       "  </thead>\n",
       "  <tbody>\n",
       "    <tr>\n",
       "      <th>0</th>\n",
       "      <td>20121021</td>\n",
       "      <td>1800</td>\n",
       "      <td>25</td>\n",
       "    </tr>\n",
       "    <tr>\n",
       "      <th>1</th>\n",
       "      <td>20121022</td>\n",
       "      <td>0</td>\n",
       "      <td>25</td>\n",
       "    </tr>\n",
       "    <tr>\n",
       "      <th>2</th>\n",
       "      <td>20121022</td>\n",
       "      <td>600</td>\n",
       "      <td>25</td>\n",
       "    </tr>\n",
       "    <tr>\n",
       "      <th>3</th>\n",
       "      <td>20121022</td>\n",
       "      <td>1200</td>\n",
       "      <td>30</td>\n",
       "    </tr>\n",
       "    <tr>\n",
       "      <th>4</th>\n",
       "      <td>20121022</td>\n",
       "      <td>1800</td>\n",
       "      <td>35</td>\n",
       "    </tr>\n",
       "  </tbody>\n",
       "</table>\n",
       "</div>"
      ],
      "text/plain": [
       "       date  time  mph\n",
       "0  20121021  1800   25\n",
       "1  20121022     0   25\n",
       "2  20121022   600   25\n",
       "3  20121022  1200   30\n",
       "4  20121022  1800   35"
      ]
     },
     "execution_count": 7,
     "metadata": {},
     "output_type": "execute_result"
    }
   ],
   "source": [
    "df.head()"
   ]
  },
  {
   "cell_type": "code",
   "execution_count": 8,
   "metadata": {
    "collapsed": true
   },
   "outputs": [],
   "source": [
    "# fill zeroes\n",
    "df['timestr'] = df.time.apply(lambda x: str(x).zfill(4))"
   ]
  },
  {
   "cell_type": "code",
   "execution_count": 9,
   "metadata": {
    "collapsed": true
   },
   "outputs": [],
   "source": [
    "df['datetime'] = pandas.to_datetime(df.apply(lambda x: str(x['date']) + x['timestr'], axis=1), format=\"%Y%m%d%H%M\")"
   ]
  },
  {
   "cell_type": "code",
   "execution_count": 11,
   "metadata": {},
   "outputs": [
    {
     "name": "stdout",
     "output_type": "stream",
     "text": [
      "2012-10-31 12:00:00\n",
      "2012-10-21 18:00:00\n"
     ]
    }
   ],
   "source": [
    "print(df.datetime.max())\n",
    "print(df.datetime.min())"
   ]
  },
  {
   "cell_type": "code",
   "execution_count": 12,
   "metadata": {
    "collapsed": true
   },
   "outputs": [],
   "source": [
    "df.to_csv(\"../data/SANDY-2012-dateformatted.csv\")"
   ]
  },
  {
   "cell_type": "markdown",
   "metadata": {},
   "source": [
    "## Chart data + compare with Katrina"
   ]
  },
  {
   "cell_type": "code",
   "execution_count": 14,
   "metadata": {
    "collapsed": true
   },
   "outputs": [],
   "source": [
    "katrina = pandas.read_csv('../data/KATRINA-2005-dateformatted.csv')"
   ]
  },
  {
   "cell_type": "code",
   "execution_count": null,
   "metadata": {},
   "outputs": [],
   "source": [
    " "
   ]
  },
  {
   "cell_type": "code",
   "execution_count": 67,
   "metadata": {},
   "outputs": [
    {
     "data": {
      "text/plain": [
       "<matplotlib.text.Text at 0x11a3f3668>"
      ]
     },
     "execution_count": 67,
     "metadata": {},
     "output_type": "execute_result"
    },
    {
     "data": {
      "image/png": "[encoded data removed]",
      "text/plain": [
       "<matplotlib.figure.Figure at 0x11a167550>"
      ]
     },
     "metadata": {},
     "output_type": "display_data"
    }
   ],
   "source": [
    "ax = df[['datetime','mph']].plot() \n",
    "katrina[['datetime','mph']].plot(ax=ax)\n",
    "plt.title(\"Sandy vs. Katrina, mph over time\")\n",
    "plt.legend(['Sandy','Katrina'])\n",
    "plt.xticks([])\n",
    "plt.xlabel(\"Duration of storm in days\")\n",
    "plt.ylabel(\"miles per hour\")"
   ]
  },
  {
   "cell_type": "markdown",
   "metadata": {},
   "source": [
    "## MIDITime initialization"
   ]
  },
  {
   "cell_type": "markdown",
   "metadata": {},
   "source": [
    "Instantiate the class with a tempo (120bpm is the default), an output file destination, the number of seconds you want to represent a year in the final song (default is 5 sec/year), the base octave (C5 is middle C, so the default is 5, and how many octaves you want your output to range over (default is 1)."
   ]
  },
  {
   "cell_type": "code",
   "execution_count": 24,
   "metadata": {
    "collapsed": true
   },
   "outputs": [],
   "source": [
    "from miditime.miditime import MIDITime\n",
    "BPM = 120\n",
    "FILENAME = '../audio/sandy-sonify.mid'\n",
    "SEC_PER_YEAR = 365\n",
    "BASE_OCTAVE = 5\n",
    "OCTAVES = 1\n",
    "\n",
    "mymidi = MIDITime(BPM,FILENAME, SEC_PER_YEAR, BASE_OCTAVE, OCTAVES)"
   ]
  },
  {
   "cell_type": "markdown",
   "metadata": {},
   "source": [
    "Convert your date/time data into an integer, like days since the epoch (Jan. 1, 1970). You can use the days_since_epoch() helper method, or not:"
   ]
  },
  {
   "cell_type": "code",
   "execution_count": 25,
   "metadata": {
    "collapsed": true
   },
   "outputs": [],
   "source": [
    "df['epoched'] = df.datetime.apply(lambda x: mymidi.days_since_epoch(x))"
   ]
  },
  {
   "cell_type": "markdown",
   "metadata": {},
   "source": [
    "## Our data spans only 8 days\n",
    "\n",
    "Convert your integer date/time to something reasonable for a song. For example, at 120 beats per minute, you'll need to scale the data down a lot to avoid a very long song if your data spans years. This uses the seconds_per_year attribute you set at the top, so if your date is converted to something other than days you may need to do your own conversion. But if your dataset spans years and your dates are in days (with fractions is fine), use the beat() helper method."
   ]
  },
  {
   "cell_type": "code",
   "execution_count": 27,
   "metadata": {
    "collapsed": true
   },
   "outputs": [],
   "source": [
    "df['beat'] = df['epoched'].apply(lambda x: mymidi.beat(x))"
   ]
  },
  {
   "cell_type": "code",
   "execution_count": 28,
   "metadata": {},
   "outputs": [
    {
     "name": "stdout",
     "output_type": "stream",
     "text": [
      "31248.1\n"
     ]
    }
   ],
   "source": [
    "START_TIME = df.beat.min() # beat doesn't start at 0 since we scaled our epoch seconds, so we just start at the first one.\n",
    "print(START_TIME)"
   ]
  },
  {
   "cell_type": "code",
   "execution_count": 32,
   "metadata": {},
   "outputs": [
    {
     "data": {
      "text/html": [
       "<div>\n",
       "<style>\n",
       "    .dataframe thead tr:only-child th {\n",
       "        text-align: right;\n",
       "    }\n",
       "\n",
       "    .dataframe thead th {\n",
       "        text-align: left;\n",
       "    }\n",
       "\n",
       "    .dataframe tbody tr th {\n",
       "        vertical-align: top;\n",
       "    }\n",
       "</style>\n",
       "<table border=\"1\" class=\"dataframe\">\n",
       "  <thead>\n",
       "    <tr style=\"text-align: right;\">\n",
       "      <th></th>\n",
       "      <th>date</th>\n",
       "      <th>time</th>\n",
       "      <th>mph</th>\n",
       "      <th>timestr</th>\n",
       "      <th>datetime</th>\n",
       "      <th>epoched</th>\n",
       "      <th>beat</th>\n",
       "    </tr>\n",
       "  </thead>\n",
       "  <tbody>\n",
       "    <tr>\n",
       "      <th>0</th>\n",
       "      <td>20121021</td>\n",
       "      <td>1800</td>\n",
       "      <td>25</td>\n",
       "      <td>1800</td>\n",
       "      <td>2012-10-21 18:00:00</td>\n",
       "      <td>15634.750000</td>\n",
       "      <td>31248.10</td>\n",
       "    </tr>\n",
       "    <tr>\n",
       "      <th>1</th>\n",
       "      <td>20121022</td>\n",
       "      <td>0</td>\n",
       "      <td>25</td>\n",
       "      <td>0000</td>\n",
       "      <td>2012-10-22 00:00:00</td>\n",
       "      <td>15635.000000</td>\n",
       "      <td>31248.60</td>\n",
       "    </tr>\n",
       "    <tr>\n",
       "      <th>2</th>\n",
       "      <td>20121022</td>\n",
       "      <td>600</td>\n",
       "      <td>25</td>\n",
       "      <td>0600</td>\n",
       "      <td>2012-10-22 06:00:00</td>\n",
       "      <td>15635.250000</td>\n",
       "      <td>31249.10</td>\n",
       "    </tr>\n",
       "    <tr>\n",
       "      <th>3</th>\n",
       "      <td>20121022</td>\n",
       "      <td>1200</td>\n",
       "      <td>30</td>\n",
       "      <td>1200</td>\n",
       "      <td>2012-10-22 12:00:00</td>\n",
       "      <td>15635.500000</td>\n",
       "      <td>31249.60</td>\n",
       "    </tr>\n",
       "    <tr>\n",
       "      <th>4</th>\n",
       "      <td>20121022</td>\n",
       "      <td>1800</td>\n",
       "      <td>35</td>\n",
       "      <td>1800</td>\n",
       "      <td>2012-10-22 18:00:00</td>\n",
       "      <td>15635.750000</td>\n",
       "      <td>31250.10</td>\n",
       "    </tr>\n",
       "    <tr>\n",
       "      <th>5</th>\n",
       "      <td>20121023</td>\n",
       "      <td>0</td>\n",
       "      <td>40</td>\n",
       "      <td>0000</td>\n",
       "      <td>2012-10-23 00:00:00</td>\n",
       "      <td>15636.000000</td>\n",
       "      <td>31250.60</td>\n",
       "    </tr>\n",
       "    <tr>\n",
       "      <th>6</th>\n",
       "      <td>20121023</td>\n",
       "      <td>600</td>\n",
       "      <td>40</td>\n",
       "      <td>0600</td>\n",
       "      <td>2012-10-23 06:00:00</td>\n",
       "      <td>15636.250000</td>\n",
       "      <td>31251.10</td>\n",
       "    </tr>\n",
       "    <tr>\n",
       "      <th>7</th>\n",
       "      <td>20121023</td>\n",
       "      <td>1200</td>\n",
       "      <td>40</td>\n",
       "      <td>1200</td>\n",
       "      <td>2012-10-23 12:00:00</td>\n",
       "      <td>15636.500000</td>\n",
       "      <td>31251.59</td>\n",
       "    </tr>\n",
       "    <tr>\n",
       "      <th>8</th>\n",
       "      <td>20121023</td>\n",
       "      <td>1800</td>\n",
       "      <td>45</td>\n",
       "      <td>1800</td>\n",
       "      <td>2012-10-23 18:00:00</td>\n",
       "      <td>15636.750000</td>\n",
       "      <td>31252.09</td>\n",
       "    </tr>\n",
       "    <tr>\n",
       "      <th>9</th>\n",
       "      <td>20121024</td>\n",
       "      <td>0</td>\n",
       "      <td>55</td>\n",
       "      <td>0000</td>\n",
       "      <td>2012-10-24 00:00:00</td>\n",
       "      <td>15637.000000</td>\n",
       "      <td>31252.59</td>\n",
       "    </tr>\n",
       "    <tr>\n",
       "      <th>10</th>\n",
       "      <td>20121024</td>\n",
       "      <td>600</td>\n",
       "      <td>60</td>\n",
       "      <td>0600</td>\n",
       "      <td>2012-10-24 06:00:00</td>\n",
       "      <td>15637.250000</td>\n",
       "      <td>31253.09</td>\n",
       "    </tr>\n",
       "    <tr>\n",
       "      <th>11</th>\n",
       "      <td>20121024</td>\n",
       "      <td>1200</td>\n",
       "      <td>65</td>\n",
       "      <td>1200</td>\n",
       "      <td>2012-10-24 12:00:00</td>\n",
       "      <td>15637.500000</td>\n",
       "      <td>31253.59</td>\n",
       "    </tr>\n",
       "    <tr>\n",
       "      <th>12</th>\n",
       "      <td>20121024</td>\n",
       "      <td>1800</td>\n",
       "      <td>75</td>\n",
       "      <td>1800</td>\n",
       "      <td>2012-10-24 18:00:00</td>\n",
       "      <td>15637.750000</td>\n",
       "      <td>31254.09</td>\n",
       "    </tr>\n",
       "    <tr>\n",
       "      <th>13</th>\n",
       "      <td>20121024</td>\n",
       "      <td>1900</td>\n",
       "      <td>75</td>\n",
       "      <td>1900</td>\n",
       "      <td>2012-10-24 19:00:00</td>\n",
       "      <td>15637.791667</td>\n",
       "      <td>31254.18</td>\n",
       "    </tr>\n",
       "    <tr>\n",
       "      <th>14</th>\n",
       "      <td>20121025</td>\n",
       "      <td>0</td>\n",
       "      <td>85</td>\n",
       "      <td>0000</td>\n",
       "      <td>2012-10-25 00:00:00</td>\n",
       "      <td>15638.000000</td>\n",
       "      <td>31254.59</td>\n",
       "    </tr>\n",
       "    <tr>\n",
       "      <th>15</th>\n",
       "      <td>20121025</td>\n",
       "      <td>525</td>\n",
       "      <td>100</td>\n",
       "      <td>0525</td>\n",
       "      <td>2012-10-25 05:25:00</td>\n",
       "      <td>15638.225694</td>\n",
       "      <td>31255.04</td>\n",
       "    </tr>\n",
       "    <tr>\n",
       "      <th>16</th>\n",
       "      <td>20121025</td>\n",
       "      <td>600</td>\n",
       "      <td>100</td>\n",
       "      <td>0600</td>\n",
       "      <td>2012-10-25 06:00:00</td>\n",
       "      <td>15638.250000</td>\n",
       "      <td>31255.09</td>\n",
       "    </tr>\n",
       "    <tr>\n",
       "      <th>17</th>\n",
       "      <td>20121025</td>\n",
       "      <td>900</td>\n",
       "      <td>95</td>\n",
       "      <td>0900</td>\n",
       "      <td>2012-10-25 09:00:00</td>\n",
       "      <td>15638.375000</td>\n",
       "      <td>31255.34</td>\n",
       "    </tr>\n",
       "    <tr>\n",
       "      <th>18</th>\n",
       "      <td>20121025</td>\n",
       "      <td>1200</td>\n",
       "      <td>95</td>\n",
       "      <td>1200</td>\n",
       "      <td>2012-10-25 12:00:00</td>\n",
       "      <td>15638.500000</td>\n",
       "      <td>31255.59</td>\n",
       "    </tr>\n",
       "    <tr>\n",
       "      <th>19</th>\n",
       "      <td>20121025</td>\n",
       "      <td>1800</td>\n",
       "      <td>90</td>\n",
       "      <td>1800</td>\n",
       "      <td>2012-10-25 18:00:00</td>\n",
       "      <td>15638.750000</td>\n",
       "      <td>31256.09</td>\n",
       "    </tr>\n",
       "    <tr>\n",
       "      <th>20</th>\n",
       "      <td>20121026</td>\n",
       "      <td>0</td>\n",
       "      <td>75</td>\n",
       "      <td>0000</td>\n",
       "      <td>2012-10-26 00:00:00</td>\n",
       "      <td>15639.000000</td>\n",
       "      <td>31256.59</td>\n",
       "    </tr>\n",
       "    <tr>\n",
       "      <th>21</th>\n",
       "      <td>20121026</td>\n",
       "      <td>600</td>\n",
       "      <td>70</td>\n",
       "      <td>0600</td>\n",
       "      <td>2012-10-26 06:00:00</td>\n",
       "      <td>15639.250000</td>\n",
       "      <td>31257.09</td>\n",
       "    </tr>\n",
       "    <tr>\n",
       "      <th>22</th>\n",
       "      <td>20121026</td>\n",
       "      <td>1200</td>\n",
       "      <td>65</td>\n",
       "      <td>1200</td>\n",
       "      <td>2012-10-26 12:00:00</td>\n",
       "      <td>15639.500000</td>\n",
       "      <td>31257.59</td>\n",
       "    </tr>\n",
       "    <tr>\n",
       "      <th>23</th>\n",
       "      <td>20121026</td>\n",
       "      <td>1800</td>\n",
       "      <td>65</td>\n",
       "      <td>1800</td>\n",
       "      <td>2012-10-26 18:00:00</td>\n",
       "      <td>15639.750000</td>\n",
       "      <td>31258.09</td>\n",
       "    </tr>\n",
       "    <tr>\n",
       "      <th>24</th>\n",
       "      <td>20121027</td>\n",
       "      <td>0</td>\n",
       "      <td>60</td>\n",
       "      <td>0000</td>\n",
       "      <td>2012-10-27 00:00:00</td>\n",
       "      <td>15640.000000</td>\n",
       "      <td>31258.59</td>\n",
       "    </tr>\n",
       "    <tr>\n",
       "      <th>25</th>\n",
       "      <td>20121027</td>\n",
       "      <td>600</td>\n",
       "      <td>60</td>\n",
       "      <td>0600</td>\n",
       "      <td>2012-10-27 06:00:00</td>\n",
       "      <td>15640.250000</td>\n",
       "      <td>31259.09</td>\n",
       "    </tr>\n",
       "    <tr>\n",
       "      <th>26</th>\n",
       "      <td>20121027</td>\n",
       "      <td>1200</td>\n",
       "      <td>70</td>\n",
       "      <td>1200</td>\n",
       "      <td>2012-10-27 12:00:00</td>\n",
       "      <td>15640.500000</td>\n",
       "      <td>31259.59</td>\n",
       "    </tr>\n",
       "    <tr>\n",
       "      <th>27</th>\n",
       "      <td>20121027</td>\n",
       "      <td>1800</td>\n",
       "      <td>70</td>\n",
       "      <td>1800</td>\n",
       "      <td>2012-10-27 18:00:00</td>\n",
       "      <td>15640.750000</td>\n",
       "      <td>31260.09</td>\n",
       "    </tr>\n",
       "    <tr>\n",
       "      <th>28</th>\n",
       "      <td>20121028</td>\n",
       "      <td>0</td>\n",
       "      <td>65</td>\n",
       "      <td>0000</td>\n",
       "      <td>2012-10-28 00:00:00</td>\n",
       "      <td>15641.000000</td>\n",
       "      <td>31260.59</td>\n",
       "    </tr>\n",
       "    <tr>\n",
       "      <th>29</th>\n",
       "      <td>20121028</td>\n",
       "      <td>600</td>\n",
       "      <td>65</td>\n",
       "      <td>0600</td>\n",
       "      <td>2012-10-28 06:00:00</td>\n",
       "      <td>15641.250000</td>\n",
       "      <td>31261.09</td>\n",
       "    </tr>\n",
       "    <tr>\n",
       "      <th>30</th>\n",
       "      <td>20121028</td>\n",
       "      <td>1200</td>\n",
       "      <td>65</td>\n",
       "      <td>1200</td>\n",
       "      <td>2012-10-28 12:00:00</td>\n",
       "      <td>15641.500000</td>\n",
       "      <td>31261.59</td>\n",
       "    </tr>\n",
       "    <tr>\n",
       "      <th>31</th>\n",
       "      <td>20121028</td>\n",
       "      <td>1800</td>\n",
       "      <td>65</td>\n",
       "      <td>1800</td>\n",
       "      <td>2012-10-28 18:00:00</td>\n",
       "      <td>15641.750000</td>\n",
       "      <td>31262.09</td>\n",
       "    </tr>\n",
       "    <tr>\n",
       "      <th>32</th>\n",
       "      <td>20121029</td>\n",
       "      <td>0</td>\n",
       "      <td>70</td>\n",
       "      <td>0000</td>\n",
       "      <td>2012-10-29 00:00:00</td>\n",
       "      <td>15642.000000</td>\n",
       "      <td>31262.59</td>\n",
       "    </tr>\n",
       "    <tr>\n",
       "      <th>33</th>\n",
       "      <td>20121029</td>\n",
       "      <td>600</td>\n",
       "      <td>80</td>\n",
       "      <td>0600</td>\n",
       "      <td>2012-10-29 06:00:00</td>\n",
       "      <td>15642.250000</td>\n",
       "      <td>31263.09</td>\n",
       "    </tr>\n",
       "    <tr>\n",
       "      <th>34</th>\n",
       "      <td>20121029</td>\n",
       "      <td>1200</td>\n",
       "      <td>85</td>\n",
       "      <td>1200</td>\n",
       "      <td>2012-10-29 12:00:00</td>\n",
       "      <td>15642.500000</td>\n",
       "      <td>31263.59</td>\n",
       "    </tr>\n",
       "    <tr>\n",
       "      <th>35</th>\n",
       "      <td>20121029</td>\n",
       "      <td>1800</td>\n",
       "      <td>80</td>\n",
       "      <td>1800</td>\n",
       "      <td>2012-10-29 18:00:00</td>\n",
       "      <td>15642.750000</td>\n",
       "      <td>31264.09</td>\n",
       "    </tr>\n",
       "    <tr>\n",
       "      <th>36</th>\n",
       "      <td>20121029</td>\n",
       "      <td>2100</td>\n",
       "      <td>75</td>\n",
       "      <td>2100</td>\n",
       "      <td>2012-10-29 21:00:00</td>\n",
       "      <td>15642.875000</td>\n",
       "      <td>31264.34</td>\n",
       "    </tr>\n",
       "    <tr>\n",
       "      <th>37</th>\n",
       "      <td>20121029</td>\n",
       "      <td>2330</td>\n",
       "      <td>70</td>\n",
       "      <td>2330</td>\n",
       "      <td>2012-10-29 23:30:00</td>\n",
       "      <td>15642.979167</td>\n",
       "      <td>31264.54</td>\n",
       "    </tr>\n",
       "    <tr>\n",
       "      <th>38</th>\n",
       "      <td>20121030</td>\n",
       "      <td>0</td>\n",
       "      <td>70</td>\n",
       "      <td>0000</td>\n",
       "      <td>2012-10-30 00:00:00</td>\n",
       "      <td>15643.000000</td>\n",
       "      <td>31264.59</td>\n",
       "    </tr>\n",
       "    <tr>\n",
       "      <th>39</th>\n",
       "      <td>20121030</td>\n",
       "      <td>600</td>\n",
       "      <td>55</td>\n",
       "      <td>0600</td>\n",
       "      <td>2012-10-30 06:00:00</td>\n",
       "      <td>15643.250000</td>\n",
       "      <td>31265.09</td>\n",
       "    </tr>\n",
       "    <tr>\n",
       "      <th>40</th>\n",
       "      <td>20121030</td>\n",
       "      <td>1200</td>\n",
       "      <td>50</td>\n",
       "      <td>1200</td>\n",
       "      <td>2012-10-30 12:00:00</td>\n",
       "      <td>15643.500000</td>\n",
       "      <td>31265.59</td>\n",
       "    </tr>\n",
       "    <tr>\n",
       "      <th>41</th>\n",
       "      <td>20121030</td>\n",
       "      <td>1800</td>\n",
       "      <td>40</td>\n",
       "      <td>1800</td>\n",
       "      <td>2012-10-30 18:00:00</td>\n",
       "      <td>15643.750000</td>\n",
       "      <td>31266.08</td>\n",
       "    </tr>\n",
       "    <tr>\n",
       "      <th>42</th>\n",
       "      <td>20121031</td>\n",
       "      <td>0</td>\n",
       "      <td>35</td>\n",
       "      <td>0000</td>\n",
       "      <td>2012-10-31 00:00:00</td>\n",
       "      <td>15644.000000</td>\n",
       "      <td>31266.58</td>\n",
       "    </tr>\n",
       "    <tr>\n",
       "      <th>43</th>\n",
       "      <td>20121031</td>\n",
       "      <td>600</td>\n",
       "      <td>35</td>\n",
       "      <td>0600</td>\n",
       "      <td>2012-10-31 06:00:00</td>\n",
       "      <td>15644.250000</td>\n",
       "      <td>31267.08</td>\n",
       "    </tr>\n",
       "    <tr>\n",
       "      <th>44</th>\n",
       "      <td>20121031</td>\n",
       "      <td>1200</td>\n",
       "      <td>30</td>\n",
       "      <td>1200</td>\n",
       "      <td>2012-10-31 12:00:00</td>\n",
       "      <td>15644.500000</td>\n",
       "      <td>31267.58</td>\n",
       "    </tr>\n",
       "  </tbody>\n",
       "</table>\n",
       "</div>"
      ],
      "text/plain": [
       "        date  time  mph timestr            datetime       epoched      beat\n",
       "0   20121021  1800   25    1800 2012-10-21 18:00:00  15634.750000  31248.10\n",
       "1   20121022     0   25    0000 2012-10-22 00:00:00  15635.000000  31248.60\n",
       "2   20121022   600   25    0600 2012-10-22 06:00:00  15635.250000  31249.10\n",
       "3   20121022  1200   30    1200 2012-10-22 12:00:00  15635.500000  31249.60\n",
       "4   20121022  1800   35    1800 2012-10-22 18:00:00  15635.750000  31250.10\n",
       "5   20121023     0   40    0000 2012-10-23 00:00:00  15636.000000  31250.60\n",
       "6   20121023   600   40    0600 2012-10-23 06:00:00  15636.250000  31251.10\n",
       "7   20121023  1200   40    1200 2012-10-23 12:00:00  15636.500000  31251.59\n",
       "8   20121023  1800   45    1800 2012-10-23 18:00:00  15636.750000  31252.09\n",
       "9   20121024     0   55    0000 2012-10-24 00:00:00  15637.000000  31252.59\n",
       "10  20121024   600   60    0600 2012-10-24 06:00:00  15637.250000  31253.09\n",
       "11  20121024  1200   65    1200 2012-10-24 12:00:00  15637.500000  31253.59\n",
       "12  20121024  1800   75    1800 2012-10-24 18:00:00  15637.750000  31254.09\n",
       "13  20121024  1900   75    1900 2012-10-24 19:00:00  15637.791667  31254.18\n",
       "14  20121025     0   85    0000 2012-10-25 00:00:00  15638.000000  31254.59\n",
       "15  20121025   525  100    0525 2012-10-25 05:25:00  15638.225694  31255.04\n",
       "16  20121025   600  100    0600 2012-10-25 06:00:00  15638.250000  31255.09\n",
       "17  20121025   900   95    0900 2012-10-25 09:00:00  15638.375000  31255.34\n",
       "18  20121025  1200   95    1200 2012-10-25 12:00:00  15638.500000  31255.59\n",
       "19  20121025  1800   90    1800 2012-10-25 18:00:00  15638.750000  31256.09\n",
       "20  20121026     0   75    0000 2012-10-26 00:00:00  15639.000000  31256.59\n",
       "21  20121026   600   70    0600 2012-10-26 06:00:00  15639.250000  31257.09\n",
       "22  20121026  1200   65    1200 2012-10-26 12:00:00  15639.500000  31257.59\n",
       "23  20121026  1800   65    1800 2012-10-26 18:00:00  15639.750000  31258.09\n",
       "24  20121027     0   60    0000 2012-10-27 00:00:00  15640.000000  31258.59\n",
       "25  20121027   600   60    0600 2012-10-27 06:00:00  15640.250000  31259.09\n",
       "26  20121027  1200   70    1200 2012-10-27 12:00:00  15640.500000  31259.59\n",
       "27  20121027  1800   70    1800 2012-10-27 18:00:00  15640.750000  31260.09\n",
       "28  20121028     0   65    0000 2012-10-28 00:00:00  15641.000000  31260.59\n",
       "29  20121028   600   65    0600 2012-10-28 06:00:00  15641.250000  31261.09\n",
       "30  20121028  1200   65    1200 2012-10-28 12:00:00  15641.500000  31261.59\n",
       "31  20121028  1800   65    1800 2012-10-28 18:00:00  15641.750000  31262.09\n",
       "32  20121029     0   70    0000 2012-10-29 00:00:00  15642.000000  31262.59\n",
       "33  20121029   600   80    0600 2012-10-29 06:00:00  15642.250000  31263.09\n",
       "34  20121029  1200   85    1200 2012-10-29 12:00:00  15642.500000  31263.59\n",
       "35  20121029  1800   80    1800 2012-10-29 18:00:00  15642.750000  31264.09\n",
       "36  20121029  2100   75    2100 2012-10-29 21:00:00  15642.875000  31264.34\n",
       "37  20121029  2330   70    2330 2012-10-29 23:30:00  15642.979167  31264.54\n",
       "38  20121030     0   70    0000 2012-10-30 00:00:00  15643.000000  31264.59\n",
       "39  20121030   600   55    0600 2012-10-30 06:00:00  15643.250000  31265.09\n",
       "40  20121030  1200   50    1200 2012-10-30 12:00:00  15643.500000  31265.59\n",
       "41  20121030  1800   40    1800 2012-10-30 18:00:00  15643.750000  31266.08\n",
       "42  20121031     0   35    0000 2012-10-31 00:00:00  15644.000000  31266.58\n",
       "43  20121031   600   35    0600 2012-10-31 06:00:00  15644.250000  31267.08\n",
       "44  20121031  1200   30    1200 2012-10-31 12:00:00  15644.500000  31267.58"
      ]
     },
     "execution_count": 32,
     "metadata": {},
     "output_type": "execute_result"
    }
   ],
   "source": [
    "df.head(45)"
   ]
  },
  {
   "cell_type": "code",
   "execution_count": 33,
   "metadata": {},
   "outputs": [
    {
     "name": "stdout",
     "output_type": "stream",
     "text": [
      "25 100\n"
     ]
    }
   ],
   "source": [
    "MAX = df.mph.max()\n",
    "MIN = df.mph.min()\n",
    "print(MIN,MAX)"
   ]
  },
  {
   "cell_type": "markdown",
   "metadata": {},
   "source": [
    "## Create scale from mph "
   ]
  },
  {
   "cell_type": "markdown",
   "metadata": {},
   "source": [
    "Use linear scale."
   ]
  },
  {
   "cell_type": "code",
   "execution_count": 35,
   "metadata": {
    "collapsed": true
   },
   "outputs": [],
   "source": [
    "def mag_to_pitch_tuned(mph):\n",
    "    # Where does this data point sit in the domain of your data? (I.E. the min mph is 3, the max in 5.6). In this case the optional 'True' means the scale is reversed, so the highest value will return the lowest percentage.\n",
    "    #scale_pct = mymidi.linear_scale_pct(MIN, MAX, mph)\n",
    "\n",
    "    # Another option: Linear scale, reverse order\n",
    "    #scale_pct = mymidi.linear_scale_pct(MIN, MAX, mph, True)\n",
    "\n",
    "    # Another option: Logarithmic scale, reverse order\n",
    "    scale_pct = mymidi.log_scale_pct(MIN, MAX, mph, True)\n",
    "\n",
    "    # Pick a range of notes. This allows you to play in a key.\n",
    "    c_major = ['C', 'D', 'E', 'F', 'G', 'A', 'B']\n",
    "\n",
    "    #Find the note that matches your data point\n",
    "    note = mymidi.scale_to_note(scale_pct, c_major)\n",
    "\n",
    "    #Translate that note to a MIDI pitch\n",
    "    midi_pitch = mymidi.note_to_midi_pitch(note)\n",
    "\n",
    "    return midi_pitch\n"
   ]
  },
  {
   "cell_type": "code",
   "execution_count": 36,
   "metadata": {
    "collapsed": true
   },
   "outputs": [],
   "source": [
    "df['pitch'] = df.mph.apply(lambda x: mag_to_pitch_tuned(x))"
   ]
  },
  {
   "cell_type": "markdown",
   "metadata": {},
   "source": [
    " ### Let's also make larger mph louder. To put it on the same scale as Katrina, we set the MIN, MAX to Katrina min and max."
   ]
  },
  {
   "cell_type": "code",
   "execution_count": 42,
   "metadata": {},
   "outputs": [],
   "source": [
    "KAT_MAX = 150   \n",
    "KAT_MIN = 25"
   ]
  },
  {
   "cell_type": "code",
   "execution_count": 43,
   "metadata": {
    "collapsed": true
   },
   "outputs": [],
   "source": [
    "MIN_V = 25\n",
    "MAX_V = 150\n",
    "df['velocity'] = df.mph.apply(lambda x: int(np.interp(x, [KAT_MIN, KAT_MAX], [25, 150])))"
   ]
  },
  {
   "cell_type": "code",
   "execution_count": 44,
   "metadata": {},
   "outputs": [
    {
     "data": {
      "text/plain": [
       "0      25\n",
       "1      25\n",
       "2      25\n",
       "3      30\n",
       "4      35\n",
       "5      40\n",
       "6      40\n",
       "7      40\n",
       "8      45\n",
       "9      55\n",
       "10     60\n",
       "11     65\n",
       "12     75\n",
       "13     75\n",
       "14     85\n",
       "15    100\n",
       "16    100\n",
       "17     95\n",
       "18     95\n",
       "19     90\n",
       "20     75\n",
       "21     70\n",
       "22     65\n",
       "23     65\n",
       "24     60\n",
       "25     60\n",
       "26     70\n",
       "27     70\n",
       "28     65\n",
       "29     65\n",
       "30     65\n",
       "31     65\n",
       "32     70\n",
       "33     80\n",
       "34     85\n",
       "35     80\n",
       "36     75\n",
       "37     70\n",
       "38     70\n",
       "39     55\n",
       "40     50\n",
       "41     40\n",
       "42     35\n",
       "43     35\n",
       "44     30\n",
       "Name: velocity, dtype: int64"
      ]
     },
     "execution_count": 44,
     "metadata": {},
     "output_type": "execute_result"
    }
   ],
   "source": [
    "df.velocity\n"
   ]
  },
  {
   "cell_type": "markdown",
   "metadata": {},
   "source": [
    "## Build note list\n",
    "- I know you're not supposed to iterate through a dataframe — but it's pretty small and manegable.\n",
    "- [BEAT, PITCH, VELOCITY (VOLUME), DURATION_OF_NOTE]"
   ]
  },
  {
   "cell_type": "code",
   "execution_count": 45,
   "metadata": {
    "collapsed": true
   },
   "outputs": [],
   "source": [
    "scaled_data = df.to_dict('records')"
   ]
  },
  {
   "cell_type": "code",
   "execution_count": 46,
   "metadata": {
    "collapsed": true
   },
   "outputs": [],
   "source": [
    "note_list = []  \n",
    "#V = 100 # constant for now\n",
    "D = 1 # duration constant for now\n",
    "\n",
    "for d in scaled_data:\n",
    "    beat = d['beat'] - START_TIME\n",
    "    pitch = d['pitch']\n",
    "    velocity = d['velocity']\n",
    "    duration = D\n",
    "    note_list.append([beat, pitch, velocity, duration])\n"
   ]
  },
  {
   "cell_type": "code",
   "execution_count": 47,
   "metadata": {},
   "outputs": [
    {
     "data": {
      "text/plain": [
       "[[0.0, 71, 25, 1],\n",
       " [0.5, 71, 25, 1],\n",
       " [1.0, 71, 25, 1],\n",
       " [1.5, 71, 30, 1],\n",
       " [2.0, 71, 35, 1],\n",
       " [2.5, 71, 40, 1],\n",
       " [3.0, 71, 40, 1],\n",
       " [3.4900000000016007, 71, 40, 1],\n",
       " [3.9900000000016007, 71, 45, 1],\n",
       " [4.4900000000016007, 71, 55, 1],\n",
       " [4.9900000000016007, 71, 60, 1],\n",
       " [5.4900000000016007, 71, 65, 1],\n",
       " [5.9900000000016007, 71, 75, 1],\n",
       " [6.0800000000017462, 71, 75, 1],\n",
       " [6.4900000000016007, 71, 85, 1],\n",
       " [6.9400000000023283, 71, 100, 1],\n",
       " [6.9900000000016007, 71, 100, 1],\n",
       " [7.2400000000016007, 71, 95, 1],\n",
       " [7.4900000000016007, 71, 95, 1],\n",
       " [7.9900000000016007, 71, 90, 1],\n",
       " [8.4900000000016007, 71, 75, 1],\n",
       " [8.9900000000016007, 71, 70, 1],\n",
       " [9.4900000000016007, 71, 65, 1],\n",
       " [9.9900000000016007, 71, 65, 1],\n",
       " [10.490000000001601, 71, 60, 1],\n",
       " [10.990000000001601, 71, 60, 1],\n",
       " [11.490000000001601, 71, 70, 1],\n",
       " [11.990000000001601, 71, 70, 1],\n",
       " [12.490000000001601, 71, 65, 1],\n",
       " [12.990000000001601, 71, 65, 1],\n",
       " [13.490000000001601, 71, 65, 1],\n",
       " [13.990000000001601, 71, 65, 1],\n",
       " [14.490000000001601, 71, 70, 1],\n",
       " [14.990000000001601, 71, 80, 1],\n",
       " [15.490000000001601, 71, 85, 1],\n",
       " [15.990000000001601, 71, 80, 1],\n",
       " [16.240000000001601, 71, 75, 1],\n",
       " [16.440000000002328, 71, 70, 1],\n",
       " [16.490000000001601, 71, 70, 1],\n",
       " [16.990000000001601, 71, 55, 1],\n",
       " [17.490000000001601, 71, 50, 1],\n",
       " [17.980000000003201, 71, 40, 1],\n",
       " [18.480000000003201, 71, 35, 1],\n",
       " [18.980000000003201, 71, 35, 1],\n",
       " [19.480000000003201, 71, 30, 1]]"
      ]
     },
     "execution_count": 47,
     "metadata": {},
     "output_type": "execute_result"
    }
   ],
   "source": [
    "note_list"
   ]
  },
  {
   "cell_type": "markdown",
   "metadata": {},
   "source": [
    "## Make MIDI file"
   ]
  },
  {
   "cell_type": "code",
   "execution_count": 48,
   "metadata": {},
   "outputs": [
    {
     "name": "stdout",
     "output_type": "stream",
     "text": [
      "71 0.0 1 25\n",
      "71 0.5 1 25\n",
      "71 1.0 1 25\n",
      "71 1.5 1 30\n",
      "71 2.0 1 35\n",
      "71 2.5 1 40\n",
      "71 3.0 1 40\n",
      "71 3.49 1 40\n",
      "71 3.99 1 45\n",
      "71 4.49 1 55\n",
      "71 4.99 1 60\n",
      "71 5.49 1 65\n",
      "71 5.99 1 75\n",
      "71 6.08 1 75\n",
      "71 6.49 1 85\n",
      "71 6.94 1 100\n",
      "71 6.99 1 100\n",
      "71 7.24 1 95\n",
      "71 7.49 1 95\n",
      "71 7.99 1 90\n",
      "71 8.49 1 75\n",
      "71 8.99 1 70\n",
      "71 9.49 1 65\n",
      "71 9.99 1 65\n",
      "71 10.49 1 60\n",
      "71 10.99 1 60\n",
      "71 11.49 1 70\n",
      "71 11.99 1 70\n",
      "71 12.49 1 65\n",
      "71 12.99 1 65\n",
      "71 13.49 1 65\n",
      "71 13.99 1 65\n",
      "71 14.49 1 70\n",
      "71 14.99 1 80\n",
      "71 15.49 1 85\n",
      "71 15.99 1 80\n",
      "71 16.24 1 75\n",
      "71 16.44 1 70\n",
      "71 16.49 1 70\n",
      "71 16.99 1 55\n",
      "71 17.49 1 50\n",
      "71 17.98 1 40\n",
      "71 18.48 1 35\n",
      "71 18.98 1 35\n",
      "71 19.48 1 30\n"
     ]
    }
   ],
   "source": [
    "# Add a track with those notes\n",
    "mymidi.add_track(note_list)\n",
    "\n",
    "# Output the .mid file\n",
    "mymidi.save_midi()"
   ]
  },
  {
   "cell_type": "code",
   "execution_count": null,
   "metadata": {
    "collapsed": true
   },
   "outputs": [],
   "source": []
  },
  {
   "cell_type": "code",
   "execution_count": null,
   "metadata": {
    "collapsed": true
   },
   "outputs": [],
   "source": []
  }
 ],
 "metadata": {
  "kernelspec": {
   "display_name": "Python 3",
   "language": "python",
   "name": "python3"
  },
  "language_info": {
   "codemirror_mode": {
    "name": "ipython",
    "version": 3
   },
   "file_extension": ".py",
   "mimetype": "text/x-python",
   "name": "python",
   "nbconvert_exporter": "python",
   "pygments_lexer": "ipython3",
   "version": "3.6.1"
  }
 },
 "nbformat": 4,
 "nbformat_minor": 2
}
