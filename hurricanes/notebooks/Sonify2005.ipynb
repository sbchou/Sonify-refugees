{
 "cells": [
  {
   "cell_type": "code",
   "execution_count": 6,
   "metadata": {
    "collapsed": true
   },
   "outputs": [],
   "source": [
    "# My usual setup\n",
    "%matplotlib inline\n",
    "import matplotlib.pyplot as plt\n",
    "import pandas \n",
    "from datetime import datetime\n",
    "import seaborn as sns\n",
    "import glob\n",
    "from os.path import basename\n",
    "sns.set_context('poster') \n",
    "import numpy as np\n",
    "import csv"
   ]
  },
  {
   "cell_type": "markdown",
   "metadata": {},
   "source": [
    "# Sonify 2005 hurricane season\n",
    "\n",
    "- Original tutorial https://github.com/cirlabs/miditime\n",
    "- I handle most manipulations in dataframe for ease of IO"
   ]
  },
  {
   "cell_type": "markdown",
   "metadata": {},
   "source": [
    "## First, format hurricane files"
   ]
  },
  {
   "cell_type": "markdown",
   "metadata": {},
   "source": [
    "NOAA format has the hurricane name in a single row, chunking rows of information about the hurricane.\n",
    "We flatten it into a single CSV."
   ]
  },
  {
   "cell_type": "code",
   "execution_count": 38,
   "metadata": {},
   "outputs": [],
   "source": [
    "with open('../data/2005-hurricanes-combined') as in_file:\n",
    "    with open('../data/2005-hurricanes-formatted.csv', 'w') as out_file:\n",
    "        writer = csv.writer(out_file)\n",
    "        writer.writerow([\"storm_name\", \"date\", \"hour\",\"mph\"])\n",
    "        \n",
    "        for l in in_file:\n",
    "            row = l.split(\",\")\n",
    "            \n",
    "            if len(row) == 4 :\n",
    "                stormid, stormname, stormnum, blank = row\n",
    "                #print(stormname)\n",
    "            \n",
    "            else:\n",
    "                date, hour, mph = row[0], row[1], row[6]\n",
    "                writer.write([stormname, date, hour, mph])\n",
    "                 "
   ]
  },
  {
   "cell_type": "markdown",
   "metadata": {
    "collapsed": true
   },
   "source": [
    "Now we get the max mph for each hurricane in 2005. "
   ]
  },
  {
   "cell_type": "code",
   "execution_count": 39,
   "metadata": {
    "collapsed": true
   },
   "outputs": [],
   "source": [
    "df = pandas.read_csv('../data/2005-hurricanes-formatted.csv')"
   ]
  },
  {
   "cell_type": "code",
   "execution_count": 60,
   "metadata": {
    "scrolled": true
   },
   "outputs": [
    {
     "data": {
      "text/plain": [
       "storm_name      ADRIAN\n",
       "date          20050519\n",
       "hour              1700\n",
       "mph                 70\n",
       "Name: 915, dtype: object"
      ]
     },
     "execution_count": 60,
     "metadata": {},
     "output_type": "execute_result"
    }
   ],
   "source": [
    "df.iloc[915]"
   ]
  },
  {
   "cell_type": "code",
   "execution_count": 67,
   "metadata": {},
   "outputs": [
    {
     "data": {
      "text/plain": [
       "True"
      ]
     },
     "execution_count": 67,
     "metadata": {},
     "output_type": "execute_result"
    }
   ],
   "source": [
    "# Take note of this 🐼 witchcraft!!!\n",
    "max_mph = df.iloc[df.groupby('storm_name').mph.idxmax()]\n",
    "len(max_mph) == len(set(df.storm_name)) # test to make sure you got the correct max"
   ]
  },
  {
   "cell_type": "markdown",
   "metadata": {},
   "source": [
    "Format date"
   ]
  },
  {
   "cell_type": "code",
   "execution_count": 71,
   "metadata": {},
   "outputs": [
    {
     "name": "stderr",
     "output_type": "stream",
     "text": [
      "/usr/local/lib/python3.6/site-packages/ipykernel_launcher.py:2: SettingWithCopyWarning: \n",
      "A value is trying to be set on a copy of a slice from a DataFrame.\n",
      "Try using .loc[row_indexer,col_indexer] = value instead\n",
      "\n",
      "See the caveats in the documentation: http://pandas.pydata.org/pandas-docs/stable/indexing.html#indexing-view-versus-copy\n",
      "  \n"
     ]
    }
   ],
   "source": [
    "# fill zeroes\n",
    "max_mph['timestr'] = max_mph.hour.apply(lambda x: str(x).zfill(4))"
   ]
  },
  {
   "cell_type": "code",
   "execution_count": 73,
   "metadata": {},
   "outputs": [
    {
     "name": "stderr",
     "output_type": "stream",
     "text": [
      "/usr/local/lib/python3.6/site-packages/ipykernel_launcher.py:1: SettingWithCopyWarning: \n",
      "A value is trying to be set on a copy of a slice from a DataFrame.\n",
      "Try using .loc[row_indexer,col_indexer] = value instead\n",
      "\n",
      "See the caveats in the documentation: http://pandas.pydata.org/pandas-docs/stable/indexing.html#indexing-view-versus-copy\n",
      "  \"\"\"Entry point for launching an IPython kernel.\n"
     ]
    }
   ],
   "source": [
    "max_mph['datetime'] = pandas.to_datetime(max_mph.apply(lambda x: str(x['date']) + x['timestr'], axis=1), format=\"%Y%m%d%H%M\")"
   ]
  },
  {
   "cell_type": "code",
   "execution_count": 74,
   "metadata": {},
   "outputs": [
    {
     "data": {
      "text/html": [
       "<div>\n",
       "<style>\n",
       "    .dataframe thead tr:only-child th {\n",
       "        text-align: right;\n",
       "    }\n",
       "\n",
       "    .dataframe thead th {\n",
       "        text-align: left;\n",
       "    }\n",
       "\n",
       "    .dataframe tbody tr th {\n",
       "        vertical-align: top;\n",
       "    }\n",
       "</style>\n",
       "<table border=\"1\" class=\"dataframe\">\n",
       "  <thead>\n",
       "    <tr style=\"text-align: right;\">\n",
       "      <th></th>\n",
       "      <th>storm_name</th>\n",
       "      <th>date</th>\n",
       "      <th>hour</th>\n",
       "      <th>mph</th>\n",
       "      <th>timestr</th>\n",
       "      <th>datetime</th>\n",
       "    </tr>\n",
       "  </thead>\n",
       "  <tbody>\n",
       "    <tr>\n",
       "      <th>915</th>\n",
       "      <td>ADRIAN</td>\n",
       "      <td>20050519</td>\n",
       "      <td>1700</td>\n",
       "      <td>70</td>\n",
       "      <td>1700</td>\n",
       "      <td>2005-05-19 17:00:00</td>\n",
       "    </tr>\n",
       "    <tr>\n",
       "      <th>754</th>\n",
       "      <td>ALPHA</td>\n",
       "      <td>20051023</td>\n",
       "      <td>0</td>\n",
       "      <td>45</td>\n",
       "      <td>0000</td>\n",
       "      <td>2005-10-23 00:00:00</td>\n",
       "    </tr>\n",
       "    <tr>\n",
       "      <th>10</th>\n",
       "      <td>ARLENE</td>\n",
       "      <td>20050611</td>\n",
       "      <td>0</td>\n",
       "      <td>60</td>\n",
       "      <td>0000</td>\n",
       "      <td>2005-06-11 00:00:00</td>\n",
       "    </tr>\n",
       "    <tr>\n",
       "      <th>928</th>\n",
       "      <td>BEATRIZ</td>\n",
       "      <td>20050623</td>\n",
       "      <td>0</td>\n",
       "      <td>45</td>\n",
       "      <td>0000</td>\n",
       "      <td>2005-06-23 00:00:00</td>\n",
       "    </tr>\n",
       "    <tr>\n",
       "      <th>777</th>\n",
       "      <td>BETA</td>\n",
       "      <td>20051030</td>\n",
       "      <td>600</td>\n",
       "      <td>100</td>\n",
       "      <td>0600</td>\n",
       "      <td>2005-10-30 06:00:00</td>\n",
       "    </tr>\n",
       "  </tbody>\n",
       "</table>\n",
       "</div>"
      ],
      "text/plain": [
       "    storm_name      date  hour  mph timestr            datetime\n",
       "915     ADRIAN  20050519  1700   70    1700 2005-05-19 17:00:00\n",
       "754      ALPHA  20051023     0   45    0000 2005-10-23 00:00:00\n",
       "10      ARLENE  20050611     0   60    0000 2005-06-11 00:00:00\n",
       "928    BEATRIZ  20050623     0   45    0000 2005-06-23 00:00:00\n",
       "777       BETA  20051030   600  100    0600 2005-10-30 06:00:00"
      ]
     },
     "execution_count": 74,
     "metadata": {},
     "output_type": "execute_result"
    }
   ],
   "source": [
    "max_mph.head()"
   ]
  },
  {
   "cell_type": "code",
   "execution_count": 75,
   "metadata": {},
   "outputs": [
    {
     "name": "stdout",
     "output_type": "stream",
     "text": [
      "2005-12-31 06:00:00\n",
      "2005-05-19 17:00:00\n"
     ]
    }
   ],
   "source": [
    "print(max_mph.datetime.max())\n",
    "print(max_mph.datetime.min())"
   ]
  },
  {
   "cell_type": "code",
   "execution_count": 76,
   "metadata": {},
   "outputs": [],
   "source": [
    "max_mph.to_csv('../data/2005-hurricanes-maxspeed.csv')"
   ]
  },
  {
   "cell_type": "markdown",
   "metadata": {},
   "source": [
    "## Chart data LEFT OFF HERE!!!!!!!"
   ]
  },
  {
   "cell_type": "code",
   "execution_count": 83,
   "metadata": {},
   "outputs": [
    {
     "data": {
      "text/plain": [
       "<matplotlib.text.Text at 0x109cbf7b8>"
      ]
     },
     "execution_count": 83,
     "metadata": {},
     "output_type": "execute_result"
    },
    {
     "data": {
      "image/png": "[encoded data removed]",
      "text/plain": [
       "<matplotlib.figure.Figure at 0x109c1ed30>"
      ]
     },
     "metadata": {},
     "output_type": "display_data"
    }
   ],
   "source": [
    "max_mph[['datetime','mph']].plot(kind='bar')\n",
    "plt.title('2005 Hurricane season')"
   ]
  },
  {
   "cell_type": "markdown",
   "metadata": {},
   "source": [
    "## MIDITime initialization"
   ]
  },
  {
   "cell_type": "markdown",
   "metadata": {},
   "source": [
    "Instantiate the class with a tempo (120bpm is the default), an output file destination, the number of seconds you want to represent a year in the final song (default is 5 sec/year), the base octave (C5 is middle C, so the default is 5, and how many octaves you want your output to range over (default is 1)."
   ]
  },
  {
   "cell_type": "code",
   "execution_count": 9,
   "metadata": {
    "collapsed": true
   },
   "outputs": [],
   "source": [
    "from miditime.miditime import MIDITime\n",
    "BPM = 120\n",
    "FILENAME = '../audio/katrina-sonify.mid'\n",
    "SEC_PER_YEAR = 365\n",
    "BASE_OCTAVE = 5\n",
    "OCTAVES = 1\n",
    "\n",
    "mymidi = MIDITime(BPM,FILENAME, SEC_PER_YEAR, BASE_OCTAVE, OCTAVES)"
   ]
  },
  {
   "cell_type": "markdown",
   "metadata": {},
   "source": [
    "Convert your date/time data into an integer, like days since the epoch (Jan. 1, 1970). You can use the days_since_epoch() helper method, or not:"
   ]
  },
  {
   "cell_type": "code",
   "execution_count": 10,
   "metadata": {
    "collapsed": true
   },
   "outputs": [],
   "source": [
    "df['epoched'] = df.datetime.apply(lambda x: mymidi.days_since_epoch(x))"
   ]
  },
  {
   "cell_type": "markdown",
   "metadata": {},
   "source": [
    "## We can't use beat helper, our data spans only 8 days\n",
    "\n",
    "Convert your integer date/time to something reasonable for a song. For example, at 120 beats per minute, you'll need to scale the data down a lot to avoid a very long song if your data spans years. This uses the seconds_per_year attribute you set at the top, so if your date is converted to something other than days you may need to do your own conversion. But if your dataset spans years and your dates are in days (with fractions is fine), use the beat() helper method."
   ]
  },
  {
   "cell_type": "code",
   "execution_count": 11,
   "metadata": {
    "collapsed": true
   },
   "outputs": [],
   "source": [
    "df['beat'] = df['epoched'].apply(lambda x: mymidi.beat(x))"
   ]
  },
  {
   "cell_type": "code",
   "execution_count": 12,
   "metadata": {},
   "outputs": [
    {
     "name": "stdout",
     "output_type": "stream",
     "text": [
      "26019.68\n"
     ]
    }
   ],
   "source": [
    "START_TIME = df.beat.min() # beat doesn't start at 0 since we scaled our epoch seconds, so we just start at the first one.\n",
    "print(START_TIME)"
   ]
  },
  {
   "cell_type": "code",
   "execution_count": 13,
   "metadata": {},
   "outputs": [
    {
     "data": {
      "text/html": [
       "<div>\n",
       "<style>\n",
       "    .dataframe thead tr:only-child th {\n",
       "        text-align: right;\n",
       "    }\n",
       "\n",
       "    .dataframe thead th {\n",
       "        text-align: left;\n",
       "    }\n",
       "\n",
       "    .dataframe tbody tr th {\n",
       "        vertical-align: top;\n",
       "    }\n",
       "</style>\n",
       "<table border=\"1\" class=\"dataframe\">\n",
       "  <thead>\n",
       "    <tr style=\"text-align: right;\">\n",
       "      <th></th>\n",
       "      <th>date</th>\n",
       "      <th>time</th>\n",
       "      <th>mph</th>\n",
       "      <th>timestr</th>\n",
       "      <th>datetime</th>\n",
       "      <th>epoched</th>\n",
       "      <th>beat</th>\n",
       "    </tr>\n",
       "  </thead>\n",
       "  <tbody>\n",
       "    <tr>\n",
       "      <th>0</th>\n",
       "      <td>20050823</td>\n",
       "      <td>1800</td>\n",
       "      <td>30</td>\n",
       "      <td>1800</td>\n",
       "      <td>2005-08-23 18:00:00</td>\n",
       "      <td>13018.750000</td>\n",
       "      <td>26019.68</td>\n",
       "    </tr>\n",
       "    <tr>\n",
       "      <th>1</th>\n",
       "      <td>20050824</td>\n",
       "      <td>0</td>\n",
       "      <td>30</td>\n",
       "      <td>0000</td>\n",
       "      <td>2005-08-24 00:00:00</td>\n",
       "      <td>13019.000000</td>\n",
       "      <td>26020.18</td>\n",
       "    </tr>\n",
       "    <tr>\n",
       "      <th>2</th>\n",
       "      <td>20050824</td>\n",
       "      <td>600</td>\n",
       "      <td>30</td>\n",
       "      <td>0600</td>\n",
       "      <td>2005-08-24 06:00:00</td>\n",
       "      <td>13019.250000</td>\n",
       "      <td>26020.68</td>\n",
       "    </tr>\n",
       "    <tr>\n",
       "      <th>3</th>\n",
       "      <td>20050824</td>\n",
       "      <td>1200</td>\n",
       "      <td>35</td>\n",
       "      <td>1200</td>\n",
       "      <td>2005-08-24 12:00:00</td>\n",
       "      <td>13019.500000</td>\n",
       "      <td>26021.18</td>\n",
       "    </tr>\n",
       "    <tr>\n",
       "      <th>4</th>\n",
       "      <td>20050824</td>\n",
       "      <td>1800</td>\n",
       "      <td>40</td>\n",
       "      <td>1800</td>\n",
       "      <td>2005-08-24 18:00:00</td>\n",
       "      <td>13019.750000</td>\n",
       "      <td>26021.68</td>\n",
       "    </tr>\n",
       "    <tr>\n",
       "      <th>5</th>\n",
       "      <td>20050825</td>\n",
       "      <td>0</td>\n",
       "      <td>45</td>\n",
       "      <td>0000</td>\n",
       "      <td>2005-08-25 00:00:00</td>\n",
       "      <td>13020.000000</td>\n",
       "      <td>26022.18</td>\n",
       "    </tr>\n",
       "    <tr>\n",
       "      <th>6</th>\n",
       "      <td>20050825</td>\n",
       "      <td>600</td>\n",
       "      <td>50</td>\n",
       "      <td>0600</td>\n",
       "      <td>2005-08-25 06:00:00</td>\n",
       "      <td>13020.250000</td>\n",
       "      <td>26022.68</td>\n",
       "    </tr>\n",
       "    <tr>\n",
       "      <th>7</th>\n",
       "      <td>20050825</td>\n",
       "      <td>1200</td>\n",
       "      <td>55</td>\n",
       "      <td>1200</td>\n",
       "      <td>2005-08-25 12:00:00</td>\n",
       "      <td>13020.500000</td>\n",
       "      <td>26023.18</td>\n",
       "    </tr>\n",
       "    <tr>\n",
       "      <th>8</th>\n",
       "      <td>20050825</td>\n",
       "      <td>1800</td>\n",
       "      <td>60</td>\n",
       "      <td>1800</td>\n",
       "      <td>2005-08-25 18:00:00</td>\n",
       "      <td>13020.750000</td>\n",
       "      <td>26023.68</td>\n",
       "    </tr>\n",
       "    <tr>\n",
       "      <th>9</th>\n",
       "      <td>20050825</td>\n",
       "      <td>2230</td>\n",
       "      <td>70</td>\n",
       "      <td>2230</td>\n",
       "      <td>2005-08-25 22:30:00</td>\n",
       "      <td>13020.937500</td>\n",
       "      <td>26024.05</td>\n",
       "    </tr>\n",
       "    <tr>\n",
       "      <th>10</th>\n",
       "      <td>20050826</td>\n",
       "      <td>0</td>\n",
       "      <td>70</td>\n",
       "      <td>0000</td>\n",
       "      <td>2005-08-26 00:00:00</td>\n",
       "      <td>13021.000000</td>\n",
       "      <td>26024.18</td>\n",
       "    </tr>\n",
       "    <tr>\n",
       "      <th>11</th>\n",
       "      <td>20050826</td>\n",
       "      <td>600</td>\n",
       "      <td>65</td>\n",
       "      <td>0600</td>\n",
       "      <td>2005-08-26 06:00:00</td>\n",
       "      <td>13021.250000</td>\n",
       "      <td>26024.67</td>\n",
       "    </tr>\n",
       "    <tr>\n",
       "      <th>12</th>\n",
       "      <td>20050826</td>\n",
       "      <td>1200</td>\n",
       "      <td>75</td>\n",
       "      <td>1200</td>\n",
       "      <td>2005-08-26 12:00:00</td>\n",
       "      <td>13021.500000</td>\n",
       "      <td>26025.17</td>\n",
       "    </tr>\n",
       "    <tr>\n",
       "      <th>13</th>\n",
       "      <td>20050826</td>\n",
       "      <td>1800</td>\n",
       "      <td>85</td>\n",
       "      <td>1800</td>\n",
       "      <td>2005-08-26 18:00:00</td>\n",
       "      <td>13021.750000</td>\n",
       "      <td>26025.67</td>\n",
       "    </tr>\n",
       "    <tr>\n",
       "      <th>14</th>\n",
       "      <td>20050827</td>\n",
       "      <td>0</td>\n",
       "      <td>90</td>\n",
       "      <td>0000</td>\n",
       "      <td>2005-08-27 00:00:00</td>\n",
       "      <td>13022.000000</td>\n",
       "      <td>26026.17</td>\n",
       "    </tr>\n",
       "    <tr>\n",
       "      <th>15</th>\n",
       "      <td>20050827</td>\n",
       "      <td>600</td>\n",
       "      <td>95</td>\n",
       "      <td>0600</td>\n",
       "      <td>2005-08-27 06:00:00</td>\n",
       "      <td>13022.250000</td>\n",
       "      <td>26026.67</td>\n",
       "    </tr>\n",
       "    <tr>\n",
       "      <th>16</th>\n",
       "      <td>20050827</td>\n",
       "      <td>1200</td>\n",
       "      <td>100</td>\n",
       "      <td>1200</td>\n",
       "      <td>2005-08-27 12:00:00</td>\n",
       "      <td>13022.500000</td>\n",
       "      <td>26027.17</td>\n",
       "    </tr>\n",
       "    <tr>\n",
       "      <th>17</th>\n",
       "      <td>20050827</td>\n",
       "      <td>1800</td>\n",
       "      <td>100</td>\n",
       "      <td>1800</td>\n",
       "      <td>2005-08-27 18:00:00</td>\n",
       "      <td>13022.750000</td>\n",
       "      <td>26027.67</td>\n",
       "    </tr>\n",
       "    <tr>\n",
       "      <th>18</th>\n",
       "      <td>20050828</td>\n",
       "      <td>0</td>\n",
       "      <td>100</td>\n",
       "      <td>0000</td>\n",
       "      <td>2005-08-28 00:00:00</td>\n",
       "      <td>13023.000000</td>\n",
       "      <td>26028.17</td>\n",
       "    </tr>\n",
       "    <tr>\n",
       "      <th>19</th>\n",
       "      <td>20050828</td>\n",
       "      <td>600</td>\n",
       "      <td>125</td>\n",
       "      <td>0600</td>\n",
       "      <td>2005-08-28 06:00:00</td>\n",
       "      <td>13023.250000</td>\n",
       "      <td>26028.67</td>\n",
       "    </tr>\n",
       "    <tr>\n",
       "      <th>20</th>\n",
       "      <td>20050828</td>\n",
       "      <td>1200</td>\n",
       "      <td>145</td>\n",
       "      <td>1200</td>\n",
       "      <td>2005-08-28 12:00:00</td>\n",
       "      <td>13023.500000</td>\n",
       "      <td>26029.17</td>\n",
       "    </tr>\n",
       "    <tr>\n",
       "      <th>21</th>\n",
       "      <td>20050828</td>\n",
       "      <td>1800</td>\n",
       "      <td>150</td>\n",
       "      <td>1800</td>\n",
       "      <td>2005-08-28 18:00:00</td>\n",
       "      <td>13023.750000</td>\n",
       "      <td>26029.67</td>\n",
       "    </tr>\n",
       "    <tr>\n",
       "      <th>22</th>\n",
       "      <td>20050829</td>\n",
       "      <td>0</td>\n",
       "      <td>140</td>\n",
       "      <td>0000</td>\n",
       "      <td>2005-08-29 00:00:00</td>\n",
       "      <td>13024.000000</td>\n",
       "      <td>26030.17</td>\n",
       "    </tr>\n",
       "    <tr>\n",
       "      <th>23</th>\n",
       "      <td>20050829</td>\n",
       "      <td>600</td>\n",
       "      <td>125</td>\n",
       "      <td>0600</td>\n",
       "      <td>2005-08-29 06:00:00</td>\n",
       "      <td>13024.250000</td>\n",
       "      <td>26030.67</td>\n",
       "    </tr>\n",
       "    <tr>\n",
       "      <th>24</th>\n",
       "      <td>20050829</td>\n",
       "      <td>1110</td>\n",
       "      <td>110</td>\n",
       "      <td>1110</td>\n",
       "      <td>2005-08-29 11:10:00</td>\n",
       "      <td>13024.465278</td>\n",
       "      <td>26031.10</td>\n",
       "    </tr>\n",
       "    <tr>\n",
       "      <th>25</th>\n",
       "      <td>20050829</td>\n",
       "      <td>1200</td>\n",
       "      <td>110</td>\n",
       "      <td>1200</td>\n",
       "      <td>2005-08-29 12:00:00</td>\n",
       "      <td>13024.500000</td>\n",
       "      <td>26031.17</td>\n",
       "    </tr>\n",
       "    <tr>\n",
       "      <th>26</th>\n",
       "      <td>20050829</td>\n",
       "      <td>1445</td>\n",
       "      <td>105</td>\n",
       "      <td>1445</td>\n",
       "      <td>2005-08-29 14:45:00</td>\n",
       "      <td>13024.614583</td>\n",
       "      <td>26031.40</td>\n",
       "    </tr>\n",
       "    <tr>\n",
       "      <th>27</th>\n",
       "      <td>20050829</td>\n",
       "      <td>1800</td>\n",
       "      <td>80</td>\n",
       "      <td>1800</td>\n",
       "      <td>2005-08-29 18:00:00</td>\n",
       "      <td>13024.750000</td>\n",
       "      <td>26031.67</td>\n",
       "    </tr>\n",
       "    <tr>\n",
       "      <th>28</th>\n",
       "      <td>20050830</td>\n",
       "      <td>0</td>\n",
       "      <td>50</td>\n",
       "      <td>0000</td>\n",
       "      <td>2005-08-30 00:00:00</td>\n",
       "      <td>13025.000000</td>\n",
       "      <td>26032.17</td>\n",
       "    </tr>\n",
       "    <tr>\n",
       "      <th>29</th>\n",
       "      <td>20050830</td>\n",
       "      <td>600</td>\n",
       "      <td>40</td>\n",
       "      <td>0600</td>\n",
       "      <td>2005-08-30 06:00:00</td>\n",
       "      <td>13025.250000</td>\n",
       "      <td>26032.67</td>\n",
       "    </tr>\n",
       "    <tr>\n",
       "      <th>30</th>\n",
       "      <td>20050830</td>\n",
       "      <td>1200</td>\n",
       "      <td>30</td>\n",
       "      <td>1200</td>\n",
       "      <td>2005-08-30 12:00:00</td>\n",
       "      <td>13025.500000</td>\n",
       "      <td>26033.17</td>\n",
       "    </tr>\n",
       "    <tr>\n",
       "      <th>31</th>\n",
       "      <td>20050830</td>\n",
       "      <td>1800</td>\n",
       "      <td>30</td>\n",
       "      <td>1800</td>\n",
       "      <td>2005-08-30 18:00:00</td>\n",
       "      <td>13025.750000</td>\n",
       "      <td>26033.67</td>\n",
       "    </tr>\n",
       "    <tr>\n",
       "      <th>32</th>\n",
       "      <td>20050831</td>\n",
       "      <td>0</td>\n",
       "      <td>30</td>\n",
       "      <td>0000</td>\n",
       "      <td>2005-08-31 00:00:00</td>\n",
       "      <td>13026.000000</td>\n",
       "      <td>26034.17</td>\n",
       "    </tr>\n",
       "    <tr>\n",
       "      <th>33</th>\n",
       "      <td>20050831</td>\n",
       "      <td>600</td>\n",
       "      <td>25</td>\n",
       "      <td>0600</td>\n",
       "      <td>2005-08-31 06:00:00</td>\n",
       "      <td>13026.250000</td>\n",
       "      <td>26034.67</td>\n",
       "    </tr>\n",
       "  </tbody>\n",
       "</table>\n",
       "</div>"
      ],
      "text/plain": [
       "        date  time  mph timestr            datetime       epoched      beat\n",
       "0   20050823  1800   30    1800 2005-08-23 18:00:00  13018.750000  26019.68\n",
       "1   20050824     0   30    0000 2005-08-24 00:00:00  13019.000000  26020.18\n",
       "2   20050824   600   30    0600 2005-08-24 06:00:00  13019.250000  26020.68\n",
       "3   20050824  1200   35    1200 2005-08-24 12:00:00  13019.500000  26021.18\n",
       "4   20050824  1800   40    1800 2005-08-24 18:00:00  13019.750000  26021.68\n",
       "5   20050825     0   45    0000 2005-08-25 00:00:00  13020.000000  26022.18\n",
       "6   20050825   600   50    0600 2005-08-25 06:00:00  13020.250000  26022.68\n",
       "7   20050825  1200   55    1200 2005-08-25 12:00:00  13020.500000  26023.18\n",
       "8   20050825  1800   60    1800 2005-08-25 18:00:00  13020.750000  26023.68\n",
       "9   20050825  2230   70    2230 2005-08-25 22:30:00  13020.937500  26024.05\n",
       "10  20050826     0   70    0000 2005-08-26 00:00:00  13021.000000  26024.18\n",
       "11  20050826   600   65    0600 2005-08-26 06:00:00  13021.250000  26024.67\n",
       "12  20050826  1200   75    1200 2005-08-26 12:00:00  13021.500000  26025.17\n",
       "13  20050826  1800   85    1800 2005-08-26 18:00:00  13021.750000  26025.67\n",
       "14  20050827     0   90    0000 2005-08-27 00:00:00  13022.000000  26026.17\n",
       "15  20050827   600   95    0600 2005-08-27 06:00:00  13022.250000  26026.67\n",
       "16  20050827  1200  100    1200 2005-08-27 12:00:00  13022.500000  26027.17\n",
       "17  20050827  1800  100    1800 2005-08-27 18:00:00  13022.750000  26027.67\n",
       "18  20050828     0  100    0000 2005-08-28 00:00:00  13023.000000  26028.17\n",
       "19  20050828   600  125    0600 2005-08-28 06:00:00  13023.250000  26028.67\n",
       "20  20050828  1200  145    1200 2005-08-28 12:00:00  13023.500000  26029.17\n",
       "21  20050828  1800  150    1800 2005-08-28 18:00:00  13023.750000  26029.67\n",
       "22  20050829     0  140    0000 2005-08-29 00:00:00  13024.000000  26030.17\n",
       "23  20050829   600  125    0600 2005-08-29 06:00:00  13024.250000  26030.67\n",
       "24  20050829  1110  110    1110 2005-08-29 11:10:00  13024.465278  26031.10\n",
       "25  20050829  1200  110    1200 2005-08-29 12:00:00  13024.500000  26031.17\n",
       "26  20050829  1445  105    1445 2005-08-29 14:45:00  13024.614583  26031.40\n",
       "27  20050829  1800   80    1800 2005-08-29 18:00:00  13024.750000  26031.67\n",
       "28  20050830     0   50    0000 2005-08-30 00:00:00  13025.000000  26032.17\n",
       "29  20050830   600   40    0600 2005-08-30 06:00:00  13025.250000  26032.67\n",
       "30  20050830  1200   30    1200 2005-08-30 12:00:00  13025.500000  26033.17\n",
       "31  20050830  1800   30    1800 2005-08-30 18:00:00  13025.750000  26033.67\n",
       "32  20050831     0   30    0000 2005-08-31 00:00:00  13026.000000  26034.17\n",
       "33  20050831   600   25    0600 2005-08-31 06:00:00  13026.250000  26034.67"
      ]
     },
     "execution_count": 13,
     "metadata": {},
     "output_type": "execute_result"
    }
   ],
   "source": [
    "df.head(34)"
   ]
  },
  {
   "cell_type": "code",
   "execution_count": 14,
   "metadata": {},
   "outputs": [
    {
     "name": "stdout",
     "output_type": "stream",
     "text": [
      "25 150\n"
     ]
    }
   ],
   "source": [
    "MAX = df.mph.max()\n",
    "MIN = df.mph.min()\n",
    "print(MIN,MAX)"
   ]
  },
  {
   "cell_type": "markdown",
   "metadata": {},
   "source": [
    "## Create scale from mph "
   ]
  },
  {
   "cell_type": "markdown",
   "metadata": {},
   "source": [
    "Use linear scale."
   ]
  },
  {
   "cell_type": "code",
   "execution_count": 15,
   "metadata": {
    "collapsed": true
   },
   "outputs": [],
   "source": [
    "def mag_to_pitch_tuned(mph):\n",
    "    # Where does this data point sit in the domain of your data? (I.E. the min mph is 3, the max in 5.6). In this case the optional 'True' means the scale is reversed, so the highest value will return the lowest percentage.\n",
    "    #scale_pct = mymidi.linear_scale_pct(MIN, MAX, mph)\n",
    "\n",
    "    # Another option: Linear scale, reverse order\n",
    "    #scale_pct = mymidi.linear_scale_pct(MIN, MAX, mph, True)\n",
    "\n",
    "    # Another option: Logarithmic scale, reverse order\n",
    "    scale_pct = mymidi.log_scale_pct(MIN, MAX, mph, True)\n",
    "\n",
    "    # Pick a range of notes. This allows you to play in a key.\n",
    "    c_major = ['C', 'D', 'E', 'F', 'G', 'A', 'B']\n",
    "\n",
    "    #Find the note that matches your data point\n",
    "    note = mymidi.scale_to_note(scale_pct, c_major)\n",
    "\n",
    "    #Translate that note to a MIDI pitch\n",
    "    midi_pitch = mymidi.note_to_midi_pitch(note)\n",
    "\n",
    "    return midi_pitch\n"
   ]
  },
  {
   "cell_type": "code",
   "execution_count": 16,
   "metadata": {
    "collapsed": true
   },
   "outputs": [],
   "source": [
    "df['pitch'] = df.mph.apply(lambda x: mag_to_pitch_tuned(x))"
   ]
  },
  {
   "cell_type": "markdown",
   "metadata": {},
   "source": [
    " ### Let's also make larger mph louder."
   ]
  },
  {
   "cell_type": "code",
   "execution_count": 17,
   "metadata": {
    "collapsed": true
   },
   "outputs": [],
   "source": [
    "MIN_V = 25\n",
    "MAX_V = 150\n",
    "df['velocity'] = df.mph.apply(lambda x: int(np.interp(x, [MIN,MAX], [25, 150])))"
   ]
  },
  {
   "cell_type": "code",
   "execution_count": 18,
   "metadata": {},
   "outputs": [
    {
     "data": {
      "text/plain": [
       "0      30\n",
       "1      30\n",
       "2      30\n",
       "3      35\n",
       "4      40\n",
       "5      45\n",
       "6      50\n",
       "7      55\n",
       "8      60\n",
       "9      70\n",
       "10     70\n",
       "11     65\n",
       "12     75\n",
       "13     85\n",
       "14     90\n",
       "15     95\n",
       "16    100\n",
       "17    100\n",
       "18    100\n",
       "19    125\n",
       "20    145\n",
       "21    150\n",
       "22    140\n",
       "23    125\n",
       "24    110\n",
       "25    110\n",
       "26    105\n",
       "27     80\n",
       "28     50\n",
       "29     40\n",
       "30     30\n",
       "31     30\n",
       "32     30\n",
       "33     25\n",
       "Name: velocity, dtype: int64"
      ]
     },
     "execution_count": 18,
     "metadata": {},
     "output_type": "execute_result"
    }
   ],
   "source": [
    "df.velocity\n"
   ]
  },
  {
   "cell_type": "markdown",
   "metadata": {},
   "source": [
    "## Build note list\n",
    "- I know you're not supposed to iterate through a dataframe — but it's pretty small and manegable.\n",
    "- [BEAT, PITCH, VELOCITY (VOLUME), DURATION_OF_NOTE]"
   ]
  },
  {
   "cell_type": "code",
   "execution_count": 19,
   "metadata": {
    "collapsed": true
   },
   "outputs": [],
   "source": [
    "scaled_data = df.to_dict('records')"
   ]
  },
  {
   "cell_type": "code",
   "execution_count": 20,
   "metadata": {
    "collapsed": true
   },
   "outputs": [],
   "source": [
    "note_list = []  \n",
    "#V = 100 # constant for now\n",
    "D = 1 # duration constant for now\n",
    "\n",
    "for d in scaled_data:\n",
    "    beat = d['beat'] - START_TIME\n",
    "    pitch = d['pitch']\n",
    "    velocity = d['velocity']\n",
    "    duration = D\n",
    "    note_list.append([beat, pitch, velocity, duration])\n"
   ]
  },
  {
   "cell_type": "code",
   "execution_count": 21,
   "metadata": {},
   "outputs": [
    {
     "data": {
      "text/plain": [
       "[[0.0, 71, 30, 1],\n",
       " [0.5, 71, 30, 1],\n",
       " [1.0, 71, 30, 1],\n",
       " [1.5, 71, 35, 1],\n",
       " [2.0, 71, 40, 1],\n",
       " [2.5, 71, 45, 1],\n",
       " [3.0, 71, 50, 1],\n",
       " [3.5, 71, 55, 1],\n",
       " [4.0, 71, 60, 1],\n",
       " [4.3699999999989814, 71, 70, 1],\n",
       " [4.5, 71, 70, 1],\n",
       " [4.9899999999979627, 71, 65, 1],\n",
       " [5.4899999999979627, 71, 75, 1],\n",
       " [5.9899999999979627, 71, 85, 1],\n",
       " [6.4899999999979627, 71, 90, 1],\n",
       " [6.9899999999979627, 71, 95, 1],\n",
       " [7.4899999999979627, 71, 100, 1],\n",
       " [7.9899999999979627, 71, 100, 1],\n",
       " [8.4899999999979627, 71, 100, 1],\n",
       " [8.9899999999979627, 71, 125, 1],\n",
       " [9.4899999999979627, 71, 145, 1],\n",
       " [9.9899999999979627, 71, 150, 1],\n",
       " [10.489999999997963, 71, 140, 1],\n",
       " [10.989999999997963, 71, 125, 1],\n",
       " [11.419999999998254, 71, 110, 1],\n",
       " [11.489999999997963, 71, 110, 1],\n",
       " [11.720000000001164, 71, 105, 1],\n",
       " [11.989999999997963, 71, 80, 1],\n",
       " [12.489999999997963, 71, 50, 1],\n",
       " [12.989999999997963, 71, 40, 1],\n",
       " [13.489999999997963, 71, 30, 1],\n",
       " [13.989999999997963, 71, 30, 1],\n",
       " [14.489999999997963, 71, 30, 1],\n",
       " [14.989999999997963, 71, 25, 1]]"
      ]
     },
     "execution_count": 21,
     "metadata": {},
     "output_type": "execute_result"
    }
   ],
   "source": [
    "note_list"
   ]
  },
  {
   "cell_type": "markdown",
   "metadata": {},
   "source": [
    "## Make MIDI file"
   ]
  },
  {
   "cell_type": "code",
   "execution_count": 22,
   "metadata": {},
   "outputs": [
    {
     "name": "stdout",
     "output_type": "stream",
     "text": [
      "71 0.0 1 30\n",
      "71 0.5 1 30\n",
      "71 1.0 1 30\n",
      "71 1.5 1 35\n",
      "71 2.0 1 40\n",
      "71 2.5 1 45\n",
      "71 3.0 1 50\n",
      "71 3.5 1 55\n",
      "71 4.0 1 60\n",
      "71 4.37 1 70\n",
      "71 4.5 1 70\n",
      "71 4.99 1 65\n",
      "71 5.49 1 75\n",
      "71 5.99 1 85\n",
      "71 6.49 1 90\n",
      "71 6.99 1 95\n",
      "71 7.49 1 100\n",
      "71 7.99 1 100\n",
      "71 8.49 1 100\n",
      "71 8.99 1 125\n",
      "71 9.49 1 145\n",
      "71 9.99 1 150\n",
      "71 10.49 1 140\n",
      "71 10.99 1 125\n",
      "71 11.42 1 110\n",
      "71 11.49 1 110\n",
      "71 11.72 1 105\n",
      "71 11.99 1 80\n",
      "71 12.49 1 50\n",
      "71 12.99 1 40\n",
      "71 13.49 1 30\n",
      "71 13.99 1 30\n",
      "71 14.49 1 30\n",
      "71 14.99 1 25\n"
     ]
    }
   ],
   "source": [
    "# Add a track with those notes\n",
    "mymidi.add_track(note_list)\n",
    "\n",
    "# Output the .mid file\n",
    "mymidi.save_midi()"
   ]
  },
  {
   "cell_type": "code",
   "execution_count": null,
   "metadata": {
    "collapsed": true
   },
   "outputs": [],
   "source": []
  },
  {
   "cell_type": "code",
   "execution_count": null,
   "metadata": {
    "collapsed": true
   },
   "outputs": [],
   "source": []
  }
 ],
 "metadata": {
  "kernelspec": {
   "display_name": "Python 3",
   "language": "python",
   "name": "python3"
  },
  "language_info": {
   "codemirror_mode": {
    "name": "ipython",
    "version": 3
   },
   "file_extension": ".py",
   "mimetype": "text/x-python",
   "name": "python",
   "nbconvert_exporter": "python",
   "pygments_lexer": "ipython3",
   "version": "3.6.1"
  }
 },
 "nbformat": 4,
 "nbformat_minor": 2
}
