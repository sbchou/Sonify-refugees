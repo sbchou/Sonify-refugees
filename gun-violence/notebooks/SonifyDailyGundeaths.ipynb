{
 "cells": [
  {
   "cell_type": "code",
   "execution_count": 32,
   "metadata": {
    "collapsed": true
   },
   "outputs": [],
   "source": [
    "# My usual setup\n",
    "%matplotlib inline\n",
    "import matplotlib.pyplot as plt\n",
    "import pandas \n",
    "from datetime import datetime\n",
    "import seaborn as sns\n",
    "import glob\n",
    "from os.path import basename\n",
    "sns.set_context('poster') \n",
    "import numpy as np"
   ]
  },
  {
   "cell_type": "markdown",
   "metadata": {},
   "source": [
    "# Sonify gun violence in america in different ways\n",
    "- Original tutorial https://github.com/cirlabs/miditime\n",
    "- I handle most manipulations in dataframe for ease of IO"
   ]
  },
  {
   "cell_type": "markdown",
   "metadata": {},
   "source": [
    "## First, format files"
   ]
  },
  {
   "cell_type": "code",
   "execution_count": 33,
   "metadata": {},
   "outputs": [],
   "source": [
    "df = pandas.read_csv('../data/mass-shootings-2017-reformatted.csv')"
   ]
  },
  {
   "cell_type": "code",
   "execution_count": 34,
   "metadata": {
    "scrolled": true
   },
   "outputs": [
    {
     "data": {
      "text/html": [
       "<div>\n",
       "<style>\n",
       "    .dataframe thead tr:only-child th {\n",
       "        text-align: right;\n",
       "    }\n",
       "\n",
       "    .dataframe thead th {\n",
       "        text-align: left;\n",
       "    }\n",
       "\n",
       "    .dataframe tbody tr th {\n",
       "        vertical-align: top;\n",
       "    }\n",
       "</style>\n",
       "<table border=\"1\" class=\"dataframe\">\n",
       "  <thead>\n",
       "    <tr style=\"text-align: right;\">\n",
       "      <th></th>\n",
       "      <th>date</th>\n",
       "      <th>state</th>\n",
       "      <th>city_county</th>\n",
       "      <th>address</th>\n",
       "      <th>nkill</th>\n",
       "      <th>ninjured</th>\n",
       "      <th>operations</th>\n",
       "    </tr>\n",
       "  </thead>\n",
       "  <tbody>\n",
       "    <tr>\n",
       "      <th>0</th>\n",
       "      <td>5-Nov-17</td>\n",
       "      <td>Texas</td>\n",
       "      <td>Sutherland Springs</td>\n",
       "      <td>216 4th St</td>\n",
       "      <td>27</td>\n",
       "      <td>20</td>\n",
       "      <td>NaN</td>\n",
       "    </tr>\n",
       "    <tr>\n",
       "      <th>1</th>\n",
       "      <td>4-Nov-17</td>\n",
       "      <td>Texas</td>\n",
       "      <td>Austin</td>\n",
       "      <td>N Lamar Blvd and Masterson Pass</td>\n",
       "      <td>0</td>\n",
       "      <td>4</td>\n",
       "      <td>NaN</td>\n",
       "    </tr>\n",
       "    <tr>\n",
       "      <th>2</th>\n",
       "      <td>4-Nov-17</td>\n",
       "      <td>Ohio</td>\n",
       "      <td>Youngstown</td>\n",
       "      <td>2810 Market St</td>\n",
       "      <td>0</td>\n",
       "      <td>4</td>\n",
       "      <td>NaN</td>\n",
       "    </tr>\n",
       "    <tr>\n",
       "      <th>3</th>\n",
       "      <td>4-Nov-17</td>\n",
       "      <td>California</td>\n",
       "      <td>Santa Monica</td>\n",
       "      <td>1515 Ocean Avenue</td>\n",
       "      <td>1</td>\n",
       "      <td>3</td>\n",
       "      <td>NaN</td>\n",
       "    </tr>\n",
       "    <tr>\n",
       "      <th>4</th>\n",
       "      <td>3-Nov-17</td>\n",
       "      <td>Minnesota</td>\n",
       "      <td>Minneapolis</td>\n",
       "      <td>10th Ave S and E 24th St</td>\n",
       "      <td>0</td>\n",
       "      <td>4</td>\n",
       "      <td>NaN</td>\n",
       "    </tr>\n",
       "  </tbody>\n",
       "</table>\n",
       "</div>"
      ],
      "text/plain": [
       "       date       state         city_county                          address  \\\n",
       "0  5-Nov-17       Texas  Sutherland Springs                       216 4th St   \n",
       "1  4-Nov-17       Texas              Austin  N Lamar Blvd and Masterson Pass   \n",
       "2  4-Nov-17        Ohio          Youngstown                   2810 Market St   \n",
       "3  4-Nov-17  California        Santa Monica                1515 Ocean Avenue   \n",
       "4  3-Nov-17   Minnesota         Minneapolis         10th Ave S and E 24th St   \n",
       "\n",
       "   nkill  ninjured  operations  \n",
       "0     27        20         NaN  \n",
       "1      0         4         NaN  \n",
       "2      0         4         NaN  \n",
       "3      1         3         NaN  \n",
       "4      0         4         NaN  "
      ]
     },
     "execution_count": 34,
     "metadata": {},
     "output_type": "execute_result"
    }
   ],
   "source": [
    "df.head()"
   ]
  },
  {
   "cell_type": "code",
   "execution_count": 35,
   "metadata": {},
   "outputs": [],
   "source": [
    "df['datetime'] = pandas.to_datetime(df.date, infer_datetime_format=True)"
   ]
  },
  {
   "cell_type": "code",
   "execution_count": 5,
   "metadata": {},
   "outputs": [
    {
     "data": {
      "text/html": [
       "<div>\n",
       "<style>\n",
       "    .dataframe thead tr:only-child th {\n",
       "        text-align: right;\n",
       "    }\n",
       "\n",
       "    .dataframe thead th {\n",
       "        text-align: left;\n",
       "    }\n",
       "\n",
       "    .dataframe tbody tr th {\n",
       "        vertical-align: top;\n",
       "    }\n",
       "</style>\n",
       "<table border=\"1\" class=\"dataframe\">\n",
       "  <thead>\n",
       "    <tr style=\"text-align: right;\">\n",
       "      <th></th>\n",
       "      <th>date</th>\n",
       "      <th>state</th>\n",
       "      <th>city_county</th>\n",
       "      <th>address</th>\n",
       "      <th>nkill</th>\n",
       "      <th>ninjured</th>\n",
       "      <th>operations</th>\n",
       "      <th>datetime</th>\n",
       "    </tr>\n",
       "  </thead>\n",
       "  <tbody>\n",
       "    <tr>\n",
       "      <th>0</th>\n",
       "      <td>5-Nov-17</td>\n",
       "      <td>Texas</td>\n",
       "      <td>Sutherland Springs</td>\n",
       "      <td>216 4th St</td>\n",
       "      <td>27</td>\n",
       "      <td>20</td>\n",
       "      <td>NaN</td>\n",
       "      <td>2017-11-05</td>\n",
       "    </tr>\n",
       "    <tr>\n",
       "      <th>1</th>\n",
       "      <td>4-Nov-17</td>\n",
       "      <td>Texas</td>\n",
       "      <td>Austin</td>\n",
       "      <td>N Lamar Blvd and Masterson Pass</td>\n",
       "      <td>0</td>\n",
       "      <td>4</td>\n",
       "      <td>NaN</td>\n",
       "      <td>2017-11-04</td>\n",
       "    </tr>\n",
       "    <tr>\n",
       "      <th>2</th>\n",
       "      <td>4-Nov-17</td>\n",
       "      <td>Ohio</td>\n",
       "      <td>Youngstown</td>\n",
       "      <td>2810 Market St</td>\n",
       "      <td>0</td>\n",
       "      <td>4</td>\n",
       "      <td>NaN</td>\n",
       "      <td>2017-11-04</td>\n",
       "    </tr>\n",
       "    <tr>\n",
       "      <th>3</th>\n",
       "      <td>4-Nov-17</td>\n",
       "      <td>California</td>\n",
       "      <td>Santa Monica</td>\n",
       "      <td>1515 Ocean Avenue</td>\n",
       "      <td>1</td>\n",
       "      <td>3</td>\n",
       "      <td>NaN</td>\n",
       "      <td>2017-11-04</td>\n",
       "    </tr>\n",
       "    <tr>\n",
       "      <th>4</th>\n",
       "      <td>3-Nov-17</td>\n",
       "      <td>Minnesota</td>\n",
       "      <td>Minneapolis</td>\n",
       "      <td>10th Ave S and E 24th St</td>\n",
       "      <td>0</td>\n",
       "      <td>4</td>\n",
       "      <td>NaN</td>\n",
       "      <td>2017-11-03</td>\n",
       "    </tr>\n",
       "  </tbody>\n",
       "</table>\n",
       "</div>"
      ],
      "text/plain": [
       "       date       state         city_county                          address  \\\n",
       "0  5-Nov-17       Texas  Sutherland Springs                       216 4th St   \n",
       "1  4-Nov-17       Texas              Austin  N Lamar Blvd and Masterson Pass   \n",
       "2  4-Nov-17        Ohio          Youngstown                   2810 Market St   \n",
       "3  4-Nov-17  California        Santa Monica                1515 Ocean Avenue   \n",
       "4  3-Nov-17   Minnesota         Minneapolis         10th Ave S and E 24th St   \n",
       "\n",
       "   nkill  ninjured  operations   datetime  \n",
       "0     27        20         NaN 2017-11-05  \n",
       "1      0         4         NaN 2017-11-04  \n",
       "2      0         4         NaN 2017-11-04  \n",
       "3      1         3         NaN 2017-11-04  \n",
       "4      0         4         NaN 2017-11-03  "
      ]
     },
     "execution_count": 5,
     "metadata": {},
     "output_type": "execute_result"
    }
   ],
   "source": [
    "df.head()"
   ]
  },
  {
   "cell_type": "code",
   "execution_count": 37,
   "metadata": {},
   "outputs": [],
   "source": [
    "df_nkill = df.groupby('datetime').nkill.sum().to_frame()"
   ]
  },
  {
   "cell_type": "code",
   "execution_count": 38,
   "metadata": {},
   "outputs": [
    {
     "name": "stdout",
     "output_type": "stream",
     "text": [
      "2017-11-05 00:00:00\n",
      "2017-01-01 00:00:00\n"
     ]
    }
   ],
   "source": [
    "print(df_nkill.index.max())\n",
    "print(df_nkill.index.min())"
   ]
  },
  {
   "cell_type": "code",
   "execution_count": 39,
   "metadata": {},
   "outputs": [
    {
     "name": "stdout",
     "output_type": "stream",
     "text": [
      "nkill    62\n",
      "dtype: int64\n",
      "nkill    0\n",
      "dtype: int64\n"
     ]
    }
   ],
   "source": [
    "print(df_nkill.max())\n",
    "print(df_nkill.min())"
   ]
  },
  {
   "cell_type": "code",
   "execution_count": 40,
   "metadata": {},
   "outputs": [
    {
     "name": "stdout",
     "output_type": "stream",
     "text": [
      "nkill   2017-10-01\n",
      "dtype: datetime64[ns]\n"
     ]
    }
   ],
   "source": [
    "print(df_nkill.idxmax())"
   ]
  },
  {
   "cell_type": "code",
   "execution_count": 41,
   "metadata": {},
   "outputs": [
    {
     "data": {
      "text/html": [
       "<div>\n",
       "<style>\n",
       "    .dataframe thead tr:only-child th {\n",
       "        text-align: right;\n",
       "    }\n",
       "\n",
       "    .dataframe thead th {\n",
       "        text-align: left;\n",
       "    }\n",
       "\n",
       "    .dataframe tbody tr th {\n",
       "        vertical-align: top;\n",
       "    }\n",
       "</style>\n",
       "<table border=\"1\" class=\"dataframe\">\n",
       "  <thead>\n",
       "    <tr style=\"text-align: right;\">\n",
       "      <th></th>\n",
       "      <th>nkill</th>\n",
       "    </tr>\n",
       "    <tr>\n",
       "      <th>datetime</th>\n",
       "      <th></th>\n",
       "    </tr>\n",
       "  </thead>\n",
       "  <tbody>\n",
       "    <tr>\n",
       "      <th>2017-01-01</th>\n",
       "      <td>1</td>\n",
       "    </tr>\n",
       "    <tr>\n",
       "      <th>2017-01-03</th>\n",
       "      <td>0</td>\n",
       "    </tr>\n",
       "    <tr>\n",
       "      <th>2017-01-04</th>\n",
       "      <td>3</td>\n",
       "    </tr>\n",
       "    <tr>\n",
       "      <th>2017-01-06</th>\n",
       "      <td>7</td>\n",
       "    </tr>\n",
       "    <tr>\n",
       "      <th>2017-01-07</th>\n",
       "      <td>1</td>\n",
       "    </tr>\n",
       "  </tbody>\n",
       "</table>\n",
       "</div>"
      ],
      "text/plain": [
       "            nkill\n",
       "datetime         \n",
       "2017-01-01      1\n",
       "2017-01-03      0\n",
       "2017-01-04      3\n",
       "2017-01-06      7\n",
       "2017-01-07      1"
      ]
     },
     "execution_count": 41,
     "metadata": {},
     "output_type": "execute_result"
    }
   ],
   "source": [
    "df_nkill.head()"
   ]
  },
  {
   "cell_type": "code",
   "execution_count": 42,
   "metadata": {
    "collapsed": true
   },
   "outputs": [],
   "source": [
    "df_nkill.to_csv('../data/nkill-by-day-2017.csv')"
   ]
  },
  {
   "cell_type": "code",
   "execution_count": 43,
   "metadata": {},
   "outputs": [],
   "source": [
    "df_nkill['datetime'] = df_nkill.index"
   ]
  },
  {
   "cell_type": "code",
   "execution_count": 44,
   "metadata": {},
   "outputs": [
    {
     "data": {
      "text/html": [
       "<div>\n",
       "<style>\n",
       "    .dataframe thead tr:only-child th {\n",
       "        text-align: right;\n",
       "    }\n",
       "\n",
       "    .dataframe thead th {\n",
       "        text-align: left;\n",
       "    }\n",
       "\n",
       "    .dataframe tbody tr th {\n",
       "        vertical-align: top;\n",
       "    }\n",
       "</style>\n",
       "<table border=\"1\" class=\"dataframe\">\n",
       "  <thead>\n",
       "    <tr style=\"text-align: right;\">\n",
       "      <th></th>\n",
       "      <th>nkill</th>\n",
       "      <th>datetime</th>\n",
       "    </tr>\n",
       "    <tr>\n",
       "      <th>datetime</th>\n",
       "      <th></th>\n",
       "      <th></th>\n",
       "    </tr>\n",
       "  </thead>\n",
       "  <tbody>\n",
       "    <tr>\n",
       "      <th>2017-01-01</th>\n",
       "      <td>1</td>\n",
       "      <td>2017-01-01</td>\n",
       "    </tr>\n",
       "    <tr>\n",
       "      <th>2017-01-03</th>\n",
       "      <td>0</td>\n",
       "      <td>2017-01-03</td>\n",
       "    </tr>\n",
       "    <tr>\n",
       "      <th>2017-01-04</th>\n",
       "      <td>3</td>\n",
       "      <td>2017-01-04</td>\n",
       "    </tr>\n",
       "    <tr>\n",
       "      <th>2017-01-06</th>\n",
       "      <td>7</td>\n",
       "      <td>2017-01-06</td>\n",
       "    </tr>\n",
       "    <tr>\n",
       "      <th>2017-01-07</th>\n",
       "      <td>1</td>\n",
       "      <td>2017-01-07</td>\n",
       "    </tr>\n",
       "  </tbody>\n",
       "</table>\n",
       "</div>"
      ],
      "text/plain": [
       "            nkill   datetime\n",
       "datetime                    \n",
       "2017-01-01      1 2017-01-01\n",
       "2017-01-03      0 2017-01-03\n",
       "2017-01-04      3 2017-01-04\n",
       "2017-01-06      7 2017-01-06\n",
       "2017-01-07      1 2017-01-07"
      ]
     },
     "execution_count": 44,
     "metadata": {},
     "output_type": "execute_result"
    }
   ],
   "source": [
    "df_nkill.head()"
   ]
  },
  {
   "cell_type": "markdown",
   "metadata": {},
   "source": [
    "### NEVER FORGET TO SORT"
   ]
  },
  {
   "cell_type": "code",
   "execution_count": 45,
   "metadata": {},
   "outputs": [],
   "source": [
    "df_nkill.sort_index(inplace=True)"
   ]
  },
  {
   "cell_type": "markdown",
   "metadata": {},
   "source": [
    "## Chart data  "
   ]
  },
  {
   "cell_type": "code",
   "execution_count": 47,
   "metadata": {},
   "outputs": [
    {
     "data": {
      "text/plain": [
       "<matplotlib.text.Text at 0x11425a4a8>"
      ]
     },
     "execution_count": 47,
     "metadata": {},
     "output_type": "execute_result"
    },
    {
     "data": {
      "image/png": "[encoded data removed]",
      "text/plain": [
       "<matplotlib.figure.Figure at 0x114210e48>"
      ]
     },
     "metadata": {},
     "output_type": "display_data"
    }
   ],
   "source": [
    "df_nkill.plot()\n",
    "plt.title('Deaths by mass shootings, 2017')"
   ]
  },
  {
   "cell_type": "markdown",
   "metadata": {},
   "source": [
    "## MIDITime initialization"
   ]
  },
  {
   "cell_type": "markdown",
   "metadata": {},
   "source": [
    "Instantiate the class with a tempo (120bpm is the default), an output file destination, the number of seconds you want to represent a year in the final song (default is 5 sec/year), the base octave (C5 is middle C, so the default is 5, and how many octaves you want your output to range over (default is 1)."
   ]
  },
  {
   "cell_type": "code",
   "execution_count": 48,
   "metadata": {
    "collapsed": true
   },
   "outputs": [],
   "source": [
    "from miditime.miditime import MIDITime\n",
    "BPM = 120\n",
    "FILENAME = '../audio/2017-nkill-20s.mid'\n",
    "SEC_PER_YEAR = 20\n",
    "BASE_OCTAVE = 5\n",
    "OCTAVES = 1\n",
    "\n",
    "mymidi = MIDITime(BPM,FILENAME, SEC_PER_YEAR, BASE_OCTAVE, OCTAVES)"
   ]
  },
  {
   "cell_type": "markdown",
   "metadata": {},
   "source": [
    "Convert your date/time data into an integer, like days since the epoch (Jan. 1, 1970). You can use the days_since_epoch() helper method, or not:"
   ]
  },
  {
   "cell_type": "code",
   "execution_count": 49,
   "metadata": {},
   "outputs": [],
   "source": [
    "df_nkill['epoched'] = df_nkill.datetime.apply(lambda x: mymidi.days_since_epoch(x))"
   ]
  },
  {
   "cell_type": "markdown",
   "metadata": {},
   "source": [
    "## Our data is one year\n",
    "Convert your integer date/time to something reasonable for a song. For example, at 120 beats per minute, you'll need to scale the data down a lot to avoid a very long song if your data spans years. This uses the seconds_per_year attribute you set at the top, so if your date is converted to something other than days you may need to do your own conversion. But if your dataset spans years and your dates are in days (with fractions is fine), use the beat() helper method."
   ]
  },
  {
   "cell_type": "code",
   "execution_count": 50,
   "metadata": {},
   "outputs": [],
   "source": [
    "df_nkill['beat'] = df_nkill['epoched'].apply(lambda x: mymidi.beat(x))"
   ]
  },
  {
   "cell_type": "code",
   "execution_count": 51,
   "metadata": {},
   "outputs": [
    {
     "data": {
      "text/html": [
       "<div>\n",
       "<style>\n",
       "    .dataframe thead tr:only-child th {\n",
       "        text-align: right;\n",
       "    }\n",
       "\n",
       "    .dataframe thead th {\n",
       "        text-align: left;\n",
       "    }\n",
       "\n",
       "    .dataframe tbody tr th {\n",
       "        vertical-align: top;\n",
       "    }\n",
       "</style>\n",
       "<table border=\"1\" class=\"dataframe\">\n",
       "  <thead>\n",
       "    <tr style=\"text-align: right;\">\n",
       "      <th></th>\n",
       "      <th>nkill</th>\n",
       "      <th>datetime</th>\n",
       "      <th>epoched</th>\n",
       "      <th>beat</th>\n",
       "    </tr>\n",
       "    <tr>\n",
       "      <th>datetime</th>\n",
       "      <th></th>\n",
       "      <th></th>\n",
       "      <th></th>\n",
       "      <th></th>\n",
       "    </tr>\n",
       "  </thead>\n",
       "  <tbody>\n",
       "    <tr>\n",
       "      <th>2017-01-01</th>\n",
       "      <td>1</td>\n",
       "      <td>2017-01-01</td>\n",
       "      <td>17167.0</td>\n",
       "      <td>1880.03</td>\n",
       "    </tr>\n",
       "    <tr>\n",
       "      <th>2017-01-03</th>\n",
       "      <td>0</td>\n",
       "      <td>2017-01-03</td>\n",
       "      <td>17169.0</td>\n",
       "      <td>1880.25</td>\n",
       "    </tr>\n",
       "    <tr>\n",
       "      <th>2017-01-04</th>\n",
       "      <td>3</td>\n",
       "      <td>2017-01-04</td>\n",
       "      <td>17170.0</td>\n",
       "      <td>1880.36</td>\n",
       "    </tr>\n",
       "    <tr>\n",
       "      <th>2017-01-06</th>\n",
       "      <td>7</td>\n",
       "      <td>2017-01-06</td>\n",
       "      <td>17172.0</td>\n",
       "      <td>1880.57</td>\n",
       "    </tr>\n",
       "    <tr>\n",
       "      <th>2017-01-07</th>\n",
       "      <td>1</td>\n",
       "      <td>2017-01-07</td>\n",
       "      <td>17173.0</td>\n",
       "      <td>1880.68</td>\n",
       "    </tr>\n",
       "  </tbody>\n",
       "</table>\n",
       "</div>"
      ],
      "text/plain": [
       "            nkill   datetime  epoched     beat\n",
       "datetime                                      \n",
       "2017-01-01      1 2017-01-01  17167.0  1880.03\n",
       "2017-01-03      0 2017-01-03  17169.0  1880.25\n",
       "2017-01-04      3 2017-01-04  17170.0  1880.36\n",
       "2017-01-06      7 2017-01-06  17172.0  1880.57\n",
       "2017-01-07      1 2017-01-07  17173.0  1880.68"
      ]
     },
     "execution_count": 51,
     "metadata": {},
     "output_type": "execute_result"
    }
   ],
   "source": [
    "df_nkill.head()"
   ]
  },
  {
   "cell_type": "code",
   "execution_count": 52,
   "metadata": {},
   "outputs": [
    {
     "name": "stdout",
     "output_type": "stream",
     "text": [
      "1880.03\n"
     ]
    }
   ],
   "source": [
    "START_TIME = df_nkill.beat.min() # beat doesn't start at 0 since we scaled our epoch seconds, so we just start at the first one.\n",
    "print(START_TIME)"
   ]
  },
  {
   "cell_type": "code",
   "execution_count": 53,
   "metadata": {},
   "outputs": [
    {
     "data": {
      "text/html": [
       "<div>\n",
       "<style>\n",
       "    .dataframe thead tr:only-child th {\n",
       "        text-align: right;\n",
       "    }\n",
       "\n",
       "    .dataframe thead th {\n",
       "        text-align: left;\n",
       "    }\n",
       "\n",
       "    .dataframe tbody tr th {\n",
       "        vertical-align: top;\n",
       "    }\n",
       "</style>\n",
       "<table border=\"1\" class=\"dataframe\">\n",
       "  <thead>\n",
       "    <tr style=\"text-align: right;\">\n",
       "      <th></th>\n",
       "      <th>nkill</th>\n",
       "      <th>datetime</th>\n",
       "      <th>epoched</th>\n",
       "      <th>beat</th>\n",
       "    </tr>\n",
       "    <tr>\n",
       "      <th>datetime</th>\n",
       "      <th></th>\n",
       "      <th></th>\n",
       "      <th></th>\n",
       "      <th></th>\n",
       "    </tr>\n",
       "  </thead>\n",
       "  <tbody>\n",
       "    <tr>\n",
       "      <th>2017-01-01</th>\n",
       "      <td>1</td>\n",
       "      <td>2017-01-01</td>\n",
       "      <td>17167.0</td>\n",
       "      <td>1880.03</td>\n",
       "    </tr>\n",
       "    <tr>\n",
       "      <th>2017-01-03</th>\n",
       "      <td>0</td>\n",
       "      <td>2017-01-03</td>\n",
       "      <td>17169.0</td>\n",
       "      <td>1880.25</td>\n",
       "    </tr>\n",
       "    <tr>\n",
       "      <th>2017-01-04</th>\n",
       "      <td>3</td>\n",
       "      <td>2017-01-04</td>\n",
       "      <td>17170.0</td>\n",
       "      <td>1880.36</td>\n",
       "    </tr>\n",
       "    <tr>\n",
       "      <th>2017-01-06</th>\n",
       "      <td>7</td>\n",
       "      <td>2017-01-06</td>\n",
       "      <td>17172.0</td>\n",
       "      <td>1880.57</td>\n",
       "    </tr>\n",
       "    <tr>\n",
       "      <th>2017-01-07</th>\n",
       "      <td>1</td>\n",
       "      <td>2017-01-07</td>\n",
       "      <td>17173.0</td>\n",
       "      <td>1880.68</td>\n",
       "    </tr>\n",
       "  </tbody>\n",
       "</table>\n",
       "</div>"
      ],
      "text/plain": [
       "            nkill   datetime  epoched     beat\n",
       "datetime                                      \n",
       "2017-01-01      1 2017-01-01  17167.0  1880.03\n",
       "2017-01-03      0 2017-01-03  17169.0  1880.25\n",
       "2017-01-04      3 2017-01-04  17170.0  1880.36\n",
       "2017-01-06      7 2017-01-06  17172.0  1880.57\n",
       "2017-01-07      1 2017-01-07  17173.0  1880.68"
      ]
     },
     "execution_count": 53,
     "metadata": {},
     "output_type": "execute_result"
    }
   ],
   "source": [
    "df_nkill.head()"
   ]
  },
  {
   "cell_type": "code",
   "execution_count": 54,
   "metadata": {},
   "outputs": [
    {
     "name": "stdout",
     "output_type": "stream",
     "text": [
      "0 62\n"
     ]
    }
   ],
   "source": [
    "MAX = df_nkill.nkill.max()\n",
    "MIN = df_nkill.nkill.min()\n",
    "print(MIN,MAX)"
   ]
  },
  {
   "cell_type": "markdown",
   "metadata": {},
   "source": [
    "## Create scale from nkill corresponding to volume"
   ]
  },
  {
   "cell_type": "markdown",
   "metadata": {},
   "source": [
    "## We make deadlier days louder."
   ]
  },
  {
   "cell_type": "code",
   "execution_count": 55,
   "metadata": {
    "collapsed": true
   },
   "outputs": [],
   "source": [
    "# KAT_MAX = 150   \n",
    "# KAT_MIN = 25"
   ]
  },
  {
   "cell_type": "code",
   "execution_count": 56,
   "metadata": {},
   "outputs": [],
   "source": [
    "MIN_V = 25\n",
    "MAX_V = 150\n",
    "#df['velocity'] = df.nkill.apply(lambda x: int(np.interp(x, [KAT_MIN, KAT_MAX], [25, 150])))\n",
    "df_nkill['velocity'] = df_nkill.nkill.apply(lambda x: int(np.interp(x, [MIN, MAX], [25, 150])))"
   ]
  },
  {
   "cell_type": "code",
   "execution_count": 57,
   "metadata": {},
   "outputs": [
    {
     "data": {
      "text/plain": [
       "datetime\n",
       "2017-01-01    27\n",
       "2017-01-03    25\n",
       "2017-01-04    31\n",
       "2017-01-06    39\n",
       "2017-01-07    27\n",
       "2017-01-11    29\n",
       "2017-01-12    35\n",
       "2017-01-15    33\n",
       "2017-01-16    25\n",
       "2017-01-20    27\n",
       "Name: velocity, dtype: int64"
      ]
     },
     "execution_count": 57,
     "metadata": {},
     "output_type": "execute_result"
    }
   ],
   "source": [
    "df_nkill.velocity.head(10)"
   ]
  },
  {
   "cell_type": "code",
   "execution_count": null,
   "metadata": {},
   "outputs": [],
   "source": [
    " "
   ]
  },
  {
   "cell_type": "markdown",
   "metadata": {},
   "source": [
    "## Build note list\n",
    "- I know you're not supposed to iterate through a dataframe — but it's pretty small and manegable.\n",
    "- [BEAT, PITCH, VELOCITY (VOLUME), DURATION_OF_NOTE]"
   ]
  },
  {
   "cell_type": "code",
   "execution_count": 58,
   "metadata": {
    "collapsed": true
   },
   "outputs": [],
   "source": [
    "scaled_data = df_nkill.to_dict('records')"
   ]
  },
  {
   "cell_type": "code",
   "execution_count": 59,
   "metadata": {
    "collapsed": true
   },
   "outputs": [],
   "source": [
    "note_list = []  \n",
    "#V = 100 # constant for now\n",
    "D = 1 # duration constant for now\n",
    "P = 71 # constant pitch for now\n",
    "\n",
    "for d in scaled_data:\n",
    "    beat = d['beat'] - START_TIME\n",
    "    pitch = P #d['pitch']\n",
    "    velocity = d['velocity']\n",
    "    duration = D\n",
    "    note_list.append([beat, pitch, velocity, duration])\n"
   ]
  },
  {
   "cell_type": "code",
   "execution_count": 60,
   "metadata": {},
   "outputs": [
    {
     "data": {
      "text/plain": [
       "[[0.0, 71, 27, 1],\n",
       " [0.22000000000002728, 71, 25, 1],\n",
       " [0.32999999999992724, 71, 31, 1],\n",
       " [0.53999999999996362, 71, 39, 1],\n",
       " [0.65000000000009095, 71, 27, 1],\n",
       " [1.0899999999999181, 71, 29, 1],\n",
       " [1.2000000000000455, 71, 35, 1],\n",
       " [1.5299999999999727, 71, 33, 1],\n",
       " [1.6400000000001, 71, 25, 1],\n",
       " [2.0799999999999272, 71, 27, 1],\n",
       " [2.1900000000000546, 71, 29, 1],\n",
       " [2.2999999999999545, 71, 37, 1],\n",
       " [2.6300000000001091, 71, 25, 1],\n",
       " [2.7400000000000091, 71, 29, 1],\n",
       " [2.8399999999999181, 71, 25, 1],\n",
       " [3.0599999999999454, 71, 27, 1],\n",
       " [3.1700000000000728, 71, 25, 1],\n",
       " [3.2799999999999727, 71, 25, 1],\n",
       " [3.9400000000000546, 71, 33, 1],\n",
       " [4.0499999999999545, 71, 27, 1],\n",
       " [4.1600000000000819, 71, 27, 1],\n",
       " [4.2699999999999818, 71, 33, 1],\n",
       " [4.3800000000001091, 71, 27, 1],\n",
       " [4.4900000000000091, 71, 27, 1],\n",
       " [4.6000000000001364, 71, 29, 1],\n",
       " [4.9300000000000637, 71, 31, 1],\n",
       " [5.25, 71, 27, 1],\n",
       " [5.3600000000001273, 71, 27, 1],\n",
       " [5.4700000000000273, 71, 25, 1],\n",
       " [5.5799999999999272, 71, 33, 1],\n",
       " [5.6900000000000546, 71, 25, 1],\n",
       " [6.0199999999999818, 71, 31, 1],\n",
       " [6.1300000000001091, 71, 27, 1],\n",
       " [6.2400000000000091, 71, 25, 1],\n",
       " [6.3500000000001364, 71, 25, 1],\n",
       " [6.6800000000000637, 71, 25, 1],\n",
       " [6.7899999999999636, 71, 27, 1],\n",
       " [6.9000000000000909, 71, 25, 1],\n",
       " [7.1200000000001182, 71, 25, 1],\n",
       " [7.4400000000000546, 71, 35, 1],\n",
       " [7.9900000000000091, 71, 31, 1],\n",
       " [8.3199999999999363, 71, 31, 1],\n",
       " [8.4300000000000637, 71, 27, 1],\n",
       " [8.7599999999999909, 71, 35, 1],\n",
       " [8.9800000000000182, 71, 29, 1],\n",
       " [9.0899999999999181, 71, 33, 1],\n",
       " [9.2000000000000455, 71, 37, 1],\n",
       " [9.3099999999999454, 71, 29, 1],\n",
       " [9.6300000000001091, 71, 33, 1],\n",
       " [9.8500000000001364, 71, 31, 1],\n",
       " [9.9600000000000364, 71, 29, 1],\n",
       " [10.069999999999936, 71, 31, 1],\n",
       " [10.400000000000091, 71, 27, 1],\n",
       " [10.509999999999991, 71, 51, 1],\n",
       " [10.730000000000018, 71, 29, 1],\n",
       " [11.170000000000073, 71, 27, 1],\n",
       " [11.3900000000001, 71, 25, 1],\n",
       " [11.5, 71, 25, 1],\n",
       " [11.930000000000064, 71, 25, 1],\n",
       " [12.039999999999964, 71, 29, 1],\n",
       " [12.589999999999918, 71, 25, 1],\n",
       " [12.700000000000045, 71, 27, 1],\n",
       " [12.809999999999945, 71, 25, 1],\n",
       " [12.920000000000073, 71, 31, 1],\n",
       " [13.029999999999973, 71, 39, 1],\n",
       " [13.1400000000001, 71, 29, 1],\n",
       " [13.25, 71, 27, 1],\n",
       " [13.470000000000027, 71, 27, 1],\n",
       " [13.799999999999955, 71, 29, 1],\n",
       " [14.019999999999982, 71, 31, 1],\n",
       " [14.120000000000118, 71, 27, 1],\n",
       " [14.559999999999945, 71, 27, 1],\n",
       " [14.779999999999973, 71, 31, 1],\n",
       " [15.220000000000027, 71, 25, 1],\n",
       " [15.329999999999927, 71, 27, 1],\n",
       " [15.880000000000109, 71, 25, 1],\n",
       " [15.990000000000009, 71, 43, 1],\n",
       " [16.100000000000136, 71, 27, 1],\n",
       " [16.210000000000036, 71, 27, 1],\n",
       " [16.309999999999945, 71, 27, 1],\n",
       " [16.529999999999973, 71, 31, 1],\n",
       " [16.6400000000001, 71, 31, 1],\n",
       " [16.75, 71, 35, 1],\n",
       " [16.970000000000027, 71, 37, 1],\n",
       " [17.079999999999927, 71, 31, 1],\n",
       " [17.299999999999955, 71, 25, 1],\n",
       " [17.410000000000082, 71, 29, 1],\n",
       " [17.519999999999982, 71, 25, 1],\n",
       " [17.630000000000109, 71, 25, 1],\n",
       " [17.850000000000136, 71, 29, 1],\n",
       " [17.960000000000036, 71, 35, 1],\n",
       " [18.069999999999936, 71, 37, 1],\n",
       " [18.289999999999964, 71, 27, 1],\n",
       " [18.400000000000091, 71, 31, 1],\n",
       " [18.829999999999927, 71, 27, 1],\n",
       " [19.049999999999955, 71, 27, 1],\n",
       " [19.160000000000082, 71, 27, 1],\n",
       " [19.380000000000109, 71, 25, 1],\n",
       " [19.710000000000036, 71, 29, 1],\n",
       " [19.819999999999936, 71, 29, 1],\n",
       " [19.930000000000064, 71, 25, 1],\n",
       " [20.039999999999964, 71, 33, 1],\n",
       " [20.150000000000091, 71, 29, 1],\n",
       " [20.259999999999991, 71, 37, 1],\n",
       " [20.370000000000118, 71, 25, 1],\n",
       " [20.589999999999918, 71, 27, 1],\n",
       " [20.700000000000045, 71, 25, 1],\n",
       " [21.350000000000136, 71, 27, 1],\n",
       " [21.680000000000064, 71, 27, 1],\n",
       " [21.789999999999964, 71, 27, 1],\n",
       " [22.120000000000118, 71, 25, 1],\n",
       " [22.230000000000018, 71, 27, 1],\n",
       " [22.559999999999945, 71, 27, 1],\n",
       " [22.670000000000073, 71, 27, 1],\n",
       " [22.779999999999973, 71, 25, 1],\n",
       " [22.8900000000001, 71, 31, 1],\n",
       " [23.0, 71, 29, 1],\n",
       " [23.100000000000136, 71, 25, 1],\n",
       " [23.210000000000036, 71, 25, 1],\n",
       " [23.319999999999936, 71, 25, 1],\n",
       " [23.430000000000064, 71, 27, 1],\n",
       " [23.539999999999964, 71, 31, 1],\n",
       " [23.650000000000091, 71, 29, 1],\n",
       " [23.759999999999991, 71, 25, 1],\n",
       " [23.980000000000018, 71, 27, 1],\n",
       " [24.420000000000073, 71, 27, 1],\n",
       " [24.529999999999973, 71, 25, 1],\n",
       " [24.6400000000001, 71, 29, 1],\n",
       " [24.860000000000127, 71, 25, 1],\n",
       " [25.190000000000055, 71, 27, 1],\n",
       " [25.299999999999955, 71, 29, 1],\n",
       " [25.400000000000091, 71, 37, 1],\n",
       " [25.509999999999991, 71, 25, 1],\n",
       " [25.730000000000018, 71, 33, 1],\n",
       " [25.839999999999918, 71, 25, 1],\n",
       " [26.059999999999945, 71, 29, 1],\n",
       " [26.170000000000073, 71, 29, 1],\n",
       " [26.720000000000027, 71, 27, 1],\n",
       " [26.829999999999927, 71, 29, 1],\n",
       " [26.940000000000055, 71, 25, 1],\n",
       " [27.160000000000082, 71, 25, 1],\n",
       " [27.490000000000009, 71, 25, 1],\n",
       " [27.589999999999918, 71, 45, 1],\n",
       " [27.920000000000073, 71, 29, 1],\n",
       " [28.25, 71, 25, 1],\n",
       " [28.360000000000127, 71, 29, 1],\n",
       " [28.690000000000055, 71, 25, 1],\n",
       " [29.019999999999982, 71, 31, 1],\n",
       " [29.130000000000109, 71, 29, 1],\n",
       " [29.350000000000136, 71, 31, 1],\n",
       " [29.569999999999936, 71, 27, 1],\n",
       " [29.789999999999964, 71, 27, 1],\n",
       " [29.8900000000001, 71, 150, 1],\n",
       " [30.110000000000127, 71, 25, 1],\n",
       " [30.329999999999927, 71, 33, 1],\n",
       " [30.440000000000055, 71, 25, 1],\n",
       " [30.549999999999955, 71, 25, 1],\n",
       " [30.769999999999982, 71, 25, 1],\n",
       " [30.880000000000109, 71, 25, 1],\n",
       " [30.990000000000009, 71, 33, 1],\n",
       " [31.100000000000136, 71, 29, 1],\n",
       " [31.430000000000064, 71, 31, 1],\n",
       " [31.539999999999964, 71, 27, 1],\n",
       " [31.650000000000091, 71, 25, 1],\n",
       " [31.759999999999991, 71, 31, 1],\n",
       " [32.079999999999927, 71, 25, 1],\n",
       " [32.190000000000055, 71, 29, 1],\n",
       " [32.299999999999955, 71, 29, 1],\n",
       " [32.740000000000009, 71, 25, 1],\n",
       " [32.850000000000136, 71, 27, 1],\n",
       " [32.960000000000036, 71, 27, 1],\n",
       " [33.180000000000064, 71, 27, 1],\n",
       " [33.509999999999991, 71, 27, 1],\n",
       " [33.620000000000118, 71, 27, 1],\n",
       " [33.730000000000018, 71, 79, 1]]"
      ]
     },
     "execution_count": 60,
     "metadata": {},
     "output_type": "execute_result"
    }
   ],
   "source": [
    "note_list"
   ]
  },
  {
   "cell_type": "markdown",
   "metadata": {},
   "source": [
    "## Make MIDI file"
   ]
  },
  {
   "cell_type": "code",
   "execution_count": 61,
   "metadata": {},
   "outputs": [
    {
     "name": "stdout",
     "output_type": "stream",
     "text": [
      "71 0.0 1 27\n",
      "71 0.22 1 25\n",
      "71 0.33 1 31\n",
      "71 0.54 1 39\n",
      "71 0.65 1 27\n",
      "71 1.09 1 29\n",
      "71 1.2 1 35\n",
      "71 1.53 1 33\n",
      "71 1.64 1 25\n",
      "71 2.08 1 27\n",
      "71 2.19 1 29\n",
      "71 2.3 1 37\n",
      "71 2.63 1 25\n",
      "71 2.74 1 29\n",
      "71 2.84 1 25\n",
      "71 3.06 1 27\n",
      "71 3.17 1 25\n",
      "71 3.28 1 25\n",
      "71 3.94 1 33\n",
      "71 4.05 1 27\n",
      "71 4.16 1 27\n",
      "71 4.27 1 33\n",
      "71 4.38 1 27\n",
      "71 4.49 1 27\n",
      "71 4.6 1 29\n",
      "71 4.93 1 31\n",
      "71 5.25 1 27\n",
      "71 5.36 1 27\n",
      "71 5.47 1 25\n",
      "71 5.58 1 33\n",
      "71 5.69 1 25\n",
      "71 6.02 1 31\n",
      "71 6.13 1 27\n",
      "71 6.24 1 25\n",
      "71 6.35 1 25\n",
      "71 6.68 1 25\n",
      "71 6.79 1 27\n",
      "71 6.9 1 25\n",
      "71 7.12 1 25\n",
      "71 7.44 1 35\n",
      "71 7.99 1 31\n",
      "71 8.32 1 31\n",
      "71 8.43 1 27\n",
      "71 8.76 1 35\n",
      "71 8.98 1 29\n",
      "71 9.09 1 33\n",
      "71 9.2 1 37\n",
      "71 9.31 1 29\n",
      "71 9.63 1 33\n",
      "71 9.85 1 31\n",
      "71 9.96 1 29\n",
      "71 10.07 1 31\n",
      "71 10.4 1 27\n",
      "71 10.51 1 51\n",
      "71 10.73 1 29\n",
      "71 11.17 1 27\n",
      "71 11.39 1 25\n",
      "71 11.5 1 25\n",
      "71 11.93 1 25\n",
      "71 12.04 1 29\n",
      "71 12.59 1 25\n",
      "71 12.7 1 27\n",
      "71 12.81 1 25\n",
      "71 12.92 1 31\n",
      "71 13.03 1 39\n",
      "71 13.14 1 29\n",
      "71 13.25 1 27\n",
      "71 13.47 1 27\n",
      "71 13.8 1 29\n",
      "71 14.02 1 31\n",
      "71 14.12 1 27\n",
      "71 14.56 1 27\n",
      "71 14.78 1 31\n",
      "71 15.22 1 25\n",
      "71 15.33 1 27\n",
      "71 15.88 1 25\n",
      "71 15.99 1 43\n",
      "71 16.1 1 27\n",
      "71 16.21 1 27\n",
      "71 16.31 1 27\n",
      "71 16.53 1 31\n",
      "71 16.64 1 31\n",
      "71 16.75 1 35\n",
      "71 16.97 1 37\n",
      "71 17.08 1 31\n",
      "71 17.3 1 25\n",
      "71 17.41 1 29\n",
      "71 17.52 1 25\n",
      "71 17.63 1 25\n",
      "71 17.85 1 29\n",
      "71 17.96 1 35\n",
      "71 18.07 1 37\n",
      "71 18.29 1 27\n",
      "71 18.4 1 31\n",
      "71 18.83 1 27\n",
      "71 19.05 1 27\n",
      "71 19.16 1 27\n",
      "71 19.38 1 25\n",
      "71 19.71 1 29\n",
      "71 19.82 1 29\n",
      "71 19.93 1 25\n",
      "71 20.04 1 33\n",
      "71 20.15 1 29\n",
      "71 20.26 1 37\n",
      "71 20.37 1 25\n",
      "71 20.59 1 27\n",
      "71 20.7 1 25\n",
      "71 21.35 1 27\n",
      "71 21.68 1 27\n",
      "71 21.79 1 27\n",
      "71 22.12 1 25\n",
      "71 22.23 1 27\n",
      "71 22.56 1 27\n",
      "71 22.67 1 27\n",
      "71 22.78 1 25\n",
      "71 22.89 1 31\n",
      "71 23.0 1 29\n",
      "71 23.1 1 25\n",
      "71 23.21 1 25\n",
      "71 23.32 1 25\n",
      "71 23.43 1 27\n",
      "71 23.54 1 31\n",
      "71 23.65 1 29\n",
      "71 23.76 1 25\n",
      "71 23.98 1 27\n",
      "71 24.42 1 27\n",
      "71 24.53 1 25\n",
      "71 24.64 1 29\n",
      "71 24.86 1 25\n",
      "71 25.19 1 27\n",
      "71 25.3 1 29\n",
      "71 25.4 1 37\n",
      "71 25.51 1 25\n",
      "71 25.73 1 33\n",
      "71 25.84 1 25\n",
      "71 26.06 1 29\n",
      "71 26.17 1 29\n",
      "71 26.72 1 27\n",
      "71 26.83 1 29\n",
      "71 26.94 1 25\n",
      "71 27.16 1 25\n",
      "71 27.49 1 25\n",
      "71 27.59 1 45\n",
      "71 27.92 1 29\n",
      "71 28.25 1 25\n",
      "71 28.36 1 29\n",
      "71 28.69 1 25\n",
      "71 29.02 1 31\n",
      "71 29.13 1 29\n",
      "71 29.35 1 31\n",
      "71 29.57 1 27\n",
      "71 29.79 1 27\n",
      "71 29.89 1 150\n",
      "71 30.11 1 25\n",
      "71 30.33 1 33\n",
      "71 30.44 1 25\n",
      "71 30.55 1 25\n",
      "71 30.77 1 25\n",
      "71 30.88 1 25\n",
      "71 30.99 1 33\n",
      "71 31.1 1 29\n",
      "71 31.43 1 31\n",
      "71 31.54 1 27\n",
      "71 31.65 1 25\n",
      "71 31.76 1 31\n",
      "71 32.08 1 25\n",
      "71 32.19 1 29\n",
      "71 32.3 1 29\n",
      "71 32.74 1 25\n",
      "71 32.85 1 27\n",
      "71 32.96 1 27\n",
      "71 33.18 1 27\n",
      "71 33.51 1 27\n",
      "71 33.62 1 27\n",
      "71 33.73 1 79\n"
     ]
    }
   ],
   "source": [
    "# Add a track with those notes\n",
    "mymidi.add_track(note_list)\n",
    "\n",
    "# Output the .mid file\n",
    "mymidi.save_midi()"
   ]
  }
 ],
 "metadata": {
  "kernelspec": {
   "display_name": "Python 3",
   "language": "python",
   "name": "python3"
  },
  "language_info": {
   "codemirror_mode": {
    "name": "ipython",
    "version": 3
   },
   "file_extension": ".py",
   "mimetype": "text/x-python",
   "name": "python",
   "nbconvert_exporter": "python",
   "pygments_lexer": "ipython3",
   "version": "3.6.1"
  }
 },
 "nbformat": 4,
 "nbformat_minor": 2
}
