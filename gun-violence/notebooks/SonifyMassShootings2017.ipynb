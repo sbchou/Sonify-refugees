{
 "cells": [
  {
   "cell_type": "code",
   "execution_count": 1,
   "metadata": {
    "collapsed": true
   },
   "outputs": [],
   "source": [
    "# My usual setup\n",
    "%matplotlib inline\n",
    "import matplotlib.pyplot as plt\n",
    "import pandas \n",
    "from datetime import datetime\n",
    "import seaborn as sns\n",
    "import glob\n",
    "from os.path import basename\n",
    "sns.set_context('poster') \n",
    "import numpy as np"
   ]
  },
  {
   "cell_type": "markdown",
   "metadata": {},
   "source": [
    "# Sonify gun violence in america in different ways\n",
    "- Original tutorial https://github.com/cirlabs/miditime\n",
    "- I handle most manipulations in dataframe for ease of IO\n",
    "- This includes days with no shootings, but it will be played at the lowest volume.\n"
   ]
  },
  {
   "cell_type": "markdown",
   "metadata": {},
   "source": [
    "## First, format files"
   ]
  },
  {
   "cell_type": "code",
   "execution_count": 2,
   "metadata": {
    "collapsed": true
   },
   "outputs": [],
   "source": [
    "df = pandas.read_csv('../data/mass-shootings-2017-reformatted.csv')"
   ]
  },
  {
   "cell_type": "code",
   "execution_count": 3,
   "metadata": {
    "scrolled": true
   },
   "outputs": [
    {
     "data": {
      "text/html": [
       "<div>\n",
       "<style>\n",
       "    .dataframe thead tr:only-child th {\n",
       "        text-align: right;\n",
       "    }\n",
       "\n",
       "    .dataframe thead th {\n",
       "        text-align: left;\n",
       "    }\n",
       "\n",
       "    .dataframe tbody tr th {\n",
       "        vertical-align: top;\n",
       "    }\n",
       "</style>\n",
       "<table border=\"1\" class=\"dataframe\">\n",
       "  <thead>\n",
       "    <tr style=\"text-align: right;\">\n",
       "      <th></th>\n",
       "      <th>date</th>\n",
       "      <th>state</th>\n",
       "      <th>city_county</th>\n",
       "      <th>address</th>\n",
       "      <th>nkill</th>\n",
       "      <th>ninjured</th>\n",
       "      <th>operations</th>\n",
       "    </tr>\n",
       "  </thead>\n",
       "  <tbody>\n",
       "    <tr>\n",
       "      <th>0</th>\n",
       "      <td>16-Nov-17</td>\n",
       "      <td>Georgia</td>\n",
       "      <td>Columbus</td>\n",
       "      <td>1400 block of 15th Street</td>\n",
       "      <td>0</td>\n",
       "      <td>7</td>\n",
       "      <td>NaN</td>\n",
       "    </tr>\n",
       "    <tr>\n",
       "      <th>1</th>\n",
       "      <td>14-Nov-17</td>\n",
       "      <td>California</td>\n",
       "      <td>Corning</td>\n",
       "      <td>17357 Stagecoach Rd</td>\n",
       "      <td>6</td>\n",
       "      <td>10</td>\n",
       "      <td>NaN</td>\n",
       "    </tr>\n",
       "    <tr>\n",
       "      <th>2</th>\n",
       "      <td>12-Nov-17</td>\n",
       "      <td>Indiana</td>\n",
       "      <td>Gary</td>\n",
       "      <td>4601 Melton Rd</td>\n",
       "      <td>0</td>\n",
       "      <td>7</td>\n",
       "      <td>NaN</td>\n",
       "    </tr>\n",
       "    <tr>\n",
       "      <th>3</th>\n",
       "      <td>12-Nov-17</td>\n",
       "      <td>Georgia</td>\n",
       "      <td>Atlanta</td>\n",
       "      <td>50 Lower Alabama St</td>\n",
       "      <td>2</td>\n",
       "      <td>2</td>\n",
       "      <td>NaN</td>\n",
       "    </tr>\n",
       "    <tr>\n",
       "      <th>4</th>\n",
       "      <td>12-Nov-17</td>\n",
       "      <td>California</td>\n",
       "      <td>Fresno</td>\n",
       "      <td>S Calvin Ave</td>\n",
       "      <td>0</td>\n",
       "      <td>5</td>\n",
       "      <td>NaN</td>\n",
       "    </tr>\n",
       "  </tbody>\n",
       "</table>\n",
       "</div>"
      ],
      "text/plain": [
       "        date       state city_county                    address  nkill  \\\n",
       "0  16-Nov-17     Georgia    Columbus  1400 block of 15th Street      0   \n",
       "1  14-Nov-17  California     Corning        17357 Stagecoach Rd      6   \n",
       "2  12-Nov-17     Indiana        Gary             4601 Melton Rd      0   \n",
       "3  12-Nov-17     Georgia     Atlanta        50 Lower Alabama St      2   \n",
       "4  12-Nov-17  California      Fresno               S Calvin Ave      0   \n",
       "\n",
       "   ninjured  operations  \n",
       "0         7         NaN  \n",
       "1        10         NaN  \n",
       "2         7         NaN  \n",
       "3         2         NaN  \n",
       "4         5         NaN  "
      ]
     },
     "execution_count": 3,
     "metadata": {},
     "output_type": "execute_result"
    }
   ],
   "source": [
    "df.head()"
   ]
  },
  {
   "cell_type": "code",
   "execution_count": 4,
   "metadata": {
    "collapsed": true
   },
   "outputs": [],
   "source": [
    "df['datetime'] = pandas.to_datetime(df.date, infer_datetime_format=True)"
   ]
  },
  {
   "cell_type": "code",
   "execution_count": 5,
   "metadata": {},
   "outputs": [
    {
     "data": {
      "text/html": [
       "<div>\n",
       "<style>\n",
       "    .dataframe thead tr:only-child th {\n",
       "        text-align: right;\n",
       "    }\n",
       "\n",
       "    .dataframe thead th {\n",
       "        text-align: left;\n",
       "    }\n",
       "\n",
       "    .dataframe tbody tr th {\n",
       "        vertical-align: top;\n",
       "    }\n",
       "</style>\n",
       "<table border=\"1\" class=\"dataframe\">\n",
       "  <thead>\n",
       "    <tr style=\"text-align: right;\">\n",
       "      <th></th>\n",
       "      <th>date</th>\n",
       "      <th>state</th>\n",
       "      <th>city_county</th>\n",
       "      <th>address</th>\n",
       "      <th>nkill</th>\n",
       "      <th>ninjured</th>\n",
       "      <th>operations</th>\n",
       "      <th>datetime</th>\n",
       "    </tr>\n",
       "  </thead>\n",
       "  <tbody>\n",
       "    <tr>\n",
       "      <th>0</th>\n",
       "      <td>16-Nov-17</td>\n",
       "      <td>Georgia</td>\n",
       "      <td>Columbus</td>\n",
       "      <td>1400 block of 15th Street</td>\n",
       "      <td>0</td>\n",
       "      <td>7</td>\n",
       "      <td>NaN</td>\n",
       "      <td>2017-11-16</td>\n",
       "    </tr>\n",
       "    <tr>\n",
       "      <th>1</th>\n",
       "      <td>14-Nov-17</td>\n",
       "      <td>California</td>\n",
       "      <td>Corning</td>\n",
       "      <td>17357 Stagecoach Rd</td>\n",
       "      <td>6</td>\n",
       "      <td>10</td>\n",
       "      <td>NaN</td>\n",
       "      <td>2017-11-14</td>\n",
       "    </tr>\n",
       "    <tr>\n",
       "      <th>2</th>\n",
       "      <td>12-Nov-17</td>\n",
       "      <td>Indiana</td>\n",
       "      <td>Gary</td>\n",
       "      <td>4601 Melton Rd</td>\n",
       "      <td>0</td>\n",
       "      <td>7</td>\n",
       "      <td>NaN</td>\n",
       "      <td>2017-11-12</td>\n",
       "    </tr>\n",
       "    <tr>\n",
       "      <th>3</th>\n",
       "      <td>12-Nov-17</td>\n",
       "      <td>Georgia</td>\n",
       "      <td>Atlanta</td>\n",
       "      <td>50 Lower Alabama St</td>\n",
       "      <td>2</td>\n",
       "      <td>2</td>\n",
       "      <td>NaN</td>\n",
       "      <td>2017-11-12</td>\n",
       "    </tr>\n",
       "    <tr>\n",
       "      <th>4</th>\n",
       "      <td>12-Nov-17</td>\n",
       "      <td>California</td>\n",
       "      <td>Fresno</td>\n",
       "      <td>S Calvin Ave</td>\n",
       "      <td>0</td>\n",
       "      <td>5</td>\n",
       "      <td>NaN</td>\n",
       "      <td>2017-11-12</td>\n",
       "    </tr>\n",
       "  </tbody>\n",
       "</table>\n",
       "</div>"
      ],
      "text/plain": [
       "        date       state city_county                    address  nkill  \\\n",
       "0  16-Nov-17     Georgia    Columbus  1400 block of 15th Street      0   \n",
       "1  14-Nov-17  California     Corning        17357 Stagecoach Rd      6   \n",
       "2  12-Nov-17     Indiana        Gary             4601 Melton Rd      0   \n",
       "3  12-Nov-17     Georgia     Atlanta        50 Lower Alabama St      2   \n",
       "4  12-Nov-17  California      Fresno               S Calvin Ave      0   \n",
       "\n",
       "   ninjured  operations   datetime  \n",
       "0         7         NaN 2017-11-16  \n",
       "1        10         NaN 2017-11-14  \n",
       "2         7         NaN 2017-11-12  \n",
       "3         2         NaN 2017-11-12  \n",
       "4         5         NaN 2017-11-12  "
      ]
     },
     "execution_count": 5,
     "metadata": {},
     "output_type": "execute_result"
    }
   ],
   "source": [
    "df.head()"
   ]
  },
  {
   "cell_type": "code",
   "execution_count": 6,
   "metadata": {
    "collapsed": true
   },
   "outputs": [],
   "source": [
    "df_nkill = df.groupby('datetime').nkill.sum().to_frame()"
   ]
  },
  {
   "cell_type": "code",
   "execution_count": 7,
   "metadata": {},
   "outputs": [
    {
     "name": "stdout",
     "output_type": "stream",
     "text": [
      "2017-11-16 00:00:00\n",
      "2017-01-01 00:00:00\n"
     ]
    }
   ],
   "source": [
    "print(df_nkill.index.max())\n",
    "print(df_nkill.index.min())"
   ]
  },
  {
   "cell_type": "code",
   "execution_count": 8,
   "metadata": {},
   "outputs": [
    {
     "name": "stdout",
     "output_type": "stream",
     "text": [
      "nkill    62\n",
      "dtype: int64\n",
      "nkill    0\n",
      "dtype: int64\n"
     ]
    }
   ],
   "source": [
    "print(df_nkill.max())\n",
    "print(df_nkill.min())"
   ]
  },
  {
   "cell_type": "code",
   "execution_count": 9,
   "metadata": {},
   "outputs": [
    {
     "name": "stdout",
     "output_type": "stream",
     "text": [
      "nkill   2017-10-01\n",
      "dtype: datetime64[ns]\n"
     ]
    }
   ],
   "source": [
    "print(df_nkill.idxmax())"
   ]
  },
  {
   "cell_type": "code",
   "execution_count": 10,
   "metadata": {},
   "outputs": [
    {
     "data": {
      "text/html": [
       "<div>\n",
       "<style>\n",
       "    .dataframe thead tr:only-child th {\n",
       "        text-align: right;\n",
       "    }\n",
       "\n",
       "    .dataframe thead th {\n",
       "        text-align: left;\n",
       "    }\n",
       "\n",
       "    .dataframe tbody tr th {\n",
       "        vertical-align: top;\n",
       "    }\n",
       "</style>\n",
       "<table border=\"1\" class=\"dataframe\">\n",
       "  <thead>\n",
       "    <tr style=\"text-align: right;\">\n",
       "      <th></th>\n",
       "      <th>nkill</th>\n",
       "    </tr>\n",
       "    <tr>\n",
       "      <th>datetime</th>\n",
       "      <th></th>\n",
       "    </tr>\n",
       "  </thead>\n",
       "  <tbody>\n",
       "    <tr>\n",
       "      <th>2017-01-01</th>\n",
       "      <td>1</td>\n",
       "    </tr>\n",
       "    <tr>\n",
       "      <th>2017-01-03</th>\n",
       "      <td>0</td>\n",
       "    </tr>\n",
       "    <tr>\n",
       "      <th>2017-01-04</th>\n",
       "      <td>3</td>\n",
       "    </tr>\n",
       "    <tr>\n",
       "      <th>2017-01-06</th>\n",
       "      <td>7</td>\n",
       "    </tr>\n",
       "    <tr>\n",
       "      <th>2017-01-07</th>\n",
       "      <td>1</td>\n",
       "    </tr>\n",
       "  </tbody>\n",
       "</table>\n",
       "</div>"
      ],
      "text/plain": [
       "            nkill\n",
       "datetime         \n",
       "2017-01-01      1\n",
       "2017-01-03      0\n",
       "2017-01-04      3\n",
       "2017-01-06      7\n",
       "2017-01-07      1"
      ]
     },
     "execution_count": 10,
     "metadata": {},
     "output_type": "execute_result"
    }
   ],
   "source": [
    "df_nkill.head()"
   ]
  },
  {
   "cell_type": "code",
   "execution_count": 11,
   "metadata": {
    "collapsed": true
   },
   "outputs": [],
   "source": [
    "df_nkill.nkill.to_csv('../data/nkill-by-day-2017.csv')"
   ]
  },
  {
   "cell_type": "code",
   "execution_count": 12,
   "metadata": {
    "collapsed": true
   },
   "outputs": [],
   "source": [
    "df_nkill['datetime'] = df_nkill.index"
   ]
  },
  {
   "cell_type": "code",
   "execution_count": 13,
   "metadata": {},
   "outputs": [
    {
     "data": {
      "text/html": [
       "<div>\n",
       "<style>\n",
       "    .dataframe thead tr:only-child th {\n",
       "        text-align: right;\n",
       "    }\n",
       "\n",
       "    .dataframe thead th {\n",
       "        text-align: left;\n",
       "    }\n",
       "\n",
       "    .dataframe tbody tr th {\n",
       "        vertical-align: top;\n",
       "    }\n",
       "</style>\n",
       "<table border=\"1\" class=\"dataframe\">\n",
       "  <thead>\n",
       "    <tr style=\"text-align: right;\">\n",
       "      <th></th>\n",
       "      <th>nkill</th>\n",
       "      <th>datetime</th>\n",
       "    </tr>\n",
       "    <tr>\n",
       "      <th>datetime</th>\n",
       "      <th></th>\n",
       "      <th></th>\n",
       "    </tr>\n",
       "  </thead>\n",
       "  <tbody>\n",
       "    <tr>\n",
       "      <th>2017-01-01</th>\n",
       "      <td>1</td>\n",
       "      <td>2017-01-01</td>\n",
       "    </tr>\n",
       "    <tr>\n",
       "      <th>2017-01-03</th>\n",
       "      <td>0</td>\n",
       "      <td>2017-01-03</td>\n",
       "    </tr>\n",
       "    <tr>\n",
       "      <th>2017-01-04</th>\n",
       "      <td>3</td>\n",
       "      <td>2017-01-04</td>\n",
       "    </tr>\n",
       "    <tr>\n",
       "      <th>2017-01-06</th>\n",
       "      <td>7</td>\n",
       "      <td>2017-01-06</td>\n",
       "    </tr>\n",
       "    <tr>\n",
       "      <th>2017-01-07</th>\n",
       "      <td>1</td>\n",
       "      <td>2017-01-07</td>\n",
       "    </tr>\n",
       "  </tbody>\n",
       "</table>\n",
       "</div>"
      ],
      "text/plain": [
       "            nkill   datetime\n",
       "datetime                    \n",
       "2017-01-01      1 2017-01-01\n",
       "2017-01-03      0 2017-01-03\n",
       "2017-01-04      3 2017-01-04\n",
       "2017-01-06      7 2017-01-06\n",
       "2017-01-07      1 2017-01-07"
      ]
     },
     "execution_count": 13,
     "metadata": {},
     "output_type": "execute_result"
    }
   ],
   "source": [
    "df_nkill.head()"
   ]
  },
  {
   "cell_type": "markdown",
   "metadata": {},
   "source": [
    "### NEVER FORGET TO SORT"
   ]
  },
  {
   "cell_type": "code",
   "execution_count": 14,
   "metadata": {
    "collapsed": true
   },
   "outputs": [],
   "source": [
    "df_nkill.sort_index(inplace=True)"
   ]
  },
  {
   "cell_type": "markdown",
   "metadata": {},
   "source": [
    "## Chart data  "
   ]
  },
  {
   "cell_type": "code",
   "execution_count": 15,
   "metadata": {},
   "outputs": [
    {
     "data": {
      "text/plain": [
       "<matplotlib.text.Text at 0x10ba830f0>"
      ]
     },
     "execution_count": 15,
     "metadata": {},
     "output_type": "execute_result"
    },
    {
     "data": {
      "image/png": "[encoded data removed]",
      "text/plain": [
       "<matplotlib.figure.Figure at 0x10b9f17b8>"
      ]
     },
     "metadata": {},
     "output_type": "display_data"
    }
   ],
   "source": [
    "df_nkill.nkill.plot()\n",
    "plt.title('Deaths by mass shootings, 2017')"
   ]
  },
  {
   "cell_type": "markdown",
   "metadata": {},
   "source": [
    "## MIDITime initialization"
   ]
  },
  {
   "cell_type": "markdown",
   "metadata": {},
   "source": [
    "Instantiate the class with a tempo (120bpm is the default), an output file destination, the number of seconds you want to represent a year in the final song (default is 5 sec/year), the base octave (C5 is middle C, so the default is 5, and how many octaves you want your output to range over (default is 1)."
   ]
  },
  {
   "cell_type": "code",
   "execution_count": 16,
   "metadata": {
    "collapsed": true
   },
   "outputs": [],
   "source": [
    "from miditime.miditime import MIDITime\n",
    "BPM = 120\n",
    "FILENAME = '../audio/2017-deaths-by-day-40s.mid'\n",
    "SEC_PER_YEAR = 40\n",
    "BASE_OCTAVE = 5\n",
    "OCTAVES = 1\n",
    "\n",
    "mymidi = MIDITime(BPM,FILENAME, SEC_PER_YEAR, BASE_OCTAVE, OCTAVES)"
   ]
  },
  {
   "cell_type": "markdown",
   "metadata": {},
   "source": [
    "Convert your date/time data into an integer, like days since the epoch (Jan. 1, 1970). You can use the days_since_epoch() helper method, or not:"
   ]
  },
  {
   "cell_type": "code",
   "execution_count": 17,
   "metadata": {
    "collapsed": true
   },
   "outputs": [],
   "source": [
    "df_nkill['epoched'] = df_nkill.datetime.apply(lambda x: mymidi.days_since_epoch(x))"
   ]
  },
  {
   "cell_type": "markdown",
   "metadata": {},
   "source": [
    "## Our data is one year\n",
    "Convert your integer date/time to something reasonable for a song. For example, at 120 beats per minute, you'll need to scale the data down a lot to avoid a very long song if your data spans years. This uses the seconds_per_year attribute you set at the top, so if your date is converted to something other than days you may need to do your own conversion. But if your dataset spans years and your dates are in days (with fractions is fine), use the beat() helper method."
   ]
  },
  {
   "cell_type": "code",
   "execution_count": 18,
   "metadata": {
    "collapsed": true
   },
   "outputs": [],
   "source": [
    "df_nkill['beat'] = df_nkill['epoched'].apply(lambda x: mymidi.beat(x))"
   ]
  },
  {
   "cell_type": "code",
   "execution_count": 19,
   "metadata": {},
   "outputs": [
    {
     "data": {
      "text/html": [
       "<div>\n",
       "<style>\n",
       "    .dataframe thead tr:only-child th {\n",
       "        text-align: right;\n",
       "    }\n",
       "\n",
       "    .dataframe thead th {\n",
       "        text-align: left;\n",
       "    }\n",
       "\n",
       "    .dataframe tbody tr th {\n",
       "        vertical-align: top;\n",
       "    }\n",
       "</style>\n",
       "<table border=\"1\" class=\"dataframe\">\n",
       "  <thead>\n",
       "    <tr style=\"text-align: right;\">\n",
       "      <th></th>\n",
       "      <th>nkill</th>\n",
       "      <th>datetime</th>\n",
       "      <th>epoched</th>\n",
       "      <th>beat</th>\n",
       "    </tr>\n",
       "    <tr>\n",
       "      <th>datetime</th>\n",
       "      <th></th>\n",
       "      <th></th>\n",
       "      <th></th>\n",
       "      <th></th>\n",
       "    </tr>\n",
       "  </thead>\n",
       "  <tbody>\n",
       "    <tr>\n",
       "      <th>2017-01-01</th>\n",
       "      <td>1</td>\n",
       "      <td>2017-01-01</td>\n",
       "      <td>17167.0</td>\n",
       "      <td>3760.05</td>\n",
       "    </tr>\n",
       "    <tr>\n",
       "      <th>2017-01-03</th>\n",
       "      <td>0</td>\n",
       "      <td>2017-01-03</td>\n",
       "      <td>17169.0</td>\n",
       "      <td>3760.49</td>\n",
       "    </tr>\n",
       "    <tr>\n",
       "      <th>2017-01-04</th>\n",
       "      <td>3</td>\n",
       "      <td>2017-01-04</td>\n",
       "      <td>17170.0</td>\n",
       "      <td>3760.71</td>\n",
       "    </tr>\n",
       "    <tr>\n",
       "      <th>2017-01-06</th>\n",
       "      <td>7</td>\n",
       "      <td>2017-01-06</td>\n",
       "      <td>17172.0</td>\n",
       "      <td>3761.15</td>\n",
       "    </tr>\n",
       "    <tr>\n",
       "      <th>2017-01-07</th>\n",
       "      <td>1</td>\n",
       "      <td>2017-01-07</td>\n",
       "      <td>17173.0</td>\n",
       "      <td>3761.37</td>\n",
       "    </tr>\n",
       "  </tbody>\n",
       "</table>\n",
       "</div>"
      ],
      "text/plain": [
       "            nkill   datetime  epoched     beat\n",
       "datetime                                      \n",
       "2017-01-01      1 2017-01-01  17167.0  3760.05\n",
       "2017-01-03      0 2017-01-03  17169.0  3760.49\n",
       "2017-01-04      3 2017-01-04  17170.0  3760.71\n",
       "2017-01-06      7 2017-01-06  17172.0  3761.15\n",
       "2017-01-07      1 2017-01-07  17173.0  3761.37"
      ]
     },
     "execution_count": 19,
     "metadata": {},
     "output_type": "execute_result"
    }
   ],
   "source": [
    "df_nkill.head()"
   ]
  },
  {
   "cell_type": "code",
   "execution_count": 20,
   "metadata": {},
   "outputs": [
    {
     "name": "stdout",
     "output_type": "stream",
     "text": [
      "3760.05\n"
     ]
    }
   ],
   "source": [
    "START_TIME = df_nkill.beat.min() # beat doesn't start at 0 since we scaled our epoch seconds, so we just start at the first one.\n",
    "print(START_TIME)"
   ]
  },
  {
   "cell_type": "code",
   "execution_count": 21,
   "metadata": {},
   "outputs": [
    {
     "data": {
      "text/html": [
       "<div>\n",
       "<style>\n",
       "    .dataframe thead tr:only-child th {\n",
       "        text-align: right;\n",
       "    }\n",
       "\n",
       "    .dataframe thead th {\n",
       "        text-align: left;\n",
       "    }\n",
       "\n",
       "    .dataframe tbody tr th {\n",
       "        vertical-align: top;\n",
       "    }\n",
       "</style>\n",
       "<table border=\"1\" class=\"dataframe\">\n",
       "  <thead>\n",
       "    <tr style=\"text-align: right;\">\n",
       "      <th></th>\n",
       "      <th>nkill</th>\n",
       "      <th>datetime</th>\n",
       "      <th>epoched</th>\n",
       "      <th>beat</th>\n",
       "    </tr>\n",
       "    <tr>\n",
       "      <th>datetime</th>\n",
       "      <th></th>\n",
       "      <th></th>\n",
       "      <th></th>\n",
       "      <th></th>\n",
       "    </tr>\n",
       "  </thead>\n",
       "  <tbody>\n",
       "    <tr>\n",
       "      <th>2017-01-01</th>\n",
       "      <td>1</td>\n",
       "      <td>2017-01-01</td>\n",
       "      <td>17167.0</td>\n",
       "      <td>3760.05</td>\n",
       "    </tr>\n",
       "    <tr>\n",
       "      <th>2017-01-03</th>\n",
       "      <td>0</td>\n",
       "      <td>2017-01-03</td>\n",
       "      <td>17169.0</td>\n",
       "      <td>3760.49</td>\n",
       "    </tr>\n",
       "    <tr>\n",
       "      <th>2017-01-04</th>\n",
       "      <td>3</td>\n",
       "      <td>2017-01-04</td>\n",
       "      <td>17170.0</td>\n",
       "      <td>3760.71</td>\n",
       "    </tr>\n",
       "    <tr>\n",
       "      <th>2017-01-06</th>\n",
       "      <td>7</td>\n",
       "      <td>2017-01-06</td>\n",
       "      <td>17172.0</td>\n",
       "      <td>3761.15</td>\n",
       "    </tr>\n",
       "    <tr>\n",
       "      <th>2017-01-07</th>\n",
       "      <td>1</td>\n",
       "      <td>2017-01-07</td>\n",
       "      <td>17173.0</td>\n",
       "      <td>3761.37</td>\n",
       "    </tr>\n",
       "  </tbody>\n",
       "</table>\n",
       "</div>"
      ],
      "text/plain": [
       "            nkill   datetime  epoched     beat\n",
       "datetime                                      \n",
       "2017-01-01      1 2017-01-01  17167.0  3760.05\n",
       "2017-01-03      0 2017-01-03  17169.0  3760.49\n",
       "2017-01-04      3 2017-01-04  17170.0  3760.71\n",
       "2017-01-06      7 2017-01-06  17172.0  3761.15\n",
       "2017-01-07      1 2017-01-07  17173.0  3761.37"
      ]
     },
     "execution_count": 21,
     "metadata": {},
     "output_type": "execute_result"
    }
   ],
   "source": [
    "df_nkill.head()"
   ]
  },
  {
   "cell_type": "code",
   "execution_count": 22,
   "metadata": {},
   "outputs": [
    {
     "name": "stdout",
     "output_type": "stream",
     "text": [
      "0 62\n"
     ]
    }
   ],
   "source": [
    "MAX = df_nkill.nkill.max()\n",
    "MIN = df_nkill.nkill.min()\n",
    "print(MIN,MAX)"
   ]
  },
  {
   "cell_type": "markdown",
   "metadata": {},
   "source": [
    "## Create scale from nkill corresponding to volume"
   ]
  },
  {
   "cell_type": "markdown",
   "metadata": {},
   "source": [
    "## We make deadlier days louder."
   ]
  },
  {
   "cell_type": "code",
   "execution_count": 23,
   "metadata": {
    "collapsed": true
   },
   "outputs": [],
   "source": [
    "# KAT_MAX = 150   \n",
    "# KAT_MIN = 25"
   ]
  },
  {
   "cell_type": "code",
   "execution_count": 24,
   "metadata": {
    "collapsed": true
   },
   "outputs": [],
   "source": [
    "MIN_V = 25\n",
    "MAX_V = 100\n",
    "#df['velocity'] = df.nkill.apply(lambda x: int(np.interp(x, [KAT_MIN, KAT_MAX], [25, 150])))\n",
    "df_nkill['velocity'] = df_nkill.nkill.apply(lambda x: int(np.interp(x, [MIN, MAX], [MIN_V, MAX_V])))"
   ]
  },
  {
   "cell_type": "code",
   "execution_count": 25,
   "metadata": {},
   "outputs": [
    {
     "data": {
      "text/plain": [
       "datetime\n",
       "2017-01-01    26\n",
       "2017-01-03    25\n",
       "2017-01-04    28\n",
       "2017-01-06    33\n",
       "2017-01-07    26\n",
       "2017-01-11    27\n",
       "2017-01-12    31\n",
       "2017-01-15    29\n",
       "2017-01-16    25\n",
       "2017-01-20    26\n",
       "Name: velocity, dtype: int64"
      ]
     },
     "execution_count": 25,
     "metadata": {},
     "output_type": "execute_result"
    }
   ],
   "source": [
    "df_nkill.velocity.head(10)"
   ]
  },
  {
   "cell_type": "code",
   "execution_count": null,
   "metadata": {
    "collapsed": true
   },
   "outputs": [],
   "source": [
    " "
   ]
  },
  {
   "cell_type": "markdown",
   "metadata": {},
   "source": [
    "## Build note list\n",
    "- I know you're not supposed to iterate through a dataframe — but it's pretty small and manegable.\n",
    "- [BEAT, PITCH, VELOCITY (VOLUME), DURATION_OF_NOTE]"
   ]
  },
  {
   "cell_type": "code",
   "execution_count": 26,
   "metadata": {
    "collapsed": true
   },
   "outputs": [],
   "source": [
    "scaled_data = df_nkill.to_dict('records')"
   ]
  },
  {
   "cell_type": "code",
   "execution_count": 27,
   "metadata": {
    "collapsed": true
   },
   "outputs": [],
   "source": [
    "note_list = []  \n",
    "#V = 100 # constant for now\n",
    "D = 0.5 # duration constant for now\n",
    "P = 71 # constant pitch for now\n",
    "\n",
    "for d in scaled_data:\n",
    "    beat = d['beat'] - START_TIME\n",
    "    pitch = P #d['pitch']\n",
    "    velocity = d['velocity']\n",
    "    duration = D\n",
    "    note_list.append([beat, pitch, velocity, duration])\n"
   ]
  },
  {
   "cell_type": "code",
   "execution_count": 28,
   "metadata": {},
   "outputs": [
    {
     "data": {
      "text/plain": [
       "[[0.0, 71, 26, 0.5],\n",
       " [0.43999999999959982, 71, 25, 0.5],\n",
       " [0.65999999999985448, 71, 28, 0.5],\n",
       " [1.0999999999999091, 71, 33, 0.5],\n",
       " [1.319999999999709, 71, 26, 0.5],\n",
       " [2.1999999999998181, 71, 27, 0.5],\n",
       " [2.4099999999998545, 71, 31, 0.5],\n",
       " [3.069999999999709, 71, 29, 0.5],\n",
       " [3.2899999999999636, 71, 25, 0.5],\n",
       " [4.169999999999618, 71, 26, 0.5],\n",
       " [4.3899999999998727, 71, 27, 0.5],\n",
       " [4.5999999999999091, 71, 32, 0.5],\n",
       " [5.2599999999997635, 71, 25, 0.5],\n",
       " [5.4800000000000182, 71, 27, 0.5],\n",
       " [5.6999999999998181, 71, 25, 0.5],\n",
       " [6.1399999999998727, 71, 26, 0.5],\n",
       " [6.3599999999996726, 71, 25, 0.5],\n",
       " [6.5799999999999272, 71, 25, 0.5],\n",
       " [7.8899999999998727, 71, 29, 0.5],\n",
       " [8.1099999999996726, 71, 26, 0.5],\n",
       " [8.3299999999999272, 71, 26, 0.5],\n",
       " [8.5499999999997272, 71, 29, 0.5],\n",
       " [8.7699999999999818, 71, 26, 0.5],\n",
       " [8.9800000000000182, 71, 26, 0.5],\n",
       " [9.1999999999998181, 71, 27, 0.5],\n",
       " [9.8599999999996726, 71, 28, 0.5],\n",
       " [10.519999999999982, 71, 26, 0.5],\n",
       " [10.739999999999782, 71, 26, 0.5],\n",
       " [10.960000000000036, 71, 25, 0.5],\n",
       " [11.179999999999836, 71, 29, 0.5],\n",
       " [11.389999999999873, 71, 25, 0.5],\n",
       " [12.049999999999727, 71, 28, 0.5],\n",
       " [12.269999999999982, 71, 26, 0.5],\n",
       " [12.489999999999782, 71, 25, 0.5],\n",
       " [12.710000000000036, 71, 25, 0.5],\n",
       " [13.369999999999891, 71, 25, 0.5],\n",
       " [13.579999999999927, 71, 26, 0.5],\n",
       " [13.799999999999727, 71, 25, 0.5],\n",
       " [14.239999999999782, 71, 25, 0.5],\n",
       " [14.899999999999636, 71, 31, 0.5],\n",
       " [15.989999999999782, 71, 28, 0.5],\n",
       " [16.649999999999636, 71, 28, 0.5],\n",
       " [16.869999999999891, 71, 26, 0.5],\n",
       " [17.529999999999745, 71, 31, 0.5],\n",
       " [17.9699999999998, 71, 27, 0.5],\n",
       " [18.179999999999836, 71, 29, 0.5],\n",
       " [18.399999999999636, 71, 32, 0.5],\n",
       " [18.619999999999891, 71, 27, 0.5],\n",
       " [19.279999999999745, 71, 29, 0.5],\n",
       " [19.7199999999998, 71, 28, 0.5],\n",
       " [19.9399999999996, 71, 27, 0.5],\n",
       " [20.159999999999854, 71, 28, 0.5],\n",
       " [20.809999999999945, 71, 26, 0.5],\n",
       " [21.029999999999745, 71, 40, 0.5],\n",
       " [21.4699999999998, 71, 27, 0.5],\n",
       " [22.349999999999909, 71, 26, 0.5],\n",
       " [22.779999999999745, 71, 25, 0.5],\n",
       " [23.0, 71, 25, 0.5],\n",
       " [23.879999999999654, 71, 25, 0.5],\n",
       " [24.099999999999909, 71, 27, 0.5],\n",
       " [25.1899999999996, 71, 25, 0.5],\n",
       " [25.409999999999854, 71, 26, 0.5],\n",
       " [25.629999999999654, 71, 25, 0.5],\n",
       " [25.849999999999909, 71, 28, 0.5],\n",
       " [26.069999999999709, 71, 33, 0.5],\n",
       " [26.289999999999964, 71, 27, 0.5],\n",
       " [26.509999999999764, 71, 26, 0.5],\n",
       " [26.949999999999818, 71, 26, 0.5],\n",
       " [27.599999999999909, 71, 27, 0.5],\n",
       " [28.039999999999964, 71, 28, 0.5],\n",
       " [28.259999999999764, 71, 26, 0.5],\n",
       " [29.139999999999873, 71, 26, 0.5],\n",
       " [29.569999999999709, 71, 28, 0.5],\n",
       " [30.449999999999818, 71, 25, 0.5],\n",
       " [30.669999999999618, 71, 26, 0.5],\n",
       " [31.759999999999764, 71, 25, 0.5],\n",
       " [31.980000000000018, 71, 35, 0.5],\n",
       " [32.199999999999818, 71, 26, 0.5],\n",
       " [32.419999999999618, 71, 26, 0.5],\n",
       " [32.639999999999873, 71, 26, 0.5],\n",
       " [33.079999999999927, 71, 28, 0.5],\n",
       " [33.299999999999727, 71, 28, 0.5],\n",
       " [33.519999999999982, 71, 31, 0.5],\n",
       " [33.949999999999818, 71, 32, 0.5],\n",
       " [34.169999999999618, 71, 28, 0.5],\n",
       " [34.609999999999673, 71, 25, 0.5],\n",
       " [34.829999999999927, 71, 27, 0.5],\n",
       " [35.049999999999727, 71, 25, 0.5],\n",
       " [35.269999999999982, 71, 25, 0.5],\n",
       " [35.710000000000036, 71, 27, 0.5],\n",
       " [35.929999999999836, 71, 31, 0.5],\n",
       " [36.139999999999873, 71, 32, 0.5],\n",
       " [36.579999999999927, 71, 26, 0.5],\n",
       " [36.799999999999727, 71, 28, 0.5],\n",
       " [37.679999999999836, 71, 26, 0.5],\n",
       " [38.119999999999891, 71, 26, 0.5],\n",
       " [38.329999999999927, 71, 26, 0.5],\n",
       " [38.769999999999982, 71, 25, 0.5],\n",
       " [39.429999999999836, 71, 27, 0.5],\n",
       " [39.649999999999636, 71, 27, 0.5],\n",
       " [39.869999999999891, 71, 25, 0.5],\n",
       " [40.089999999999691, 71, 29, 0.5],\n",
       " [40.309999999999945, 71, 27, 0.5],\n",
       " [40.519999999999982, 71, 32, 0.5],\n",
       " [40.739999999999782, 71, 25, 0.5],\n",
       " [41.179999999999836, 71, 26, 0.5],\n",
       " [41.399999999999636, 71, 25, 0.5],\n",
       " [42.7199999999998, 71, 26, 0.5],\n",
       " [43.369999999999891, 71, 26, 0.5],\n",
       " [43.589999999999691, 71, 26, 0.5],\n",
       " [44.25, 71, 25, 0.5],\n",
       " [44.4699999999998, 71, 26, 0.5],\n",
       " [45.119999999999891, 71, 26, 0.5],\n",
       " [45.339999999999691, 71, 26, 0.5],\n",
       " [45.559999999999945, 71, 25, 0.5],\n",
       " [45.779999999999745, 71, 28, 0.5],\n",
       " [46.0, 71, 27, 0.5],\n",
       " [46.2199999999998, 71, 25, 0.5],\n",
       " [46.4399999999996, 71, 25, 0.5],\n",
       " [46.659999999999854, 71, 25, 0.5],\n",
       " [46.879999999999654, 71, 26, 0.5],\n",
       " [47.099999999999909, 71, 28, 0.5],\n",
       " [47.309999999999945, 71, 27, 0.5],\n",
       " [47.529999999999745, 71, 25, 0.5],\n",
       " [47.9699999999998, 71, 26, 0.5],\n",
       " [48.849999999999909, 71, 26, 0.5],\n",
       " [49.069999999999709, 71, 25, 0.5],\n",
       " [49.289999999999964, 71, 27, 0.5],\n",
       " [49.7199999999998, 71, 25, 0.5],\n",
       " [50.379999999999654, 71, 26, 0.5],\n",
       " [50.599999999999909, 71, 27, 0.5],\n",
       " [50.819999999999709, 71, 32, 0.5],\n",
       " [51.039999999999964, 71, 25, 0.5],\n",
       " [51.480000000000018, 71, 29, 0.5],\n",
       " [51.699999999999818, 71, 25, 0.5],\n",
       " [52.129999999999654, 71, 27, 0.5],\n",
       " [52.349999999999909, 71, 27, 0.5],\n",
       " [53.449999999999818, 71, 26, 0.5],\n",
       " [53.669999999999618, 71, 27, 0.5],\n",
       " [53.889999999999873, 71, 25, 0.5],\n",
       " [54.319999999999709, 71, 25, 0.5],\n",
       " [54.980000000000018, 71, 25, 0.5],\n",
       " [55.199999999999818, 71, 37, 0.5],\n",
       " [55.859999999999673, 71, 27, 0.5],\n",
       " [56.509999999999764, 71, 25, 0.5],\n",
       " [56.730000000000018, 71, 27, 0.5],\n",
       " [57.389999999999873, 71, 25, 0.5],\n",
       " [58.049999999999727, 71, 28, 0.5],\n",
       " [58.269999999999982, 71, 27, 0.5],\n",
       " [58.699999999999818, 71, 28, 0.5],\n",
       " [59.139999999999873, 71, 26, 0.5],\n",
       " [59.579999999999927, 71, 26, 0.5],\n",
       " [59.799999999999727, 71, 100, 0.5],\n",
       " [60.239999999999782, 71, 25, 0.5],\n",
       " [60.679999999999836, 71, 29, 0.5],\n",
       " [60.889999999999873, 71, 25, 0.5],\n",
       " [61.109999999999673, 71, 25, 0.5],\n",
       " [61.549999999999727, 71, 25, 0.5],\n",
       " [61.769999999999982, 71, 25, 0.5],\n",
       " [61.989999999999782, 71, 29, 0.5],\n",
       " [62.210000000000036, 71, 27, 0.5],\n",
       " [62.869999999999891, 71, 28, 0.5],\n",
       " [63.079999999999927, 71, 26, 0.5],\n",
       " [63.299999999999727, 71, 25, 0.5],\n",
       " [63.519999999999982, 71, 28, 0.5],\n",
       " [64.179999999999836, 71, 25, 0.5],\n",
       " [64.399999999999636, 71, 27, 0.5],\n",
       " [64.619999999999891, 71, 27, 0.5],\n",
       " [65.489999999999782, 71, 25, 0.5],\n",
       " [65.710000000000036, 71, 26, 0.5],\n",
       " [65.929999999999836, 71, 26, 0.5],\n",
       " [66.369999999999891, 71, 26, 0.5],\n",
       " [67.029999999999745, 71, 26, 0.5],\n",
       " [67.25, 71, 26, 0.5],\n",
       " [67.4699999999998, 71, 57, 0.5],\n",
       " [68.339999999999691, 71, 25, 0.5],\n",
       " [68.559999999999945, 71, 25, 0.5],\n",
       " [68.779999999999745, 71, 28, 0.5],\n",
       " [69.0, 71, 27, 0.5],\n",
       " [69.4399999999996, 71, 32, 0.5],\n",
       " [69.869999999999891, 71, 25, 0.5]]"
      ]
     },
     "execution_count": 28,
     "metadata": {},
     "output_type": "execute_result"
    }
   ],
   "source": [
    "note_list"
   ]
  },
  {
   "cell_type": "markdown",
   "metadata": {},
   "source": [
    "## Make MIDI file"
   ]
  },
  {
   "cell_type": "code",
   "execution_count": 29,
   "metadata": {},
   "outputs": [
    {
     "name": "stdout",
     "output_type": "stream",
     "text": [
      "71 0.0 0.5 26\n",
      "71 0.44 0.5 25\n",
      "71 0.66 0.5 28\n",
      "71 1.1 0.5 33\n",
      "71 1.32 0.5 26\n",
      "71 2.2 0.5 27\n",
      "71 2.41 0.5 31\n",
      "71 3.07 0.5 29\n",
      "71 3.29 0.5 25\n",
      "71 4.17 0.5 26\n",
      "71 4.39 0.5 27\n",
      "71 4.6 0.5 32\n",
      "71 5.26 0.5 25\n",
      "71 5.48 0.5 27\n",
      "71 5.7 0.5 25\n",
      "71 6.14 0.5 26\n",
      "71 6.36 0.5 25\n",
      "71 6.58 0.5 25\n",
      "71 7.89 0.5 29\n",
      "71 8.11 0.5 26\n",
      "71 8.33 0.5 26\n",
      "71 8.55 0.5 29\n",
      "71 8.77 0.5 26\n",
      "71 8.98 0.5 26\n",
      "71 9.2 0.5 27\n",
      "71 9.86 0.5 28\n",
      "71 10.52 0.5 26\n",
      "71 10.74 0.5 26\n",
      "71 10.96 0.5 25\n",
      "71 11.18 0.5 29\n",
      "71 11.39 0.5 25\n",
      "71 12.05 0.5 28\n",
      "71 12.27 0.5 26\n",
      "71 12.49 0.5 25\n",
      "71 12.71 0.5 25\n",
      "71 13.37 0.5 25\n",
      "71 13.58 0.5 26\n",
      "71 13.8 0.5 25\n",
      "71 14.24 0.5 25\n",
      "71 14.9 0.5 31\n",
      "71 15.99 0.5 28\n",
      "71 16.65 0.5 28\n",
      "71 16.87 0.5 26\n",
      "71 17.53 0.5 31\n",
      "71 17.97 0.5 27\n",
      "71 18.18 0.5 29\n",
      "71 18.4 0.5 32\n",
      "71 18.62 0.5 27\n",
      "71 19.28 0.5 29\n",
      "71 19.72 0.5 28\n",
      "71 19.94 0.5 27\n",
      "71 20.16 0.5 28\n",
      "71 20.81 0.5 26\n",
      "71 21.03 0.5 40\n",
      "71 21.47 0.5 27\n",
      "71 22.35 0.5 26\n",
      "71 22.78 0.5 25\n",
      "71 23.0 0.5 25\n",
      "71 23.88 0.5 25\n",
      "71 24.1 0.5 27\n",
      "71 25.19 0.5 25\n",
      "71 25.41 0.5 26\n",
      "71 25.63 0.5 25\n",
      "71 25.85 0.5 28\n",
      "71 26.07 0.5 33\n",
      "71 26.29 0.5 27\n",
      "71 26.51 0.5 26\n",
      "71 26.95 0.5 26\n",
      "71 27.6 0.5 27\n",
      "71 28.04 0.5 28\n",
      "71 28.26 0.5 26\n",
      "71 29.14 0.5 26\n",
      "71 29.57 0.5 28\n",
      "71 30.45 0.5 25\n",
      "71 30.67 0.5 26\n",
      "71 31.76 0.5 25\n",
      "71 31.98 0.5 35\n",
      "71 32.2 0.5 26\n",
      "71 32.42 0.5 26\n",
      "71 32.64 0.5 26\n",
      "71 33.08 0.5 28\n",
      "71 33.3 0.5 28\n",
      "71 33.52 0.5 31\n",
      "71 33.95 0.5 32\n",
      "71 34.17 0.5 28\n",
      "71 34.61 0.5 25\n",
      "71 34.83 0.5 27\n",
      "71 35.05 0.5 25\n",
      "71 35.27 0.5 25\n",
      "71 35.71 0.5 27\n",
      "71 35.93 0.5 31\n",
      "71 36.14 0.5 32\n",
      "71 36.58 0.5 26\n",
      "71 36.8 0.5 28\n",
      "71 37.68 0.5 26\n",
      "71 38.12 0.5 26\n",
      "71 38.33 0.5 26\n",
      "71 38.77 0.5 25\n",
      "71 39.43 0.5 27\n",
      "71 39.65 0.5 27\n",
      "71 39.87 0.5 25\n",
      "71 40.09 0.5 29\n",
      "71 40.31 0.5 27\n",
      "71 40.52 0.5 32\n",
      "71 40.74 0.5 25\n",
      "71 41.18 0.5 26\n",
      "71 41.4 0.5 25\n",
      "71 42.72 0.5 26\n",
      "71 43.37 0.5 26\n",
      "71 43.59 0.5 26\n",
      "71 44.25 0.5 25\n",
      "71 44.47 0.5 26\n",
      "71 45.12 0.5 26\n",
      "71 45.34 0.5 26\n",
      "71 45.56 0.5 25\n",
      "71 45.78 0.5 28\n",
      "71 46.0 0.5 27\n",
      "71 46.22 0.5 25\n",
      "71 46.44 0.5 25\n",
      "71 46.66 0.5 25\n",
      "71 46.88 0.5 26\n",
      "71 47.1 0.5 28\n",
      "71 47.31 0.5 27\n",
      "71 47.53 0.5 25\n",
      "71 47.97 0.5 26\n",
      "71 48.85 0.5 26\n",
      "71 49.07 0.5 25\n",
      "71 49.29 0.5 27\n",
      "71 49.72 0.5 25\n",
      "71 50.38 0.5 26\n",
      "71 50.6 0.5 27\n",
      "71 50.82 0.5 32\n",
      "71 51.04 0.5 25\n",
      "71 51.48 0.5 29\n",
      "71 51.7 0.5 25\n",
      "71 52.13 0.5 27\n",
      "71 52.35 0.5 27\n",
      "71 53.45 0.5 26\n",
      "71 53.67 0.5 27\n",
      "71 53.89 0.5 25\n",
      "71 54.32 0.5 25\n",
      "71 54.98 0.5 25\n",
      "71 55.2 0.5 37\n",
      "71 55.86 0.5 27\n",
      "71 56.51 0.5 25\n",
      "71 56.73 0.5 27\n",
      "71 57.39 0.5 25\n",
      "71 58.05 0.5 28\n",
      "71 58.27 0.5 27\n",
      "71 58.7 0.5 28\n",
      "71 59.14 0.5 26\n",
      "71 59.58 0.5 26\n",
      "71 59.8 0.5 100\n",
      "71 60.24 0.5 25\n",
      "71 60.68 0.5 29\n",
      "71 60.89 0.5 25\n",
      "71 61.11 0.5 25\n",
      "71 61.55 0.5 25\n",
      "71 61.77 0.5 25\n",
      "71 61.99 0.5 29\n",
      "71 62.21 0.5 27\n",
      "71 62.87 0.5 28\n",
      "71 63.08 0.5 26\n",
      "71 63.3 0.5 25\n",
      "71 63.52 0.5 28\n",
      "71 64.18 0.5 25\n",
      "71 64.4 0.5 27\n",
      "71 64.62 0.5 27\n",
      "71 65.49 0.5 25\n",
      "71 65.71 0.5 26\n",
      "71 65.93 0.5 26\n",
      "71 66.37 0.5 26\n",
      "71 67.03 0.5 26\n",
      "71 67.25 0.5 26\n",
      "71 67.47 0.5 57\n",
      "71 68.34 0.5 25\n",
      "71 68.56 0.5 25\n",
      "71 68.78 0.5 28\n",
      "71 69.0 0.5 27\n",
      "71 69.44 0.5 32\n",
      "71 69.87 0.5 25\n"
     ]
    }
   ],
   "source": [
    "# Add a track with those notes\n",
    "mymidi.add_track(note_list)\n",
    "\n",
    "# Output the .mid file\n",
    "mymidi.save_midi()"
   ]
  },
  {
   "cell_type": "code",
   "execution_count": null,
   "metadata": {
    "collapsed": true
   },
   "outputs": [],
   "source": [
    " "
   ]
  },
  {
   "cell_type": "code",
   "execution_count": null,
   "metadata": {
    "collapsed": true
   },
   "outputs": [],
   "source": []
  },
  {
   "cell_type": "code",
   "execution_count": null,
   "metadata": {
    "collapsed": true
   },
   "outputs": [],
   "source": []
  },
  {
   "cell_type": "code",
   "execution_count": null,
   "metadata": {
    "collapsed": true
   },
   "outputs": [],
   "source": []
  },
  {
   "cell_type": "code",
   "execution_count": null,
   "metadata": {
    "collapsed": true
   },
   "outputs": [],
   "source": []
  },
  {
   "cell_type": "code",
   "execution_count": null,
   "metadata": {
    "collapsed": true
   },
   "outputs": [],
   "source": []
  },
  {
   "cell_type": "code",
   "execution_count": null,
   "metadata": {
    "collapsed": true
   },
   "outputs": [],
   "source": []
  }
 ],
 "metadata": {
  "kernelspec": {
   "display_name": "Python 3",
   "language": "python",
   "name": "python3"
  },
  "language_info": {
   "codemirror_mode": {
    "name": "ipython",
    "version": 3
   },
   "file_extension": ".py",
   "mimetype": "text/x-python",
   "name": "python",
   "nbconvert_exporter": "python",
   "pygments_lexer": "ipython3",
   "version": "3.6.1"
  }
 },
 "nbformat": 4,
 "nbformat_minor": 2
}
