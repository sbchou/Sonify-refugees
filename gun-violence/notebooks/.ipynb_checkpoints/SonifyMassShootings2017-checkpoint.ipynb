{
 "cells": [
  {
   "cell_type": "code",
   "execution_count": 1,
   "metadata": {},
   "outputs": [],
   "source": [
    "# My usual setup\n",
    "%matplotlib inline\n",
    "import matplotlib.pyplot as plt\n",
    "import pandas \n",
    "from datetime import datetime\n",
    "import seaborn as sns\n",
    "import glob\n",
    "from os.path import basename\n",
    "sns.set_context('poster') \n",
    "import numpy as np"
   ]
  },
  {
   "cell_type": "markdown",
   "metadata": {},
   "source": [
    "# Sonify gun violence in america in different ways\n",
    "- Original tutorial https://github.com/cirlabs/miditime\n",
    "- I handle most manipulations in dataframe for ease of IO\n",
    "- This includes days with no shootings, but it will be played at the lowest volume.\n"
   ]
  },
  {
   "cell_type": "markdown",
   "metadata": {},
   "source": [
    "## First, format files"
   ]
  },
  {
   "cell_type": "code",
   "execution_count": 2,
   "metadata": {},
   "outputs": [],
   "source": [
    "df = pandas.read_csv('../data/mass-shootings-2017-reformatted.csv')"
   ]
  },
  {
   "cell_type": "code",
   "execution_count": 3,
   "metadata": {
    "scrolled": true
   },
   "outputs": [
    {
     "data": {
      "text/html": [
       "<div>\n",
       "<style scoped>\n",
       "    .dataframe tbody tr th:only-of-type {\n",
       "        vertical-align: middle;\n",
       "    }\n",
       "\n",
       "    .dataframe tbody tr th {\n",
       "        vertical-align: top;\n",
       "    }\n",
       "\n",
       "    .dataframe thead th {\n",
       "        text-align: right;\n",
       "    }\n",
       "</style>\n",
       "<table border=\"1\" class=\"dataframe\">\n",
       "  <thead>\n",
       "    <tr style=\"text-align: right;\">\n",
       "      <th></th>\n",
       "      <th>date</th>\n",
       "      <th>state</th>\n",
       "      <th>city_county</th>\n",
       "      <th>address</th>\n",
       "      <th>nkill</th>\n",
       "      <th>ninjured</th>\n",
       "      <th>operations</th>\n",
       "    </tr>\n",
       "  </thead>\n",
       "  <tbody>\n",
       "    <tr>\n",
       "      <th>0</th>\n",
       "      <td>5-Nov-17</td>\n",
       "      <td>Texas</td>\n",
       "      <td>Sutherland Springs</td>\n",
       "      <td>216 4th St</td>\n",
       "      <td>27</td>\n",
       "      <td>20</td>\n",
       "      <td>NaN</td>\n",
       "    </tr>\n",
       "    <tr>\n",
       "      <th>1</th>\n",
       "      <td>4-Nov-17</td>\n",
       "      <td>Texas</td>\n",
       "      <td>Austin</td>\n",
       "      <td>N Lamar Blvd and Masterson Pass</td>\n",
       "      <td>0</td>\n",
       "      <td>4</td>\n",
       "      <td>NaN</td>\n",
       "    </tr>\n",
       "    <tr>\n",
       "      <th>2</th>\n",
       "      <td>4-Nov-17</td>\n",
       "      <td>Ohio</td>\n",
       "      <td>Youngstown</td>\n",
       "      <td>2810 Market St</td>\n",
       "      <td>0</td>\n",
       "      <td>4</td>\n",
       "      <td>NaN</td>\n",
       "    </tr>\n",
       "    <tr>\n",
       "      <th>3</th>\n",
       "      <td>4-Nov-17</td>\n",
       "      <td>California</td>\n",
       "      <td>Santa Monica</td>\n",
       "      <td>1515 Ocean Avenue</td>\n",
       "      <td>1</td>\n",
       "      <td>3</td>\n",
       "      <td>NaN</td>\n",
       "    </tr>\n",
       "    <tr>\n",
       "      <th>4</th>\n",
       "      <td>3-Nov-17</td>\n",
       "      <td>Minnesota</td>\n",
       "      <td>Minneapolis</td>\n",
       "      <td>10th Ave S and E 24th St</td>\n",
       "      <td>0</td>\n",
       "      <td>4</td>\n",
       "      <td>NaN</td>\n",
       "    </tr>\n",
       "  </tbody>\n",
       "</table>\n",
       "</div>"
      ],
      "text/plain": [
       "       date       state         city_county                          address  \\\n",
       "0  5-Nov-17       Texas  Sutherland Springs                       216 4th St   \n",
       "1  4-Nov-17       Texas              Austin  N Lamar Blvd and Masterson Pass   \n",
       "2  4-Nov-17        Ohio          Youngstown                   2810 Market St   \n",
       "3  4-Nov-17  California        Santa Monica                1515 Ocean Avenue   \n",
       "4  3-Nov-17   Minnesota         Minneapolis         10th Ave S and E 24th St   \n",
       "\n",
       "   nkill  ninjured  operations  \n",
       "0     27        20         NaN  \n",
       "1      0         4         NaN  \n",
       "2      0         4         NaN  \n",
       "3      1         3         NaN  \n",
       "4      0         4         NaN  "
      ]
     },
     "execution_count": 3,
     "metadata": {},
     "output_type": "execute_result"
    }
   ],
   "source": [
    "df.head()"
   ]
  },
  {
   "cell_type": "code",
   "execution_count": 4,
   "metadata": {},
   "outputs": [],
   "source": [
    "df['datetime'] = pandas.to_datetime(df.date, infer_datetime_format=True)"
   ]
  },
  {
   "cell_type": "code",
   "execution_count": 5,
   "metadata": {},
   "outputs": [
    {
     "data": {
      "text/html": [
       "<div>\n",
       "<style scoped>\n",
       "    .dataframe tbody tr th:only-of-type {\n",
       "        vertical-align: middle;\n",
       "    }\n",
       "\n",
       "    .dataframe tbody tr th {\n",
       "        vertical-align: top;\n",
       "    }\n",
       "\n",
       "    .dataframe thead th {\n",
       "        text-align: right;\n",
       "    }\n",
       "</style>\n",
       "<table border=\"1\" class=\"dataframe\">\n",
       "  <thead>\n",
       "    <tr style=\"text-align: right;\">\n",
       "      <th></th>\n",
       "      <th>date</th>\n",
       "      <th>state</th>\n",
       "      <th>city_county</th>\n",
       "      <th>address</th>\n",
       "      <th>nkill</th>\n",
       "      <th>ninjured</th>\n",
       "      <th>operations</th>\n",
       "      <th>datetime</th>\n",
       "    </tr>\n",
       "  </thead>\n",
       "  <tbody>\n",
       "    <tr>\n",
       "      <th>0</th>\n",
       "      <td>5-Nov-17</td>\n",
       "      <td>Texas</td>\n",
       "      <td>Sutherland Springs</td>\n",
       "      <td>216 4th St</td>\n",
       "      <td>27</td>\n",
       "      <td>20</td>\n",
       "      <td>NaN</td>\n",
       "      <td>2017-11-05</td>\n",
       "    </tr>\n",
       "    <tr>\n",
       "      <th>1</th>\n",
       "      <td>4-Nov-17</td>\n",
       "      <td>Texas</td>\n",
       "      <td>Austin</td>\n",
       "      <td>N Lamar Blvd and Masterson Pass</td>\n",
       "      <td>0</td>\n",
       "      <td>4</td>\n",
       "      <td>NaN</td>\n",
       "      <td>2017-11-04</td>\n",
       "    </tr>\n",
       "    <tr>\n",
       "      <th>2</th>\n",
       "      <td>4-Nov-17</td>\n",
       "      <td>Ohio</td>\n",
       "      <td>Youngstown</td>\n",
       "      <td>2810 Market St</td>\n",
       "      <td>0</td>\n",
       "      <td>4</td>\n",
       "      <td>NaN</td>\n",
       "      <td>2017-11-04</td>\n",
       "    </tr>\n",
       "    <tr>\n",
       "      <th>3</th>\n",
       "      <td>4-Nov-17</td>\n",
       "      <td>California</td>\n",
       "      <td>Santa Monica</td>\n",
       "      <td>1515 Ocean Avenue</td>\n",
       "      <td>1</td>\n",
       "      <td>3</td>\n",
       "      <td>NaN</td>\n",
       "      <td>2017-11-04</td>\n",
       "    </tr>\n",
       "    <tr>\n",
       "      <th>4</th>\n",
       "      <td>3-Nov-17</td>\n",
       "      <td>Minnesota</td>\n",
       "      <td>Minneapolis</td>\n",
       "      <td>10th Ave S and E 24th St</td>\n",
       "      <td>0</td>\n",
       "      <td>4</td>\n",
       "      <td>NaN</td>\n",
       "      <td>2017-11-03</td>\n",
       "    </tr>\n",
       "  </tbody>\n",
       "</table>\n",
       "</div>"
      ],
      "text/plain": [
       "       date       state         city_county                          address  \\\n",
       "0  5-Nov-17       Texas  Sutherland Springs                       216 4th St   \n",
       "1  4-Nov-17       Texas              Austin  N Lamar Blvd and Masterson Pass   \n",
       "2  4-Nov-17        Ohio          Youngstown                   2810 Market St   \n",
       "3  4-Nov-17  California        Santa Monica                1515 Ocean Avenue   \n",
       "4  3-Nov-17   Minnesota         Minneapolis         10th Ave S and E 24th St   \n",
       "\n",
       "   nkill  ninjured  operations   datetime  \n",
       "0     27        20         NaN 2017-11-05  \n",
       "1      0         4         NaN 2017-11-04  \n",
       "2      0         4         NaN 2017-11-04  \n",
       "3      1         3         NaN 2017-11-04  \n",
       "4      0         4         NaN 2017-11-03  "
      ]
     },
     "execution_count": 5,
     "metadata": {},
     "output_type": "execute_result"
    }
   ],
   "source": [
    "df.head()"
   ]
  },
  {
   "cell_type": "code",
   "execution_count": 6,
   "metadata": {},
   "outputs": [],
   "source": [
    "df_nkill = df.groupby('datetime').nkill.sum().to_frame()"
   ]
  },
  {
   "cell_type": "code",
   "execution_count": 7,
   "metadata": {},
   "outputs": [
    {
     "name": "stdout",
     "output_type": "stream",
     "text": [
      "2017-11-05 00:00:00\n",
      "2017-01-01 00:00:00\n"
     ]
    }
   ],
   "source": [
    "print(df_nkill.index.max())\n",
    "print(df_nkill.index.min())"
   ]
  },
  {
   "cell_type": "code",
   "execution_count": 8,
   "metadata": {},
   "outputs": [
    {
     "name": "stdout",
     "output_type": "stream",
     "text": [
      "nkill    62\n",
      "dtype: int64\n",
      "nkill    0\n",
      "dtype: int64\n"
     ]
    }
   ],
   "source": [
    "print(df_nkill.max())\n",
    "print(df_nkill.min())"
   ]
  },
  {
   "cell_type": "code",
   "execution_count": 9,
   "metadata": {},
   "outputs": [
    {
     "name": "stdout",
     "output_type": "stream",
     "text": [
      "nkill   2017-10-01\n",
      "dtype: datetime64[ns]\n"
     ]
    }
   ],
   "source": [
    "print(df_nkill.idxmax())"
   ]
  },
  {
   "cell_type": "code",
   "execution_count": 10,
   "metadata": {},
   "outputs": [
    {
     "data": {
      "text/html": [
       "<div>\n",
       "<style scoped>\n",
       "    .dataframe tbody tr th:only-of-type {\n",
       "        vertical-align: middle;\n",
       "    }\n",
       "\n",
       "    .dataframe tbody tr th {\n",
       "        vertical-align: top;\n",
       "    }\n",
       "\n",
       "    .dataframe thead th {\n",
       "        text-align: right;\n",
       "    }\n",
       "</style>\n",
       "<table border=\"1\" class=\"dataframe\">\n",
       "  <thead>\n",
       "    <tr style=\"text-align: right;\">\n",
       "      <th></th>\n",
       "      <th>nkill</th>\n",
       "    </tr>\n",
       "    <tr>\n",
       "      <th>datetime</th>\n",
       "      <th></th>\n",
       "    </tr>\n",
       "  </thead>\n",
       "  <tbody>\n",
       "    <tr>\n",
       "      <th>2017-01-01</th>\n",
       "      <td>1</td>\n",
       "    </tr>\n",
       "    <tr>\n",
       "      <th>2017-01-03</th>\n",
       "      <td>0</td>\n",
       "    </tr>\n",
       "    <tr>\n",
       "      <th>2017-01-04</th>\n",
       "      <td>3</td>\n",
       "    </tr>\n",
       "    <tr>\n",
       "      <th>2017-01-06</th>\n",
       "      <td>7</td>\n",
       "    </tr>\n",
       "    <tr>\n",
       "      <th>2017-01-07</th>\n",
       "      <td>1</td>\n",
       "    </tr>\n",
       "  </tbody>\n",
       "</table>\n",
       "</div>"
      ],
      "text/plain": [
       "            nkill\n",
       "datetime         \n",
       "2017-01-01      1\n",
       "2017-01-03      0\n",
       "2017-01-04      3\n",
       "2017-01-06      7\n",
       "2017-01-07      1"
      ]
     },
     "execution_count": 10,
     "metadata": {},
     "output_type": "execute_result"
    }
   ],
   "source": [
    "df_nkill.head()"
   ]
  },
  {
   "cell_type": "code",
   "execution_count": 11,
   "metadata": {},
   "outputs": [],
   "source": [
    "df_nkill.to_csv('../data/nkill-by-day-2017.csv')"
   ]
  },
  {
   "cell_type": "code",
   "execution_count": 12,
   "metadata": {},
   "outputs": [],
   "source": [
    "df_nkill['datetime'] = df_nkill.index"
   ]
  },
  {
   "cell_type": "code",
   "execution_count": 13,
   "metadata": {},
   "outputs": [
    {
     "data": {
      "text/html": [
       "<div>\n",
       "<style scoped>\n",
       "    .dataframe tbody tr th:only-of-type {\n",
       "        vertical-align: middle;\n",
       "    }\n",
       "\n",
       "    .dataframe tbody tr th {\n",
       "        vertical-align: top;\n",
       "    }\n",
       "\n",
       "    .dataframe thead th {\n",
       "        text-align: right;\n",
       "    }\n",
       "</style>\n",
       "<table border=\"1\" class=\"dataframe\">\n",
       "  <thead>\n",
       "    <tr style=\"text-align: right;\">\n",
       "      <th></th>\n",
       "      <th>nkill</th>\n",
       "      <th>datetime</th>\n",
       "    </tr>\n",
       "    <tr>\n",
       "      <th>datetime</th>\n",
       "      <th></th>\n",
       "      <th></th>\n",
       "    </tr>\n",
       "  </thead>\n",
       "  <tbody>\n",
       "    <tr>\n",
       "      <th>2017-01-01</th>\n",
       "      <td>1</td>\n",
       "      <td>2017-01-01</td>\n",
       "    </tr>\n",
       "    <tr>\n",
       "      <th>2017-01-03</th>\n",
       "      <td>0</td>\n",
       "      <td>2017-01-03</td>\n",
       "    </tr>\n",
       "    <tr>\n",
       "      <th>2017-01-04</th>\n",
       "      <td>3</td>\n",
       "      <td>2017-01-04</td>\n",
       "    </tr>\n",
       "    <tr>\n",
       "      <th>2017-01-06</th>\n",
       "      <td>7</td>\n",
       "      <td>2017-01-06</td>\n",
       "    </tr>\n",
       "    <tr>\n",
       "      <th>2017-01-07</th>\n",
       "      <td>1</td>\n",
       "      <td>2017-01-07</td>\n",
       "    </tr>\n",
       "  </tbody>\n",
       "</table>\n",
       "</div>"
      ],
      "text/plain": [
       "            nkill   datetime\n",
       "datetime                    \n",
       "2017-01-01      1 2017-01-01\n",
       "2017-01-03      0 2017-01-03\n",
       "2017-01-04      3 2017-01-04\n",
       "2017-01-06      7 2017-01-06\n",
       "2017-01-07      1 2017-01-07"
      ]
     },
     "execution_count": 13,
     "metadata": {},
     "output_type": "execute_result"
    }
   ],
   "source": [
    "df_nkill.head()"
   ]
  },
  {
   "cell_type": "markdown",
   "metadata": {},
   "source": [
    "### NEVER FORGET TO SORT"
   ]
  },
  {
   "cell_type": "code",
   "execution_count": 14,
   "metadata": {},
   "outputs": [],
   "source": [
    "df_nkill.sort_index(inplace=True)"
   ]
  },
  {
   "cell_type": "markdown",
   "metadata": {},
   "source": [
    "## Chart data  "
   ]
  },
  {
   "cell_type": "code",
   "execution_count": 15,
   "metadata": {},
   "outputs": [
    {
     "data": {
      "text/plain": [
       "Text(0.5,1,'Deaths by mass shootings, 2017')"
      ]
     },
     "execution_count": 15,
     "metadata": {},
     "output_type": "execute_result"
    },
    {
     "data": {
      "image/png": "[encoded data removed]",
      "text/plain": [
       "<matplotlib.figure.Figure at 0x110a0a978>"
      ]
     },
     "metadata": {},
     "output_type": "display_data"
    }
   ],
   "source": [
    "df_nkill.nkill.plot()\n",
    "plt.title('Deaths by mass shootings, 2017')"
   ]
  },
  {
   "cell_type": "markdown",
   "metadata": {},
   "source": [
    "## MIDITime initialization"
   ]
  },
  {
   "cell_type": "markdown",
   "metadata": {},
   "source": [
    "Instantiate the class with a tempo (120bpm is the default), an output file destination, the number of seconds you want to represent a year in the final song (default is 5 sec/year), the base octave (C5 is middle C, so the default is 5, and how many octaves you want your output to range over (default is 1)."
   ]
  },
  {
   "cell_type": "code",
   "execution_count": 16,
   "metadata": {},
   "outputs": [],
   "source": [
    "from miditime.miditime import MIDITime\n",
    "BPM = 120\n",
    "FILENAME = '../audio/2017-deaths-by-day-20s.mid'\n",
    "SEC_PER_YEAR = 30\n",
    "BASE_OCTAVE = 5\n",
    "OCTAVES = 1\n",
    "\n",
    "mymidi = MIDITime(BPM,FILENAME, SEC_PER_YEAR, BASE_OCTAVE, OCTAVES)"
   ]
  },
  {
   "cell_type": "markdown",
   "metadata": {},
   "source": [
    "Convert your date/time data into an integer, like days since the epoch (Jan. 1, 1970). You can use the days_since_epoch() helper method, or not:"
   ]
  },
  {
   "cell_type": "code",
   "execution_count": 17,
   "metadata": {},
   "outputs": [],
   "source": [
    "df_nkill['epoched'] = df_nkill.datetime.apply(lambda x: mymidi.days_since_epoch(x))"
   ]
  },
  {
   "cell_type": "markdown",
   "metadata": {},
   "source": [
    "## Our data is one year\n",
    "Convert your integer date/time to something reasonable for a song. For example, at 120 beats per minute, you'll need to scale the data down a lot to avoid a very long song if your data spans years. This uses the seconds_per_year attribute you set at the top, so if your date is converted to something other than days you may need to do your own conversion. But if your dataset spans years and your dates are in days (with fractions is fine), use the beat() helper method."
   ]
  },
  {
   "cell_type": "code",
   "execution_count": 18,
   "metadata": {},
   "outputs": [],
   "source": [
    "df_nkill['beat'] = df_nkill['epoched'].apply(lambda x: mymidi.beat(x))"
   ]
  },
  {
   "cell_type": "code",
   "execution_count": 19,
   "metadata": {},
   "outputs": [
    {
     "data": {
      "text/html": [
       "<div>\n",
       "<style scoped>\n",
       "    .dataframe tbody tr th:only-of-type {\n",
       "        vertical-align: middle;\n",
       "    }\n",
       "\n",
       "    .dataframe tbody tr th {\n",
       "        vertical-align: top;\n",
       "    }\n",
       "\n",
       "    .dataframe thead th {\n",
       "        text-align: right;\n",
       "    }\n",
       "</style>\n",
       "<table border=\"1\" class=\"dataframe\">\n",
       "  <thead>\n",
       "    <tr style=\"text-align: right;\">\n",
       "      <th></th>\n",
       "      <th>nkill</th>\n",
       "      <th>datetime</th>\n",
       "      <th>epoched</th>\n",
       "      <th>beat</th>\n",
       "    </tr>\n",
       "    <tr>\n",
       "      <th>datetime</th>\n",
       "      <th></th>\n",
       "      <th></th>\n",
       "      <th></th>\n",
       "      <th></th>\n",
       "    </tr>\n",
       "  </thead>\n",
       "  <tbody>\n",
       "    <tr>\n",
       "      <th>2017-01-01</th>\n",
       "      <td>1</td>\n",
       "      <td>2017-01-01</td>\n",
       "      <td>17167.0</td>\n",
       "      <td>2820.04</td>\n",
       "    </tr>\n",
       "    <tr>\n",
       "      <th>2017-01-03</th>\n",
       "      <td>0</td>\n",
       "      <td>2017-01-03</td>\n",
       "      <td>17169.0</td>\n",
       "      <td>2820.37</td>\n",
       "    </tr>\n",
       "    <tr>\n",
       "      <th>2017-01-04</th>\n",
       "      <td>3</td>\n",
       "      <td>2017-01-04</td>\n",
       "      <td>17170.0</td>\n",
       "      <td>2820.53</td>\n",
       "    </tr>\n",
       "    <tr>\n",
       "      <th>2017-01-06</th>\n",
       "      <td>7</td>\n",
       "      <td>2017-01-06</td>\n",
       "      <td>17172.0</td>\n",
       "      <td>2820.86</td>\n",
       "    </tr>\n",
       "    <tr>\n",
       "      <th>2017-01-07</th>\n",
       "      <td>1</td>\n",
       "      <td>2017-01-07</td>\n",
       "      <td>17173.0</td>\n",
       "      <td>2821.03</td>\n",
       "    </tr>\n",
       "  </tbody>\n",
       "</table>\n",
       "</div>"
      ],
      "text/plain": [
       "            nkill   datetime  epoched     beat\n",
       "datetime                                      \n",
       "2017-01-01      1 2017-01-01  17167.0  2820.04\n",
       "2017-01-03      0 2017-01-03  17169.0  2820.37\n",
       "2017-01-04      3 2017-01-04  17170.0  2820.53\n",
       "2017-01-06      7 2017-01-06  17172.0  2820.86\n",
       "2017-01-07      1 2017-01-07  17173.0  2821.03"
      ]
     },
     "execution_count": 19,
     "metadata": {},
     "output_type": "execute_result"
    }
   ],
   "source": [
    "df_nkill.head()"
   ]
  },
  {
   "cell_type": "code",
   "execution_count": 20,
   "metadata": {},
   "outputs": [
    {
     "name": "stdout",
     "output_type": "stream",
     "text": [
      "2820.04\n"
     ]
    }
   ],
   "source": [
    "START_TIME = df_nkill.beat.min() # beat doesn't start at 0 since we scaled our epoch seconds, so we just start at the first one.\n",
    "print(START_TIME)"
   ]
  },
  {
   "cell_type": "code",
   "execution_count": 21,
   "metadata": {},
   "outputs": [
    {
     "data": {
      "text/html": [
       "<div>\n",
       "<style scoped>\n",
       "    .dataframe tbody tr th:only-of-type {\n",
       "        vertical-align: middle;\n",
       "    }\n",
       "\n",
       "    .dataframe tbody tr th {\n",
       "        vertical-align: top;\n",
       "    }\n",
       "\n",
       "    .dataframe thead th {\n",
       "        text-align: right;\n",
       "    }\n",
       "</style>\n",
       "<table border=\"1\" class=\"dataframe\">\n",
       "  <thead>\n",
       "    <tr style=\"text-align: right;\">\n",
       "      <th></th>\n",
       "      <th>nkill</th>\n",
       "      <th>datetime</th>\n",
       "      <th>epoched</th>\n",
       "      <th>beat</th>\n",
       "    </tr>\n",
       "    <tr>\n",
       "      <th>datetime</th>\n",
       "      <th></th>\n",
       "      <th></th>\n",
       "      <th></th>\n",
       "      <th></th>\n",
       "    </tr>\n",
       "  </thead>\n",
       "  <tbody>\n",
       "    <tr>\n",
       "      <th>2017-01-01</th>\n",
       "      <td>1</td>\n",
       "      <td>2017-01-01</td>\n",
       "      <td>17167.0</td>\n",
       "      <td>2820.04</td>\n",
       "    </tr>\n",
       "    <tr>\n",
       "      <th>2017-01-03</th>\n",
       "      <td>0</td>\n",
       "      <td>2017-01-03</td>\n",
       "      <td>17169.0</td>\n",
       "      <td>2820.37</td>\n",
       "    </tr>\n",
       "    <tr>\n",
       "      <th>2017-01-04</th>\n",
       "      <td>3</td>\n",
       "      <td>2017-01-04</td>\n",
       "      <td>17170.0</td>\n",
       "      <td>2820.53</td>\n",
       "    </tr>\n",
       "    <tr>\n",
       "      <th>2017-01-06</th>\n",
       "      <td>7</td>\n",
       "      <td>2017-01-06</td>\n",
       "      <td>17172.0</td>\n",
       "      <td>2820.86</td>\n",
       "    </tr>\n",
       "    <tr>\n",
       "      <th>2017-01-07</th>\n",
       "      <td>1</td>\n",
       "      <td>2017-01-07</td>\n",
       "      <td>17173.0</td>\n",
       "      <td>2821.03</td>\n",
       "    </tr>\n",
       "  </tbody>\n",
       "</table>\n",
       "</div>"
      ],
      "text/plain": [
       "            nkill   datetime  epoched     beat\n",
       "datetime                                      \n",
       "2017-01-01      1 2017-01-01  17167.0  2820.04\n",
       "2017-01-03      0 2017-01-03  17169.0  2820.37\n",
       "2017-01-04      3 2017-01-04  17170.0  2820.53\n",
       "2017-01-06      7 2017-01-06  17172.0  2820.86\n",
       "2017-01-07      1 2017-01-07  17173.0  2821.03"
      ]
     },
     "execution_count": 21,
     "metadata": {},
     "output_type": "execute_result"
    }
   ],
   "source": [
    "df_nkill.head()"
   ]
  },
  {
   "cell_type": "code",
   "execution_count": 22,
   "metadata": {},
   "outputs": [
    {
     "name": "stdout",
     "output_type": "stream",
     "text": [
      "0 62\n"
     ]
    }
   ],
   "source": [
    "MAX = df_nkill.nkill.max()\n",
    "MIN = df_nkill.nkill.min()\n",
    "print(MIN,MAX)"
   ]
  },
  {
   "cell_type": "markdown",
   "metadata": {},
   "source": [
    "## Create scale from nkill corresponding to volume"
   ]
  },
  {
   "cell_type": "markdown",
   "metadata": {},
   "source": [
    "## We make deadlier days louder."
   ]
  },
  {
   "cell_type": "code",
   "execution_count": 23,
   "metadata": {},
   "outputs": [],
   "source": [
    "# KAT_MAX = 150   \n",
    "# KAT_MIN = 25"
   ]
  },
  {
   "cell_type": "code",
   "execution_count": 24,
   "metadata": {},
   "outputs": [],
   "source": [
    "MIN_V = 25\n",
    "MAX_V = 100\n",
    "#df['velocity'] = df.nkill.apply(lambda x: int(np.interp(x, [KAT_MIN, KAT_MAX], [25, 150])))\n",
    "df_nkill['velocity'] = df_nkill.nkill.apply(lambda x: int(np.interp(x, [MIN, MAX], [MIN_V, MAX_V])))"
   ]
  },
  {
   "cell_type": "code",
   "execution_count": 25,
   "metadata": {},
   "outputs": [
    {
     "data": {
      "text/plain": [
       "datetime\n",
       "2017-01-01    26\n",
       "2017-01-03    25\n",
       "2017-01-04    28\n",
       "2017-01-06    33\n",
       "2017-01-07    26\n",
       "2017-01-11    27\n",
       "2017-01-12    31\n",
       "2017-01-15    29\n",
       "2017-01-16    25\n",
       "2017-01-20    26\n",
       "Name: velocity, dtype: int64"
      ]
     },
     "execution_count": 25,
     "metadata": {},
     "output_type": "execute_result"
    }
   ],
   "source": [
    "df_nkill.velocity.head(10)"
   ]
  },
  {
   "cell_type": "code",
   "execution_count": null,
   "metadata": {},
   "outputs": [],
   "source": [
    " "
   ]
  },
  {
   "cell_type": "markdown",
   "metadata": {},
   "source": [
    "## Build note list\n",
    "- I know you're not supposed to iterate through a dataframe — but it's pretty small and manegable.\n",
    "- [BEAT, PITCH, VELOCITY (VOLUME), DURATION_OF_NOTE]"
   ]
  },
  {
   "cell_type": "code",
   "execution_count": 26,
   "metadata": {},
   "outputs": [],
   "source": [
    "scaled_data = df_nkill.to_dict('records')"
   ]
  },
  {
   "cell_type": "code",
   "execution_count": 27,
   "metadata": {},
   "outputs": [],
   "source": [
    "note_list = []  \n",
    "#V = 100 # constant for now\n",
    "D = 0.5 # duration constant for now\n",
    "P = 71 # constant pitch for now\n",
    "\n",
    "for d in scaled_data:\n",
    "    beat = d['beat'] - START_TIME\n",
    "    pitch = P #d['pitch']\n",
    "    velocity = d['velocity']\n",
    "    duration = D\n",
    "    note_list.append([beat, pitch, velocity, duration])\n"
   ]
  },
  {
   "cell_type": "code",
   "execution_count": 28,
   "metadata": {},
   "outputs": [
    {
     "data": {
      "text/plain": [
       "[[0.0, 71, 26, 0.5],\n",
       " [0.32999999999992724, 71, 25, 0.5],\n",
       " [0.49000000000023647, 71, 28, 0.5],\n",
       " [0.82000000000016371, 71, 33, 0.5],\n",
       " [0.99000000000023647, 71, 26, 0.5],\n",
       " [1.6399999999998727, 71, 27, 0.5],\n",
       " [1.8099999999999454, 71, 31, 0.5],\n",
       " [2.3000000000001819, 71, 29, 0.5],\n",
       " [2.4700000000002547, 71, 25, 0.5],\n",
       " [3.1199999999998909, 71, 26, 0.5],\n",
       " [3.2899999999999636, 71, 27, 0.5],\n",
       " [3.4499999999998181, 71, 32, 0.5],\n",
       " [3.9400000000000546, 71, 25, 0.5],\n",
       " [4.1100000000001273, 71, 27, 0.5],\n",
       " [4.2699999999999818, 71, 25, 0.5],\n",
       " [4.5999999999999091, 71, 26, 0.5],\n",
       " [4.7600000000002183, 71, 25, 0.5],\n",
       " [4.9299999999998363, 71, 25, 0.5],\n",
       " [5.9099999999998545, 71, 29, 0.5],\n",
       " [6.0799999999999272, 71, 26, 0.5],\n",
       " [6.2400000000002365, 71, 26, 0.5],\n",
       " [6.4099999999998545, 71, 29, 0.5],\n",
       " [6.5700000000001637, 71, 26, 0.5],\n",
       " [6.7400000000002365, 71, 26, 0.5],\n",
       " [6.9000000000000909, 71, 27, 0.5],\n",
       " [7.3899999999998727, 71, 28, 0.5],\n",
       " [7.8899999999998727, 71, 26, 0.5],\n",
       " [8.0500000000001819, 71, 26, 0.5],\n",
       " [8.2100000000000364, 71, 25, 0.5],\n",
       " [8.3800000000001091, 71, 29, 0.5],\n",
       " [8.5399999999999636, 71, 25, 0.5],\n",
       " [9.0399999999999636, 71, 28, 0.5],\n",
       " [9.1999999999998181, 71, 26, 0.5],\n",
       " [9.3600000000001273, 71, 25, 0.5],\n",
       " [9.5300000000002001, 71, 25, 0.5],\n",
       " [10.019999999999982, 71, 25, 0.5],\n",
       " [10.190000000000055, 71, 26, 0.5],\n",
       " [10.349999999999909, 71, 25, 0.5],\n",
       " [10.679999999999836, 71, 25, 0.5],\n",
       " [11.170000000000073, 71, 31, 0.5],\n",
       " [11.990000000000236, 71, 28, 0.5],\n",
       " [12.490000000000236, 71, 28, 0.5],\n",
       " [12.650000000000091, 71, 26, 0.5],\n",
       " [13.139999999999873, 71, 31, 0.5],\n",
       " [13.470000000000255, 71, 27, 0.5],\n",
       " [13.639999999999873, 71, 29, 0.5],\n",
       " [13.800000000000182, 71, 32, 0.5],\n",
       " [13.960000000000036, 71, 27, 0.5],\n",
       " [14.460000000000036, 71, 29, 0.5],\n",
       " [14.789999999999964, 71, 28, 0.5],\n",
       " [14.949999999999818, 71, 27, 0.5],\n",
       " [15.110000000000127, 71, 28, 0.5],\n",
       " [15.610000000000127, 71, 26, 0.5],\n",
       " [15.769999999999982, 71, 40, 0.5],\n",
       " [16.099999999999909, 71, 27, 0.5],\n",
       " [16.760000000000218, 71, 26, 0.5],\n",
       " [17.090000000000146, 71, 25, 0.5],\n",
       " [17.25, 71, 25, 0.5],\n",
       " [17.909999999999854, 71, 25, 0.5],\n",
       " [18.070000000000164, 71, 27, 0.5],\n",
       " [18.889999999999873, 71, 25, 0.5],\n",
       " [19.059999999999945, 71, 26, 0.5],\n",
       " [19.220000000000255, 71, 25, 0.5],\n",
       " [19.389999999999873, 71, 28, 0.5],\n",
       " [19.550000000000182, 71, 33, 0.5],\n",
       " [19.710000000000036, 71, 27, 0.5],\n",
       " [19.880000000000109, 71, 26, 0.5],\n",
       " [20.210000000000036, 71, 26, 0.5],\n",
       " [20.699999999999818, 71, 27, 0.5],\n",
       " [21.0300000000002, 71, 28, 0.5],\n",
       " [21.190000000000055, 71, 26, 0.5],\n",
       " [21.849999999999909, 71, 26, 0.5],\n",
       " [22.179999999999836, 71, 28, 0.5],\n",
       " [22.829999999999927, 71, 25, 0.5],\n",
       " [23.0, 71, 26, 0.5],\n",
       " [23.820000000000164, 71, 25, 0.5],\n",
       " [23.980000000000018, 71, 35, 0.5],\n",
       " [24.150000000000091, 71, 26, 0.5],\n",
       " [24.309999999999945, 71, 26, 0.5],\n",
       " [24.480000000000018, 71, 26, 0.5],\n",
       " [24.809999999999945, 71, 28, 0.5],\n",
       " [24.970000000000255, 71, 28, 0.5],\n",
       " [25.130000000000109, 71, 31, 0.5],\n",
       " [25.460000000000036, 71, 32, 0.5],\n",
       " [25.630000000000109, 71, 28, 0.5],\n",
       " [25.960000000000036, 71, 25, 0.5],\n",
       " [26.119999999999891, 71, 27, 0.5],\n",
       " [26.2800000000002, 71, 25, 0.5],\n",
       " [26.449999999999818, 71, 25, 0.5],\n",
       " [26.7800000000002, 71, 27, 0.5],\n",
       " [26.940000000000055, 71, 31, 0.5],\n",
       " [27.110000000000127, 71, 32, 0.5],\n",
       " [27.429999999999836, 71, 26, 0.5],\n",
       " [27.599999999999909, 71, 28, 0.5],\n",
       " [28.260000000000218, 71, 26, 0.5],\n",
       " [28.579999999999927, 71, 26, 0.5],\n",
       " [28.75, 71, 26, 0.5],\n",
       " [29.079999999999927, 71, 25, 0.5],\n",
       " [29.570000000000164, 71, 27, 0.5],\n",
       " [29.730000000000018, 71, 27, 0.5],\n",
       " [29.900000000000091, 71, 25, 0.5],\n",
       " [30.059999999999945, 71, 29, 0.5],\n",
       " [30.230000000000018, 71, 27, 0.5],\n",
       " [30.389999999999873, 71, 32, 0.5],\n",
       " [30.559999999999945, 71, 25, 0.5],\n",
       " [30.880000000000109, 71, 26, 0.5],\n",
       " [31.050000000000182, 71, 25, 0.5],\n",
       " [32.0300000000002, 71, 26, 0.5],\n",
       " [32.5300000000002, 71, 26, 0.5],\n",
       " [32.690000000000055, 71, 26, 0.5],\n",
       " [33.179999999999836, 71, 25, 0.5],\n",
       " [33.349999999999909, 71, 26, 0.5],\n",
       " [33.840000000000146, 71, 26, 0.5],\n",
       " [34.010000000000218, 71, 26, 0.5],\n",
       " [34.170000000000073, 71, 25, 0.5],\n",
       " [34.329999999999927, 71, 28, 0.5],\n",
       " [34.5, 71, 27, 0.5],\n",
       " [34.659999999999854, 71, 25, 0.5],\n",
       " [34.829999999999927, 71, 25, 0.5],\n",
       " [34.990000000000236, 71, 25, 0.5],\n",
       " [35.159999999999854, 71, 26, 0.5],\n",
       " [35.320000000000164, 71, 28, 0.5],\n",
       " [35.480000000000018, 71, 27, 0.5],\n",
       " [35.650000000000091, 71, 25, 0.5],\n",
       " [35.980000000000018, 71, 26, 0.5],\n",
       " [36.630000000000109, 71, 26, 0.5],\n",
       " [36.800000000000182, 71, 25, 0.5],\n",
       " [36.960000000000036, 71, 27, 0.5],\n",
       " [37.289999999999964, 71, 25, 0.5],\n",
       " [37.7800000000002, 71, 26, 0.5],\n",
       " [37.949999999999818, 71, 27, 0.5],\n",
       " [38.110000000000127, 71, 32, 0.5],\n",
       " [38.2800000000002, 71, 25, 0.5],\n",
       " [38.599999999999909, 71, 29, 0.5],\n",
       " [38.769999999999982, 71, 25, 0.5],\n",
       " [39.099999999999909, 71, 27, 0.5],\n",
       " [39.260000000000218, 71, 27, 0.5],\n",
       " [40.079999999999927, 71, 26, 0.5],\n",
       " [40.25, 71, 27, 0.5],\n",
       " [40.409999999999854, 71, 25, 0.5],\n",
       " [40.740000000000236, 71, 25, 0.5],\n",
       " [41.230000000000018, 71, 25, 0.5],\n",
       " [41.400000000000091, 71, 37, 0.5],\n",
       " [41.889999999999873, 71, 27, 0.5],\n",
       " [42.380000000000109, 71, 25, 0.5],\n",
       " [42.550000000000182, 71, 27, 0.5],\n",
       " [43.039999999999964, 71, 25, 0.5],\n",
       " [43.5300000000002, 71, 28, 0.5],\n",
       " [43.699999999999818, 71, 27, 0.5],\n",
       " [44.0300000000002, 71, 28, 0.5],\n",
       " [44.349999999999909, 71, 26, 0.5],\n",
       " [44.679999999999836, 71, 26, 0.5],\n",
       " [44.849999999999909, 71, 100, 0.5],\n",
       " [45.179999999999836, 71, 25, 0.5],\n",
       " [45.5, 71, 29, 0.5],\n",
       " [45.670000000000073, 71, 25, 0.5],\n",
       " [45.829999999999927, 71, 25, 0.5],\n",
       " [46.159999999999854, 71, 25, 0.5],\n",
       " [46.329999999999927, 71, 25, 0.5],\n",
       " [46.490000000000236, 71, 29, 0.5],\n",
       " [46.650000000000091, 71, 27, 0.5],\n",
       " [47.150000000000091, 71, 28, 0.5],\n",
       " [47.309999999999945, 71, 26, 0.5],\n",
       " [47.480000000000018, 71, 25, 0.5],\n",
       " [47.639999999999873, 71, 28, 0.5],\n",
       " [48.130000000000109, 71, 25, 0.5],\n",
       " [48.300000000000182, 71, 27, 0.5],\n",
       " [48.460000000000036, 71, 27, 0.5],\n",
       " [49.119999999999891, 71, 25, 0.5],\n",
       " [49.2800000000002, 71, 26, 0.5],\n",
       " [49.449999999999818, 71, 26, 0.5],\n",
       " [49.7800000000002, 71, 26, 0.5],\n",
       " [50.269999999999982, 71, 26, 0.5],\n",
       " [50.429999999999836, 71, 26, 0.5],\n",
       " [50.599999999999909, 71, 57, 0.5]]"
      ]
     },
     "execution_count": 28,
     "metadata": {},
     "output_type": "execute_result"
    }
   ],
   "source": [
    "note_list"
   ]
  },
  {
   "cell_type": "markdown",
   "metadata": {},
   "source": [
    "## Make MIDI file"
   ]
  },
  {
   "cell_type": "code",
   "execution_count": 29,
   "metadata": {},
   "outputs": [
    {
     "name": "stdout",
     "output_type": "stream",
     "text": [
      "71 0.0 0.5 26\n",
      "71 0.33 0.5 25\n",
      "71 0.49 0.5 28\n",
      "71 0.82 0.5 33\n",
      "71 0.99 0.5 26\n",
      "71 1.64 0.5 27\n",
      "71 1.81 0.5 31\n",
      "71 2.3 0.5 29\n",
      "71 2.47 0.5 25\n",
      "71 3.12 0.5 26\n",
      "71 3.29 0.5 27\n",
      "71 3.45 0.5 32\n",
      "71 3.94 0.5 25\n",
      "71 4.11 0.5 27\n",
      "71 4.27 0.5 25\n",
      "71 4.6 0.5 26\n",
      "71 4.76 0.5 25\n",
      "71 4.93 0.5 25\n",
      "71 5.91 0.5 29\n",
      "71 6.08 0.5 26\n",
      "71 6.24 0.5 26\n",
      "71 6.41 0.5 29\n",
      "71 6.57 0.5 26\n",
      "71 6.74 0.5 26\n",
      "71 6.9 0.5 27\n",
      "71 7.39 0.5 28\n",
      "71 7.89 0.5 26\n",
      "71 8.05 0.5 26\n",
      "71 8.21 0.5 25\n",
      "71 8.38 0.5 29\n",
      "71 8.54 0.5 25\n",
      "71 9.04 0.5 28\n",
      "71 9.2 0.5 26\n",
      "71 9.36 0.5 25\n",
      "71 9.53 0.5 25\n",
      "71 10.02 0.5 25\n",
      "71 10.19 0.5 26\n",
      "71 10.35 0.5 25\n",
      "71 10.68 0.5 25\n",
      "71 11.17 0.5 31\n",
      "71 11.99 0.5 28\n",
      "71 12.49 0.5 28\n",
      "71 12.65 0.5 26\n",
      "71 13.14 0.5 31\n",
      "71 13.47 0.5 27\n",
      "71 13.64 0.5 29\n",
      "71 13.8 0.5 32\n",
      "71 13.96 0.5 27\n",
      "71 14.46 0.5 29\n",
      "71 14.79 0.5 28\n",
      "71 14.95 0.5 27\n",
      "71 15.11 0.5 28\n",
      "71 15.61 0.5 26\n",
      "71 15.77 0.5 40\n",
      "71 16.1 0.5 27\n",
      "71 16.76 0.5 26\n",
      "71 17.09 0.5 25\n",
      "71 17.25 0.5 25\n",
      "71 17.91 0.5 25\n",
      "71 18.07 0.5 27\n",
      "71 18.89 0.5 25\n",
      "71 19.06 0.5 26\n",
      "71 19.22 0.5 25\n",
      "71 19.39 0.5 28\n",
      "71 19.55 0.5 33\n",
      "71 19.71 0.5 27\n",
      "71 19.88 0.5 26\n",
      "71 20.21 0.5 26\n",
      "71 20.7 0.5 27\n",
      "71 21.03 0.5 28\n",
      "71 21.19 0.5 26\n",
      "71 21.85 0.5 26\n",
      "71 22.18 0.5 28\n",
      "71 22.83 0.5 25\n",
      "71 23.0 0.5 26\n",
      "71 23.82 0.5 25\n",
      "71 23.98 0.5 35\n",
      "71 24.15 0.5 26\n",
      "71 24.31 0.5 26\n",
      "71 24.48 0.5 26\n",
      "71 24.81 0.5 28\n",
      "71 24.97 0.5 28\n",
      "71 25.13 0.5 31\n",
      "71 25.46 0.5 32\n",
      "71 25.63 0.5 28\n",
      "71 25.96 0.5 25\n",
      "71 26.12 0.5 27\n",
      "71 26.28 0.5 25\n",
      "71 26.45 0.5 25\n",
      "71 26.78 0.5 27\n",
      "71 26.94 0.5 31\n",
      "71 27.11 0.5 32\n",
      "71 27.43 0.5 26\n",
      "71 27.6 0.5 28\n",
      "71 28.26 0.5 26\n",
      "71 28.58 0.5 26\n",
      "71 28.75 0.5 26\n",
      "71 29.08 0.5 25\n",
      "71 29.57 0.5 27\n",
      "71 29.73 0.5 27\n",
      "71 29.9 0.5 25\n",
      "71 30.06 0.5 29\n",
      "71 30.23 0.5 27\n",
      "71 30.39 0.5 32\n",
      "71 30.56 0.5 25\n",
      "71 30.88 0.5 26\n",
      "71 31.05 0.5 25\n",
      "71 32.03 0.5 26\n",
      "71 32.53 0.5 26\n",
      "71 32.69 0.5 26\n",
      "71 33.18 0.5 25\n",
      "71 33.35 0.5 26\n",
      "71 33.84 0.5 26\n",
      "71 34.01 0.5 26\n",
      "71 34.17 0.5 25\n",
      "71 34.33 0.5 28\n",
      "71 34.5 0.5 27\n",
      "71 34.66 0.5 25\n",
      "71 34.83 0.5 25\n",
      "71 34.99 0.5 25\n",
      "71 35.16 0.5 26\n",
      "71 35.32 0.5 28\n",
      "71 35.48 0.5 27\n",
      "71 35.65 0.5 25\n",
      "71 35.98 0.5 26\n",
      "71 36.63 0.5 26\n",
      "71 36.8 0.5 25\n",
      "71 36.96 0.5 27\n",
      "71 37.29 0.5 25\n",
      "71 37.78 0.5 26\n",
      "71 37.95 0.5 27\n",
      "71 38.11 0.5 32\n",
      "71 38.28 0.5 25\n",
      "71 38.6 0.5 29\n",
      "71 38.77 0.5 25\n",
      "71 39.1 0.5 27\n",
      "71 39.26 0.5 27\n",
      "71 40.08 0.5 26\n",
      "71 40.25 0.5 27\n",
      "71 40.41 0.5 25\n",
      "71 40.74 0.5 25\n",
      "71 41.23 0.5 25\n",
      "71 41.4 0.5 37\n",
      "71 41.89 0.5 27\n",
      "71 42.38 0.5 25\n",
      "71 42.55 0.5 27\n",
      "71 43.04 0.5 25\n",
      "71 43.53 0.5 28\n",
      "71 43.7 0.5 27\n",
      "71 44.03 0.5 28\n",
      "71 44.35 0.5 26\n",
      "71 44.68 0.5 26\n",
      "71 44.85 0.5 100\n",
      "71 45.18 0.5 25\n",
      "71 45.5 0.5 29\n",
      "71 45.67 0.5 25\n",
      "71 45.83 0.5 25\n",
      "71 46.16 0.5 25\n",
      "71 46.33 0.5 25\n",
      "71 46.49 0.5 29\n",
      "71 46.65 0.5 27\n",
      "71 47.15 0.5 28\n",
      "71 47.31 0.5 26\n",
      "71 47.48 0.5 25\n",
      "71 47.64 0.5 28\n",
      "71 48.13 0.5 25\n",
      "71 48.3 0.5 27\n",
      "71 48.46 0.5 27\n",
      "71 49.12 0.5 25\n",
      "71 49.28 0.5 26\n",
      "71 49.45 0.5 26\n",
      "71 49.78 0.5 26\n",
      "71 50.27 0.5 26\n",
      "71 50.43 0.5 26\n",
      "71 50.6 0.5 57\n"
     ]
    }
   ],
   "source": [
    "# Add a track with those notes\n",
    "mymidi.add_track(note_list)\n",
    "\n",
    "# Output the .mid file\n",
    "mymidi.save_midi()"
   ]
  },
  {
   "cell_type": "code",
   "execution_count": null,
   "metadata": {},
   "outputs": [],
   "source": [
    " "
   ]
  },
  {
   "cell_type": "code",
   "execution_count": null,
   "metadata": {},
   "outputs": [],
   "source": []
  },
  {
   "cell_type": "code",
   "execution_count": null,
   "metadata": {},
   "outputs": [],
   "source": []
  },
  {
   "cell_type": "code",
   "execution_count": null,
   "metadata": {},
   "outputs": [],
   "source": []
  },
  {
   "cell_type": "code",
   "execution_count": null,
   "metadata": {},
   "outputs": [],
   "source": []
  },
  {
   "cell_type": "code",
   "execution_count": null,
   "metadata": {},
   "outputs": [],
   "source": []
  }
 ],
 "metadata": {
  "kernelspec": {
   "display_name": "Python 3",
   "language": "python",
   "name": "python3"
  },
  "language_info": {
   "codemirror_mode": {
    "name": "ipython",
    "version": 3
   },
   "file_extension": ".py",
   "mimetype": "text/x-python",
   "name": "python",
   "nbconvert_exporter": "python",
   "pygments_lexer": "ipython3",
   "version": "3.6.3"
  }
 },
 "nbformat": 4,
 "nbformat_minor": 2
}
