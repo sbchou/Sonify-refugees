{
 "cells": [
  {
   "cell_type": "markdown",
   "metadata": {},
   "source": [
    "## Attempt to sonify flow of syrian refugees\n",
    "* Data from UN : http://popstats.unhcr.org/en/asylum_seekers_monthly\n",
    "\n"
   ]
  },
  {
   "cell_type": "code",
   "execution_count": 1,
   "metadata": {
    "collapsed": true
   },
   "outputs": [],
   "source": [
    "# My usual setup\n",
    "%matplotlib inline\n",
    "import matplotlib.pyplot as plt\n",
    "import pandas \n",
    "from datetime import datetime\n",
    "import seaborn as sns\n",
    "import glob\n",
    "from os.path import basename\n",
    "sns.set_context('poster') "
   ]
  },
  {
   "cell_type": "code",
   "execution_count": 2,
   "metadata": {
    "collapsed": true
   },
   "outputs": [],
   "source": [
    "# miditime libs\n",
    "from miditime.miditime import MIDITime "
   ]
  },
  {
   "cell_type": "markdown",
   "metadata": {},
   "source": [
    "## Preprocess data \n",
    "* group by month and year (multiple entries per country of origin and even several for each then)\n",
    "* convert data type\n",
    "* MAKE SURE SORTED"
   ]
  },
  {
   "cell_type": "code",
   "execution_count": 3,
   "metadata": {},
   "outputs": [],
   "source": [
    "df = pandas.read_csv('../data/SYRIA-unhcr_popstats_export_asylum_seekers_monthly_2010-2017-06.csv', skiprows=2)"
   ]
  },
  {
   "cell_type": "code",
   "execution_count": 4,
   "metadata": {},
   "outputs": [
    {
     "data": {
      "text/html": [
       "<div>\n",
       "<style>\n",
       "    .dataframe thead tr:only-child th {\n",
       "        text-align: right;\n",
       "    }\n",
       "\n",
       "    .dataframe thead th {\n",
       "        text-align: left;\n",
       "    }\n",
       "\n",
       "    .dataframe tbody tr th {\n",
       "        vertical-align: top;\n",
       "    }\n",
       "</style>\n",
       "<table border=\"1\" class=\"dataframe\">\n",
       "  <thead>\n",
       "    <tr style=\"text-align: right;\">\n",
       "      <th></th>\n",
       "      <th>Country / territory of asylum/residence</th>\n",
       "      <th>Origin</th>\n",
       "      <th>Year</th>\n",
       "      <th>Month</th>\n",
       "      <th>Value</th>\n",
       "    </tr>\n",
       "  </thead>\n",
       "  <tbody>\n",
       "    <tr>\n",
       "      <th>0</th>\n",
       "      <td>Hungary</td>\n",
       "      <td>Syrian Arab Rep.</td>\n",
       "      <td>2010</td>\n",
       "      <td>January</td>\n",
       "      <td>2</td>\n",
       "    </tr>\n",
       "    <tr>\n",
       "      <th>1</th>\n",
       "      <td>Hungary</td>\n",
       "      <td>Syrian Arab Rep.</td>\n",
       "      <td>2010</td>\n",
       "      <td>February</td>\n",
       "      <td>3</td>\n",
       "    </tr>\n",
       "    <tr>\n",
       "      <th>2</th>\n",
       "      <td>Hungary</td>\n",
       "      <td>Syrian Arab Rep.</td>\n",
       "      <td>2010</td>\n",
       "      <td>March</td>\n",
       "      <td>1</td>\n",
       "    </tr>\n",
       "    <tr>\n",
       "      <th>3</th>\n",
       "      <td>Hungary</td>\n",
       "      <td>Syrian Arab Rep.</td>\n",
       "      <td>2010</td>\n",
       "      <td>April</td>\n",
       "      <td>3</td>\n",
       "    </tr>\n",
       "    <tr>\n",
       "      <th>4</th>\n",
       "      <td>Hungary</td>\n",
       "      <td>Syrian Arab Rep.</td>\n",
       "      <td>2010</td>\n",
       "      <td>June</td>\n",
       "      <td>2</td>\n",
       "    </tr>\n",
       "  </tbody>\n",
       "</table>\n",
       "</div>"
      ],
      "text/plain": [
       "  Country / territory of asylum/residence            Origin  Year     Month  \\\n",
       "0                                 Hungary  Syrian Arab Rep.  2010   January   \n",
       "1                                 Hungary  Syrian Arab Rep.  2010  February   \n",
       "2                                 Hungary  Syrian Arab Rep.  2010     March   \n",
       "3                                 Hungary  Syrian Arab Rep.  2010     April   \n",
       "4                                 Hungary  Syrian Arab Rep.  2010      June   \n",
       "\n",
       "  Value  \n",
       "0     2  \n",
       "1     3  \n",
       "2     1  \n",
       "3     3  \n",
       "4     2  "
      ]
     },
     "execution_count": 4,
     "metadata": {},
     "output_type": "execute_result"
    }
   ],
   "source": [
    "df.head()"
   ]
  },
  {
   "cell_type": "code",
   "execution_count": 5,
   "metadata": {
    "scrolled": true
   },
   "outputs": [],
   "source": [
    "#convert to numeric\n",
    "df['value_numeric'] = pandas.to_numeric(df.Value, errors=\"coerce\")"
   ]
  },
  {
   "cell_type": "code",
   "execution_count": 6,
   "metadata": {},
   "outputs": [],
   "source": [
    "# not sure why i have to apply first to convert to string, but here we are.\n",
    "df['datetime'] = pandas.to_datetime(df.apply(lambda x: str(x['Year']) + x['Month'], axis=1), format=\"%Y%B\")"
   ]
  },
  {
   "cell_type": "code",
   "execution_count": 8,
   "metadata": {},
   "outputs": [],
   "source": [
    "monthly_totals = df.groupby('datetime').value_numeric.sum()"
   ]
  },
  {
   "cell_type": "code",
   "execution_count": 11,
   "metadata": {},
   "outputs": [
    {
     "data": {
      "text/plain": [
       "datetime\n",
       "2010-01-01    499.0\n",
       "2010-02-01    635.0\n",
       "2010-03-01    519.0\n",
       "2010-04-01    433.0\n",
       "2010-05-01    472.0\n",
       "Name: value_numeric, dtype: float64"
      ]
     },
     "execution_count": 11,
     "metadata": {},
     "output_type": "execute_result"
    }
   ],
   "source": [
    "monthly_totals.head()"
   ]
  },
  {
   "cell_type": "code",
   "execution_count": 13,
   "metadata": {},
   "outputs": [],
   "source": [
    "MIN = monthly_totals.min()\n",
    "MAX = monthly_totals.max()"
   ]
  },
  {
   "cell_type": "code",
   "execution_count": 16,
   "metadata": {},
   "outputs": [
    {
     "name": "stdout",
     "output_type": "stream",
     "text": [
      "433.0\n",
      "102089.0\n"
     ]
    }
   ],
   "source": [
    "print(MIN)\n",
    "print(MAX)"
   ]
  },
  {
   "cell_type": "code",
   "execution_count": 17,
   "metadata": {
    "collapsed": true
   },
   "outputs": [],
   "source": [
    "monthly_totals = monthly_totals.sort_index()"
   ]
  },
  {
   "cell_type": "markdown",
   "metadata": {
    "collapsed": true
   },
   "source": [
    "### Chart data"
   ]
  },
  {
   "cell_type": "code",
   "execution_count": 22,
   "metadata": {},
   "outputs": [
    {
     "data": {
      "text/plain": [
       "<matplotlib.text.Text at 0x115197128>"
      ]
     },
     "execution_count": 22,
     "metadata": {},
     "output_type": "execute_result"
    },
    {
     "data": {
      "image/png": "[encoded data removed]",
      "text/plain": [
       "<matplotlib.figure.Figure at 0x114f85d30>"
      ]
     },
     "metadata": {},
     "output_type": "display_data"
    }
   ],
   "source": [
    "monthly_totals.plot()\n",
    "plt.title(\"Total refugees from Syria, all origins\")"
   ]
  },
  {
   "cell_type": "markdown",
   "metadata": {},
   "source": [
    "## Start MIDI code"
   ]
  },
  {
   "cell_type": "markdown",
   "metadata": {},
   "source": [
    "Instantiate the class with a tempo (120bpm is the default), an output file destination, the number of seconds you want to represent a year in the final song (default is 5 sec/year), the base octave (C5 is middle C, so the default is 5, and how many octaves you want your output to range over (default is 1)."
   ]
  },
  {
   "cell_type": "code",
   "execution_count": 23,
   "metadata": {
    "collapsed": true
   },
   "outputs": [],
   "source": [
    "mymidi = MIDITime(120, '../audio/syria-2010-2017.mid', 5, 5, 1) "
   ]
  },
  {
   "cell_type": "code",
   "execution_count": 62,
   "metadata": {},
   "outputs": [],
   "source": [
    "# HACK COZ I COULDNT FIGURE OUT HOW TO CONVERT SERIES TO DICT with PROPER FORMAT\n",
    "syria_data = [{'datetime':x, 'magnitude': y} for x, y in zip(monthly_totals.index, monthly_totals.values)]\n"
   ]
  },
  {
   "cell_type": "markdown",
   "metadata": {},
   "source": [
    "Convert your date/time data into an integer, like days since the epoch (Jan. 1, 1970). You can use the days_since_epoch() helper method, or not:"
   ]
  },
  {
   "cell_type": "code",
   "execution_count": 63,
   "metadata": {},
   "outputs": [],
   "source": [
    "syria_data_epoched = [{'days_since_epoch': mymidi.days_since_epoch(d['datetime']), 'magnitude': d['magnitude']} for d in syria_data] "
   ]
  },
  {
   "cell_type": "markdown",
   "metadata": {},
   "source": [
    "Convert your integer date/time to something reasonable for a song. For example, at 120 beats per minute, you'll need to scale the data down a lot to avoid a very long song if your data spans years. This uses the seconds_per_year attribute you set at the top, so if your date is converted to something other than days you may need to do your own conversion. But if your dataset spans years and your dates are in days (with fractions is fine), use the beat() helper method."
   ]
  },
  {
   "cell_type": "code",
   "execution_count": 64,
   "metadata": {},
   "outputs": [],
   "source": [
    "syria_data_timed = [{'beat': mymidi.beat(d['days_since_epoch']), 'magnitude': d['magnitude']} for d in syria_data_epoched]"
   ]
  },
  {
   "cell_type": "code",
   "execution_count": 65,
   "metadata": {
    "collapsed": true
   },
   "outputs": [],
   "source": [
    "start_time = syria_data_timed[0]['beat']"
   ]
  },
  {
   "cell_type": "markdown",
   "metadata": {},
   "source": [
    "Set up some functions to scale your other variable (magnitude in our case) to match your desired mode/key and octave range. There are helper methods to assist this scaling, very similar to a charting library like D3. You can choose a linear or logarithmic scale."
   ]
  },
  {
   "cell_type": "code",
   "execution_count": 66,
   "metadata": {
    "collapsed": true
   },
   "outputs": [],
   "source": [
    "def mag_to_pitch_tuned(magnitude):\n",
    "    # Where does this data point sit in the domain of your data? (I.E. the min magnitude is 3, the max in 5.6). In this case the optional 'True' means the scale is reversed, so the highest value will return the lowest percentage.\n",
    "    #scale_pct = mymidi.linear_scale_pct(MIN, MAX, magnitude)\n",
    "\n",
    "    # Another option: Linear scale, reverse order\n",
    "    scale_pct = mymidi.linear_scale_pct(MIN, MAX, magnitude, True)\n",
    "\n",
    "    # Another option: Logarithmic scale, reverse order\n",
    "    #scale_pct = mymidi.log_scale_pct(MIN, MAX, magnitude, True)\n",
    "\n",
    "    # Pick a range of notes. This allows you to play in a key.\n",
    "    c_major = ['C', 'D', 'E', 'F', 'G', 'A', 'B']\n",
    "\n",
    "    #Find the note that matches your data point\n",
    "    note = mymidi.scale_to_note(scale_pct, c_major)\n",
    "\n",
    "    #Translate that note to a MIDI pitch\n",
    "    midi_pitch = mymidi.note_to_midi_pitch(note)\n",
    "\n",
    "    return midi_pitch"
   ]
  },
  {
   "cell_type": "code",
   "execution_count": 67,
   "metadata": {},
   "outputs": [
    {
     "data": {
      "text/plain": [
       "[{'beat': 400.0, 'magnitude': 499.0},\n",
       " {'beat': 400.85, 'magnitude': 635.0},\n",
       " {'beat': 401.62, 'magnitude': 519.0},\n",
       " {'beat': 402.46, 'magnitude': 433.0},\n",
       " {'beat': 403.29, 'magnitude': 472.0},\n",
       " {'beat': 404.13, 'magnitude': 455.0},\n",
       " {'beat': 404.96, 'magnitude': 459.0},\n",
       " {'beat': 405.8, 'magnitude': 604.0},\n",
       " {'beat': 406.65, 'magnitude': 602.0},\n",
       " {'beat': 407.47, 'magnitude': 634.0},\n",
       " {'beat': 408.32, 'magnitude': 557.0},\n",
       " {'beat': 409.14, 'magnitude': 604.0},\n",
       " {'beat': 409.99, 'magnitude': 645.0},\n",
       " {'beat': 410.84, 'magnitude': 596.0},\n",
       " {'beat': 411.61, 'magnitude': 692.0},\n",
       " {'beat': 412.46, 'magnitude': 638.0},\n",
       " {'beat': 413.28, 'magnitude': 752.0},\n",
       " {'beat': 414.13, 'magnitude': 885.0},\n",
       " {'beat': 414.95, 'magnitude': 1170.0},\n",
       " {'beat': 415.8, 'magnitude': 1565.0},\n",
       " {'beat': 416.65, 'magnitude': 1404.0},\n",
       " {'beat': 417.47, 'magnitude': 1371.0},\n",
       " {'beat': 418.32, 'magnitude': 1343.0},\n",
       " {'beat': 419.14, 'magnitude': 1172.0},\n",
       " {'beat': 419.99, 'magnitude': 1491.0},\n",
       " {'beat': 420.84, 'magnitude': 1355.0},\n",
       " {'beat': 421.63, 'magnitude': 1302.0},\n",
       " {'beat': 422.48, 'magnitude': 1396.0},\n",
       " {'beat': 423.3, 'magnitude': 1782.0},\n",
       " {'beat': 424.15, 'magnitude': 2140.0},\n",
       " {'beat': 424.97, 'magnitude': 3072.0},\n",
       " {'beat': 425.82, 'magnitude': 4488.0},\n",
       " {'beat': 426.67, 'magnitude': 5056.0},\n",
       " {'beat': 427.49, 'magnitude': 5635.0},\n",
       " {'beat': 428.34, 'magnitude': 5538.0},\n",
       " {'beat': 429.16, 'magnitude': 4675.0},\n",
       " {'beat': 430.01, 'magnitude': 5480.0},\n",
       " {'beat': 430.86, 'magnitude': 4248.0},\n",
       " {'beat': 431.62, 'magnitude': 4710.0},\n",
       " {'beat': 432.47, 'magnitude': 4742.0},\n",
       " {'beat': 433.29, 'magnitude': 4755.0},\n",
       " {'beat': 434.14, 'magnitude': 5022.0},\n",
       " {'beat': 434.96, 'magnitude': 6226.0},\n",
       " {'beat': 435.81, 'magnitude': 6895.0},\n",
       " {'beat': 436.66, 'magnitude': 11182.0},\n",
       " {'beat': 437.48, 'magnitude': 12307.0},\n",
       " {'beat': 438.33, 'magnitude': 11323.0},\n",
       " {'beat': 439.15, 'magnitude': 10009.0},\n",
       " {'beat': 440.0, 'magnitude': 11353.0},\n",
       " {'beat': 440.85, 'magnitude': 10573.0},\n",
       " {'beat': 441.62, 'magnitude': 11207.0},\n",
       " {'beat': 442.46, 'magnitude': 11469.0},\n",
       " {'beat': 443.29, 'magnitude': 13187.0},\n",
       " {'beat': 444.13, 'magnitude': 16380.0},\n",
       " {'beat': 444.96, 'magnitude': 21067.0},\n",
       " {'beat': 445.8, 'magnitude': 22332.0},\n",
       " {'beat': 446.65, 'magnitude': 29282.0},\n",
       " {'beat': 447.47, 'magnitude': 29596.0},\n",
       " {'beat': 448.32, 'magnitude': 26458.0},\n",
       " {'beat': 449.14, 'magnitude': 24192.0},\n",
       " {'beat': 449.99, 'magnitude': 16319.0},\n",
       " {'beat': 450.84, 'magnitude': 12247.0},\n",
       " {'beat': 451.61, 'magnitude': 14915.0},\n",
       " {'beat': 452.46, 'magnitude': 17008.0},\n",
       " {'beat': 453.28, 'magnitude': 19205.0},\n",
       " {'beat': 454.13, 'magnitude': 30963.0},\n",
       " {'beat': 454.95, 'magnitude': 50377.0},\n",
       " {'beat': 455.8, 'magnitude': 82941.0},\n",
       " {'beat': 456.65, 'magnitude': 102089.0},\n",
       " {'beat': 457.47, 'magnitude': 86565.0},\n",
       " {'beat': 458.32, 'magnitude': 72319.0},\n",
       " {'beat': 459.14, 'magnitude': 41794.0},\n",
       " {'beat': 459.99, 'magnitude': 39576.0},\n",
       " {'beat': 460.84, 'magnitude': 43609.0},\n",
       " {'beat': 461.63, 'magnitude': 38346.0},\n",
       " {'beat': 462.48, 'magnitude': 39492.0},\n",
       " {'beat': 463.3, 'magnitude': 35784.0},\n",
       " {'beat': 464.15, 'magnitude': 32968.0},\n",
       " {'beat': 464.97, 'magnitude': 29105.0},\n",
       " {'beat': 465.82, 'magnitude': 32698.0},\n",
       " {'beat': 466.67, 'magnitude': 28910.0},\n",
       " {'beat': 467.49, 'magnitude': 12413.0},\n",
       " {'beat': 468.34, 'magnitude': 9700.0},\n",
       " {'beat': 469.16, 'magnitude': 8414.0},\n",
       " {'beat': 470.01, 'magnitude': 7054.0},\n",
       " {'beat': 470.86, 'magnitude': 7382.0},\n",
       " {'beat': 471.62, 'magnitude': 9411.0},\n",
       " {'beat': 472.47, 'magnitude': 7148.0},\n",
       " {'beat': 473.29, 'magnitude': 8203.0},\n",
       " {'beat': 474.14, 'magnitude': 7420.0},\n",
       " {'beat': 474.96, 'magnitude': 6115.0}]"
      ]
     },
     "execution_count": 67,
     "metadata": {},
     "output_type": "execute_result"
    }
   ],
   "source": [
    "syria_data_timed"
   ]
  },
  {
   "cell_type": "code",
   "execution_count": null,
   "metadata": {},
   "outputs": [],
   "source": [
    "note_list = []\n",
    "# have to try/except because there are NaNs\n",
    "for d in syria_data_timed:\n",
    "    try:\n",
    "        note_list.append([\n",
    "            d['beat'] - start_time,\n",
    "            mag_to_pitch_tuned(d['magnitude']),\n",
    "            100,  # velocity\n",
    "            1  # duration, in beats\n",
    "        ])\n",
    "    except:\n",
    "        break"
   ]
  },
  {
   "cell_type": "code",
   "execution_count": null,
   "metadata": {},
   "outputs": [],
   "source": [
    "note_list"
   ]
  },
  {
   "cell_type": "code",
   "execution_count": null,
   "metadata": {},
   "outputs": [],
   "source": [
    "# Add a track with those notes\n",
    "mymidi.add_track(note_list)\n",
    "\n",
    "# Output the .mid file\n",
    "mymidi.save_midi()"
   ]
  },
  {
   "cell_type": "code",
   "execution_count": null,
   "metadata": {
    "collapsed": true
   },
   "outputs": [],
   "source": []
  },
  {
   "cell_type": "code",
   "execution_count": null,
   "metadata": {
    "collapsed": true
   },
   "outputs": [],
   "source": []
  }
 ],
 "metadata": {
  "kernelspec": {
   "display_name": "Python 3",
   "language": "python",
   "name": "python3"
  },
  "language_info": {
   "codemirror_mode": {
    "name": "ipython",
    "version": 3
   },
   "file_extension": ".py",
   "mimetype": "text/x-python",
   "name": "python",
   "nbconvert_exporter": "python",
   "pygments_lexer": "ipython3",
   "version": "3.6.1"
  }
 },
 "nbformat": 4,
 "nbformat_minor": 2
}
