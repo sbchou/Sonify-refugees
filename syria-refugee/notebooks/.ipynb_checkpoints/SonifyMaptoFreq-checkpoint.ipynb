{
 "cells": [
  {
   "cell_type": "markdown",
   "metadata": {},
   "source": [
    "## Attempt to sonify flow of syrian refugees\n",
    "* Data from UN : http://popstats.unhcr.org/en/asylum_seekers_monthly\n",
    "* Original code (https://github.com/cirlabs/miditime/blob/master/README.md) transforms the magnitude of an event to the pitch and assumes one data point per event.\n",
    "* Our data is monthly aggregates. So the magnitude (m) needs to translate to the number of notes (n), rather than mapping m -> pitch (p). \n",
    "* Otherwise, it will just sound like a steady stream of beeps, with varying pitch if the month has higher/lower number of refugees, but it's hard for the reader to picture."
   ]
  },
  {
   "cell_type": "code",
   "execution_count": 1,
   "metadata": {
    "collapsed": true
   },
   "outputs": [],
   "source": [
    "# My usual setup\n",
    "%matplotlib inline\n",
    "import matplotlib.pyplot as plt\n",
    "import pandas \n",
    "from datetime import datetime\n",
    "import seaborn as sns\n",
    "import glob\n",
    "from os.path import basename\n",
    "sns.set_context('poster') "
   ]
  },
  {
   "cell_type": "code",
   "execution_count": 2,
   "metadata": {
    "collapsed": true
   },
   "outputs": [],
   "source": [
    "# miditime libs\n",
    "from miditime.miditime import MIDITime \n",
    "import numpy as np"
   ]
  },
  {
   "cell_type": "markdown",
   "metadata": {},
   "source": [
    "## Preprocess data \n",
    "* group by month and year (multiple entries per country of origin and even several for each then)\n",
    "* convert data type\n",
    "* MAKE SURE SORTED"
   ]
  },
  {
   "cell_type": "code",
   "execution_count": 3,
   "metadata": {
    "collapsed": true
   },
   "outputs": [],
   "source": [
    "df = pandas.read_csv('../data/SYRIA-unhcr_popstats_export_asylum_seekers_monthly_2010-2017-06.csv', skiprows=2)"
   ]
  },
  {
   "cell_type": "code",
   "execution_count": 4,
   "metadata": {
    "scrolled": true
   },
   "outputs": [
    {
     "data": {
      "text/html": [
       "<div>\n",
       "<style>\n",
       "    .dataframe thead tr:only-child th {\n",
       "        text-align: right;\n",
       "    }\n",
       "\n",
       "    .dataframe thead th {\n",
       "        text-align: left;\n",
       "    }\n",
       "\n",
       "    .dataframe tbody tr th {\n",
       "        vertical-align: top;\n",
       "    }\n",
       "</style>\n",
       "<table border=\"1\" class=\"dataframe\">\n",
       "  <thead>\n",
       "    <tr style=\"text-align: right;\">\n",
       "      <th></th>\n",
       "      <th>Country / territory of asylum/residence</th>\n",
       "      <th>Origin</th>\n",
       "      <th>Year</th>\n",
       "      <th>Month</th>\n",
       "      <th>Value</th>\n",
       "    </tr>\n",
       "  </thead>\n",
       "  <tbody>\n",
       "    <tr>\n",
       "      <th>0</th>\n",
       "      <td>Hungary</td>\n",
       "      <td>Syrian Arab Rep.</td>\n",
       "      <td>2010</td>\n",
       "      <td>January</td>\n",
       "      <td>2</td>\n",
       "    </tr>\n",
       "    <tr>\n",
       "      <th>1</th>\n",
       "      <td>Hungary</td>\n",
       "      <td>Syrian Arab Rep.</td>\n",
       "      <td>2010</td>\n",
       "      <td>February</td>\n",
       "      <td>3</td>\n",
       "    </tr>\n",
       "    <tr>\n",
       "      <th>2</th>\n",
       "      <td>Hungary</td>\n",
       "      <td>Syrian Arab Rep.</td>\n",
       "      <td>2010</td>\n",
       "      <td>March</td>\n",
       "      <td>1</td>\n",
       "    </tr>\n",
       "    <tr>\n",
       "      <th>3</th>\n",
       "      <td>Hungary</td>\n",
       "      <td>Syrian Arab Rep.</td>\n",
       "      <td>2010</td>\n",
       "      <td>April</td>\n",
       "      <td>3</td>\n",
       "    </tr>\n",
       "    <tr>\n",
       "      <th>4</th>\n",
       "      <td>Hungary</td>\n",
       "      <td>Syrian Arab Rep.</td>\n",
       "      <td>2010</td>\n",
       "      <td>June</td>\n",
       "      <td>2</td>\n",
       "    </tr>\n",
       "    <tr>\n",
       "      <th>5</th>\n",
       "      <td>Hungary</td>\n",
       "      <td>Syrian Arab Rep.</td>\n",
       "      <td>2010</td>\n",
       "      <td>July</td>\n",
       "      <td>3</td>\n",
       "    </tr>\n",
       "    <tr>\n",
       "      <th>6</th>\n",
       "      <td>Hungary</td>\n",
       "      <td>Syrian Arab Rep.</td>\n",
       "      <td>2010</td>\n",
       "      <td>August</td>\n",
       "      <td>1</td>\n",
       "    </tr>\n",
       "    <tr>\n",
       "      <th>7</th>\n",
       "      <td>Hungary</td>\n",
       "      <td>Syrian Arab Rep.</td>\n",
       "      <td>2010</td>\n",
       "      <td>September</td>\n",
       "      <td>2</td>\n",
       "    </tr>\n",
       "    <tr>\n",
       "      <th>8</th>\n",
       "      <td>Hungary</td>\n",
       "      <td>Syrian Arab Rep.</td>\n",
       "      <td>2010</td>\n",
       "      <td>October</td>\n",
       "      <td>4</td>\n",
       "    </tr>\n",
       "    <tr>\n",
       "      <th>9</th>\n",
       "      <td>Hungary</td>\n",
       "      <td>Syrian Arab Rep.</td>\n",
       "      <td>2010</td>\n",
       "      <td>November</td>\n",
       "      <td>5</td>\n",
       "    </tr>\n",
       "  </tbody>\n",
       "</table>\n",
       "</div>"
      ],
      "text/plain": [
       "  Country / territory of asylum/residence            Origin  Year      Month  \\\n",
       "0                                 Hungary  Syrian Arab Rep.  2010    January   \n",
       "1                                 Hungary  Syrian Arab Rep.  2010   February   \n",
       "2                                 Hungary  Syrian Arab Rep.  2010      March   \n",
       "3                                 Hungary  Syrian Arab Rep.  2010      April   \n",
       "4                                 Hungary  Syrian Arab Rep.  2010       June   \n",
       "5                                 Hungary  Syrian Arab Rep.  2010       July   \n",
       "6                                 Hungary  Syrian Arab Rep.  2010     August   \n",
       "7                                 Hungary  Syrian Arab Rep.  2010  September   \n",
       "8                                 Hungary  Syrian Arab Rep.  2010    October   \n",
       "9                                 Hungary  Syrian Arab Rep.  2010   November   \n",
       "\n",
       "  Value  \n",
       "0     2  \n",
       "1     3  \n",
       "2     1  \n",
       "3     3  \n",
       "4     2  \n",
       "5     3  \n",
       "6     1  \n",
       "7     2  \n",
       "8     4  \n",
       "9     5  "
      ]
     },
     "execution_count": 4,
     "metadata": {},
     "output_type": "execute_result"
    }
   ],
   "source": [
    "df.head(10)"
   ]
  },
  {
   "cell_type": "code",
   "execution_count": 5,
   "metadata": {
    "collapsed": true,
    "scrolled": true
   },
   "outputs": [],
   "source": [
    "#convert to numeric\n",
    "df['value_numeric'] = pandas.to_numeric(df.Value, errors=\"coerce\")"
   ]
  },
  {
   "cell_type": "code",
   "execution_count": 6,
   "metadata": {
    "collapsed": true
   },
   "outputs": [],
   "source": [
    "# not sure why i have to apply first to convert to string, but here we are.\n",
    "df['datetime'] = pandas.to_datetime(df.apply(lambda x: str(x['Year']) + x['Month'], axis=1), format=\"%Y%B\")"
   ]
  },
  {
   "cell_type": "code",
   "execution_count": 7,
   "metadata": {
    "collapsed": true
   },
   "outputs": [],
   "source": [
    "# There are several records per country per month, get lump sum of each month\n",
    "monthly_totals = df.groupby('datetime').value_numeric.sum()"
   ]
  },
  {
   "cell_type": "code",
   "execution_count": 8,
   "metadata": {
    "scrolled": true
   },
   "outputs": [
    {
     "data": {
      "text/plain": [
       "datetime\n",
       "2010-01-01    499.0\n",
       "2010-02-01    635.0\n",
       "2010-03-01    519.0\n",
       "2010-04-01    433.0\n",
       "2010-05-01    472.0\n",
       "Name: value_numeric, dtype: float64"
      ]
     },
     "execution_count": 8,
     "metadata": {},
     "output_type": "execute_result"
    }
   ],
   "source": [
    "monthly_totals.head()"
   ]
  },
  {
   "cell_type": "code",
   "execution_count": 9,
   "metadata": {},
   "outputs": [
    {
     "data": {
      "text/plain": [
       "91"
      ]
     },
     "execution_count": 9,
     "metadata": {},
     "output_type": "execute_result"
    }
   ],
   "source": [
    "len(monthly_totals.index)"
   ]
  },
  {
   "cell_type": "code",
   "execution_count": 10,
   "metadata": {
    "collapsed": true
   },
   "outputs": [],
   "source": [
    "MIN = monthly_totals.min()\n",
    "MAX = monthly_totals.max()"
   ]
  },
  {
   "cell_type": "code",
   "execution_count": 11,
   "metadata": {},
   "outputs": [
    {
     "name": "stdout",
     "output_type": "stream",
     "text": [
      "433.0\n",
      "102089.0\n"
     ]
    }
   ],
   "source": [
    "print(MIN)\n",
    "print(MAX)"
   ]
  },
  {
   "cell_type": "code",
   "execution_count": 12,
   "metadata": {
    "collapsed": true
   },
   "outputs": [],
   "source": [
    "monthly_totals = monthly_totals.sort_index()"
   ]
  },
  {
   "cell_type": "code",
   "execution_count": 13,
   "metadata": {
    "collapsed": true
   },
   "outputs": [],
   "source": [
    "monthly_totals = monthly_totals.to_frame(name=\"magnitude\")"
   ]
  },
  {
   "cell_type": "markdown",
   "metadata": {},
   "source": [
    "## Save monthly totals — for easy lookup, then re-read as a dataframe. \n",
    "You can skip this step, this is for data documenting. It's also a hack to make a nice df."
   ]
  },
  {
   "cell_type": "code",
   "execution_count": 14,
   "metadata": {
    "collapsed": true
   },
   "outputs": [],
   "source": [
    "monthly_totals.to_csv('../data/monthly-totals-syria.csv')"
   ]
  },
  {
   "cell_type": "code",
   "execution_count": 15,
   "metadata": {
    "collapsed": true
   },
   "outputs": [],
   "source": [
    "df = pandas.read_csv('../data/monthly-totals-syria.csv', parse_dates=['datetime'])"
   ]
  },
  {
   "cell_type": "code",
   "execution_count": 16,
   "metadata": {},
   "outputs": [
    {
     "data": {
      "text/html": [
       "<div>\n",
       "<style>\n",
       "    .dataframe thead tr:only-child th {\n",
       "        text-align: right;\n",
       "    }\n",
       "\n",
       "    .dataframe thead th {\n",
       "        text-align: left;\n",
       "    }\n",
       "\n",
       "    .dataframe tbody tr th {\n",
       "        vertical-align: top;\n",
       "    }\n",
       "</style>\n",
       "<table border=\"1\" class=\"dataframe\">\n",
       "  <thead>\n",
       "    <tr style=\"text-align: right;\">\n",
       "      <th></th>\n",
       "      <th>datetime</th>\n",
       "      <th>magnitude</th>\n",
       "    </tr>\n",
       "  </thead>\n",
       "  <tbody>\n",
       "    <tr>\n",
       "      <th>0</th>\n",
       "      <td>2010-01-01</td>\n",
       "      <td>499.0</td>\n",
       "    </tr>\n",
       "    <tr>\n",
       "      <th>1</th>\n",
       "      <td>2010-02-01</td>\n",
       "      <td>635.0</td>\n",
       "    </tr>\n",
       "    <tr>\n",
       "      <th>2</th>\n",
       "      <td>2010-03-01</td>\n",
       "      <td>519.0</td>\n",
       "    </tr>\n",
       "    <tr>\n",
       "      <th>3</th>\n",
       "      <td>2010-04-01</td>\n",
       "      <td>433.0</td>\n",
       "    </tr>\n",
       "    <tr>\n",
       "      <th>4</th>\n",
       "      <td>2010-05-01</td>\n",
       "      <td>472.0</td>\n",
       "    </tr>\n",
       "    <tr>\n",
       "      <th>5</th>\n",
       "      <td>2010-06-01</td>\n",
       "      <td>455.0</td>\n",
       "    </tr>\n",
       "    <tr>\n",
       "      <th>6</th>\n",
       "      <td>2010-07-01</td>\n",
       "      <td>459.0</td>\n",
       "    </tr>\n",
       "    <tr>\n",
       "      <th>7</th>\n",
       "      <td>2010-08-01</td>\n",
       "      <td>604.0</td>\n",
       "    </tr>\n",
       "    <tr>\n",
       "      <th>8</th>\n",
       "      <td>2010-09-01</td>\n",
       "      <td>602.0</td>\n",
       "    </tr>\n",
       "    <tr>\n",
       "      <th>9</th>\n",
       "      <td>2010-10-01</td>\n",
       "      <td>634.0</td>\n",
       "    </tr>\n",
       "  </tbody>\n",
       "</table>\n",
       "</div>"
      ],
      "text/plain": [
       "    datetime  magnitude\n",
       "0 2010-01-01      499.0\n",
       "1 2010-02-01      635.0\n",
       "2 2010-03-01      519.0\n",
       "3 2010-04-01      433.0\n",
       "4 2010-05-01      472.0\n",
       "5 2010-06-01      455.0\n",
       "6 2010-07-01      459.0\n",
       "7 2010-08-01      604.0\n",
       "8 2010-09-01      602.0\n",
       "9 2010-10-01      634.0"
      ]
     },
     "execution_count": 16,
     "metadata": {},
     "output_type": "execute_result"
    }
   ],
   "source": [
    "df.head(10)"
   ]
  },
  {
   "cell_type": "markdown",
   "metadata": {
    "collapsed": true
   },
   "source": [
    "### Chart data"
   ]
  },
  {
   "cell_type": "code",
   "execution_count": 24,
   "metadata": {},
   "outputs": [
    {
     "data": {
      "text/plain": [
       "<matplotlib.text.Text at 0x10e360240>"
      ]
     },
     "execution_count": 24,
     "metadata": {},
     "output_type": "execute_result"
    },
    {
     "data": {
      "image/png": "[encoded data removed]",
      "text/plain": [
       "<matplotlib.figure.Figure at 0x10e355f98>"
      ]
     },
     "metadata": {},
     "output_type": "display_data"
    }
   ],
   "source": [
    "df.plot('datetime')\n",
    "plt.title(\"Total refugees from Syria, all origins\")\n",
    "plt.legend(\"\")\n",
    "plt.ylabel(\"refugees\")"
   ]
  },
  {
   "cell_type": "markdown",
   "metadata": {},
   "source": [
    "## Process for MIDI\n",
    "* CHANGES FROM REVEAL CODE: DO EVERYTHING IN A DF"
   ]
  },
  {
   "cell_type": "markdown",
   "metadata": {},
   "source": [
    "Instantiate the class with a tempo (120bpm is the default), an output file destination, the number of seconds you want to represent a year in the final song (default is 5 sec/year), the base octave (C5 is middle C, so the default is 5, and how many octaves you want your output to range over (default is 1)."
   ]
  },
  {
   "cell_type": "code",
   "execution_count": 18,
   "metadata": {
    "collapsed": true
   },
   "outputs": [],
   "source": [
    "BPM = 120\n",
    "FILENAME = '../audio/syria-2010-2017-FREQ.mid'\n",
    "SEC_PER_YEAR = 6\n",
    "BASE_OCTAVE = 5\n",
    "OCTAVES = 1\n",
    "\n",
    "mymidi = MIDITime(BPM,FILENAME, SEC_PER_YEAR, BASE_OCTAVE, OCTAVES)"
   ]
  },
  {
   "cell_type": "markdown",
   "metadata": {},
   "source": [
    "I save this is as a column, and zip all data later, for easy error checking.\n",
    "Convert your date/time data into an integer, like days since the epoch (Jan. 1, 1970). You can use the days_since_epoch() helper method, or not:"
   ]
  },
  {
   "cell_type": "code",
   "execution_count": 19,
   "metadata": {
    "collapsed": true
   },
   "outputs": [],
   "source": [
    "df['epoched'] = df.datetime.apply(lambda x: mymidi.days_since_epoch(x))"
   ]
  },
  {
   "cell_type": "markdown",
   "metadata": {},
   "source": [
    "Convert your integer date/time to something reasonable for a song. For example, at 120 beats per minute, you'll need to scale the data down a lot to avoid a very long song if your data spans years. This uses the seconds_per_year attribute you set at the top, so if your date is converted to something other than days you may need to do your own conversion. But if your dataset spans years and your dates are in days (with fractions is fine), use the beat() helper method."
   ]
  },
  {
   "cell_type": "code",
   "execution_count": 20,
   "metadata": {
    "collapsed": true
   },
   "outputs": [],
   "source": [
    "df['beat'] = df['epoched'].apply(lambda x: mymidi.beat(x))"
   ]
  },
  {
   "cell_type": "code",
   "execution_count": 21,
   "metadata": {},
   "outputs": [
    {
     "name": "stdout",
     "output_type": "stream",
     "text": [
      "480.0\n"
     ]
    }
   ],
   "source": [
    "START_TIME = df.beat.min() # beat doesn't start at 0 since we scaled our epoch seconds, so we just start at the first one.\n",
    "print(START_TIME)"
   ]
  },
  {
   "cell_type": "code",
   "execution_count": 22,
   "metadata": {},
   "outputs": [
    {
     "data": {
      "text/html": [
       "<div>\n",
       "<style>\n",
       "    .dataframe thead tr:only-child th {\n",
       "        text-align: right;\n",
       "    }\n",
       "\n",
       "    .dataframe thead th {\n",
       "        text-align: left;\n",
       "    }\n",
       "\n",
       "    .dataframe tbody tr th {\n",
       "        vertical-align: top;\n",
       "    }\n",
       "</style>\n",
       "<table border=\"1\" class=\"dataframe\">\n",
       "  <thead>\n",
       "    <tr style=\"text-align: right;\">\n",
       "      <th></th>\n",
       "      <th>datetime</th>\n",
       "      <th>magnitude</th>\n",
       "      <th>epoched</th>\n",
       "      <th>beat</th>\n",
       "    </tr>\n",
       "  </thead>\n",
       "  <tbody>\n",
       "    <tr>\n",
       "      <th>0</th>\n",
       "      <td>2010-01-01</td>\n",
       "      <td>499.0</td>\n",
       "      <td>14610.0</td>\n",
       "      <td>480.00</td>\n",
       "    </tr>\n",
       "    <tr>\n",
       "      <th>1</th>\n",
       "      <td>2010-02-01</td>\n",
       "      <td>635.0</td>\n",
       "      <td>14641.0</td>\n",
       "      <td>481.02</td>\n",
       "    </tr>\n",
       "    <tr>\n",
       "      <th>2</th>\n",
       "      <td>2010-03-01</td>\n",
       "      <td>519.0</td>\n",
       "      <td>14669.0</td>\n",
       "      <td>481.94</td>\n",
       "    </tr>\n",
       "    <tr>\n",
       "      <th>3</th>\n",
       "      <td>2010-04-01</td>\n",
       "      <td>433.0</td>\n",
       "      <td>14700.0</td>\n",
       "      <td>482.96</td>\n",
       "    </tr>\n",
       "    <tr>\n",
       "      <th>4</th>\n",
       "      <td>2010-05-01</td>\n",
       "      <td>472.0</td>\n",
       "      <td>14730.0</td>\n",
       "      <td>483.94</td>\n",
       "    </tr>\n",
       "  </tbody>\n",
       "</table>\n",
       "</div>"
      ],
      "text/plain": [
       "    datetime  magnitude  epoched    beat\n",
       "0 2010-01-01      499.0  14610.0  480.00\n",
       "1 2010-02-01      635.0  14641.0  481.02\n",
       "2 2010-03-01      519.0  14669.0  481.94\n",
       "3 2010-04-01      433.0  14700.0  482.96\n",
       "4 2010-05-01      472.0  14730.0  483.94"
      ]
     },
     "execution_count": 22,
     "metadata": {},
     "output_type": "execute_result"
    }
   ],
   "source": [
    "df.head()"
   ]
  },
  {
   "cell_type": "code",
   "execution_count": 23,
   "metadata": {},
   "outputs": [
    {
     "data": {
      "text/plain": [
       "102089.0"
      ]
     },
     "execution_count": 23,
     "metadata": {},
     "output_type": "execute_result"
    }
   ],
   "source": [
    "df.magnitude.max()"
   ]
  },
  {
   "cell_type": "markdown",
   "metadata": {},
   "source": [
    "Set up some functions to scale your other variable (magnitude in our case) to match your desired mode/key and octave range. There are helper methods to assist this scaling, very similar to a charting library like D3. You can choose a linear or logarithmic scale."
   ]
  },
  {
   "cell_type": "markdown",
   "metadata": {},
   "source": [
    "## Calculate N, the number of beats we want for a given month, as a function of magnitude.\n",
    "We use numpy linear interpolation to map. (maybe add logarithmic later.) We don't need to reverse it, because higher number of refugees = more notes."
   ]
  },
  {
   "cell_type": "code",
   "execution_count": 24,
   "metadata": {
    "collapsed": true
   },
   "outputs": [],
   "source": [
    "MIN_N = 1 # how many notes do we want per month min?\n",
    "MAX_N = 10 # how many notes do we want per month max?\n",
    "\n",
    "df['N'] = df.magnitude.apply(lambda x: np.interp(x, [MIN,MAX], [MIN_N, MAX_N]))"
   ]
  },
  {
   "cell_type": "code",
   "execution_count": 25,
   "metadata": {},
   "outputs": [
    {
     "data": {
      "text/plain": [
       "<matplotlib.text.Text at 0x103bc85f8>"
      ]
     },
     "execution_count": 25,
     "metadata": {},
     "output_type": "execute_result"
    },
    {
     "data": {
      "image/png": "[encoded data removed]",
      "text/plain": [
       "<matplotlib.figure.Figure at 0x103b4b9b0>"
      ]
     },
     "metadata": {},
     "output_type": "display_data"
    }
   ],
   "source": [
    "df.head() \n",
    "df.N.plot()\n",
    "plt.title(\"Magnitude mapped onto N\")"
   ]
  },
  {
   "cell_type": "markdown",
   "metadata": {},
   "source": [
    "## Time to make the note list!\n",
    "* I know you're not supposed to iterate through a dataframe — but it's pretty small and manegable.\n",
    "* [BEAT, PITCH, VELOCITY (VOLUME), DURATION_OF_NOTE]\n"
   ]
  },
  {
   "cell_type": "code",
   "execution_count": 26,
   "metadata": {
    "collapsed": true
   },
   "outputs": [],
   "source": [
    "months = df.to_dict('records')"
   ]
  },
  {
   "cell_type": "code",
   "execution_count": 27,
   "metadata": {},
   "outputs": [
    {
     "data": {
      "text/plain": [
       "0      1.005843\n",
       "1      1.017884\n",
       "2      1.007614\n",
       "3      1.000000\n",
       "4      1.003453\n",
       "5      1.001948\n",
       "6      1.002302\n",
       "7      1.015139\n",
       "8      1.014962\n",
       "9      1.017795\n",
       "10     1.010978\n",
       "11     1.015139\n",
       "12     1.018769\n",
       "13     1.014431\n",
       "14     1.022930\n",
       "15     1.018149\n",
       "16     1.028242\n",
       "17     1.040017\n",
       "18     1.065249\n",
       "19     1.100220\n",
       "20     1.085966\n",
       "21     1.083045\n",
       "22     1.080566\n",
       "23     1.065427\n",
       "24     1.093669\n",
       "25     1.081628\n",
       "26     1.076936\n",
       "27     1.085258\n",
       "28     1.119432\n",
       "29     1.151127\n",
       "        ...    \n",
       "61     2.045939\n",
       "62     2.282148\n",
       "63     2.467449\n",
       "64     2.661958\n",
       "65     3.702939\n",
       "66     5.421736\n",
       "67     8.304753\n",
       "68    10.000000\n",
       "69     8.625600\n",
       "70     7.364346\n",
       "71     4.661850\n",
       "72     4.465482\n",
       "73     4.822539\n",
       "74     4.356585\n",
       "75     4.458045\n",
       "76     4.129761\n",
       "77     3.880450\n",
       "78     3.538443\n",
       "79     3.856546\n",
       "80     3.521179\n",
       "81     2.060636\n",
       "82     1.820443\n",
       "83     1.706589\n",
       "84     1.586183\n",
       "85     1.615222\n",
       "86     1.794857\n",
       "87     1.594505\n",
       "88     1.687908\n",
       "89     1.618586\n",
       "90     1.503050\n",
       "Name: N, Length: 91, dtype: float64"
      ]
     },
     "execution_count": 27,
     "metadata": {},
     "output_type": "execute_result"
    }
   ],
   "source": [
    "df.N"
   ]
  },
  {
   "cell_type": "code",
   "execution_count": 28,
   "metadata": {
    "collapsed": true
   },
   "outputs": [],
   "source": [
    "note_list = [] \n",
    "P = 71 # for now constant\n",
    "V = 100\n",
    "\n",
    "for i in range(len(months)-1):\n",
    "    start_beat = months[i]['beat']\n",
    "    end_beat = months[i+1]['beat']\n",
    "    period = end_beat - start_beat\n",
    "    N = round(months[i]['N']) # truncate the N to nearest int\n",
    "    \n",
    "    for n in range(N):  \n",
    "        #print(N)\n",
    "        beat = start_beat + (n * (period/N))\n",
    "        pitch = P \n",
    "        velocity = V\n",
    "        duration = (period / N) - (period/100)  # do a little offset?\n",
    "        note_list.append([beat - START_TIME, pitch, velocity, duration])\n",
    "    "
   ]
  },
  {
   "cell_type": "code",
   "execution_count": 29,
   "metadata": {
    "collapsed": true
   },
   "outputs": [],
   "source": [
    "#note_list"
   ]
  },
  {
   "cell_type": "code",
   "execution_count": 30,
   "metadata": {},
   "outputs": [
    {
     "data": {
      "text/plain": [
       "200"
      ]
     },
     "execution_count": 30,
     "metadata": {},
     "output_type": "execute_result"
    }
   ],
   "source": [
    "len(note_list)\n"
   ]
  },
  {
   "cell_type": "markdown",
   "metadata": {},
   "source": [
    "## Make MIDI file"
   ]
  },
  {
   "cell_type": "code",
   "execution_count": 31,
   "metadata": {},
   "outputs": [
    {
     "name": "stdout",
     "output_type": "stream",
     "text": [
      "71 0.0 1.009799999999982 100\n",
      "71 1.02 0.9108000000000157 100\n",
      "71 1.94 1.009799999999982 100\n",
      "71 2.96 0.970200000000018 100\n",
      "71 3.94 1.009799999999982 100\n",
      "71 4.96 0.980100000000009 100\n",
      "71 5.95 1.0098000000000382 100\n",
      "71 6.97 0.999899999999991 100\n",
      "71 7.98 0.980100000000009 100\n",
      "71 8.97 1.009799999999982 100\n",
      "71 9.99 0.970200000000018 100\n",
      "71 10.97 1.009799999999982 100\n",
      "71 11.99 1.009799999999982 100\n",
      "71 13.01 0.9108000000000157 100\n",
      "71 13.93 1.009799999999982 100\n",
      "71 14.95 0.970200000000018 100\n",
      "71 15.93 1.009799999999982 100\n",
      "71 16.95 0.980100000000009 100\n",
      "71 17.94 1.009799999999982 100\n",
      "71 18.96 1.0098000000000382 100\n",
      "71 19.98 0.9701999999999618 100\n",
      "71 20.96 1.0098000000000382 100\n",
      "71 21.98 0.980100000000009 100\n",
      "71 22.97 0.999899999999991 100\n",
      "71 23.98 1.009799999999982 100\n",
      "71 25.0 0.9404999999999888 100\n",
      "71 25.95 1.0098000000000382 100\n",
      "71 26.97 0.9800999999999527 100\n",
      "71 27.96 1.0098000000000382 100\n",
      "71 28.98 0.9701999999999618 100\n",
      "71 29.96 1.0098000000000382 100\n",
      "71 30.98 1.009799999999982 100\n",
      "71 32.0 0.980100000000009 100\n",
      "71 32.99 0.999899999999991 100\n",
      "71 34.0 0.980100000000009 100\n",
      "71 34.99 1.009799999999982 100\n",
      "71 36.01 1.009799999999982 100\n",
      "71 37.03 0.910800000000072 100\n",
      "71 37.95 1.009799999999982 100\n",
      "71 38.97 0.970200000000018 100\n",
      "71 39.95 1.009799999999982 100\n",
      "71 40.97 0.970200000000018 100\n",
      "71 41.95 0.4997999999999911 100\n",
      "71 42.46 0.4997999999999911 100\n",
      "71 42.97 0.4997999999999911 100\n",
      "71 43.48 0.4997999999999911 100\n",
      "71 43.99 0.48510000000000447 100\n",
      "71 44.485 0.48510000000000447 100\n",
      "71 44.98 0.4997999999999911 100\n",
      "71 45.49 0.4997999999999911 100\n",
      "71 46.0 0.4802000000000089 100\n",
      "71 46.49 0.4802000000000089 100\n",
      "71 46.98 0.4997999999999911 100\n",
      "71 47.49 0.4997999999999911 100\n",
      "71 48.0 0.4997999999999911 100\n",
      "71 48.51 0.4997999999999911 100\n",
      "71 49.02 0.45080000000003567 100\n",
      "71 49.48 0.45080000000003567 100\n",
      "71 49.94 0.4997999999999911 100\n",
      "71 50.45 0.4997999999999911 100\n",
      "71 50.96 0.4802000000000089 100\n",
      "71 51.45 0.4802000000000089 100\n",
      "71 51.94 0.4997999999999911 100\n",
      "71 52.45 0.4997999999999911 100\n",
      "71 52.96 0.48510000000000447 100\n",
      "71 53.455 0.48510000000000447 100\n",
      "71 53.95 0.3297999999999941 100\n",
      "71 54.29 0.3297999999999941 100\n",
      "71 54.63 0.3297999999999941 100\n",
      "71 54.97 0.32656666666666373 100\n",
      "71 55.3066666667 0.32656666666666373 100\n",
      "71 55.6433333333 0.32656666666666373 100\n",
      "71 55.98 0.23760000000000217 100\n",
      "71 56.2275 0.23760000000000217 100\n",
      "71 56.475 0.23760000000000217 100\n",
      "71 56.7225 0.23760000000000217 100\n",
      "71 56.97 0.24479999999999563 100\n",
      "71 57.225 0.24479999999999563 100\n",
      "71 57.48 0.24479999999999563 100\n",
      "71 57.735 0.24479999999999563 100\n",
      "71 57.99 0.3168666666666725 100\n",
      "71 58.3166666667 0.3168666666666725 100\n",
      "71 58.6433333333 0.3168666666666725 100\n",
      "71 58.97 0.3297999999999941 100\n",
      "71 59.31 0.3297999999999941 100\n",
      "71 59.65 0.3297999999999941 100\n",
      "71 59.99 0.4997999999999911 100\n",
      "71 60.5 0.4997999999999911 100\n",
      "71 61.01 0.45079999999997994 100\n",
      "71 61.47 0.45079999999997994 100\n",
      "71 61.93 0.4998000000000468 100\n",
      "71 62.44 0.4998000000000468 100\n",
      "71 62.95 0.4801999999999532 100\n",
      "71 63.44 0.4801999999999532 100\n",
      "71 63.93 0.3298000000000309 100\n",
      "71 64.27 0.3298000000000309 100\n",
      "71 64.61 0.3298000000000309 100\n",
      "71 64.95 0.23760000000000217 100\n",
      "71 65.1975 0.23760000000000217 100\n",
      "71 65.445 0.23760000000000217 100\n",
      "71 65.6925 0.23760000000000217 100\n",
      "71 65.94 0.19379999999999653 100\n",
      "71 66.144 0.19379999999999653 100\n",
      "71 66.348 0.19379999999999653 100\n",
      "71 66.552 0.19379999999999653 100\n",
      "71 66.756 0.19379999999999653 100\n",
      "71 66.96 0.1172999999999979 100\n",
      "71 67.0875 0.1172999999999979 100\n",
      "71 67.215 0.1172999999999979 100\n",
      "71 67.3425 0.1172999999999979 100\n",
      "71 67.47 0.1172999999999979 100\n",
      "71 67.5975 0.1172999999999979 100\n",
      "71 67.725 0.1172999999999979 100\n",
      "71 67.8525 0.1172999999999979 100\n",
      "71 67.98 0.08820000000000164 100\n",
      "71 68.078 0.08820000000000164 100\n",
      "71 68.176 0.08820000000000164 100\n",
      "71 68.274 0.08820000000000164 100\n",
      "71 68.372 0.08820000000000164 100\n",
      "71 68.47 0.08820000000000164 100\n",
      "71 68.568 0.08820000000000164 100\n",
      "71 68.666 0.08820000000000164 100\n",
      "71 68.764 0.08820000000000164 100\n",
      "71 68.862 0.08820000000000164 100\n",
      "71 68.96 0.1031333333333315 100\n",
      "71 69.0733333333 0.1031333333333315 100\n",
      "71 69.1866666667 0.1031333333333315 100\n",
      "71 69.3 0.1031333333333315 100\n",
      "71 69.4133333333 0.1031333333333315 100\n",
      "71 69.5266666667 0.1031333333333315 100\n",
      "71 69.64 0.1031333333333315 100\n",
      "71 69.7533333333 0.1031333333333315 100\n",
      "71 69.8666666667 0.1031333333333315 100\n",
      "71 69.98 0.13152857142857263 100\n",
      "71 70.1214285714 0.13152857142857263 100\n",
      "71 70.2628571429 0.13152857142857263 100\n",
      "71 70.4042857143 0.13152857142857263 100\n",
      "71 70.5457142857 0.13152857142857263 100\n",
      "71 70.6871428571 0.13152857142857263 100\n",
      "71 70.8285714286 0.13152857142857263 100\n",
      "71 70.97 0.19189999999999827 100\n",
      "71 71.172 0.19189999999999827 100\n",
      "71 71.374 0.19189999999999827 100\n",
      "71 71.576 0.19189999999999827 100\n",
      "71 71.778 0.19189999999999827 100\n",
      "71 71.98 0.24479999999999563 100\n",
      "71 72.235 0.24479999999999563 100\n",
      "71 72.49 0.24479999999999563 100\n",
      "71 72.745 0.24479999999999563 100\n",
      "71 73.0 0.18050000000000865 100\n",
      "71 73.19 0.18050000000000865 100\n",
      "71 73.38 0.18050000000000865 100\n",
      "71 73.57 0.18050000000000865 100\n",
      "71 73.76 0.18050000000000865 100\n",
      "71 73.95 0.24479999999999563 100\n",
      "71 74.205 0.24479999999999563 100\n",
      "71 74.46 0.24479999999999563 100\n",
      "71 74.715 0.24479999999999563 100\n",
      "71 74.97 0.23760000000000217 100\n",
      "71 75.2175 0.23760000000000217 100\n",
      "71 75.465 0.23760000000000217 100\n",
      "71 75.7125 0.23760000000000217 100\n",
      "71 75.96 0.24479999999999563 100\n",
      "71 76.215 0.24479999999999563 100\n",
      "71 76.47 0.24479999999999563 100\n",
      "71 76.725 0.24479999999999563 100\n",
      "71 76.98 0.23520000000000438 100\n",
      "71 77.225 0.23520000000000438 100\n",
      "71 77.47 0.23520000000000438 100\n",
      "71 77.715 0.23520000000000438 100\n",
      "71 77.96 0.24479999999999563 100\n",
      "71 78.215 0.24479999999999563 100\n",
      "71 78.47 0.24479999999999563 100\n",
      "71 78.725 0.24479999999999563 100\n",
      "71 78.98 0.24479999999999563 100\n",
      "71 79.235 0.24479999999999563 100\n",
      "71 79.49 0.24479999999999563 100\n",
      "71 79.745 0.24479999999999563 100\n",
      "71 80.0 0.23760000000000217 100\n",
      "71 80.2475 0.23760000000000217 100\n",
      "71 80.495 0.23760000000000217 100\n",
      "71 80.7425 0.23760000000000217 100\n",
      "71 80.99 0.49489999999999557 100\n",
      "71 81.495 0.49489999999999557 100\n",
      "71 82.0 0.48510000000000447 100\n",
      "71 82.495 0.48510000000000447 100\n",
      "71 82.99 0.4997999999999911 100\n",
      "71 83.5 0.4997999999999911 100\n",
      "71 84.01 0.4997999999999911 100\n",
      "71 84.52 0.4997999999999911 100\n",
      "71 85.03 0.45080000000003567 100\n",
      "71 85.49 0.45080000000003567 100\n",
      "71 85.95 0.4997999999999911 100\n",
      "71 86.46 0.4997999999999911 100\n",
      "71 86.97 0.4802000000000089 100\n",
      "71 87.46 0.4802000000000089 100\n",
      "71 87.95 0.4997999999999911 100\n",
      "71 88.46 0.4997999999999911 100\n",
      "71 88.97 0.4802000000000089 100\n",
      "71 89.46 0.4802000000000089 100\n"
     ]
    }
   ],
   "source": [
    "# Add a track with those notes\n",
    "mymidi.add_track(note_list)\n",
    "\n",
    "# Output the .mid file\n",
    "mymidi.save_midi()"
   ]
  },
  {
   "cell_type": "code",
   "execution_count": null,
   "metadata": {
    "collapsed": true
   },
   "outputs": [],
   "source": []
  }
 ],
 "metadata": {
  "kernelspec": {
   "display_name": "Python 3",
   "language": "python",
   "name": "python3"
  },
  "language_info": {
   "codemirror_mode": {
    "name": "ipython",
    "version": 3
   },
   "file_extension": ".py",
   "mimetype": "text/x-python",
   "name": "python",
   "nbconvert_exporter": "python",
   "pygments_lexer": "ipython3",
   "version": "3.6.1"
  }
 },
 "nbformat": 4,
 "nbformat_minor": 2
}
