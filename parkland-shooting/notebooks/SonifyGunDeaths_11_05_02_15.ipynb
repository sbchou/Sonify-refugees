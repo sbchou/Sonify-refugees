{
 "cells": [
  {
   "cell_type": "code",
   "execution_count": 1,
   "metadata": {
    "collapsed": true
   },
   "outputs": [],
   "source": [
    "# My usual setup\n",
    "%matplotlib inline\n",
    "import matplotlib.pyplot as plt\n",
    "import pandas \n",
    "from datetime import datetime\n",
    "import seaborn as sns\n",
    "import glob\n",
    "from os.path import basename\n",
    "sns.set_context('poster') \n",
    "import numpy as np"
   ]
  },
  {
   "cell_type": "markdown",
   "metadata": {},
   "source": [
    "# Sonify deaths by day since sutherland"
   ]
  },
  {
   "cell_type": "markdown",
   "metadata": {},
   "source": [
    "## First, format files"
   ]
  },
  {
   "cell_type": "code",
   "execution_count": 6,
   "metadata": {
    "collapsed": true
   },
   "outputs": [],
   "source": [
    "df = pandas.read_csv('../data/mass-shootings-post-sutherland-reformatted.csv')"
   ]
  },
  {
   "cell_type": "code",
   "execution_count": 7,
   "metadata": {
    "scrolled": true
   },
   "outputs": [
    {
     "data": {
      "text/html": [
       "<div>\n",
       "<style>\n",
       "    .dataframe thead tr:only-child th {\n",
       "        text-align: right;\n",
       "    }\n",
       "\n",
       "    .dataframe thead th {\n",
       "        text-align: left;\n",
       "    }\n",
       "\n",
       "    .dataframe tbody tr th {\n",
       "        vertical-align: top;\n",
       "    }\n",
       "</style>\n",
       "<table border=\"1\" class=\"dataframe\">\n",
       "  <thead>\n",
       "    <tr style=\"text-align: right;\">\n",
       "      <th></th>\n",
       "      <th>date</th>\n",
       "      <th>state</th>\n",
       "      <th>city_county</th>\n",
       "      <th>address</th>\n",
       "      <th>nkill</th>\n",
       "      <th>ninjured</th>\n",
       "      <th>operations</th>\n",
       "    </tr>\n",
       "  </thead>\n",
       "  <tbody>\n",
       "    <tr>\n",
       "      <th>0</th>\n",
       "      <td>11/05/17</td>\n",
       "      <td>Texas</td>\n",
       "      <td>Sutherland Springs</td>\n",
       "      <td>216 4th St</td>\n",
       "      <td>27</td>\n",
       "      <td>20</td>\n",
       "      <td>NaN</td>\n",
       "    </tr>\n",
       "    <tr>\n",
       "      <th>1</th>\n",
       "      <td>11/09/17</td>\n",
       "      <td>Pennsylvania</td>\n",
       "      <td>Philadelphia</td>\n",
       "      <td>1800 block of Ringgold</td>\n",
       "      <td>0</td>\n",
       "      <td>4</td>\n",
       "      <td>NaN</td>\n",
       "    </tr>\n",
       "    <tr>\n",
       "      <th>2</th>\n",
       "      <td>11/10/17</td>\n",
       "      <td>Ohio</td>\n",
       "      <td>Dayton (Trotwood)</td>\n",
       "      <td>193 Olive Rd</td>\n",
       "      <td>0</td>\n",
       "      <td>4</td>\n",
       "      <td>NaN</td>\n",
       "    </tr>\n",
       "    <tr>\n",
       "      <th>3</th>\n",
       "      <td>11/11/17</td>\n",
       "      <td>Texas</td>\n",
       "      <td>Dallas</td>\n",
       "      <td>2532 Martin Luther King Jr Blvd</td>\n",
       "      <td>1</td>\n",
       "      <td>3</td>\n",
       "      <td>NaN</td>\n",
       "    </tr>\n",
       "    <tr>\n",
       "      <th>4</th>\n",
       "      <td>11/11/17</td>\n",
       "      <td>Louisiana</td>\n",
       "      <td>New Orleans</td>\n",
       "      <td>Forstall Street and Burgundy Street</td>\n",
       "      <td>1</td>\n",
       "      <td>5</td>\n",
       "      <td>NaN</td>\n",
       "    </tr>\n",
       "  </tbody>\n",
       "</table>\n",
       "</div>"
      ],
      "text/plain": [
       "       date         state         city_county  \\\n",
       "0  11/05/17         Texas  Sutherland Springs   \n",
       "1  11/09/17  Pennsylvania        Philadelphia   \n",
       "2  11/10/17          Ohio   Dayton (Trotwood)   \n",
       "3  11/11/17         Texas              Dallas   \n",
       "4  11/11/17     Louisiana         New Orleans   \n",
       "\n",
       "                               address  nkill  ninjured  operations  \n",
       "0                           216 4th St     27        20         NaN  \n",
       "1               1800 block of Ringgold      0         4         NaN  \n",
       "2                         193 Olive Rd      0         4         NaN  \n",
       "3      2532 Martin Luther King Jr Blvd      1         3         NaN  \n",
       "4  Forstall Street and Burgundy Street      1         5         NaN  "
      ]
     },
     "execution_count": 7,
     "metadata": {},
     "output_type": "execute_result"
    }
   ],
   "source": [
    "df.head()"
   ]
  },
  {
   "cell_type": "code",
   "execution_count": 8,
   "metadata": {},
   "outputs": [],
   "source": [
    "df['datetime'] = pandas.to_datetime(df.date, infer_datetime_format=True)"
   ]
  },
  {
   "cell_type": "code",
   "execution_count": 9,
   "metadata": {},
   "outputs": [
    {
     "data": {
      "text/html": [
       "<div>\n",
       "<style>\n",
       "    .dataframe thead tr:only-child th {\n",
       "        text-align: right;\n",
       "    }\n",
       "\n",
       "    .dataframe thead th {\n",
       "        text-align: left;\n",
       "    }\n",
       "\n",
       "    .dataframe tbody tr th {\n",
       "        vertical-align: top;\n",
       "    }\n",
       "</style>\n",
       "<table border=\"1\" class=\"dataframe\">\n",
       "  <thead>\n",
       "    <tr style=\"text-align: right;\">\n",
       "      <th></th>\n",
       "      <th>date</th>\n",
       "      <th>state</th>\n",
       "      <th>city_county</th>\n",
       "      <th>address</th>\n",
       "      <th>nkill</th>\n",
       "      <th>ninjured</th>\n",
       "      <th>operations</th>\n",
       "      <th>datetime</th>\n",
       "    </tr>\n",
       "  </thead>\n",
       "  <tbody>\n",
       "    <tr>\n",
       "      <th>0</th>\n",
       "      <td>11/05/17</td>\n",
       "      <td>Texas</td>\n",
       "      <td>Sutherland Springs</td>\n",
       "      <td>216 4th St</td>\n",
       "      <td>27</td>\n",
       "      <td>20</td>\n",
       "      <td>NaN</td>\n",
       "      <td>2017-11-05</td>\n",
       "    </tr>\n",
       "    <tr>\n",
       "      <th>1</th>\n",
       "      <td>11/09/17</td>\n",
       "      <td>Pennsylvania</td>\n",
       "      <td>Philadelphia</td>\n",
       "      <td>1800 block of Ringgold</td>\n",
       "      <td>0</td>\n",
       "      <td>4</td>\n",
       "      <td>NaN</td>\n",
       "      <td>2017-11-09</td>\n",
       "    </tr>\n",
       "    <tr>\n",
       "      <th>2</th>\n",
       "      <td>11/10/17</td>\n",
       "      <td>Ohio</td>\n",
       "      <td>Dayton (Trotwood)</td>\n",
       "      <td>193 Olive Rd</td>\n",
       "      <td>0</td>\n",
       "      <td>4</td>\n",
       "      <td>NaN</td>\n",
       "      <td>2017-11-10</td>\n",
       "    </tr>\n",
       "    <tr>\n",
       "      <th>3</th>\n",
       "      <td>11/11/17</td>\n",
       "      <td>Texas</td>\n",
       "      <td>Dallas</td>\n",
       "      <td>2532 Martin Luther King Jr Blvd</td>\n",
       "      <td>1</td>\n",
       "      <td>3</td>\n",
       "      <td>NaN</td>\n",
       "      <td>2017-11-11</td>\n",
       "    </tr>\n",
       "    <tr>\n",
       "      <th>4</th>\n",
       "      <td>11/11/17</td>\n",
       "      <td>Louisiana</td>\n",
       "      <td>New Orleans</td>\n",
       "      <td>Forstall Street and Burgundy Street</td>\n",
       "      <td>1</td>\n",
       "      <td>5</td>\n",
       "      <td>NaN</td>\n",
       "      <td>2017-11-11</td>\n",
       "    </tr>\n",
       "  </tbody>\n",
       "</table>\n",
       "</div>"
      ],
      "text/plain": [
       "       date         state         city_county  \\\n",
       "0  11/05/17         Texas  Sutherland Springs   \n",
       "1  11/09/17  Pennsylvania        Philadelphia   \n",
       "2  11/10/17          Ohio   Dayton (Trotwood)   \n",
       "3  11/11/17         Texas              Dallas   \n",
       "4  11/11/17     Louisiana         New Orleans   \n",
       "\n",
       "                               address  nkill  ninjured  operations   datetime  \n",
       "0                           216 4th St     27        20         NaN 2017-11-05  \n",
       "1               1800 block of Ringgold      0         4         NaN 2017-11-09  \n",
       "2                         193 Olive Rd      0         4         NaN 2017-11-10  \n",
       "3      2532 Martin Luther King Jr Blvd      1         3         NaN 2017-11-11  \n",
       "4  Forstall Street and Burgundy Street      1         5         NaN 2017-11-11  "
      ]
     },
     "execution_count": 9,
     "metadata": {},
     "output_type": "execute_result"
    }
   ],
   "source": [
    "df.head()"
   ]
  },
  {
   "cell_type": "code",
   "execution_count": 10,
   "metadata": {
    "collapsed": true
   },
   "outputs": [],
   "source": [
    "df_nkill = df.groupby('datetime').nkill.sum().to_frame()"
   ]
  },
  {
   "cell_type": "code",
   "execution_count": 11,
   "metadata": {},
   "outputs": [
    {
     "name": "stdout",
     "output_type": "stream",
     "text": [
      "2018-02-14 00:00:00\n",
      "2017-11-05 00:00:00\n"
     ]
    }
   ],
   "source": [
    "print(df_nkill.index.max())\n",
    "print(df_nkill.index.min())"
   ]
  },
  {
   "cell_type": "code",
   "execution_count": 12,
   "metadata": {},
   "outputs": [
    {
     "name": "stdout",
     "output_type": "stream",
     "text": [
      "nkill    27\n",
      "dtype: int64\n",
      "nkill    0\n",
      "dtype: int64\n"
     ]
    }
   ],
   "source": [
    "print(df_nkill.max())\n",
    "print(df_nkill.min())"
   ]
  },
  {
   "cell_type": "code",
   "execution_count": 13,
   "metadata": {},
   "outputs": [
    {
     "name": "stdout",
     "output_type": "stream",
     "text": [
      "nkill   2017-11-05\n",
      "dtype: datetime64[ns]\n"
     ]
    }
   ],
   "source": [
    "print(df_nkill.idxmax())"
   ]
  },
  {
   "cell_type": "code",
   "execution_count": 14,
   "metadata": {},
   "outputs": [
    {
     "data": {
      "text/html": [
       "<div>\n",
       "<style>\n",
       "    .dataframe thead tr:only-child th {\n",
       "        text-align: right;\n",
       "    }\n",
       "\n",
       "    .dataframe thead th {\n",
       "        text-align: left;\n",
       "    }\n",
       "\n",
       "    .dataframe tbody tr th {\n",
       "        vertical-align: top;\n",
       "    }\n",
       "</style>\n",
       "<table border=\"1\" class=\"dataframe\">\n",
       "  <thead>\n",
       "    <tr style=\"text-align: right;\">\n",
       "      <th></th>\n",
       "      <th>nkill</th>\n",
       "    </tr>\n",
       "    <tr>\n",
       "      <th>datetime</th>\n",
       "      <th></th>\n",
       "    </tr>\n",
       "  </thead>\n",
       "  <tbody>\n",
       "    <tr>\n",
       "      <th>2017-11-05</th>\n",
       "      <td>27</td>\n",
       "    </tr>\n",
       "    <tr>\n",
       "      <th>2017-11-09</th>\n",
       "      <td>0</td>\n",
       "    </tr>\n",
       "    <tr>\n",
       "      <th>2017-11-10</th>\n",
       "      <td>0</td>\n",
       "    </tr>\n",
       "    <tr>\n",
       "      <th>2017-11-11</th>\n",
       "      <td>3</td>\n",
       "    </tr>\n",
       "    <tr>\n",
       "      <th>2017-11-12</th>\n",
       "      <td>2</td>\n",
       "    </tr>\n",
       "  </tbody>\n",
       "</table>\n",
       "</div>"
      ],
      "text/plain": [
       "            nkill\n",
       "datetime         \n",
       "2017-11-05     27\n",
       "2017-11-09      0\n",
       "2017-11-10      0\n",
       "2017-11-11      3\n",
       "2017-11-12      2"
      ]
     },
     "execution_count": 14,
     "metadata": {},
     "output_type": "execute_result"
    }
   ],
   "source": [
    "df_nkill.head()"
   ]
  },
  {
   "cell_type": "code",
   "execution_count": 22,
   "metadata": {},
   "outputs": [
    {
     "data": {
      "text/plain": [
       "89"
      ]
     },
     "execution_count": 22,
     "metadata": {},
     "output_type": "execute_result"
    }
   ],
   "source": [
    "df.nkill.sum() - 27"
   ]
  },
  {
   "cell_type": "code",
   "execution_count": 15,
   "metadata": {
    "collapsed": true
   },
   "outputs": [],
   "source": [
    "df_nkill.nkill.to_csv('../data/nkill-by-day-11_05-02_15.csv')"
   ]
  },
  {
   "cell_type": "code",
   "execution_count": 16,
   "metadata": {
    "collapsed": true
   },
   "outputs": [],
   "source": [
    "df_nkill['datetime'] = df_nkill.index"
   ]
  },
  {
   "cell_type": "code",
   "execution_count": 17,
   "metadata": {},
   "outputs": [
    {
     "data": {
      "text/html": [
       "<div>\n",
       "<style>\n",
       "    .dataframe thead tr:only-child th {\n",
       "        text-align: right;\n",
       "    }\n",
       "\n",
       "    .dataframe thead th {\n",
       "        text-align: left;\n",
       "    }\n",
       "\n",
       "    .dataframe tbody tr th {\n",
       "        vertical-align: top;\n",
       "    }\n",
       "</style>\n",
       "<table border=\"1\" class=\"dataframe\">\n",
       "  <thead>\n",
       "    <tr style=\"text-align: right;\">\n",
       "      <th></th>\n",
       "      <th>nkill</th>\n",
       "      <th>datetime</th>\n",
       "    </tr>\n",
       "    <tr>\n",
       "      <th>datetime</th>\n",
       "      <th></th>\n",
       "      <th></th>\n",
       "    </tr>\n",
       "  </thead>\n",
       "  <tbody>\n",
       "    <tr>\n",
       "      <th>2017-11-05</th>\n",
       "      <td>27</td>\n",
       "      <td>2017-11-05</td>\n",
       "    </tr>\n",
       "    <tr>\n",
       "      <th>2017-11-09</th>\n",
       "      <td>0</td>\n",
       "      <td>2017-11-09</td>\n",
       "    </tr>\n",
       "    <tr>\n",
       "      <th>2017-11-10</th>\n",
       "      <td>0</td>\n",
       "      <td>2017-11-10</td>\n",
       "    </tr>\n",
       "    <tr>\n",
       "      <th>2017-11-11</th>\n",
       "      <td>3</td>\n",
       "      <td>2017-11-11</td>\n",
       "    </tr>\n",
       "    <tr>\n",
       "      <th>2017-11-12</th>\n",
       "      <td>2</td>\n",
       "      <td>2017-11-12</td>\n",
       "    </tr>\n",
       "  </tbody>\n",
       "</table>\n",
       "</div>"
      ],
      "text/plain": [
       "            nkill   datetime\n",
       "datetime                    \n",
       "2017-11-05     27 2017-11-05\n",
       "2017-11-09      0 2017-11-09\n",
       "2017-11-10      0 2017-11-10\n",
       "2017-11-11      3 2017-11-11\n",
       "2017-11-12      2 2017-11-12"
      ]
     },
     "execution_count": 17,
     "metadata": {},
     "output_type": "execute_result"
    }
   ],
   "source": [
    "df_nkill.head()"
   ]
  },
  {
   "cell_type": "markdown",
   "metadata": {},
   "source": [
    "### NEVER FORGET TO SORT"
   ]
  },
  {
   "cell_type": "code",
   "execution_count": 18,
   "metadata": {
    "collapsed": true
   },
   "outputs": [],
   "source": [
    "df_nkill.sort_index(inplace=True)"
   ]
  },
  {
   "cell_type": "markdown",
   "metadata": {},
   "source": [
    "## Chart data  "
   ]
  },
  {
   "cell_type": "code",
   "execution_count": 19,
   "metadata": {},
   "outputs": [
    {
     "data": {
      "text/plain": [
       "<matplotlib.text.Text at 0x108160978>"
      ]
     },
     "execution_count": 19,
     "metadata": {},
     "output_type": "execute_result"
    },
    {
     "data": {
      "image/png": "[encoded data removed]",
      "text/plain": [
       "<matplotlib.figure.Figure at 0x108184860>"
      ]
     },
     "metadata": {},
     "output_type": "display_data"
    }
   ],
   "source": [
    "df_nkill.nkill.plot()\n",
    "plt.title('Deaths by mass shootings since Sutherland Springs')"
   ]
  },
  {
   "cell_type": "markdown",
   "metadata": {},
   "source": [
    "## MIDITime initialization"
   ]
  },
  {
   "cell_type": "markdown",
   "metadata": {},
   "source": [
    "Instantiate the class with a tempo (120bpm is the default), an output file destination, the number of seconds you want to represent a year in the final song (default is 5 sec/year), the base octave (C5 is middle C, so the default is 5, and how many octaves you want your output to range over (default is 1)."
   ]
  },
  {
   "cell_type": "code",
   "execution_count": 38,
   "metadata": {
    "collapsed": true
   },
   "outputs": [],
   "source": [
    "from miditime.miditime import MIDITime\n",
    "BPM = 120\n",
    "FILENAME = '../audio/11_05-02_15-deaths-by-day-60secperyear.mid'\n",
    "SEC_PER_YEAR = 60\n",
    "BASE_OCTAVE = 5\n",
    "OCTAVES = 1\n",
    "\n",
    "mymidi = MIDITime(BPM,FILENAME, SEC_PER_YEAR, BASE_OCTAVE, OCTAVES)"
   ]
  },
  {
   "cell_type": "markdown",
   "metadata": {},
   "source": [
    "Convert your date/time data into an integer, like days since the epoch (Jan. 1, 1970). You can use the days_since_epoch() helper method, or not:"
   ]
  },
  {
   "cell_type": "code",
   "execution_count": 39,
   "metadata": {
    "collapsed": true
   },
   "outputs": [],
   "source": [
    "df_nkill['epoched'] = df_nkill.datetime.apply(lambda x: mymidi.days_since_epoch(x))"
   ]
  },
  {
   "cell_type": "markdown",
   "metadata": {},
   "source": [
    "## Our data is 3 months\n",
    "Convert your integer date/time to something reasonable for a song. For example, at 120 beats per minute, you'll need to scale the data down a lot to avoid a very long song if your data spans years. This uses the seconds_per_year attribute you set at the top, so if your date is converted to something other than days you may need to do your own conversion. But if your dataset spans years and your dates are in days (with fractions is fine), use the beat() helper method."
   ]
  },
  {
   "cell_type": "code",
   "execution_count": 40,
   "metadata": {
    "collapsed": true
   },
   "outputs": [],
   "source": [
    "df_nkill['beat'] = df_nkill['epoched'].apply(lambda x: mymidi.beat(x))"
   ]
  },
  {
   "cell_type": "code",
   "execution_count": 41,
   "metadata": {},
   "outputs": [
    {
     "data": {
      "text/html": [
       "<div>\n",
       "<style>\n",
       "    .dataframe thead tr:only-child th {\n",
       "        text-align: right;\n",
       "    }\n",
       "\n",
       "    .dataframe thead th {\n",
       "        text-align: left;\n",
       "    }\n",
       "\n",
       "    .dataframe tbody tr th {\n",
       "        vertical-align: top;\n",
       "    }\n",
       "</style>\n",
       "<table border=\"1\" class=\"dataframe\">\n",
       "  <thead>\n",
       "    <tr style=\"text-align: right;\">\n",
       "      <th></th>\n",
       "      <th>nkill</th>\n",
       "      <th>datetime</th>\n",
       "      <th>epoched</th>\n",
       "      <th>beat</th>\n",
       "      <th>velocity</th>\n",
       "    </tr>\n",
       "    <tr>\n",
       "      <th>datetime</th>\n",
       "      <th></th>\n",
       "      <th></th>\n",
       "      <th></th>\n",
       "      <th></th>\n",
       "      <th></th>\n",
       "    </tr>\n",
       "  </thead>\n",
       "  <tbody>\n",
       "    <tr>\n",
       "      <th>2017-11-05</th>\n",
       "      <td>27</td>\n",
       "      <td>2017-11-05</td>\n",
       "      <td>17475.0</td>\n",
       "      <td>5741.27</td>\n",
       "      <td>100</td>\n",
       "    </tr>\n",
       "    <tr>\n",
       "      <th>2017-11-09</th>\n",
       "      <td>0</td>\n",
       "      <td>2017-11-09</td>\n",
       "      <td>17479.0</td>\n",
       "      <td>5742.59</td>\n",
       "      <td>25</td>\n",
       "    </tr>\n",
       "    <tr>\n",
       "      <th>2017-11-10</th>\n",
       "      <td>0</td>\n",
       "      <td>2017-11-10</td>\n",
       "      <td>17480.0</td>\n",
       "      <td>5742.92</td>\n",
       "      <td>25</td>\n",
       "    </tr>\n",
       "    <tr>\n",
       "      <th>2017-11-11</th>\n",
       "      <td>3</td>\n",
       "      <td>2017-11-11</td>\n",
       "      <td>17481.0</td>\n",
       "      <td>5743.24</td>\n",
       "      <td>33</td>\n",
       "    </tr>\n",
       "    <tr>\n",
       "      <th>2017-11-12</th>\n",
       "      <td>2</td>\n",
       "      <td>2017-11-12</td>\n",
       "      <td>17482.0</td>\n",
       "      <td>5743.57</td>\n",
       "      <td>30</td>\n",
       "    </tr>\n",
       "  </tbody>\n",
       "</table>\n",
       "</div>"
      ],
      "text/plain": [
       "            nkill   datetime  epoched     beat  velocity\n",
       "datetime                                                \n",
       "2017-11-05     27 2017-11-05  17475.0  5741.27       100\n",
       "2017-11-09      0 2017-11-09  17479.0  5742.59        25\n",
       "2017-11-10      0 2017-11-10  17480.0  5742.92        25\n",
       "2017-11-11      3 2017-11-11  17481.0  5743.24        33\n",
       "2017-11-12      2 2017-11-12  17482.0  5743.57        30"
      ]
     },
     "execution_count": 41,
     "metadata": {},
     "output_type": "execute_result"
    }
   ],
   "source": [
    "df_nkill.head()"
   ]
  },
  {
   "cell_type": "code",
   "execution_count": 42,
   "metadata": {},
   "outputs": [
    {
     "name": "stdout",
     "output_type": "stream",
     "text": [
      "5741.27\n"
     ]
    }
   ],
   "source": [
    "START_TIME = df_nkill.beat.min() # beat doesn't start at 0 since we scaled our epoch seconds, so we just start at the first one.\n",
    "print(START_TIME)"
   ]
  },
  {
   "cell_type": "code",
   "execution_count": 43,
   "metadata": {},
   "outputs": [
    {
     "data": {
      "text/html": [
       "<div>\n",
       "<style>\n",
       "    .dataframe thead tr:only-child th {\n",
       "        text-align: right;\n",
       "    }\n",
       "\n",
       "    .dataframe thead th {\n",
       "        text-align: left;\n",
       "    }\n",
       "\n",
       "    .dataframe tbody tr th {\n",
       "        vertical-align: top;\n",
       "    }\n",
       "</style>\n",
       "<table border=\"1\" class=\"dataframe\">\n",
       "  <thead>\n",
       "    <tr style=\"text-align: right;\">\n",
       "      <th></th>\n",
       "      <th>nkill</th>\n",
       "      <th>datetime</th>\n",
       "      <th>epoched</th>\n",
       "      <th>beat</th>\n",
       "      <th>velocity</th>\n",
       "    </tr>\n",
       "    <tr>\n",
       "      <th>datetime</th>\n",
       "      <th></th>\n",
       "      <th></th>\n",
       "      <th></th>\n",
       "      <th></th>\n",
       "      <th></th>\n",
       "    </tr>\n",
       "  </thead>\n",
       "  <tbody>\n",
       "    <tr>\n",
       "      <th>2017-11-05</th>\n",
       "      <td>27</td>\n",
       "      <td>2017-11-05</td>\n",
       "      <td>17475.0</td>\n",
       "      <td>5741.27</td>\n",
       "      <td>100</td>\n",
       "    </tr>\n",
       "    <tr>\n",
       "      <th>2017-11-09</th>\n",
       "      <td>0</td>\n",
       "      <td>2017-11-09</td>\n",
       "      <td>17479.0</td>\n",
       "      <td>5742.59</td>\n",
       "      <td>25</td>\n",
       "    </tr>\n",
       "    <tr>\n",
       "      <th>2017-11-10</th>\n",
       "      <td>0</td>\n",
       "      <td>2017-11-10</td>\n",
       "      <td>17480.0</td>\n",
       "      <td>5742.92</td>\n",
       "      <td>25</td>\n",
       "    </tr>\n",
       "    <tr>\n",
       "      <th>2017-11-11</th>\n",
       "      <td>3</td>\n",
       "      <td>2017-11-11</td>\n",
       "      <td>17481.0</td>\n",
       "      <td>5743.24</td>\n",
       "      <td>33</td>\n",
       "    </tr>\n",
       "    <tr>\n",
       "      <th>2017-11-12</th>\n",
       "      <td>2</td>\n",
       "      <td>2017-11-12</td>\n",
       "      <td>17482.0</td>\n",
       "      <td>5743.57</td>\n",
       "      <td>30</td>\n",
       "    </tr>\n",
       "  </tbody>\n",
       "</table>\n",
       "</div>"
      ],
      "text/plain": [
       "            nkill   datetime  epoched     beat  velocity\n",
       "datetime                                                \n",
       "2017-11-05     27 2017-11-05  17475.0  5741.27       100\n",
       "2017-11-09      0 2017-11-09  17479.0  5742.59        25\n",
       "2017-11-10      0 2017-11-10  17480.0  5742.92        25\n",
       "2017-11-11      3 2017-11-11  17481.0  5743.24        33\n",
       "2017-11-12      2 2017-11-12  17482.0  5743.57        30"
      ]
     },
     "execution_count": 43,
     "metadata": {},
     "output_type": "execute_result"
    }
   ],
   "source": [
    "df_nkill.head()"
   ]
  },
  {
   "cell_type": "code",
   "execution_count": 44,
   "metadata": {},
   "outputs": [
    {
     "name": "stdout",
     "output_type": "stream",
     "text": [
      "0 27\n"
     ]
    }
   ],
   "source": [
    "MAX = df_nkill.nkill.max()\n",
    "MIN = df_nkill.nkill.min()\n",
    "print(MIN,MAX)"
   ]
  },
  {
   "cell_type": "markdown",
   "metadata": {},
   "source": [
    "## Create scale from nkill corresponding to volume"
   ]
  },
  {
   "cell_type": "markdown",
   "metadata": {},
   "source": [
    "## We make deadlier days louder."
   ]
  },
  {
   "cell_type": "code",
   "execution_count": 45,
   "metadata": {
    "collapsed": true
   },
   "outputs": [],
   "source": [
    "MIN_V = 25\n",
    "MAX_V = 100\n",
    "#df['velocity'] = df.nkill.apply(lambda x: int(np.interp(x, [KAT_MIN, KAT_MAX], [25, 150])))\n",
    "df_nkill['velocity'] = df_nkill.nkill.apply(lambda x: int(np.interp(x, [MIN, MAX], [MIN_V, MAX_V])))"
   ]
  },
  {
   "cell_type": "code",
   "execution_count": 46,
   "metadata": {},
   "outputs": [
    {
     "data": {
      "text/plain": [
       "datetime\n",
       "2017-11-05    100\n",
       "2017-11-09     25\n",
       "2017-11-10     25\n",
       "2017-11-11     33\n",
       "2017-11-12     30\n",
       "2017-11-14     47\n",
       "2017-11-16     25\n",
       "2017-11-17     25\n",
       "2017-11-18     25\n",
       "2017-11-24     30\n",
       "Name: velocity, dtype: int64"
      ]
     },
     "execution_count": 46,
     "metadata": {},
     "output_type": "execute_result"
    }
   ],
   "source": [
    "df_nkill.velocity.head(10)"
   ]
  },
  {
   "cell_type": "code",
   "execution_count": null,
   "metadata": {
    "collapsed": true
   },
   "outputs": [],
   "source": [
    " "
   ]
  },
  {
   "cell_type": "markdown",
   "metadata": {},
   "source": [
    "## Build note list\n",
    "- I know you're not supposed to iterate through a dataframe — but it's pretty small and manegable.\n",
    "- [BEAT, PITCH, VELOCITY (VOLUME), DURATION_OF_NOTE]"
   ]
  },
  {
   "cell_type": "code",
   "execution_count": 47,
   "metadata": {
    "collapsed": true
   },
   "outputs": [],
   "source": [
    "scaled_data = df_nkill.to_dict('records')"
   ]
  },
  {
   "cell_type": "code",
   "execution_count": 48,
   "metadata": {
    "collapsed": true
   },
   "outputs": [],
   "source": [
    "note_list = []  \n",
    "#V = 100 # constant for now\n",
    "D = 0.5 # duration constant for now\n",
    "P = 71 # constant pitch for now\n",
    "\n",
    "for d in scaled_data:\n",
    "    beat = d['beat'] - START_TIME\n",
    "    pitch = P #d['pitch']\n",
    "    velocity = d['velocity']\n",
    "    duration = D\n",
    "    note_list.append([beat, pitch, velocity, duration])\n"
   ]
  },
  {
   "cell_type": "code",
   "execution_count": 49,
   "metadata": {},
   "outputs": [
    {
     "data": {
      "text/plain": [
       "[[0.0, 71, 100, 0.5],\n",
       " [1.319999999999709, 71, 25, 0.5],\n",
       " [1.6499999999996362, 71, 25, 0.5],\n",
       " [1.9699999999993452, 71, 33, 0.5],\n",
       " [2.2999999999992724, 71, 30, 0.5],\n",
       " [2.9599999999991269, 71, 47, 0.5],\n",
       " [3.6199999999998909, 71, 25, 0.5],\n",
       " [3.9499999999998181, 71, 25, 0.5],\n",
       " [4.2699999999995271, 71, 25, 0.5],\n",
       " [6.25, 71, 30, 0.5],\n",
       " [8.2199999999993452, 71, 27, 0.5],\n",
       " [8.8699999999998909, 71, 25, 0.5],\n",
       " [9.1999999999998181, 71, 27, 0.5],\n",
       " [9.5299999999997453, 71, 30, 0.5],\n",
       " [10.1899999999996, 71, 25, 0.5],\n",
       " [11.169999999999163, 71, 25, 0.5],\n",
       " [12.159999999999854, 71, 25, 0.5],\n",
       " [12.489999999999782, 71, 27, 0.5],\n",
       " [13.139999999999418, 71, 25, 0.5],\n",
       " [13.469999999999345, 71, 25, 0.5],\n",
       " [15.119999999999891, 71, 27, 0.5],\n",
       " [15.769999999999527, 71, 27, 0.5],\n",
       " [16.099999999999454, 71, 27, 0.5],\n",
       " [16.759999999999309, 71, 25, 0.5],\n",
       " [17.089999999999236, 71, 30, 0.5],\n",
       " [18.399999999999636, 71, 41, 0.5],\n",
       " [18.729999999999563, 71, 27, 0.5],\n",
       " [19.719999999999345, 71, 27, 0.5],\n",
       " [20.039999999999964, 71, 25, 0.5],\n",
       " [20.699999999999818, 71, 27, 0.5],\n",
       " [22.019999999999527, 71, 30, 0.5],\n",
       " [22.339999999999236, 71, 33, 0.5],\n",
       " [23.0, 71, 27, 0.5],\n",
       " [23.329999999999927, 71, 25, 0.5],\n",
       " [23.659999999999854, 71, 27, 0.5],\n",
       " [23.989999999999782, 71, 27, 0.5],\n",
       " [25.299999999999272, 71, 25, 0.5],\n",
       " [25.959999999999127, 71, 30, 0.5],\n",
       " [26.619999999999891, 71, 25, 0.5],\n",
       " [27.269999999999527, 71, 25, 0.5],\n",
       " [27.599999999999454, 71, 55, 0.5],\n",
       " [28.589999999999236, 71, 25, 0.5],\n",
       " [29.569999999999709, 71, 27, 0.5],\n",
       " [30.229999999999563, 71, 30, 0.5],\n",
       " [30.889999999999418, 71, 33, 0.5],\n",
       " [31.869999999999891, 71, 38, 0.5],\n",
       " [32.199999999999818, 71, 36, 0.5],\n",
       " [32.859999999999673, 71, 30, 0.5],\n",
       " [33.1899999999996, 71, 72, 0.5]]"
      ]
     },
     "execution_count": 49,
     "metadata": {},
     "output_type": "execute_result"
    }
   ],
   "source": [
    "note_list"
   ]
  },
  {
   "cell_type": "markdown",
   "metadata": {},
   "source": [
    "## Make MIDI file"
   ]
  },
  {
   "cell_type": "code",
   "execution_count": 50,
   "metadata": {},
   "outputs": [
    {
     "name": "stdout",
     "output_type": "stream",
     "text": [
      "71 0.0 0.5 100\n",
      "71 1.32 0.5 25\n",
      "71 1.65 0.5 25\n",
      "71 1.97 0.5 33\n",
      "71 2.3 0.5 30\n",
      "71 2.96 0.5 47\n",
      "71 3.62 0.5 25\n",
      "71 3.95 0.5 25\n",
      "71 4.27 0.5 25\n",
      "71 6.25 0.5 30\n",
      "71 8.22 0.5 27\n",
      "71 8.87 0.5 25\n",
      "71 9.2 0.5 27\n",
      "71 9.53 0.5 30\n",
      "71 10.19 0.5 25\n",
      "71 11.17 0.5 25\n",
      "71 12.16 0.5 25\n",
      "71 12.49 0.5 27\n",
      "71 13.14 0.5 25\n",
      "71 13.47 0.5 25\n",
      "71 15.12 0.5 27\n",
      "71 15.77 0.5 27\n",
      "71 16.1 0.5 27\n",
      "71 16.76 0.5 25\n",
      "71 17.09 0.5 30\n",
      "71 18.4 0.5 41\n",
      "71 18.73 0.5 27\n",
      "71 19.72 0.5 27\n",
      "71 20.04 0.5 25\n",
      "71 20.7 0.5 27\n",
      "71 22.02 0.5 30\n",
      "71 22.34 0.5 33\n",
      "71 23.0 0.5 27\n",
      "71 23.33 0.5 25\n",
      "71 23.66 0.5 27\n",
      "71 23.99 0.5 27\n",
      "71 25.3 0.5 25\n",
      "71 25.96 0.5 30\n",
      "71 26.62 0.5 25\n",
      "71 27.27 0.5 25\n",
      "71 27.6 0.5 55\n",
      "71 28.59 0.5 25\n",
      "71 29.57 0.5 27\n",
      "71 30.23 0.5 30\n",
      "71 30.89 0.5 33\n",
      "71 31.87 0.5 38\n",
      "71 32.2 0.5 36\n",
      "71 32.86 0.5 30\n",
      "71 33.19 0.5 72\n"
     ]
    }
   ],
   "source": [
    "# Add a track with those notes\n",
    "mymidi.add_track(note_list)\n",
    "\n",
    "# Output the .mid file\n",
    "mymidi.save_midi()"
   ]
  },
  {
   "cell_type": "code",
   "execution_count": 51,
   "metadata": {
    "collapsed": true
   },
   "outputs": [],
   "source": [
    " df.sort_index(ascending=False, inplace=True)"
   ]
  },
  {
   "cell_type": "code",
   "execution_count": null,
   "metadata": {
    "collapsed": true
   },
   "outputs": [],
   "source": []
  },
  {
   "cell_type": "code",
   "execution_count": null,
   "metadata": {
    "collapsed": true
   },
   "outputs": [],
   "source": []
  },
  {
   "cell_type": "code",
   "execution_count": null,
   "metadata": {
    "collapsed": true
   },
   "outputs": [],
   "source": []
  },
  {
   "cell_type": "code",
   "execution_count": null,
   "metadata": {
    "collapsed": true
   },
   "outputs": [],
   "source": []
  },
  {
   "cell_type": "code",
   "execution_count": null,
   "metadata": {
    "collapsed": true
   },
   "outputs": [],
   "source": []
  }
 ],
 "metadata": {
  "kernelspec": {
   "display_name": "Python 3",
   "language": "python",
   "name": "python3"
  },
  "language_info": {
   "codemirror_mode": {
    "name": "ipython",
    "version": 3
   },
   "file_extension": ".py",
   "mimetype": "text/x-python",
   "name": "python",
   "nbconvert_exporter": "python",
   "pygments_lexer": "ipython3",
   "version": "3.6.1"
  }
 },
 "nbformat": 4,
 "nbformat_minor": 2
}
