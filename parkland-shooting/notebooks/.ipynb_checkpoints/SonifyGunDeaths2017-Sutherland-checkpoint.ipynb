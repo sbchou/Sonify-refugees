{
 "cells": [
  {
   "cell_type": "code",
   "execution_count": 1,
   "metadata": {
    "collapsed": true
   },
   "outputs": [],
   "source": [
    "# My usual setup\n",
    "%matplotlib inline\n",
    "import matplotlib.pyplot as plt\n",
    "import pandas \n",
    "from datetime import datetime\n",
    "import seaborn as sns\n",
    "import glob\n",
    "from os.path import basename\n",
    "sns.set_context('poster') \n",
    "import numpy as np"
   ]
  },
  {
   "cell_type": "markdown",
   "metadata": {},
   "source": [
    "# Sonify from Jan 1 2017 to Sutherland\n",
    "- Original tutorial https://github.com/cirlabs/miditime\n",
    "- I handle most manipulations in dataframe for ease of IO"
   ]
  },
  {
   "cell_type": "markdown",
   "metadata": {},
   "source": [
    "## First, format files"
   ]
  },
  {
   "cell_type": "code",
   "execution_count": 2,
   "metadata": {
    "collapsed": true
   },
   "outputs": [],
   "source": [
    "df = pandas.read_csv('../data/mass-shootings-2017-sutherland.csv')"
   ]
  },
  {
   "cell_type": "code",
   "execution_count": 3,
   "metadata": {
    "scrolled": true
   },
   "outputs": [
    {
     "data": {
      "text/html": [
       "<div>\n",
       "<style>\n",
       "    .dataframe thead tr:only-child th {\n",
       "        text-align: right;\n",
       "    }\n",
       "\n",
       "    .dataframe thead th {\n",
       "        text-align: left;\n",
       "    }\n",
       "\n",
       "    .dataframe tbody tr th {\n",
       "        vertical-align: top;\n",
       "    }\n",
       "</style>\n",
       "<table border=\"1\" class=\"dataframe\">\n",
       "  <thead>\n",
       "    <tr style=\"text-align: right;\">\n",
       "      <th></th>\n",
       "      <th>date</th>\n",
       "      <th>state</th>\n",
       "      <th>city_county</th>\n",
       "      <th>address</th>\n",
       "      <th>nkill</th>\n",
       "      <th>ninjured</th>\n",
       "      <th>operations</th>\n",
       "    </tr>\n",
       "  </thead>\n",
       "  <tbody>\n",
       "    <tr>\n",
       "      <th>0</th>\n",
       "      <td>5-Nov-17</td>\n",
       "      <td>Texas</td>\n",
       "      <td>Sutherland Springs</td>\n",
       "      <td>216 4th St</td>\n",
       "      <td>27</td>\n",
       "      <td>20</td>\n",
       "      <td>NaN</td>\n",
       "    </tr>\n",
       "    <tr>\n",
       "      <th>1</th>\n",
       "      <td>4-Nov-17</td>\n",
       "      <td>Texas</td>\n",
       "      <td>Austin</td>\n",
       "      <td>N Lamar Blvd and Masterson Pass</td>\n",
       "      <td>0</td>\n",
       "      <td>4</td>\n",
       "      <td>NaN</td>\n",
       "    </tr>\n",
       "    <tr>\n",
       "      <th>2</th>\n",
       "      <td>4-Nov-17</td>\n",
       "      <td>Ohio</td>\n",
       "      <td>Youngstown</td>\n",
       "      <td>2810 Market St</td>\n",
       "      <td>0</td>\n",
       "      <td>4</td>\n",
       "      <td>NaN</td>\n",
       "    </tr>\n",
       "    <tr>\n",
       "      <th>3</th>\n",
       "      <td>4-Nov-17</td>\n",
       "      <td>California</td>\n",
       "      <td>Santa Monica</td>\n",
       "      <td>1515 Ocean Avenue</td>\n",
       "      <td>1</td>\n",
       "      <td>3</td>\n",
       "      <td>NaN</td>\n",
       "    </tr>\n",
       "    <tr>\n",
       "      <th>4</th>\n",
       "      <td>3-Nov-17</td>\n",
       "      <td>Minnesota</td>\n",
       "      <td>Minneapolis</td>\n",
       "      <td>10th Ave S and E 24th St</td>\n",
       "      <td>0</td>\n",
       "      <td>4</td>\n",
       "      <td>NaN</td>\n",
       "    </tr>\n",
       "  </tbody>\n",
       "</table>\n",
       "</div>"
      ],
      "text/plain": [
       "       date       state         city_county                          address  \\\n",
       "0  5-Nov-17       Texas  Sutherland Springs                       216 4th St   \n",
       "1  4-Nov-17       Texas              Austin  N Lamar Blvd and Masterson Pass   \n",
       "2  4-Nov-17        Ohio          Youngstown                   2810 Market St   \n",
       "3  4-Nov-17  California        Santa Monica                1515 Ocean Avenue   \n",
       "4  3-Nov-17   Minnesota         Minneapolis         10th Ave S and E 24th St   \n",
       "\n",
       "   nkill  ninjured  operations  \n",
       "0     27        20         NaN  \n",
       "1      0         4         NaN  \n",
       "2      0         4         NaN  \n",
       "3      1         3         NaN  \n",
       "4      0         4         NaN  "
      ]
     },
     "execution_count": 3,
     "metadata": {},
     "output_type": "execute_result"
    }
   ],
   "source": [
    "df.head()"
   ]
  },
  {
   "cell_type": "code",
   "execution_count": 4,
   "metadata": {
    "collapsed": true
   },
   "outputs": [],
   "source": [
    "df['datetime'] = pandas.to_datetime(df.date, infer_datetime_format=True)"
   ]
  },
  {
   "cell_type": "code",
   "execution_count": 5,
   "metadata": {},
   "outputs": [
    {
     "data": {
      "text/html": [
       "<div>\n",
       "<style>\n",
       "    .dataframe thead tr:only-child th {\n",
       "        text-align: right;\n",
       "    }\n",
       "\n",
       "    .dataframe thead th {\n",
       "        text-align: left;\n",
       "    }\n",
       "\n",
       "    .dataframe tbody tr th {\n",
       "        vertical-align: top;\n",
       "    }\n",
       "</style>\n",
       "<table border=\"1\" class=\"dataframe\">\n",
       "  <thead>\n",
       "    <tr style=\"text-align: right;\">\n",
       "      <th></th>\n",
       "      <th>date</th>\n",
       "      <th>state</th>\n",
       "      <th>city_county</th>\n",
       "      <th>address</th>\n",
       "      <th>nkill</th>\n",
       "      <th>ninjured</th>\n",
       "      <th>operations</th>\n",
       "      <th>datetime</th>\n",
       "    </tr>\n",
       "  </thead>\n",
       "  <tbody>\n",
       "    <tr>\n",
       "      <th>0</th>\n",
       "      <td>5-Nov-17</td>\n",
       "      <td>Texas</td>\n",
       "      <td>Sutherland Springs</td>\n",
       "      <td>216 4th St</td>\n",
       "      <td>27</td>\n",
       "      <td>20</td>\n",
       "      <td>NaN</td>\n",
       "      <td>2017-11-05</td>\n",
       "    </tr>\n",
       "    <tr>\n",
       "      <th>1</th>\n",
       "      <td>4-Nov-17</td>\n",
       "      <td>Texas</td>\n",
       "      <td>Austin</td>\n",
       "      <td>N Lamar Blvd and Masterson Pass</td>\n",
       "      <td>0</td>\n",
       "      <td>4</td>\n",
       "      <td>NaN</td>\n",
       "      <td>2017-11-04</td>\n",
       "    </tr>\n",
       "    <tr>\n",
       "      <th>2</th>\n",
       "      <td>4-Nov-17</td>\n",
       "      <td>Ohio</td>\n",
       "      <td>Youngstown</td>\n",
       "      <td>2810 Market St</td>\n",
       "      <td>0</td>\n",
       "      <td>4</td>\n",
       "      <td>NaN</td>\n",
       "      <td>2017-11-04</td>\n",
       "    </tr>\n",
       "    <tr>\n",
       "      <th>3</th>\n",
       "      <td>4-Nov-17</td>\n",
       "      <td>California</td>\n",
       "      <td>Santa Monica</td>\n",
       "      <td>1515 Ocean Avenue</td>\n",
       "      <td>1</td>\n",
       "      <td>3</td>\n",
       "      <td>NaN</td>\n",
       "      <td>2017-11-04</td>\n",
       "    </tr>\n",
       "    <tr>\n",
       "      <th>4</th>\n",
       "      <td>3-Nov-17</td>\n",
       "      <td>Minnesota</td>\n",
       "      <td>Minneapolis</td>\n",
       "      <td>10th Ave S and E 24th St</td>\n",
       "      <td>0</td>\n",
       "      <td>4</td>\n",
       "      <td>NaN</td>\n",
       "      <td>2017-11-03</td>\n",
       "    </tr>\n",
       "  </tbody>\n",
       "</table>\n",
       "</div>"
      ],
      "text/plain": [
       "       date       state         city_county                          address  \\\n",
       "0  5-Nov-17       Texas  Sutherland Springs                       216 4th St   \n",
       "1  4-Nov-17       Texas              Austin  N Lamar Blvd and Masterson Pass   \n",
       "2  4-Nov-17        Ohio          Youngstown                   2810 Market St   \n",
       "3  4-Nov-17  California        Santa Monica                1515 Ocean Avenue   \n",
       "4  3-Nov-17   Minnesota         Minneapolis         10th Ave S and E 24th St   \n",
       "\n",
       "   nkill  ninjured  operations   datetime  \n",
       "0     27        20         NaN 2017-11-05  \n",
       "1      0         4         NaN 2017-11-04  \n",
       "2      0         4         NaN 2017-11-04  \n",
       "3      1         3         NaN 2017-11-04  \n",
       "4      0         4         NaN 2017-11-03  "
      ]
     },
     "execution_count": 5,
     "metadata": {},
     "output_type": "execute_result"
    }
   ],
   "source": [
    "df.head()"
   ]
  },
  {
   "cell_type": "code",
   "execution_count": 6,
   "metadata": {
    "collapsed": true
   },
   "outputs": [],
   "source": [
    "df_nkill = df.groupby('datetime').nkill.sum().to_frame()"
   ]
  },
  {
   "cell_type": "code",
   "execution_count": 7,
   "metadata": {},
   "outputs": [
    {
     "name": "stdout",
     "output_type": "stream",
     "text": [
      "2017-11-05 00:00:00\n",
      "2017-01-01 00:00:00\n"
     ]
    }
   ],
   "source": [
    "print(df_nkill.index.max())\n",
    "print(df_nkill.index.min())"
   ]
  },
  {
   "cell_type": "code",
   "execution_count": 8,
   "metadata": {},
   "outputs": [
    {
     "name": "stdout",
     "output_type": "stream",
     "text": [
      "nkill    62\n",
      "dtype: int64\n",
      "nkill    0\n",
      "dtype: int64\n"
     ]
    }
   ],
   "source": [
    "print(df_nkill.max())\n",
    "print(df_nkill.min())"
   ]
  },
  {
   "cell_type": "code",
   "execution_count": 9,
   "metadata": {},
   "outputs": [
    {
     "name": "stdout",
     "output_type": "stream",
     "text": [
      "nkill   2017-10-01\n",
      "dtype: datetime64[ns]\n"
     ]
    }
   ],
   "source": [
    "print(df_nkill.idxmax())"
   ]
  },
  {
   "cell_type": "code",
   "execution_count": 10,
   "metadata": {},
   "outputs": [
    {
     "data": {
      "text/html": [
       "<div>\n",
       "<style>\n",
       "    .dataframe thead tr:only-child th {\n",
       "        text-align: right;\n",
       "    }\n",
       "\n",
       "    .dataframe thead th {\n",
       "        text-align: left;\n",
       "    }\n",
       "\n",
       "    .dataframe tbody tr th {\n",
       "        vertical-align: top;\n",
       "    }\n",
       "</style>\n",
       "<table border=\"1\" class=\"dataframe\">\n",
       "  <thead>\n",
       "    <tr style=\"text-align: right;\">\n",
       "      <th></th>\n",
       "      <th>nkill</th>\n",
       "    </tr>\n",
       "    <tr>\n",
       "      <th>datetime</th>\n",
       "      <th></th>\n",
       "    </tr>\n",
       "  </thead>\n",
       "  <tbody>\n",
       "    <tr>\n",
       "      <th>2017-01-01</th>\n",
       "      <td>1</td>\n",
       "    </tr>\n",
       "    <tr>\n",
       "      <th>2017-01-03</th>\n",
       "      <td>0</td>\n",
       "    </tr>\n",
       "    <tr>\n",
       "      <th>2017-01-04</th>\n",
       "      <td>3</td>\n",
       "    </tr>\n",
       "    <tr>\n",
       "      <th>2017-01-06</th>\n",
       "      <td>7</td>\n",
       "    </tr>\n",
       "    <tr>\n",
       "      <th>2017-01-07</th>\n",
       "      <td>1</td>\n",
       "    </tr>\n",
       "  </tbody>\n",
       "</table>\n",
       "</div>"
      ],
      "text/plain": [
       "            nkill\n",
       "datetime         \n",
       "2017-01-01      1\n",
       "2017-01-03      0\n",
       "2017-01-04      3\n",
       "2017-01-06      7\n",
       "2017-01-07      1"
      ]
     },
     "execution_count": 10,
     "metadata": {},
     "output_type": "execute_result"
    }
   ],
   "source": [
    "df_nkill.head()"
   ]
  },
  {
   "cell_type": "code",
   "execution_count": 11,
   "metadata": {
    "collapsed": true
   },
   "outputs": [],
   "source": [
    "df_nkill.to_csv('../data/nkill-by-day-2017-sutherland.csv')"
   ]
  },
  {
   "cell_type": "code",
   "execution_count": 12,
   "metadata": {
    "collapsed": true
   },
   "outputs": [],
   "source": [
    "df_nkill['datetime'] = df_nkill.index"
   ]
  },
  {
   "cell_type": "code",
   "execution_count": 13,
   "metadata": {},
   "outputs": [
    {
     "data": {
      "text/html": [
       "<div>\n",
       "<style>\n",
       "    .dataframe thead tr:only-child th {\n",
       "        text-align: right;\n",
       "    }\n",
       "\n",
       "    .dataframe thead th {\n",
       "        text-align: left;\n",
       "    }\n",
       "\n",
       "    .dataframe tbody tr th {\n",
       "        vertical-align: top;\n",
       "    }\n",
       "</style>\n",
       "<table border=\"1\" class=\"dataframe\">\n",
       "  <thead>\n",
       "    <tr style=\"text-align: right;\">\n",
       "      <th></th>\n",
       "      <th>nkill</th>\n",
       "      <th>datetime</th>\n",
       "    </tr>\n",
       "    <tr>\n",
       "      <th>datetime</th>\n",
       "      <th></th>\n",
       "      <th></th>\n",
       "    </tr>\n",
       "  </thead>\n",
       "  <tbody>\n",
       "    <tr>\n",
       "      <th>2017-10-29</th>\n",
       "      <td>1</td>\n",
       "      <td>2017-10-29</td>\n",
       "    </tr>\n",
       "    <tr>\n",
       "      <th>2017-10-31</th>\n",
       "      <td>1</td>\n",
       "      <td>2017-10-31</td>\n",
       "    </tr>\n",
       "    <tr>\n",
       "      <th>2017-11-03</th>\n",
       "      <td>1</td>\n",
       "      <td>2017-11-03</td>\n",
       "    </tr>\n",
       "    <tr>\n",
       "      <th>2017-11-04</th>\n",
       "      <td>1</td>\n",
       "      <td>2017-11-04</td>\n",
       "    </tr>\n",
       "    <tr>\n",
       "      <th>2017-11-05</th>\n",
       "      <td>27</td>\n",
       "      <td>2017-11-05</td>\n",
       "    </tr>\n",
       "  </tbody>\n",
       "</table>\n",
       "</div>"
      ],
      "text/plain": [
       "            nkill   datetime\n",
       "datetime                    \n",
       "2017-10-29      1 2017-10-29\n",
       "2017-10-31      1 2017-10-31\n",
       "2017-11-03      1 2017-11-03\n",
       "2017-11-04      1 2017-11-04\n",
       "2017-11-05     27 2017-11-05"
      ]
     },
     "execution_count": 13,
     "metadata": {},
     "output_type": "execute_result"
    }
   ],
   "source": [
    "df_nkill.tail()"
   ]
  },
  {
   "cell_type": "markdown",
   "metadata": {},
   "source": [
    "### NEVER FORGET TO SORT"
   ]
  },
  {
   "cell_type": "code",
   "execution_count": 14,
   "metadata": {
    "collapsed": true
   },
   "outputs": [],
   "source": [
    "df_nkill.sort_index(inplace=True)"
   ]
  },
  {
   "cell_type": "code",
   "execution_count": 15,
   "metadata": {},
   "outputs": [
    {
     "data": {
      "text/html": [
       "<div>\n",
       "<style>\n",
       "    .dataframe thead tr:only-child th {\n",
       "        text-align: right;\n",
       "    }\n",
       "\n",
       "    .dataframe thead th {\n",
       "        text-align: left;\n",
       "    }\n",
       "\n",
       "    .dataframe tbody tr th {\n",
       "        vertical-align: top;\n",
       "    }\n",
       "</style>\n",
       "<table border=\"1\" class=\"dataframe\">\n",
       "  <thead>\n",
       "    <tr style=\"text-align: right;\">\n",
       "      <th></th>\n",
       "      <th>nkill</th>\n",
       "      <th>datetime</th>\n",
       "    </tr>\n",
       "    <tr>\n",
       "      <th>datetime</th>\n",
       "      <th></th>\n",
       "      <th></th>\n",
       "    </tr>\n",
       "  </thead>\n",
       "  <tbody>\n",
       "    <tr>\n",
       "      <th>2017-10-21</th>\n",
       "      <td>0</td>\n",
       "      <td>2017-10-21</td>\n",
       "    </tr>\n",
       "    <tr>\n",
       "      <th>2017-10-22</th>\n",
       "      <td>2</td>\n",
       "      <td>2017-10-22</td>\n",
       "    </tr>\n",
       "    <tr>\n",
       "      <th>2017-10-23</th>\n",
       "      <td>2</td>\n",
       "      <td>2017-10-23</td>\n",
       "    </tr>\n",
       "    <tr>\n",
       "      <th>2017-10-27</th>\n",
       "      <td>0</td>\n",
       "      <td>2017-10-27</td>\n",
       "    </tr>\n",
       "    <tr>\n",
       "      <th>2017-10-28</th>\n",
       "      <td>1</td>\n",
       "      <td>2017-10-28</td>\n",
       "    </tr>\n",
       "    <tr>\n",
       "      <th>2017-10-29</th>\n",
       "      <td>1</td>\n",
       "      <td>2017-10-29</td>\n",
       "    </tr>\n",
       "    <tr>\n",
       "      <th>2017-10-31</th>\n",
       "      <td>1</td>\n",
       "      <td>2017-10-31</td>\n",
       "    </tr>\n",
       "    <tr>\n",
       "      <th>2017-11-03</th>\n",
       "      <td>1</td>\n",
       "      <td>2017-11-03</td>\n",
       "    </tr>\n",
       "    <tr>\n",
       "      <th>2017-11-04</th>\n",
       "      <td>1</td>\n",
       "      <td>2017-11-04</td>\n",
       "    </tr>\n",
       "    <tr>\n",
       "      <th>2017-11-05</th>\n",
       "      <td>27</td>\n",
       "      <td>2017-11-05</td>\n",
       "    </tr>\n",
       "  </tbody>\n",
       "</table>\n",
       "</div>"
      ],
      "text/plain": [
       "            nkill   datetime\n",
       "datetime                    \n",
       "2017-10-21      0 2017-10-21\n",
       "2017-10-22      2 2017-10-22\n",
       "2017-10-23      2 2017-10-23\n",
       "2017-10-27      0 2017-10-27\n",
       "2017-10-28      1 2017-10-28\n",
       "2017-10-29      1 2017-10-29\n",
       "2017-10-31      1 2017-10-31\n",
       "2017-11-03      1 2017-11-03\n",
       "2017-11-04      1 2017-11-04\n",
       "2017-11-05     27 2017-11-05"
      ]
     },
     "execution_count": 15,
     "metadata": {},
     "output_type": "execute_result"
    }
   ],
   "source": [
    "df_nkill.tail(10)"
   ]
  },
  {
   "cell_type": "markdown",
   "metadata": {},
   "source": [
    "## Chart data  "
   ]
  },
  {
   "cell_type": "code",
   "execution_count": 16,
   "metadata": {},
   "outputs": [
    {
     "data": {
      "text/plain": [
       "402"
      ]
     },
     "execution_count": 16,
     "metadata": {},
     "output_type": "execute_result"
    }
   ],
   "source": [
    "df_nkill.nkill.sum()"
   ]
  },
  {
   "cell_type": "code",
   "execution_count": 17,
   "metadata": {},
   "outputs": [
    {
     "data": {
      "text/plain": [
       "1646"
      ]
     },
     "execution_count": 17,
     "metadata": {},
     "output_type": "execute_result"
    }
   ],
   "source": [
    "df.ninjured.sum()"
   ]
  },
  {
   "cell_type": "code",
   "execution_count": 18,
   "metadata": {},
   "outputs": [
    {
     "data": {
      "text/plain": [
       "2048"
      ]
     },
     "execution_count": 18,
     "metadata": {},
     "output_type": "execute_result"
    }
   ],
   "source": [
    "df.ninjured.sum() + df.nkill.sum()"
   ]
  },
  {
   "cell_type": "code",
   "execution_count": 19,
   "metadata": {},
   "outputs": [
    {
     "data": {
      "text/plain": [
       "62"
      ]
     },
     "execution_count": 19,
     "metadata": {},
     "output_type": "execute_result"
    }
   ],
   "source": [
    "df_nkill.nkill.max()"
   ]
  },
  {
   "cell_type": "code",
   "execution_count": 20,
   "metadata": {},
   "outputs": [
    {
     "data": {
      "text/plain": [
       "<matplotlib.text.Text at 0x107b85588>"
      ]
     },
     "execution_count": 20,
     "metadata": {},
     "output_type": "execute_result"
    },
    {
     "data": {
      "image/png": "[encoded data removed]",
      "text/plain": [
       "<matplotlib.figure.Figure at 0x107b2c048>"
      ]
     },
     "metadata": {},
     "output_type": "display_data"
    }
   ],
   "source": [
    "df_nkill.nkill.plot()\n",
    "\n",
    "#plt.ylim([0, 70])\n",
    "#plt.xlim(['2013-01-01','2017-11-20'])\n",
    "\n",
    "plt.title('Deaths by mass shootings, 2017 to sutherland')"
   ]
  },
  {
   "cell_type": "code",
   "execution_count": 21,
   "metadata": {
    "collapsed": true
   },
   "outputs": [],
   "source": [
    "df_nkill.nkill.to_csv('../data/nkill-by-day-2013-2017.csv')"
   ]
  },
  {
   "cell_type": "markdown",
   "metadata": {},
   "source": [
    "## MIDITime initialization"
   ]
  },
  {
   "cell_type": "markdown",
   "metadata": {},
   "source": [
    "Instantiate the class with a tempo (120bpm is the default), an output file destination, the number of seconds you want to represent a year in the final song (default is 5 sec/year), the base octave (C5 is middle C, so the default is 5, and how many octaves you want your output to range over (default is 1)."
   ]
  },
  {
   "cell_type": "code",
   "execution_count": 22,
   "metadata": {
    "collapsed": true
   },
   "outputs": [],
   "source": [
    "from miditime.miditime import MIDITime\n",
    "BPM = 120\n",
    "FILENAME = '../audio/2017-sutherland-40spy.mid'\n",
    "SEC_PER_YEAR = 40\n",
    "BASE_OCTAVE = 5\n",
    "OCTAVES = 1\n",
    "\n",
    "mymidi = MIDITime(BPM,FILENAME, SEC_PER_YEAR, BASE_OCTAVE, OCTAVES)"
   ]
  },
  {
   "cell_type": "markdown",
   "metadata": {},
   "source": [
    "Convert your date/time data into an integer, like days since the epoch (Jan. 1, 1970). You can use the days_since_epoch() helper method, or not:"
   ]
  },
  {
   "cell_type": "code",
   "execution_count": 23,
   "metadata": {
    "collapsed": true
   },
   "outputs": [],
   "source": [
    "df_nkill['epoched'] = df_nkill.datetime.apply(lambda x: mymidi.days_since_epoch(x))"
   ]
  },
  {
   "cell_type": "markdown",
   "metadata": {},
   "source": [
    "## Our data is 1 years\n",
    "Convert your integer date/time to something reasonable for a song. For example, at 120 beats per minute, you'll need to scale the data down a lot to avoid a very long song if your data spans years. This uses the seconds_per_year attribute you set at the top, so if your date is converted to something other than days you may need to do your own conversion. But if your dataset spans years and your dates are in days (with fractions is fine), use the beat() helper method."
   ]
  },
  {
   "cell_type": "code",
   "execution_count": 24,
   "metadata": {
    "collapsed": true
   },
   "outputs": [],
   "source": [
    "df_nkill['beat'] = df_nkill['epoched'].apply(lambda x: mymidi.beat(x))"
   ]
  },
  {
   "cell_type": "code",
   "execution_count": 25,
   "metadata": {},
   "outputs": [
    {
     "data": {
      "text/html": [
       "<div>\n",
       "<style>\n",
       "    .dataframe thead tr:only-child th {\n",
       "        text-align: right;\n",
       "    }\n",
       "\n",
       "    .dataframe thead th {\n",
       "        text-align: left;\n",
       "    }\n",
       "\n",
       "    .dataframe tbody tr th {\n",
       "        vertical-align: top;\n",
       "    }\n",
       "</style>\n",
       "<table border=\"1\" class=\"dataframe\">\n",
       "  <thead>\n",
       "    <tr style=\"text-align: right;\">\n",
       "      <th></th>\n",
       "      <th>nkill</th>\n",
       "      <th>datetime</th>\n",
       "      <th>epoched</th>\n",
       "      <th>beat</th>\n",
       "    </tr>\n",
       "    <tr>\n",
       "      <th>datetime</th>\n",
       "      <th></th>\n",
       "      <th></th>\n",
       "      <th></th>\n",
       "      <th></th>\n",
       "    </tr>\n",
       "  </thead>\n",
       "  <tbody>\n",
       "    <tr>\n",
       "      <th>2017-01-01</th>\n",
       "      <td>1</td>\n",
       "      <td>2017-01-01</td>\n",
       "      <td>17167.0</td>\n",
       "      <td>3760.05</td>\n",
       "    </tr>\n",
       "    <tr>\n",
       "      <th>2017-01-03</th>\n",
       "      <td>0</td>\n",
       "      <td>2017-01-03</td>\n",
       "      <td>17169.0</td>\n",
       "      <td>3760.49</td>\n",
       "    </tr>\n",
       "    <tr>\n",
       "      <th>2017-01-04</th>\n",
       "      <td>3</td>\n",
       "      <td>2017-01-04</td>\n",
       "      <td>17170.0</td>\n",
       "      <td>3760.71</td>\n",
       "    </tr>\n",
       "    <tr>\n",
       "      <th>2017-01-06</th>\n",
       "      <td>7</td>\n",
       "      <td>2017-01-06</td>\n",
       "      <td>17172.0</td>\n",
       "      <td>3761.15</td>\n",
       "    </tr>\n",
       "    <tr>\n",
       "      <th>2017-01-07</th>\n",
       "      <td>1</td>\n",
       "      <td>2017-01-07</td>\n",
       "      <td>17173.0</td>\n",
       "      <td>3761.37</td>\n",
       "    </tr>\n",
       "  </tbody>\n",
       "</table>\n",
       "</div>"
      ],
      "text/plain": [
       "            nkill   datetime  epoched     beat\n",
       "datetime                                      \n",
       "2017-01-01      1 2017-01-01  17167.0  3760.05\n",
       "2017-01-03      0 2017-01-03  17169.0  3760.49\n",
       "2017-01-04      3 2017-01-04  17170.0  3760.71\n",
       "2017-01-06      7 2017-01-06  17172.0  3761.15\n",
       "2017-01-07      1 2017-01-07  17173.0  3761.37"
      ]
     },
     "execution_count": 25,
     "metadata": {},
     "output_type": "execute_result"
    }
   ],
   "source": [
    "df_nkill.head()"
   ]
  },
  {
   "cell_type": "code",
   "execution_count": 26,
   "metadata": {},
   "outputs": [
    {
     "name": "stdout",
     "output_type": "stream",
     "text": [
      "3760.05\n"
     ]
    }
   ],
   "source": [
    "START_TIME = df_nkill.beat.min() # beat doesn't start at 0 since we scaled our epoch seconds, so we just start at the first one.\n",
    "print(START_TIME)"
   ]
  },
  {
   "cell_type": "code",
   "execution_count": 27,
   "metadata": {},
   "outputs": [
    {
     "data": {
      "text/html": [
       "<div>\n",
       "<style>\n",
       "    .dataframe thead tr:only-child th {\n",
       "        text-align: right;\n",
       "    }\n",
       "\n",
       "    .dataframe thead th {\n",
       "        text-align: left;\n",
       "    }\n",
       "\n",
       "    .dataframe tbody tr th {\n",
       "        vertical-align: top;\n",
       "    }\n",
       "</style>\n",
       "<table border=\"1\" class=\"dataframe\">\n",
       "  <thead>\n",
       "    <tr style=\"text-align: right;\">\n",
       "      <th></th>\n",
       "      <th>nkill</th>\n",
       "      <th>datetime</th>\n",
       "      <th>epoched</th>\n",
       "      <th>beat</th>\n",
       "    </tr>\n",
       "    <tr>\n",
       "      <th>datetime</th>\n",
       "      <th></th>\n",
       "      <th></th>\n",
       "      <th></th>\n",
       "      <th></th>\n",
       "    </tr>\n",
       "  </thead>\n",
       "  <tbody>\n",
       "    <tr>\n",
       "      <th>2017-01-01</th>\n",
       "      <td>1</td>\n",
       "      <td>2017-01-01</td>\n",
       "      <td>17167.0</td>\n",
       "      <td>3760.05</td>\n",
       "    </tr>\n",
       "    <tr>\n",
       "      <th>2017-01-03</th>\n",
       "      <td>0</td>\n",
       "      <td>2017-01-03</td>\n",
       "      <td>17169.0</td>\n",
       "      <td>3760.49</td>\n",
       "    </tr>\n",
       "    <tr>\n",
       "      <th>2017-01-04</th>\n",
       "      <td>3</td>\n",
       "      <td>2017-01-04</td>\n",
       "      <td>17170.0</td>\n",
       "      <td>3760.71</td>\n",
       "    </tr>\n",
       "    <tr>\n",
       "      <th>2017-01-06</th>\n",
       "      <td>7</td>\n",
       "      <td>2017-01-06</td>\n",
       "      <td>17172.0</td>\n",
       "      <td>3761.15</td>\n",
       "    </tr>\n",
       "    <tr>\n",
       "      <th>2017-01-07</th>\n",
       "      <td>1</td>\n",
       "      <td>2017-01-07</td>\n",
       "      <td>17173.0</td>\n",
       "      <td>3761.37</td>\n",
       "    </tr>\n",
       "  </tbody>\n",
       "</table>\n",
       "</div>"
      ],
      "text/plain": [
       "            nkill   datetime  epoched     beat\n",
       "datetime                                      \n",
       "2017-01-01      1 2017-01-01  17167.0  3760.05\n",
       "2017-01-03      0 2017-01-03  17169.0  3760.49\n",
       "2017-01-04      3 2017-01-04  17170.0  3760.71\n",
       "2017-01-06      7 2017-01-06  17172.0  3761.15\n",
       "2017-01-07      1 2017-01-07  17173.0  3761.37"
      ]
     },
     "execution_count": 27,
     "metadata": {},
     "output_type": "execute_result"
    }
   ],
   "source": [
    "df_nkill.head()"
   ]
  },
  {
   "cell_type": "code",
   "execution_count": 28,
   "metadata": {},
   "outputs": [
    {
     "name": "stdout",
     "output_type": "stream",
     "text": [
      "0 62\n"
     ]
    }
   ],
   "source": [
    "MAX = df_nkill.nkill.max()\n",
    "MIN = df_nkill.nkill.min()\n",
    "print(MIN,MAX)"
   ]
  },
  {
   "cell_type": "markdown",
   "metadata": {},
   "source": [
    "## Create scale from nkill corresponding to volume"
   ]
  },
  {
   "cell_type": "markdown",
   "metadata": {},
   "source": [
    "## We make deadlier days louder."
   ]
  },
  {
   "cell_type": "code",
   "execution_count": 29,
   "metadata": {
    "collapsed": true
   },
   "outputs": [],
   "source": [
    "# KAT_MAX = 150   \n",
    "# KAT_MIN = 25"
   ]
  },
  {
   "cell_type": "code",
   "execution_count": 30,
   "metadata": {
    "collapsed": true
   },
   "outputs": [],
   "source": [
    "MIN_V = 25\n",
    "MAX_V = 100\n",
    "#df['velocity'] = df.nkill.apply(lambda x: int(np.interp(x, [KAT_MIN, KAT_MAX], [25, 150])))\n",
    "df_nkill['velocity'] = df_nkill.nkill.apply(lambda x: int(np.interp(x, [MIN, MAX], [25, 150])))"
   ]
  },
  {
   "cell_type": "code",
   "execution_count": 31,
   "metadata": {},
   "outputs": [
    {
     "data": {
      "text/plain": [
       "datetime\n",
       "2017-01-01    27\n",
       "2017-01-03    25\n",
       "2017-01-04    31\n",
       "2017-01-06    39\n",
       "2017-01-07    27\n",
       "2017-01-11    29\n",
       "2017-01-12    35\n",
       "2017-01-15    33\n",
       "2017-01-16    25\n",
       "2017-01-20    27\n",
       "Name: velocity, dtype: int64"
      ]
     },
     "execution_count": 31,
     "metadata": {},
     "output_type": "execute_result"
    }
   ],
   "source": [
    "df_nkill.velocity.head(10)"
   ]
  },
  {
   "cell_type": "code",
   "execution_count": null,
   "metadata": {
    "collapsed": true
   },
   "outputs": [],
   "source": [
    " "
   ]
  },
  {
   "cell_type": "markdown",
   "metadata": {},
   "source": [
    "## Build note list\n",
    "- I know you're not supposed to iterate through a dataframe — but it's pretty small and manegable.\n",
    "- [BEAT, PITCH, VELOCITY (VOLUME), DURATION_OF_NOTE]"
   ]
  },
  {
   "cell_type": "code",
   "execution_count": 32,
   "metadata": {
    "collapsed": true
   },
   "outputs": [],
   "source": [
    "scaled_data = df_nkill.to_dict('records')"
   ]
  },
  {
   "cell_type": "code",
   "execution_count": 33,
   "metadata": {
    "collapsed": true
   },
   "outputs": [],
   "source": [
    "note_list = []  \n",
    "#V = 100 # constant for now\n",
    "D = 1 # duration constant for now\n",
    "P = 71 # constant pitch for now\n",
    "\n",
    "for d in scaled_data:\n",
    "    beat = d['beat'] - START_TIME\n",
    "    pitch = P #d['pitch']\n",
    "    velocity = d['velocity']\n",
    "    duration = D\n",
    "    note_list.append([beat, pitch, velocity, duration])\n"
   ]
  },
  {
   "cell_type": "code",
   "execution_count": 34,
   "metadata": {},
   "outputs": [
    {
     "data": {
      "text/plain": [
       "[[0.0, 71, 27, 1],\n",
       " [0.43999999999959982, 71, 25, 1],\n",
       " [0.65999999999985448, 71, 31, 1],\n",
       " [1.0999999999999091, 71, 39, 1],\n",
       " [1.319999999999709, 71, 27, 1],\n",
       " [2.1999999999998181, 71, 29, 1],\n",
       " [2.4099999999998545, 71, 35, 1],\n",
       " [3.069999999999709, 71, 33, 1],\n",
       " [3.2899999999999636, 71, 25, 1],\n",
       " [4.169999999999618, 71, 27, 1],\n",
       " [4.3899999999998727, 71, 29, 1],\n",
       " [4.5999999999999091, 71, 37, 1],\n",
       " [5.2599999999997635, 71, 25, 1],\n",
       " [5.4800000000000182, 71, 29, 1],\n",
       " [5.6999999999998181, 71, 25, 1],\n",
       " [6.1399999999998727, 71, 27, 1],\n",
       " [6.3599999999996726, 71, 25, 1],\n",
       " [6.5799999999999272, 71, 25, 1],\n",
       " [7.8899999999998727, 71, 33, 1],\n",
       " [8.1099999999996726, 71, 27, 1],\n",
       " [8.3299999999999272, 71, 27, 1],\n",
       " [8.5499999999997272, 71, 33, 1],\n",
       " [8.7699999999999818, 71, 27, 1],\n",
       " [8.9800000000000182, 71, 27, 1],\n",
       " [9.1999999999998181, 71, 29, 1],\n",
       " [9.8599999999996726, 71, 31, 1],\n",
       " [10.519999999999982, 71, 27, 1],\n",
       " [10.739999999999782, 71, 27, 1],\n",
       " [10.960000000000036, 71, 25, 1],\n",
       " [11.179999999999836, 71, 33, 1],\n",
       " [11.389999999999873, 71, 25, 1],\n",
       " [12.049999999999727, 71, 31, 1],\n",
       " [12.269999999999982, 71, 27, 1],\n",
       " [12.489999999999782, 71, 25, 1],\n",
       " [12.710000000000036, 71, 25, 1],\n",
       " [13.369999999999891, 71, 25, 1],\n",
       " [13.579999999999927, 71, 27, 1],\n",
       " [13.799999999999727, 71, 25, 1],\n",
       " [14.239999999999782, 71, 25, 1],\n",
       " [14.899999999999636, 71, 35, 1],\n",
       " [15.989999999999782, 71, 31, 1],\n",
       " [16.649999999999636, 71, 31, 1],\n",
       " [16.869999999999891, 71, 27, 1],\n",
       " [17.529999999999745, 71, 35, 1],\n",
       " [17.9699999999998, 71, 29, 1],\n",
       " [18.179999999999836, 71, 33, 1],\n",
       " [18.399999999999636, 71, 37, 1],\n",
       " [18.619999999999891, 71, 29, 1],\n",
       " [19.279999999999745, 71, 33, 1],\n",
       " [19.7199999999998, 71, 31, 1],\n",
       " [19.9399999999996, 71, 29, 1],\n",
       " [20.159999999999854, 71, 31, 1],\n",
       " [20.809999999999945, 71, 27, 1],\n",
       " [21.029999999999745, 71, 51, 1],\n",
       " [21.4699999999998, 71, 29, 1],\n",
       " [22.349999999999909, 71, 27, 1],\n",
       " [22.779999999999745, 71, 25, 1],\n",
       " [23.0, 71, 25, 1],\n",
       " [23.879999999999654, 71, 25, 1],\n",
       " [24.099999999999909, 71, 29, 1],\n",
       " [25.1899999999996, 71, 25, 1],\n",
       " [25.409999999999854, 71, 27, 1],\n",
       " [25.629999999999654, 71, 25, 1],\n",
       " [25.849999999999909, 71, 31, 1],\n",
       " [26.069999999999709, 71, 39, 1],\n",
       " [26.289999999999964, 71, 29, 1],\n",
       " [26.509999999999764, 71, 27, 1],\n",
       " [26.949999999999818, 71, 27, 1],\n",
       " [27.599999999999909, 71, 29, 1],\n",
       " [28.039999999999964, 71, 31, 1],\n",
       " [28.259999999999764, 71, 27, 1],\n",
       " [29.139999999999873, 71, 27, 1],\n",
       " [29.569999999999709, 71, 31, 1],\n",
       " [30.449999999999818, 71, 25, 1],\n",
       " [30.669999999999618, 71, 27, 1],\n",
       " [31.759999999999764, 71, 25, 1],\n",
       " [31.980000000000018, 71, 43, 1],\n",
       " [32.199999999999818, 71, 27, 1],\n",
       " [32.419999999999618, 71, 27, 1],\n",
       " [32.639999999999873, 71, 27, 1],\n",
       " [33.079999999999927, 71, 31, 1],\n",
       " [33.299999999999727, 71, 31, 1],\n",
       " [33.519999999999982, 71, 35, 1],\n",
       " [33.949999999999818, 71, 37, 1],\n",
       " [34.169999999999618, 71, 31, 1],\n",
       " [34.609999999999673, 71, 25, 1],\n",
       " [34.829999999999927, 71, 29, 1],\n",
       " [35.049999999999727, 71, 25, 1],\n",
       " [35.269999999999982, 71, 25, 1],\n",
       " [35.710000000000036, 71, 29, 1],\n",
       " [35.929999999999836, 71, 35, 1],\n",
       " [36.139999999999873, 71, 37, 1],\n",
       " [36.579999999999927, 71, 27, 1],\n",
       " [36.799999999999727, 71, 31, 1],\n",
       " [37.679999999999836, 71, 27, 1],\n",
       " [38.119999999999891, 71, 27, 1],\n",
       " [38.329999999999927, 71, 27, 1],\n",
       " [38.769999999999982, 71, 25, 1],\n",
       " [39.429999999999836, 71, 29, 1],\n",
       " [39.649999999999636, 71, 29, 1],\n",
       " [39.869999999999891, 71, 25, 1],\n",
       " [40.089999999999691, 71, 33, 1],\n",
       " [40.309999999999945, 71, 29, 1],\n",
       " [40.519999999999982, 71, 37, 1],\n",
       " [40.739999999999782, 71, 25, 1],\n",
       " [41.179999999999836, 71, 27, 1],\n",
       " [41.399999999999636, 71, 25, 1],\n",
       " [42.7199999999998, 71, 27, 1],\n",
       " [43.369999999999891, 71, 27, 1],\n",
       " [43.589999999999691, 71, 27, 1],\n",
       " [44.25, 71, 25, 1],\n",
       " [44.4699999999998, 71, 27, 1],\n",
       " [45.119999999999891, 71, 27, 1],\n",
       " [45.339999999999691, 71, 27, 1],\n",
       " [45.559999999999945, 71, 25, 1],\n",
       " [45.779999999999745, 71, 31, 1],\n",
       " [46.0, 71, 29, 1],\n",
       " [46.2199999999998, 71, 25, 1],\n",
       " [46.4399999999996, 71, 25, 1],\n",
       " [46.659999999999854, 71, 25, 1],\n",
       " [46.879999999999654, 71, 27, 1],\n",
       " [47.099999999999909, 71, 31, 1],\n",
       " [47.309999999999945, 71, 29, 1],\n",
       " [47.529999999999745, 71, 25, 1],\n",
       " [47.9699999999998, 71, 27, 1],\n",
       " [48.849999999999909, 71, 27, 1],\n",
       " [49.069999999999709, 71, 25, 1],\n",
       " [49.289999999999964, 71, 29, 1],\n",
       " [49.7199999999998, 71, 25, 1],\n",
       " [50.379999999999654, 71, 27, 1],\n",
       " [50.599999999999909, 71, 29, 1],\n",
       " [50.819999999999709, 71, 37, 1],\n",
       " [51.039999999999964, 71, 25, 1],\n",
       " [51.480000000000018, 71, 33, 1],\n",
       " [51.699999999999818, 71, 25, 1],\n",
       " [52.129999999999654, 71, 29, 1],\n",
       " [52.349999999999909, 71, 29, 1],\n",
       " [53.449999999999818, 71, 27, 1],\n",
       " [53.669999999999618, 71, 29, 1],\n",
       " [53.889999999999873, 71, 25, 1],\n",
       " [54.319999999999709, 71, 25, 1],\n",
       " [54.980000000000018, 71, 25, 1],\n",
       " [55.199999999999818, 71, 45, 1],\n",
       " [55.859999999999673, 71, 29, 1],\n",
       " [56.509999999999764, 71, 25, 1],\n",
       " [56.730000000000018, 71, 29, 1],\n",
       " [57.389999999999873, 71, 25, 1],\n",
       " [58.049999999999727, 71, 31, 1],\n",
       " [58.269999999999982, 71, 29, 1],\n",
       " [58.699999999999818, 71, 31, 1],\n",
       " [59.139999999999873, 71, 27, 1],\n",
       " [59.579999999999927, 71, 27, 1],\n",
       " [59.799999999999727, 71, 150, 1],\n",
       " [60.239999999999782, 71, 25, 1],\n",
       " [60.679999999999836, 71, 33, 1],\n",
       " [60.889999999999873, 71, 25, 1],\n",
       " [61.109999999999673, 71, 25, 1],\n",
       " [61.549999999999727, 71, 25, 1],\n",
       " [61.769999999999982, 71, 25, 1],\n",
       " [61.989999999999782, 71, 33, 1],\n",
       " [62.210000000000036, 71, 29, 1],\n",
       " [62.869999999999891, 71, 31, 1],\n",
       " [63.079999999999927, 71, 27, 1],\n",
       " [63.299999999999727, 71, 25, 1],\n",
       " [63.519999999999982, 71, 31, 1],\n",
       " [64.179999999999836, 71, 25, 1],\n",
       " [64.399999999999636, 71, 29, 1],\n",
       " [64.619999999999891, 71, 29, 1],\n",
       " [65.489999999999782, 71, 25, 1],\n",
       " [65.710000000000036, 71, 27, 1],\n",
       " [65.929999999999836, 71, 27, 1],\n",
       " [66.369999999999891, 71, 27, 1],\n",
       " [67.029999999999745, 71, 27, 1],\n",
       " [67.25, 71, 27, 1],\n",
       " [67.4699999999998, 71, 79, 1]]"
      ]
     },
     "execution_count": 34,
     "metadata": {},
     "output_type": "execute_result"
    }
   ],
   "source": [
    "note_list"
   ]
  },
  {
   "cell_type": "markdown",
   "metadata": {},
   "source": [
    "## Make MIDI file"
   ]
  },
  {
   "cell_type": "code",
   "execution_count": 35,
   "metadata": {},
   "outputs": [
    {
     "name": "stdout",
     "output_type": "stream",
     "text": [
      "71 0.0 1 27\n",
      "71 0.44 1 25\n",
      "71 0.66 1 31\n",
      "71 1.1 1 39\n",
      "71 1.32 1 27\n",
      "71 2.2 1 29\n",
      "71 2.41 1 35\n",
      "71 3.07 1 33\n",
      "71 3.29 1 25\n",
      "71 4.17 1 27\n",
      "71 4.39 1 29\n",
      "71 4.6 1 37\n",
      "71 5.26 1 25\n",
      "71 5.48 1 29\n",
      "71 5.7 1 25\n",
      "71 6.14 1 27\n",
      "71 6.36 1 25\n",
      "71 6.58 1 25\n",
      "71 7.89 1 33\n",
      "71 8.11 1 27\n",
      "71 8.33 1 27\n",
      "71 8.55 1 33\n",
      "71 8.77 1 27\n",
      "71 8.98 1 27\n",
      "71 9.2 1 29\n",
      "71 9.86 1 31\n",
      "71 10.52 1 27\n",
      "71 10.74 1 27\n",
      "71 10.96 1 25\n",
      "71 11.18 1 33\n",
      "71 11.39 1 25\n",
      "71 12.05 1 31\n",
      "71 12.27 1 27\n",
      "71 12.49 1 25\n",
      "71 12.71 1 25\n",
      "71 13.37 1 25\n",
      "71 13.58 1 27\n",
      "71 13.8 1 25\n",
      "71 14.24 1 25\n",
      "71 14.9 1 35\n",
      "71 15.99 1 31\n",
      "71 16.65 1 31\n",
      "71 16.87 1 27\n",
      "71 17.53 1 35\n",
      "71 17.97 1 29\n",
      "71 18.18 1 33\n",
      "71 18.4 1 37\n",
      "71 18.62 1 29\n",
      "71 19.28 1 33\n",
      "71 19.72 1 31\n",
      "71 19.94 1 29\n",
      "71 20.16 1 31\n",
      "71 20.81 1 27\n",
      "71 21.03 1 51\n",
      "71 21.47 1 29\n",
      "71 22.35 1 27\n",
      "71 22.78 1 25\n",
      "71 23.0 1 25\n",
      "71 23.88 1 25\n",
      "71 24.1 1 29\n",
      "71 25.19 1 25\n",
      "71 25.41 1 27\n",
      "71 25.63 1 25\n",
      "71 25.85 1 31\n",
      "71 26.07 1 39\n",
      "71 26.29 1 29\n",
      "71 26.51 1 27\n",
      "71 26.95 1 27\n",
      "71 27.6 1 29\n",
      "71 28.04 1 31\n",
      "71 28.26 1 27\n",
      "71 29.14 1 27\n",
      "71 29.57 1 31\n",
      "71 30.45 1 25\n",
      "71 30.67 1 27\n",
      "71 31.76 1 25\n",
      "71 31.98 1 43\n",
      "71 32.2 1 27\n",
      "71 32.42 1 27\n",
      "71 32.64 1 27\n",
      "71 33.08 1 31\n",
      "71 33.3 1 31\n",
      "71 33.52 1 35\n",
      "71 33.95 1 37\n",
      "71 34.17 1 31\n",
      "71 34.61 1 25\n",
      "71 34.83 1 29\n",
      "71 35.05 1 25\n",
      "71 35.27 1 25\n",
      "71 35.71 1 29\n",
      "71 35.93 1 35\n",
      "71 36.14 1 37\n",
      "71 36.58 1 27\n",
      "71 36.8 1 31\n",
      "71 37.68 1 27\n",
      "71 38.12 1 27\n",
      "71 38.33 1 27\n",
      "71 38.77 1 25\n",
      "71 39.43 1 29\n",
      "71 39.65 1 29\n",
      "71 39.87 1 25\n",
      "71 40.09 1 33\n",
      "71 40.31 1 29\n",
      "71 40.52 1 37\n",
      "71 40.74 1 25\n",
      "71 41.18 1 27\n",
      "71 41.4 1 25\n",
      "71 42.72 1 27\n",
      "71 43.37 1 27\n",
      "71 43.59 1 27\n",
      "71 44.25 1 25\n",
      "71 44.47 1 27\n",
      "71 45.12 1 27\n",
      "71 45.34 1 27\n",
      "71 45.56 1 25\n",
      "71 45.78 1 31\n",
      "71 46.0 1 29\n",
      "71 46.22 1 25\n",
      "71 46.44 1 25\n",
      "71 46.66 1 25\n",
      "71 46.88 1 27\n",
      "71 47.1 1 31\n",
      "71 47.31 1 29\n",
      "71 47.53 1 25\n",
      "71 47.97 1 27\n",
      "71 48.85 1 27\n",
      "71 49.07 1 25\n",
      "71 49.29 1 29\n",
      "71 49.72 1 25\n",
      "71 50.38 1 27\n",
      "71 50.6 1 29\n",
      "71 50.82 1 37\n",
      "71 51.04 1 25\n",
      "71 51.48 1 33\n",
      "71 51.7 1 25\n",
      "71 52.13 1 29\n",
      "71 52.35 1 29\n",
      "71 53.45 1 27\n",
      "71 53.67 1 29\n",
      "71 53.89 1 25\n",
      "71 54.32 1 25\n",
      "71 54.98 1 25\n",
      "71 55.2 1 45\n",
      "71 55.86 1 29\n",
      "71 56.51 1 25\n",
      "71 56.73 1 29\n",
      "71 57.39 1 25\n",
      "71 58.05 1 31\n",
      "71 58.27 1 29\n",
      "71 58.7 1 31\n",
      "71 59.14 1 27\n",
      "71 59.58 1 27\n",
      "71 59.8 1 150\n",
      "71 60.24 1 25\n",
      "71 60.68 1 33\n",
      "71 60.89 1 25\n",
      "71 61.11 1 25\n",
      "71 61.55 1 25\n",
      "71 61.77 1 25\n",
      "71 61.99 1 33\n",
      "71 62.21 1 29\n",
      "71 62.87 1 31\n",
      "71 63.08 1 27\n",
      "71 63.3 1 25\n",
      "71 63.52 1 31\n",
      "71 64.18 1 25\n",
      "71 64.4 1 29\n",
      "71 64.62 1 29\n",
      "71 65.49 1 25\n",
      "71 65.71 1 27\n",
      "71 65.93 1 27\n",
      "71 66.37 1 27\n",
      "71 67.03 1 27\n",
      "71 67.25 1 27\n",
      "71 67.47 1 79\n"
     ]
    }
   ],
   "source": [
    "# Add a track with those notes\n",
    "mymidi.add_track(note_list)\n",
    "\n",
    "# Output the .mid file\n",
    "mymidi.save_midi()"
   ]
  },
  {
   "cell_type": "code",
   "execution_count": null,
   "metadata": {
    "collapsed": true
   },
   "outputs": [],
   "source": []
  },
  {
   "cell_type": "code",
   "execution_count": null,
   "metadata": {
    "collapsed": true
   },
   "outputs": [],
   "source": []
  },
  {
   "cell_type": "code",
   "execution_count": null,
   "metadata": {
    "collapsed": true
   },
   "outputs": [],
   "source": []
  },
  {
   "cell_type": "code",
   "execution_count": null,
   "metadata": {
    "collapsed": true
   },
   "outputs": [],
   "source": []
  },
  {
   "cell_type": "code",
   "execution_count": null,
   "metadata": {
    "collapsed": true
   },
   "outputs": [],
   "source": []
  }
 ],
 "metadata": {
  "kernelspec": {
   "display_name": "Python 3",
   "language": "python",
   "name": "python3"
  },
  "language_info": {
   "codemirror_mode": {
    "name": "ipython",
    "version": 3
   },
   "file_extension": ".py",
   "mimetype": "text/x-python",
   "name": "python",
   "nbconvert_exporter": "python",
   "pygments_lexer": "ipython3",
   "version": "3.6.1"
  }
 },
 "nbformat": 4,
 "nbformat_minor": 2
}
